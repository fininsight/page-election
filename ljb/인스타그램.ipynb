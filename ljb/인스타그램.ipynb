{
 "cells": [
  {
   "cell_type": "code",
   "execution_count": 14,
   "metadata": {},
   "outputs": [],
   "source": [
    "# -*- coding: utf-8 -*-\n",
    "\n",
    "from elasticsearch6 import Elasticsearch\n",
    "from elasticsearch6.exceptions import TransportError\n",
    "from elasticsearch6.helpers import bulk, streaming_bulk\n",
    "import csv\n",
    "import json\n",
    "\n",
    "#2016~2020\n",
    "\n",
    "inputs = open('setting.json', 'r', encoding='utf-8')\n",
    "setting = json.load(inputs)['setting']\n",
    "\n",
    "keyword = \"정세균\"\n",
    "start_date = \"2020-01-01\"\n",
    "end_date = \"2020-12-31\"\n",
    "\n",
    "es_client = Elasticsearch(hosts=[{'host': setting['db']['host'], 'port': setting['db']['port'], 'requestTimeout': 60*10, 'keepAlive': False, 'log': 'debug'}],timeout= 60*10, max_retries= 10, retry_on_timeout= True)\n",
    "\n",
    "query = {\n",
    "    \"_source\": [\"reg_date\",\"body\",\"html\",\"username\",\"length\",\"replies\",\"likes\",\"is_video\",\"aid\",\"keyword\"],\n",
    "    \"size\": 1000,\n",
    "    \"from\": 0,\n",
    "    \"query\":{\n",
    "        \"bool\": {\n",
    "            \"must\":[\n",
    "                {\"term\": {\"type.keyword\": \"sns\"}},\n",
    "                {\"term\": {\"origin_nm\": \"instagram\"}},\n",
    "                {\"term\": {\"keyword\": keyword}}\n",
    "            ],\n",
    "        \"filter\":{\n",
    "            \"range\": {\n",
    "                \"reg_date\": {\n",
    "                    \"gte\": start_date,\n",
    "                    \"lte\": end_date,\n",
    "                    \"format\" : \"yyyy-MM-dd\"\n",
    "                    }\n",
    "                }\n",
    "            }\n",
    "        }\n",
    "    }\n",
    "}\n",
    "\n",
    "res = es_client.search(body=query, index='news', timeout='10m')\n",
    "\n",
    "bodys = []\n",
    "\n",
    "for data in res['hits']['hits']:\n",
    "    bodys.append(data['_source']['body'])\n",
    "\n",
    "with open(\"2020_정세균.json\", \"w\") as json_file:\n",
    "    json.dump(bodys, json_file)\n",
    "\n",
    "    \n",
    "    "
   ]
  },
  {
   "cell_type": "code",
   "execution_count": null,
   "metadata": {},
   "outputs": [],
   "source": []
  },
  {
   "cell_type": "code",
   "execution_count": null,
   "metadata": {},
   "outputs": [],
   "source": []
  }
 ],
 "metadata": {
  "kernelspec": {
   "display_name": "Python 3",
   "language": "python",
   "name": "python3"
  },
  "language_info": {
   "codemirror_mode": {
    "name": "ipython",
    "version": 3
   },
   "file_extension": ".py",
   "mimetype": "text/x-python",
   "name": "python",
   "nbconvert_exporter": "python",
   "pygments_lexer": "ipython3",
   "version": "3.7.3"
  }
 },
 "nbformat": 4,
 "nbformat_minor": 2
}
