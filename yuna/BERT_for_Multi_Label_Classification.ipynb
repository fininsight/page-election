{
  "nbformat": 4,
  "nbformat_minor": 0,
  "metadata": {
    "colab": {
      "name": "BERT for Multi-Label Classification.ipynb",
      "provenance": [],
      "collapsed_sections": [
        "6eHJDeRv4qGM"
      ]
    },
    "kernelspec": {
      "name": "python3",
      "display_name": "Python 3"
    }
  },
  "cells": [
    {
      "cell_type": "markdown",
      "metadata": {
        "id": "YcQ13xLBvnWs",
        "colab_type": "text"
      },
      "source": [
        "# 환경설정"
      ]
    },
    {
      "cell_type": "markdown",
      "metadata": {
        "id": "28J95ORAFGWF",
        "colab_type": "text"
      },
      "source": [
        "https://github.com/javaidnabi31/Multi-Label-Text-classification-Using-BERT/blob/master/multi-label-classification-bert.ipynb"
      ]
    },
    {
      "cell_type": "code",
      "metadata": {
        "id": "wjR6YwXf4v4k",
        "colab_type": "code",
        "colab": {}
      },
      "source": [
        "!git clone https://github.com/kakao/khaiii.git\n",
        "!pip install cmake\n",
        "!mkdir build\n",
        "!cd build && cmake /content/khaiii\n",
        "!cd /content/build/ && make all\n",
        "!cd /content/build/ && make resource\n",
        "!cd /content/build && make install\n",
        "!cd /content/build && make package_python\n",
        "!pip install /content/build/package_python"
      ],
      "execution_count": 0,
      "outputs": []
    },
    {
      "cell_type": "code",
      "metadata": {
        "id": "I_3AiF_mvkJU",
        "colab_type": "code",
        "outputId": "5b2ab0f3-9fcc-444d-c87d-76d587d419d1",
        "colab": {
          "base_uri": "https://localhost:8080/",
          "height": 54
        }
      },
      "source": [
        "from google.colab import drive\n",
        "drive.mount('/content/drive')"
      ],
      "execution_count": 4,
      "outputs": [
        {
          "output_type": "stream",
          "text": [
            "Drive already mounted at /content/drive; to attempt to forcibly remount, call drive.mount(\"/content/drive\", force_remount=True).\n"
          ],
          "name": "stdout"
        }
      ]
    },
    {
      "cell_type": "code",
      "metadata": {
        "id": "f_xK4QwjvrhB",
        "colab_type": "code",
        "outputId": "e9c525be-ed92-4c45-a7a3-5ec840b3f01d",
        "colab": {
          "base_uri": "https://localhost:8080/",
          "height": 34
        }
      },
      "source": [
        "cd /content/drive/My Drive/fininsight/21대 총선분석/Text Classification/Bert"
      ],
      "execution_count": 13,
      "outputs": [
        {
          "output_type": "stream",
          "text": [
            "/content/drive/My Drive/fininsight/21대 총선분석/Text Classification/Bert\n"
          ],
          "name": "stdout"
        }
      ]
    },
    {
      "cell_type": "markdown",
      "metadata": {
        "id": "6eHJDeRv4qGM",
        "colab_type": "text"
      },
      "source": [
        "# 데이터 생성"
      ]
    },
    {
      "cell_type": "code",
      "metadata": {
        "id": "5NclvMsywWCv",
        "colab_type": "code",
        "colab": {
          "base_uri": "https://localhost:8080/",
          "height": 1000
        },
        "outputId": "c14e5d2c-5ac2-45dd-a2ba-bbc18b1914f5"
      },
      "source": [
        "import pandas as pd\n",
        "\n",
        "df = pd.read_csv('poli_it.csv')\n",
        "df.head(3)"
      ],
      "execution_count": 14,
      "outputs": [
        {
          "output_type": "execute_result",
          "data": {
            "text/html": [
              "<div>\n",
              "<style scoped>\n",
              "    .dataframe tbody tr th:only-of-type {\n",
              "        vertical-align: middle;\n",
              "    }\n",
              "\n",
              "    .dataframe tbody tr th {\n",
              "        vertical-align: top;\n",
              "    }\n",
              "\n",
              "    .dataframe thead th {\n",
              "        text-align: right;\n",
              "    }\n",
              "</style>\n",
              "<table border=\"1\" class=\"dataframe\">\n",
              "  <thead>\n",
              "    <tr style=\"text-align: right;\">\n",
              "      <th></th>\n",
              "      <th>url</th>\n",
              "      <th>category1</th>\n",
              "      <th>category2</th>\n",
              "      <th>date</th>\n",
              "      <th>title</th>\n",
              "      <th>media</th>\n",
              "      <th>inputdate</th>\n",
              "      <th>summary</th>\n",
              "      <th>content</th>\n",
              "      <th>oricategory</th>\n",
              "      <th>comment</th>\n",
              "      <th>updatedate</th>\n",
              "      <th>khaiii_token</th>\n",
              "      <th>tokens</th>\n",
              "      <th>data</th>\n",
              "    </tr>\n",
              "  </thead>\n",
              "  <tbody>\n",
              "    <tr>\n",
              "      <th>0</th>\n",
              "      <td>https://news.naver.com/main/read.nhn?mode=LS2D...</td>\n",
              "      <td>정치</td>\n",
              "      <td>행정</td>\n",
              "      <td>2019-07-01</td>\n",
              "      <td>환경부-KBCSD 환경정책협의회</td>\n",
              "      <td>뉴시스</td>\n",
              "      <td>2019.07.01. 오후 9:03</td>\n",
              "      <td>NaN</td>\n",
              "      <td>【서울=】 = 박천규 환경부 차관 등 참석자들이 1일 서울 강남구 인터컨티넨탈호텔에...</td>\n",
              "      <td>정치</td>\n",
              "      <td>0</td>\n",
              "      <td>2020-03-18 05:22:43</td>\n",
              "      <td>['서울', '', '박천규', '환경부', '차관', '등', '참석자', '일'...</td>\n",
              "      <td>서울 박천규 환경부 차관 등 참석자 일 서울 강남구 인터컨티넨탈호텔 개최 차 환경부...</td>\n",
              "      <td>서울 박천규 환경부 차관 등 참석자 일 서울 강남구 인터컨티넨탈호텔 개최 차 환경부...</td>\n",
              "    </tr>\n",
              "    <tr>\n",
              "      <th>1</th>\n",
              "      <td>https://news.naver.com/main/read.nhn?mode=LS2D...</td>\n",
              "      <td>정치</td>\n",
              "      <td>행정</td>\n",
              "      <td>2019-07-01</td>\n",
              "      <td>쇼호스트 된 채현일 영등포구청장</td>\n",
              "      <td>뉴시스</td>\n",
              "      <td>2019.07.01. 오후 9:03</td>\n",
              "      <td>NaN</td>\n",
              "      <td>【서울=】 = 채현일 영등포구청장이 1일 오전 서울 영등포구 영등포아트홀에서 열린 ...</td>\n",
              "      <td>정치</td>\n",
              "      <td>0</td>\n",
              "      <td>2020-03-18 05:22:44</td>\n",
              "      <td>['서울', '', '채현일', '영등포구 청장', '일', '오전', '서울', ...</td>\n",
              "      <td>서울 채현일 영등포구 청장 일 오전 서울 영등포구 영등포아트홀 민선 기 주년 직원 ...</td>\n",
              "      <td>서울 채현일 영등포구 청장 일 오전 서울 영등포구 영등포아트홀 민선 기 주년 직원 ...</td>\n",
              "    </tr>\n",
              "    <tr>\n",
              "      <th>2</th>\n",
              "      <td>https://news.naver.com/main/read.nhn?mode=LS2D...</td>\n",
              "      <td>정치</td>\n",
              "      <td>행정</td>\n",
              "      <td>2019-07-01</td>\n",
              "      <td>6회 청주시민대상 시상식</td>\n",
              "      <td>뉴시스</td>\n",
              "      <td>2019.07.01. 오후 10:25</td>\n",
              "      <td>NaN</td>\n",
              "      <td>【청주=】 = 1일 충북 청주예술의전당 대공연장에서 통합 청주시 출범 5주년을 맞아...</td>\n",
              "      <td>사회</td>\n",
              "      <td>0</td>\n",
              "      <td>2020-03-18 05:22:45</td>\n",
              "      <td>['청주', '', '일', '충북', '청주예술의 전당', '대공 연장', '통합...</td>\n",
              "      <td>청주 일 충북 청주예술의 전당 대공 연장 통합 청주시 출범 주년 청주시 주최 청주예...</td>\n",
              "      <td>청주 일 충북 청주예술의 전당 대공 연장 통합 청주시 출범 주년 청주시 주최 청주예...</td>\n",
              "    </tr>\n",
              "  </tbody>\n",
              "</table>\n",
              "</div>"
            ],
            "text/plain": [
              "                                                 url  ...                                               data\n",
              "0  https://news.naver.com/main/read.nhn?mode=LS2D...  ...  서울 박천규 환경부 차관 등 참석자 일 서울 강남구 인터컨티넨탈호텔 개최 차 환경부...\n",
              "1  https://news.naver.com/main/read.nhn?mode=LS2D...  ...  서울 채현일 영등포구 청장 일 오전 서울 영등포구 영등포아트홀 민선 기 주년 직원 ...\n",
              "2  https://news.naver.com/main/read.nhn?mode=LS2D...  ...  청주 일 충북 청주예술의 전당 대공 연장 통합 청주시 출범 주년 청주시 주최 청주예...\n",
              "\n",
              "[3 rows x 15 columns]"
            ]
          },
          "metadata": {
            "tags": []
          },
          "execution_count": 14
        }
      ]
    },
    {
      "cell_type": "code",
      "metadata": {
        "id": "EN8ENnWSwZok",
        "colab_type": "code",
        "outputId": "3487f13e-8812-4e5c-f14c-e219355ea6e6",
        "colab": {
          "base_uri": "https://localhost:8080/",
          "height": 140
        }
      },
      "source": [
        "df = df.loc[:,['category1','content']]\n",
        "\n",
        "df2 = pd.get_dummies(df['category1'])\n",
        "df = pd.concat([df, df2], axis=1)\n",
        "df.drop(['category1'], axis=1, inplace=True)\n",
        "df['id'] = df.index\n",
        "df.head(3)"
      ],
      "execution_count": 15,
      "outputs": [
        {
          "output_type": "execute_result",
          "data": {
            "text/html": [
              "<div>\n",
              "<style scoped>\n",
              "    .dataframe tbody tr th:only-of-type {\n",
              "        vertical-align: middle;\n",
              "    }\n",
              "\n",
              "    .dataframe tbody tr th {\n",
              "        vertical-align: top;\n",
              "    }\n",
              "\n",
              "    .dataframe thead th {\n",
              "        text-align: right;\n",
              "    }\n",
              "</style>\n",
              "<table border=\"1\" class=\"dataframe\">\n",
              "  <thead>\n",
              "    <tr style=\"text-align: right;\">\n",
              "      <th></th>\n",
              "      <th>content</th>\n",
              "      <th>IT/과학</th>\n",
              "      <th>정치</th>\n",
              "      <th>id</th>\n",
              "    </tr>\n",
              "  </thead>\n",
              "  <tbody>\n",
              "    <tr>\n",
              "      <th>0</th>\n",
              "      <td>【서울=】 = 박천규 환경부 차관 등 참석자들이 1일 서울 강남구 인터컨티넨탈호텔에...</td>\n",
              "      <td>0</td>\n",
              "      <td>1</td>\n",
              "      <td>0</td>\n",
              "    </tr>\n",
              "    <tr>\n",
              "      <th>1</th>\n",
              "      <td>【서울=】 = 채현일 영등포구청장이 1일 오전 서울 영등포구 영등포아트홀에서 열린 ...</td>\n",
              "      <td>0</td>\n",
              "      <td>1</td>\n",
              "      <td>1</td>\n",
              "    </tr>\n",
              "    <tr>\n",
              "      <th>2</th>\n",
              "      <td>【청주=】 = 1일 충북 청주예술의전당 대공연장에서 통합 청주시 출범 5주년을 맞아...</td>\n",
              "      <td>0</td>\n",
              "      <td>1</td>\n",
              "      <td>2</td>\n",
              "    </tr>\n",
              "  </tbody>\n",
              "</table>\n",
              "</div>"
            ],
            "text/plain": [
              "                                             content  IT/과학  정치  id\n",
              "0  【서울=】 = 박천규 환경부 차관 등 참석자들이 1일 서울 강남구 인터컨티넨탈호텔에...      0   1   0\n",
              "1  【서울=】 = 채현일 영등포구청장이 1일 오전 서울 영등포구 영등포아트홀에서 열린 ...      0   1   1\n",
              "2  【청주=】 = 1일 충북 청주예술의전당 대공연장에서 통합 청주시 출범 5주년을 맞아...      0   1   2"
            ]
          },
          "metadata": {
            "tags": []
          },
          "execution_count": 15
        }
      ]
    },
    {
      "cell_type": "code",
      "metadata": {
        "id": "HEpMizZ62Gva",
        "colab_type": "code",
        "colab": {}
      },
      "source": [
        "import re\n",
        "def pre_fx(text):\n",
        "    # 이메일 등장하면, 그 뒷문장 모두 삭제 \n",
        "    text = re.sub(\"[a-zA-Z0-9]+\\@[a-zA-Z0-9]+\\.[a-z]{1,3}.[a-z]{1,3}.+\",'',text).strip()\n",
        "    text = re.sub('\\(.+?연합뉴스\\)','',text).strip() # (서울=연합뉴스)\n",
        "    text = re.sub('\\(.+?연합인포맥스\\)','',text).strip()\n",
        "    text = re.sub('\\(.+?이데일리\\)','',text).strip()\n",
        "    text = re.sub('\\(.+?조선일보\\)','',text).strip()\n",
        "    text = re.sub('\\(.+?뉴시스\\)',' ',text).strip()\n",
        "    text = re.sub('\\(.+?뉴스1\\)','',text).strip()\n",
        "    text = re.sub('\\(.+?SBS\\)','',text).strip()\n",
        "    text = re.sub('\\(.+?오마이뉴스\\)','',text).strip()\n",
        "    text = re.sub('\\(.+?중앙일보\\)','',text).strip()\n",
        "    text = re.sub('\\(.+?매일경제\\)','',text).strip()\n",
        "    text = re.sub('\\(.+?문화일보\\)','',text).strip()\n",
        "    text = re.sub('\\(.+?세계일보\\)','',text).strip()\n",
        "    text = re.sub('\\(.+?머니투데이\\)','',text).strip()\n",
        "    text = re.sub('\\(.+?서울경제\\)','',text).strip()\n",
        "    text = re.sub('\\(.+?데일리안\\)','',text).strip()\n",
        "    text = re.sub('\\(.+?KBS\\)','',text).strip()\n",
        "    text = re.sub('\\(.+?MBN\\)','',text).strip()\n",
        "    text = re.sub('\\(.+?YTN\\)','',text).strip()\n",
        "    text = re.sub('\\(.+?프레시안\\)','',text).strip()\n",
        "    text = re.sub('\\(.+?디지털타임즈\\)','',text).strip()\n",
        "    text = re.sub('\\(.+?국민일보(과거)\\)','',text).strip()\n",
        "    text = re.sub('\\(.+?국민일보\\)','',text).strip()\n",
        "    text = re.sub('\\(.+?헤드럴경제\\)','',text).strip()\n",
        "    text = re.sub('\\(.+?한국일보\\)','',text).strip()\n",
        "    text = re.sub('\\(.+?아이뉴스24\\)','',text).strip()\n",
        "    text = re.sub('\\(.+?노컷뉴스\\)','',text).strip()\n",
        "    text = re.sub('\\(.+?연합뉴스TV\\)','',text).strip()\n",
        "    text = re.sub('\\(.+?서울일보\\)','',text).strip()\n",
        "    text = re.sub('\\(.+?동아일보\\)','',text).strip()\n",
        "    text = re.sub('\\(.+?한국경제\\)','',text).strip()\n",
        "    text = re.sub('\\(.+?미디어오늘(과거)\\)','',text).strip()\n",
        "    text = re.sub('\\(.+?미디어오늘\\)','',text).strip()\n",
        "    text = re.sub('\\(.+?조세일보\\)','',text).strip()\n",
        "    text = re.sub('\\(.+?파이낸셜뉴스\\)','',text).strip()\n",
        "    text = re.sub('\\(.+?경향신문\\)','',text).strip()\n",
        "    text = re.sub('\\(.+?채널A\\)','',text).strip()\n",
        "    text = re.sub('\\(.+?머니S\\)','',text).strip()\n",
        "    text = re.sub('\\(.+?TVCHOSUN\\)','',text).strip()\n",
        "    text = re.sub('\\(.+?한겨례\\)','',text).strip()\n",
        "    text = re.sub('\\(.+?전자신문\\)','',text).strip()\n",
        "    text = re.sub('\\(.+?SBSCNBC\\)','',text).strip()\n",
        "    text = re.sub('\\(.+?한국경제TV\\)','',text).strip()\n",
        "    text = re.sub('\\(.+?조선비즈\\)','',text).strip()\n",
        "    text = re.sub('\\(.+?ZDNetKorea\\)','',text).strip()\n",
        "    text = re.sub('\\[.+?\\]','',text).strip()\n",
        "    text = re.sub('\\(사진.+?\\)','',text).strip()\n",
        "    # 신문사 이름 삭제 \n",
        "    text = re.sub('조선일보|뉴시스|아시아경제|이데일리|뉴스1|SBS|오마이뉴스|중앙일보|매일경제|문화일보|세계일보|머니투데이|서울경제|데일리안|KBS|MBN|YTN|프레시안|디지털타임스|국민일보(과거)|국민일보|헤럴드경제|한국일보|아이뉴스24|노컷뉴스|연합뉴스TV|서울일보|동아일보|한국경제|미디어오늘(과거)|미디어오늘|조세일보|파이낸셜뉴스|경향신문|채널A|머니S|TVCHOSUN|한겨례|전자신문|SBSCNBC|한국경제TV|조선비즈|ZDNetKorea','',text).strip()\n",
        "    # 000 기자, 000  가자, 000기자 삭제\n",
        "    text = re.sub('[ㄱ-힑]+ 기자|[ㄱ-힑]+  기자|[ㄱ-힑]+기자','',text).strip()    \n",
        "    text = re.sub('[a-zA-Z0-9]{1,20}\\@[a-zA-Z0-9]{1,20}\\.[a-z]{1,20}.+','',text).strip()    \n",
        "\n",
        "    return text\n",
        "\n",
        "#기존 클렌징으로 부족한 부분\n",
        "def filter(s):\n",
        "  hangul = re.compile('[^ ㄱ-ㅣ가-힣]+') # 한글과 띄어쓰기를 제외한 모든 글자\n",
        "  result = hangul.sub('', s) # 한글과 띄어쓰기를 제외한 모든 부분을 제거\n",
        "  return result\n",
        "\n",
        "# # 토큰화\n",
        "# from khaiii import KhaiiiApi\n",
        "# api = KhaiiiApi()\n",
        "\n",
        "# def khaiii_token(sentence):\n",
        "#   token_list = []\n",
        "#   try:\n",
        "#     for word in api.analyze(str(sentence)):\n",
        "#       morphs_str = ' '.join([m.lex for m in word.morphs if m.tag in ['NNG', 'NNP', 'NNB', 'NR', 'NP', 'VA']])\n",
        "#       token_list.append(morphs_str)\n",
        "  \n",
        "#   except:\n",
        "#     pass\n",
        "\n",
        "#   return token_list  "
      ],
      "execution_count": 0,
      "outputs": []
    },
    {
      "cell_type": "code",
      "metadata": {
        "id": "I-6xQO6dq9dp",
        "colab_type": "code",
        "colab": {}
      },
      "source": [
        "df['content'] = df['content'].apply(pre_fx).apply(filter)"
      ],
      "execution_count": 0,
      "outputs": []
    },
    {
      "cell_type": "code",
      "metadata": {
        "id": "ou_Asd1QrRp9",
        "colab_type": "code",
        "colab": {
          "base_uri": "https://localhost:8080/",
          "height": 202
        },
        "outputId": "157ff8d6-4a6c-4b09-eda8-2d5ce18af5e2"
      },
      "source": [
        "df.head()"
      ],
      "execution_count": 18,
      "outputs": [
        {
          "output_type": "execute_result",
          "data": {
            "text/html": [
              "<div>\n",
              "<style scoped>\n",
              "    .dataframe tbody tr th:only-of-type {\n",
              "        vertical-align: middle;\n",
              "    }\n",
              "\n",
              "    .dataframe tbody tr th {\n",
              "        vertical-align: top;\n",
              "    }\n",
              "\n",
              "    .dataframe thead th {\n",
              "        text-align: right;\n",
              "    }\n",
              "</style>\n",
              "<table border=\"1\" class=\"dataframe\">\n",
              "  <thead>\n",
              "    <tr style=\"text-align: right;\">\n",
              "      <th></th>\n",
              "      <th>content</th>\n",
              "      <th>IT/과학</th>\n",
              "      <th>정치</th>\n",
              "      <th>id</th>\n",
              "    </tr>\n",
              "  </thead>\n",
              "  <tbody>\n",
              "    <tr>\n",
              "      <th>0</th>\n",
              "      <td>서울  박천규 환경부 차관 등 참석자들이 일 서울 강남구 인터컨티넨탈호텔에서 개최된...</td>\n",
              "      <td>0</td>\n",
              "      <td>1</td>\n",
              "      <td>0</td>\n",
              "    </tr>\n",
              "    <tr>\n",
              "      <th>1</th>\n",
              "      <td>서울  채현일 영등포구청장이 일 오전 서울 영등포구 영등포아트홀에서 열린 민선기 주...</td>\n",
              "      <td>0</td>\n",
              "      <td>1</td>\n",
              "      <td>1</td>\n",
              "    </tr>\n",
              "    <tr>\n",
              "      <th>2</th>\n",
              "      <td>청주  일 충북 청주예술의전당 대공연장에서 통합 청주시 출범 주년을 맞아 청주시가 ...</td>\n",
              "      <td>0</td>\n",
              "      <td>1</td>\n",
              "      <td>2</td>\n",
              "    </tr>\n",
              "    <tr>\n",
              "      <th>3</th>\n",
              "      <td>서울  박천규 환경부 차관이 일 서울 강남구 인터컨티넨탈호텔에서 개최된 제차 환경부...</td>\n",
              "      <td>0</td>\n",
              "      <td>1</td>\n",
              "      <td>3</td>\n",
              "    </tr>\n",
              "    <tr>\n",
              "      <th>4</th>\n",
              "      <td>청주  일 충북 청주예술의전당 대공연장에서 통합 청주시 출범 주년을 맞아 청주시가 ...</td>\n",
              "      <td>0</td>\n",
              "      <td>1</td>\n",
              "      <td>4</td>\n",
              "    </tr>\n",
              "  </tbody>\n",
              "</table>\n",
              "</div>"
            ],
            "text/plain": [
              "                                             content  IT/과학  정치  id\n",
              "0  서울  박천규 환경부 차관 등 참석자들이 일 서울 강남구 인터컨티넨탈호텔에서 개최된...      0   1   0\n",
              "1  서울  채현일 영등포구청장이 일 오전 서울 영등포구 영등포아트홀에서 열린 민선기 주...      0   1   1\n",
              "2  청주  일 충북 청주예술의전당 대공연장에서 통합 청주시 출범 주년을 맞아 청주시가 ...      0   1   2\n",
              "3  서울  박천규 환경부 차관이 일 서울 강남구 인터컨티넨탈호텔에서 개최된 제차 환경부...      0   1   3\n",
              "4  청주  일 충북 청주예술의전당 대공연장에서 통합 청주시 출범 주년을 맞아 청주시가 ...      0   1   4"
            ]
          },
          "metadata": {
            "tags": []
          },
          "execution_count": 18
        }
      ]
    },
    {
      "cell_type": "code",
      "metadata": {
        "id": "KyX2Ajfo6qH1",
        "colab_type": "code",
        "colab": {
          "base_uri": "https://localhost:8080/",
          "height": 140
        },
        "outputId": "5103f3c9-1498-42b9-8493-af5625c76aee"
      },
      "source": [
        "columns = ['id','content','IT/과학', '정치']\n",
        "df = df[columns]\n",
        "df.head(3)"
      ],
      "execution_count": 79,
      "outputs": [
        {
          "output_type": "execute_result",
          "data": {
            "text/html": [
              "<div>\n",
              "<style scoped>\n",
              "    .dataframe tbody tr th:only-of-type {\n",
              "        vertical-align: middle;\n",
              "    }\n",
              "\n",
              "    .dataframe tbody tr th {\n",
              "        vertical-align: top;\n",
              "    }\n",
              "\n",
              "    .dataframe thead th {\n",
              "        text-align: right;\n",
              "    }\n",
              "</style>\n",
              "<table border=\"1\" class=\"dataframe\">\n",
              "  <thead>\n",
              "    <tr style=\"text-align: right;\">\n",
              "      <th></th>\n",
              "      <th>id</th>\n",
              "      <th>content</th>\n",
              "      <th>IT/과학</th>\n",
              "      <th>정치</th>\n",
              "    </tr>\n",
              "  </thead>\n",
              "  <tbody>\n",
              "    <tr>\n",
              "      <th>0</th>\n",
              "      <td>0</td>\n",
              "      <td>서울  박천규 환경부 차관 등 참석자들이 일 서울 강남구 인터컨티넨탈호텔에서 개최된...</td>\n",
              "      <td>0</td>\n",
              "      <td>1</td>\n",
              "    </tr>\n",
              "    <tr>\n",
              "      <th>1</th>\n",
              "      <td>1</td>\n",
              "      <td>서울  채현일 영등포구청장이 일 오전 서울 영등포구 영등포아트홀에서 열린 민선기 주...</td>\n",
              "      <td>0</td>\n",
              "      <td>1</td>\n",
              "    </tr>\n",
              "    <tr>\n",
              "      <th>2</th>\n",
              "      <td>2</td>\n",
              "      <td>청주  일 충북 청주예술의전당 대공연장에서 통합 청주시 출범 주년을 맞아 청주시가 ...</td>\n",
              "      <td>0</td>\n",
              "      <td>1</td>\n",
              "    </tr>\n",
              "  </tbody>\n",
              "</table>\n",
              "</div>"
            ],
            "text/plain": [
              "   id                                            content  IT/과학  정치\n",
              "0   0  서울  박천규 환경부 차관 등 참석자들이 일 서울 강남구 인터컨티넨탈호텔에서 개최된...      0   1\n",
              "1   1  서울  채현일 영등포구청장이 일 오전 서울 영등포구 영등포아트홀에서 열린 민선기 주...      0   1\n",
              "2   2  청주  일 충북 청주예술의전당 대공연장에서 통합 청주시 출범 주년을 맞아 청주시가 ...      0   1"
            ]
          },
          "metadata": {
            "tags": []
          },
          "execution_count": 79
        }
      ]
    },
    {
      "cell_type": "code",
      "metadata": {
        "id": "sOlWviqczNO0",
        "colab_type": "code",
        "colab": {}
      },
      "source": [
        "from sklearn.model_selection import train_test_split\n",
        "train, test = train_test_split(df, test_size=0.33, random_state=42)"
      ],
      "execution_count": 0,
      "outputs": []
    },
    {
      "cell_type": "code",
      "metadata": {
        "id": "FLJ72qQY21Zl",
        "colab_type": "code",
        "colab": {}
      },
      "source": [
        "train.to_csv('/content/drive/My Drive/fininsight/21대 총선분석/Text Classification/Bert/train.csv', index=False)\n",
        "test.to_csv('/content/drive/My Drive/fininsight/21대 총선분석/Text Classification/Bert/test.csv', index=False)"
      ],
      "execution_count": 0,
      "outputs": []
    },
    {
      "cell_type": "code",
      "metadata": {
        "id": "DAQFTiIPvzCd",
        "colab_type": "code",
        "colab": {}
      },
      "source": [
        "import collections\n",
        "import pandas as pd\n",
        "import tensorflow as tf\n",
        "import tensorflow_hub as hub\n",
        "from datetime import datetime"
      ],
      "execution_count": 0,
      "outputs": []
    },
    {
      "cell_type": "code",
      "metadata": {
        "id": "JZwazZPl026m",
        "colab_type": "code",
        "colab": {}
      },
      "source": [
        "ID = 'id'\n",
        "DATA_COLUMN = 'comment'\n",
        "LABEL_COLUMNS = ['IT/과학','정치']"
      ],
      "execution_count": 0,
      "outputs": []
    },
    {
      "cell_type": "markdown",
      "metadata": {
        "id": "SrHHJ6PR4sxK",
        "colab_type": "text"
      },
      "source": [
        "# BERT"
      ]
    },
    {
      "cell_type": "code",
      "metadata": {
        "id": "6BAmzfYJv2QJ",
        "colab_type": "code",
        "outputId": "04738f65-0cd0-489c-f6b1-408e690953d3",
        "colab": {
          "base_uri": "https://localhost:8080/",
          "height": 141
        }
      },
      "source": [
        "! pip install bert-tensorflow"
      ],
      "execution_count": 26,
      "outputs": [
        {
          "output_type": "stream",
          "text": [
            "Collecting bert-tensorflow\n",
            "\u001b[?25l  Downloading https://files.pythonhosted.org/packages/a6/66/7eb4e8b6ea35b7cc54c322c816f976167a43019750279a8473d355800a93/bert_tensorflow-1.0.1-py2.py3-none-any.whl (67kB)\n",
            "\r\u001b[K     |████▉                           | 10kB 20.4MB/s eta 0:00:01\r\u001b[K     |█████████▊                      | 20kB 1.5MB/s eta 0:00:01\r\u001b[K     |██████████████▋                 | 30kB 1.9MB/s eta 0:00:01\r\u001b[K     |███████████████████▍            | 40kB 1.6MB/s eta 0:00:01\r\u001b[K     |████████████████████████▎       | 51kB 1.8MB/s eta 0:00:01\r\u001b[K     |█████████████████████████████▏  | 61kB 2.2MB/s eta 0:00:01\r\u001b[K     |████████████████████████████████| 71kB 2.0MB/s \n",
            "\u001b[?25hRequirement already satisfied: six in /usr/local/lib/python3.6/dist-packages (from bert-tensorflow) (1.12.0)\n",
            "Installing collected packages: bert-tensorflow\n",
            "Successfully installed bert-tensorflow-1.0.1\n"
          ],
          "name": "stdout"
        }
      ]
    },
    {
      "cell_type": "code",
      "metadata": {
        "id": "j9mOgNrf-PLH",
        "colab_type": "code",
        "colab": {}
      },
      "source": [
        "import os\n",
        "import collections\n",
        "import pandas as pd\n",
        "import tensorflow as tf\n",
        "import tensorflow_hub as hub\n",
        "from datetime import datetime"
      ],
      "execution_count": 0,
      "outputs": []
    },
    {
      "cell_type": "code",
      "metadata": {
        "id": "kPgEWLP9v3ux",
        "colab_type": "code",
        "outputId": "d19b521c-4a9d-409a-b4b6-6e5c153cd8a5",
        "colab": {
          "base_uri": "https://localhost:8080/",
          "height": 71
        }
      },
      "source": [
        "import bert\n",
        "from bert import run_classifier\n",
        "from bert import optimization\n",
        "from bert import tokenization\n",
        "from bert import modeling"
      ],
      "execution_count": 28,
      "outputs": [
        {
          "output_type": "stream",
          "text": [
            "WARNING:tensorflow:From /usr/local/lib/python3.6/dist-packages/bert/optimization.py:87: The name tf.train.Optimizer is deprecated. Please use tf.compat.v1.train.Optimizer instead.\n",
            "\n"
          ],
          "name": "stdout"
        }
      ]
    },
    {
      "cell_type": "code",
      "metadata": {
        "id": "Y4z-HMKiwoBx",
        "colab_type": "code",
        "colab": {}
      },
      "source": [
        "cd /content/drive/My Drive/fininsight/21대 총선분석/Text Classification/Bert"
      ],
      "execution_count": 0,
      "outputs": []
    },
    {
      "cell_type": "code",
      "metadata": {
        "id": "nMMpGAflwdSe",
        "colab_type": "code",
        "colab": {
          "base_uri": "https://localhost:8080/",
          "height": 138
        },
        "outputId": "fd4af148-0a80-4ed6-c81b-411b591882cc"
      },
      "source": [
        "! unzip 'uncased_L-12_H-768_A-12'"
      ],
      "execution_count": 64,
      "outputs": [
        {
          "output_type": "stream",
          "text": [
            "Archive:  uncased_L-12_H-768_A-12.zip\n",
            "   creating: uncased_L-12_H-768_A-12/\n",
            "  inflating: uncased_L-12_H-768_A-12/bert_model.ckpt.meta  \n",
            "  inflating: uncased_L-12_H-768_A-12/bert_model.ckpt.data-00000-of-00001  \n",
            "  inflating: uncased_L-12_H-768_A-12/vocab.txt  \n",
            "  inflating: uncased_L-12_H-768_A-12/bert_model.ckpt.index  \n",
            "  inflating: uncased_L-12_H-768_A-12/bert_config.json  \n"
          ],
          "name": "stdout"
        }
      ]
    },
    {
      "cell_type": "code",
      "metadata": {
        "id": "_hOsiDQQsmwN",
        "colab_type": "code",
        "colab": {}
      },
      "source": [
        "##use downloaded model, change path accordingly\n",
        "BERT_VOCAB= '/content/drive/My Drive/fininsight/21대 총선분석/Text Classification/Bert/uncased_L-12_H-768_A-12/vocab.txt'\n",
        "BERT_INIT_CHKPNT = '/content/drive/My Drive/fininsight/21대 총선분석/Text Classification/Bert/uncased_L-12_H-768_A-12/bert_model.ckpt'\n",
        "BERT_CONFIG = '/content/drive/My Drive/fininsight/21대 총선분석/Text Classification/Bert/uncased_L-12_H-768_A-12/bert_config.json'"
      ],
      "execution_count": 0,
      "outputs": []
    },
    {
      "cell_type": "code",
      "metadata": {
        "id": "AsXqM2YVskot",
        "colab_type": "code",
        "colab": {}
      },
      "source": [
        "\n",
        "tokenization.validate_case_matches_checkpoint(True,BERT_INIT_CHKPNT)\n",
        "tokenizer = tokenization.FullTokenizer(\n",
        "      vocab_file=BERT_VOCAB, do_lower_case=True)"
      ],
      "execution_count": 0,
      "outputs": []
    },
    {
      "cell_type": "code",
      "metadata": {
        "id": "zouLG0dn2wR4",
        "colab_type": "code",
        "outputId": "e0743cb6-001d-43ac-b9ba-fad5cbb16a1d",
        "colab": {
          "base_uri": "https://localhost:8080/",
          "height": 175
        }
      },
      "source": [
        "##change path accordingly\n",
        "import pandas as pd\n",
        "\n",
        "train_data_path='/content/drive/My Drive/fininsight/21대 총선분석/Text Classification/Bert/train.csv'\n",
        "train = pd.read_csv(train_data_path)\n",
        "train.head(3)\n",
        "test = pd.read_csv('/content/drive/My Drive/fininsight/21대 총선분석/Text Classification/Bert/test.csv')\n",
        "test.head(3)"
      ],
      "execution_count": 84,
      "outputs": [
        {
          "output_type": "execute_result",
          "data": {
            "text/html": [
              "<div>\n",
              "<style scoped>\n",
              "    .dataframe tbody tr th:only-of-type {\n",
              "        vertical-align: middle;\n",
              "    }\n",
              "\n",
              "    .dataframe tbody tr th {\n",
              "        vertical-align: top;\n",
              "    }\n",
              "\n",
              "    .dataframe thead th {\n",
              "        text-align: right;\n",
              "    }\n",
              "</style>\n",
              "<table border=\"1\" class=\"dataframe\">\n",
              "  <thead>\n",
              "    <tr style=\"text-align: right;\">\n",
              "      <th></th>\n",
              "      <th>id</th>\n",
              "      <th>content</th>\n",
              "      <th>IT/과학</th>\n",
              "      <th>정치</th>\n",
              "    </tr>\n",
              "  </thead>\n",
              "  <tbody>\n",
              "    <tr>\n",
              "      <th>0</th>\n",
              "      <td>697</td>\n",
              "      <td>기술평가 기관  라인란드 아이 컴포트 디스플레이 인증 테스트 통과 서울  디스플레이...</td>\n",
              "      <td>1</td>\n",
              "      <td>0</td>\n",
              "    </tr>\n",
              "    <tr>\n",
              "      <th>1</th>\n",
              "      <td>296</td>\n",
              "      <td>스위스 제네바에서 개최된 국제전기통신연합 국제회의 국내 양자암호통신 기술이 국제표...</td>\n",
              "      <td>1</td>\n",
              "      <td>0</td>\n",
              "    </tr>\n",
              "    <tr>\n",
              "      <th>2</th>\n",
              "      <td>227</td>\n",
              "      <td>서울   자유한국당 나경원 원내대표가 일 오전 서울 여의도 국회를 예방한 박영선 중...</td>\n",
              "      <td>0</td>\n",
              "      <td>1</td>\n",
              "    </tr>\n",
              "  </tbody>\n",
              "</table>\n",
              "</div>"
            ],
            "text/plain": [
              "    id                                            content  IT/과학  정치\n",
              "0  697  기술평가 기관  라인란드 아이 컴포트 디스플레이 인증 테스트 통과 서울  디스플레이...      1   0\n",
              "1  296   스위스 제네바에서 개최된 국제전기통신연합 국제회의 국내 양자암호통신 기술이 국제표...      1   0\n",
              "2  227  서울   자유한국당 나경원 원내대표가 일 오전 서울 여의도 국회를 예방한 박영선 중...      0   1"
            ]
          },
          "metadata": {
            "tags": []
          },
          "execution_count": 84
        }
      ]
    },
    {
      "cell_type": "code",
      "metadata": {
        "id": "gcgrDrp71X9m",
        "colab_type": "code",
        "colab": {}
      },
      "source": [
        "class InputExample(object):\n",
        "    \"\"\"A single training/test example for simple sequence classification.\"\"\"\n",
        "\n",
        "    def __init__(self, guid, text_a, text_b=None, labels=None):\n",
        "\n",
        "        self.guid = guid\n",
        "        self.text_a = text_a\n",
        "        self.text_b = text_b\n",
        "        self.labels = labels\n",
        "\n",
        "\n",
        "class InputFeatures(object):\n",
        "    \"\"\"A single set of features of data.\"\"\"\n",
        "\n",
        "    def __init__(self, input_ids, input_mask, segment_ids, label_ids, is_real_example=True):\n",
        "        self.input_ids = input_ids\n",
        "        self.input_mask = input_mask\n",
        "        self.segment_ids = segment_ids\n",
        "        self.label_ids = label_ids,\n",
        "        self.is_real_example=is_real_example"
      ],
      "execution_count": 0,
      "outputs": []
    },
    {
      "cell_type": "code",
      "metadata": {
        "id": "EXWTEKs11X7f",
        "colab_type": "code",
        "colab": {}
      },
      "source": [
        "def create_examples(df, labels_available=True):\n",
        "    \"\"\"Creates examples for the training and dev sets.\"\"\"\n",
        "    examples = []\n",
        "    for (i, row) in enumerate(df.values):\n",
        "        guid = row[0]\n",
        "        text_a = row[1]\n",
        "        if labels_available:\n",
        "            labels = row[2:]\n",
        "        else:\n",
        "            labels = [0,0]\n",
        "        examples.append(\n",
        "            InputExample(guid=guid, text_a=text_a, labels=labels))\n",
        "    return examples"
      ],
      "execution_count": 0,
      "outputs": []
    },
    {
      "cell_type": "code",
      "metadata": {
        "id": "m_ZRc9uz1cYE",
        "colab_type": "code",
        "colab": {}
      },
      "source": [
        "TRAIN_VAL_RATIO = 0.9\n",
        "LEN = train.shape[0]\n",
        "SIZE_TRAIN = int(TRAIN_VAL_RATIO*LEN)\n",
        "\n",
        "x_train = train[:SIZE_TRAIN]\n",
        "x_val = train[SIZE_TRAIN:]\n",
        "\n",
        "train_examples = create_examples(x_train)"
      ],
      "execution_count": 0,
      "outputs": []
    },
    {
      "cell_type": "code",
      "metadata": {
        "id": "UJ3LDoz31k4h",
        "colab_type": "code",
        "colab": {}
      },
      "source": [
        "def convert_examples_to_features(examples,  max_seq_length, tokenizer):\n",
        "    \"\"\"Loads a data file into a list of `InputBatch`s.\"\"\"\n",
        "\n",
        "    features = []\n",
        "    for (ex_index, example) in enumerate(examples):\n",
        "        print(example.text_a)\n",
        "        tokens_a = tokenizer.tokenize(example.text_a)\n",
        "\n",
        "        tokens_b = None\n",
        "        if example.text_b:\n",
        "            tokens_b = tokenizer.tokenize(example.text_b)\n",
        "            _truncate_seq_pair(tokens_a, tokens_b, max_seq_length - 3)\n",
        "        else:\n",
        "            # Account for [CLS] and [SEP] with \"- 2\"\n",
        "            if len(tokens_a) > max_seq_length - 2:\n",
        "                tokens_a = tokens_a[:(max_seq_length - 2)]\n",
        "\n",
        "        tokens = [\"[CLS]\"] + tokens_a + [\"[SEP]\"]\n",
        "        segment_ids = [0] * len(tokens)\n",
        "\n",
        "        if tokens_b:\n",
        "            tokens += tokens_b + [\"[SEP]\"]\n",
        "            segment_ids += [1] * (len(tokens_b) + 1)\n",
        "\n",
        "        input_ids = tokenizer.convert_tokens_to_ids(tokens)\n",
        "\n",
        "        # The mask has 1 for real tokens and 0 for padding tokens. Only real\n",
        "        # tokens are attended to.\n",
        "        input_mask = [1] * len(input_ids)\n",
        "\n",
        "        # Zero-pad up to the sequence length.\n",
        "        padding = [0] * (max_seq_length - len(input_ids))\n",
        "        input_ids += padding\n",
        "        input_mask += padding\n",
        "        segment_ids += padding\n",
        "\n",
        "        assert len(input_ids) == max_seq_length\n",
        "        assert len(input_mask) == max_seq_length\n",
        "        assert len(segment_ids) == max_seq_length\n",
        "        \n",
        "        labels_ids = []\n",
        "        for label in example.labels:\n",
        "            labels_ids.append(int(label))\n",
        "\n",
        "        if ex_index < 0:\n",
        "            logger.info(\"*** Example ***\")\n",
        "            logger.info(\"guid: %s\" % (example.guid))\n",
        "            logger.info(\"tokens: %s\" % \" \".join(\n",
        "                    [str(x) for x in tokens]))\n",
        "            logger.info(\"input_ids: %s\" % \" \".join([str(x) for x in input_ids]))\n",
        "            logger.info(\"input_mask: %s\" % \" \".join([str(x) for x in input_mask]))\n",
        "            logger.info(\n",
        "                    \"segment_ids: %s\" % \" \".join([str(x) for x in segment_ids]))\n",
        "            logger.info(\"label: %s (id = %s)\" % (example.labels, labels_ids))\n",
        "\n",
        "        features.append(\n",
        "                InputFeatures(input_ids=input_ids,\n",
        "                              input_mask=input_mask,\n",
        "                              segment_ids=segment_ids,\n",
        "                              label_ids=labels_ids))\n",
        "    return features"
      ],
      "execution_count": 0,
      "outputs": []
    },
    {
      "cell_type": "code",
      "metadata": {
        "id": "OknjYEnj1k2T",
        "colab_type": "code",
        "colab": {}
      },
      "source": [
        "# We'll set sequences to be at most 128 tokens long.\n",
        "MAX_SEQ_LENGTH = 128"
      ],
      "execution_count": 0,
      "outputs": []
    },
    {
      "cell_type": "code",
      "metadata": {
        "id": "wXCHtBfV1cVE",
        "colab_type": "code",
        "colab": {}
      },
      "source": [
        "\n",
        "# Compute train and warmup steps from batch size\n",
        "# These hyperparameters are copied from this colab notebook (https://colab.sandbox.google.com/github/tensorflow/tpu/blob/master/tools/colab/bert_finetuning_with_cloud_tpus.ipynb)\n",
        "BATCH_SIZE = 32\n",
        "LEARNING_RATE = 2e-5\n",
        "NUM_TRAIN_EPOCHS = 1.0\n",
        "# Warmup is a period of time where hte learning rate \n",
        "# is small and gradually increases--usually helps training.\n",
        "WARMUP_PROPORTION = 0.1\n",
        "# Model configs\n",
        "SAVE_CHECKPOINTS_STEPS = 1000\n",
        "SAVE_SUMMARY_STEPS = 500"
      ],
      "execution_count": 0,
      "outputs": []
    },
    {
      "cell_type": "code",
      "metadata": {
        "id": "eog31LIz1X5A",
        "colab_type": "code",
        "colab": {}
      },
      "source": [
        "\n",
        "class PaddingInputExample(object):\n",
        "    \n",
        "      \n",
        "  def convert_single_example(ex_index, example, max_seq_length, tokenizer):\n",
        "      \"\"\"Converts a single `InputExample` into a single `InputFeatures`.\"\"\"\n",
        "\n",
        "      if isinstance(example, PaddingInputExample):\n",
        "          return InputFeatures(\n",
        "              input_ids=[0] * max_seq_length,\n",
        "              input_mask=[0] * max_seq_length,\n",
        "              segment_ids=[0] * max_seq_length,\n",
        "              label_ids=0,\n",
        "              is_real_example=False)\n",
        "\n",
        "\n",
        "      tokens_a = tokenizer.tokenize(example.text_a)\n",
        "      tokens_b = None\n",
        "      if example.text_b:\n",
        "          tokens_b = tokenizer.tokenize(example.text_b)\n",
        "\n",
        "      if tokens_b:\n",
        "          # Modifies `tokens_a` and `tokens_b` in place so that the total\n",
        "          # length is less than the specified length.\n",
        "          # Account for [CLS], [SEP], [SEP] with \"- 3\"\n",
        "          _truncate_seq_pair(tokens_a, tokens_b, max_seq_length - 3)\n",
        "      else:\n",
        "          # Account for [CLS] and [SEP] with \"- 2\"\n",
        "          if len(tokens_a) > max_seq_length - 2:\n",
        "              tokens_a = tokens_a[0:(max_seq_length - 2)]\n",
        "\n",
        "\n",
        "      tokens = []\n",
        "      segment_ids = []\n",
        "      tokens.append(\"[CLS]\")\n",
        "      segment_ids.append(0)\n",
        "      for token in tokens_a:\n",
        "          tokens.append(token)\n",
        "          segment_ids.append(0)\n",
        "      tokens.append(\"[SEP]\")\n",
        "      segment_ids.append(0)\n",
        "\n",
        "      if tokens_b:\n",
        "          for token in tokens_b:\n",
        "              tokens.append(token)\n",
        "              segment_ids.append(1)\n",
        "          tokens.append(\"[SEP]\")\n",
        "          segment_ids.append(1)\n",
        "\n",
        "      input_ids = tokenizer.convert_tokens_to_ids(tokens)\n",
        "\n",
        "      # The mask has 1 for real tokens and 0 for padding tokens. Only real\n",
        "      # tokens are attended to.\n",
        "      input_mask = [1] * len(input_ids)\n",
        "\n",
        "      # Zero-pad up to the sequence length.\n",
        "      while len(input_ids) < max_seq_length:\n",
        "          input_ids.append(0)\n",
        "          input_mask.append(0)\n",
        "          segment_ids.append(0)\n",
        "\n",
        "      assert len(input_ids) == max_seq_length\n",
        "      assert len(input_mask) == max_seq_length\n",
        "      assert len(segment_ids) == max_seq_length\n",
        "\n",
        "      labels_ids = []\n",
        "      for label in example.labels:\n",
        "          labels_ids.append(int(label))\n",
        "\n",
        "\n",
        "      feature = InputFeatures(\n",
        "          input_ids=input_ids,\n",
        "          input_mask=input_mask,\n",
        "          segment_ids=segment_ids,\n",
        "          label_ids=labels_ids,\n",
        "          is_real_example=True)\n",
        "      return feature\n",
        "\n",
        "\n",
        "  def file_based_convert_examples_to_features(\n",
        "          examples, max_seq_length, tokenizer, output_file):\n",
        "      \"\"\"Convert a set of `InputExample`s to a TFRecord file.\"\"\"\n",
        "\n",
        "      writer = tf.python_io.TFRecordWriter(output_file)\n",
        "\n",
        "      for (ex_index, example) in enumerate(examples):\n",
        "          #if ex_index % 10000 == 0:\n",
        "              #tf.logging.info(\"Writing example %d of %d\" % (ex_index, len(examples)))\n",
        "\n",
        "          feature = PaddingInputExample.convert_single_example(ex_index, example,\n",
        "                                          max_seq_length, tokenizer)\n",
        "\n",
        "          def create_int_feature(values):\n",
        "              f = tf.train.Feature(int64_list=tf.train.Int64List(value=list(values)))\n",
        "              return f\n",
        "\n",
        "          features = collections.OrderedDict()\n",
        "          features[\"input_ids\"] = create_int_feature(feature.input_ids)\n",
        "          features[\"input_mask\"] = create_int_feature(feature.input_mask)\n",
        "          features[\"segment_ids\"] = create_int_feature(feature.segment_ids)\n",
        "          features[\"is_real_example\"] = create_int_feature(\n",
        "              [int(feature.is_real_example)])\n",
        "          if isinstance(feature.label_ids, list):\n",
        "              label_ids = feature.label_ids\n",
        "          else:\n",
        "              label_ids = feature.label_ids[0]\n",
        "          features[\"label_ids\"] = create_int_feature(label_ids)\n",
        "\n",
        "          tf_example = tf.train.Example(features=tf.train.Features(feature=features))\n",
        "          writer.write(tf_example.SerializeToString())\n",
        "      writer.close()\n",
        "\n",
        "\n",
        "  def file_based_input_fn_builder(input_file, seq_length, is_training,\n",
        "                                  drop_remainder):\n",
        "      \"\"\"Creates an `input_fn` closure to be passed to TPUEstimator.\"\"\"\n",
        "\n",
        "      name_to_features = {\n",
        "          \"input_ids\": tf.FixedLenFeature([seq_length], tf.int64),\n",
        "          \"input_mask\": tf.FixedLenFeature([seq_length], tf.int64),\n",
        "          \"segment_ids\": tf.FixedLenFeature([seq_length], tf.int64),\n",
        "          \"label_ids\": tf.FixedLenFeature([6], tf.int64),\n",
        "          \"is_real_example\": tf.FixedLenFeature([], tf.int64),\n",
        "      }\n",
        "\n",
        "      def _decode_record(record, name_to_features):\n",
        "          \"\"\"Decodes a record to a TensorFlow example.\"\"\"\n",
        "          example = tf.parse_single_example(record, name_to_features)\n",
        "\n",
        "          # tf.Example only supports tf.int64, but the TPU only supports tf.int32.\n",
        "          # So cast all int64 to int32.\n",
        "          for name in list(example.keys()):\n",
        "              t = example[name]\n",
        "              if t.dtype == tf.int64:\n",
        "                  t = tf.to_int32(t)\n",
        "              example[name] = t\n",
        "\n",
        "          return example\n",
        "\n",
        "      def input_fn(params):\n",
        "          \"\"\"The actual input function.\"\"\"\n",
        "          batch_size = params[\"batch_size\"]\n",
        "\n",
        "          # For training, we want a lot of parallel reading and shuffling.\n",
        "          # For eval, we want no shuffling and parallel reading doesn't matter.\n",
        "          d = tf.data.TFRecordDataset(input_file)\n",
        "          if is_training:\n",
        "              d = d.repeat()\n",
        "              d = d.shuffle(buffer_size=100)\n",
        "\n",
        "          d = d.apply(\n",
        "              tf.contrib.data.map_and_batch(\n",
        "                  lambda record: _decode_record(record, name_to_features),\n",
        "                  batch_size=batch_size,\n",
        "                  drop_remainder=drop_remainder))\n",
        "\n",
        "          return d\n",
        "\n",
        "      return input_fn\n",
        "\n",
        "\n",
        "  def _truncate_seq_pair(tokens_a, tokens_b, max_length):\n",
        "      \"\"\"Truncates a sequence pair in place to the maximum length.\"\"\"\n",
        "\n",
        "      # This is a simple heuristic which will always truncate the longer sequence\n",
        "      # one token at a time. This makes more sense than truncating an equal percent\n",
        "      # of tokens from each, since if one sequence is very short then each token\n",
        "      # that's truncated likely contains more information than a longer sequence.\n",
        "      while True:\n",
        "          total_length = len(tokens_a) + len(tokens_b)\n",
        "          if total_length <= max_length:\n",
        "              break\n",
        "          if len(tokens_a) > len(tokens_b):\n",
        "              tokens_a.pop()\n",
        "          else:\n",
        "              tokens_b.pop()"
      ],
      "execution_count": 0,
      "outputs": []
    },
    {
      "cell_type": "code",
      "metadata": {
        "id": "P5sXxOzz1Xst",
        "colab_type": "code",
        "colab": {}
      },
      "source": [
        "# Compute # train and warmup steps from batch size\n",
        "num_train_steps = int(len(train_examples) / BATCH_SIZE * NUM_TRAIN_EPOCHS)\n",
        "num_warmup_steps = int(num_train_steps * WARMUP_PROPORTION)"
      ],
      "execution_count": 0,
      "outputs": []
    },
    {
      "cell_type": "code",
      "metadata": {
        "id": "DFzOZB__3gTW",
        "colab_type": "code",
        "colab": {}
      },
      "source": [
        "train_file = os.path.join('/content/drive/My Drive/fininsight/21대 총선분석/Text Classification/Bert/working', \"train.tf_record\")\n",
        "#filename = Path(train_file)\n",
        "if not os.path.exists(train_file):\n",
        "    open(train_file, 'w').close()"
      ],
      "execution_count": 0,
      "outputs": []
    },
    {
      "cell_type": "code",
      "metadata": {
        "id": "2G7A2cni3gSI",
        "colab_type": "code",
        "outputId": "8e366884-681b-427f-9916-6a5285e0a40c",
        "colab": {
          "base_uri": "https://localhost:8080/",
          "height": 86
        }
      },
      "source": [
        "PaddingInputExample.file_based_convert_examples_to_features( \n",
        "            train_examples, MAX_SEQ_LENGTH, tokenizer, train_file) \n",
        "tf.logging.info(\"***** Running training *****\") \n",
        "tf.logging.info(\"  Num examples = %d\", len(train_examples)) \n",
        "tf.logging.info(\"  Batch size = %d\", BATCH_SIZE) \n",
        "tf.logging.info(\"  Num steps = %d\", num_train_steps) "
      ],
      "execution_count": 110,
      "outputs": [
        {
          "output_type": "stream",
          "text": [
            "INFO:tensorflow:***** Running training *****\n",
            "INFO:tensorflow:  Num examples = 486\n",
            "INFO:tensorflow:  Batch size = 32\n",
            "INFO:tensorflow:  Num steps = 15\n"
          ],
          "name": "stdout"
        }
      ]
    },
    {
      "cell_type": "code",
      "metadata": {
        "id": "vlCLTQAw3gPP",
        "colab_type": "code",
        "colab": {}
      },
      "source": [
        "train_input_fn = PaddingInputExample.file_based_input_fn_builder(\n",
        "    input_file=train_file,\n",
        "    seq_length=MAX_SEQ_LENGTH,\n",
        "    is_training=True,\n",
        "    drop_remainder=True)"
      ],
      "execution_count": 0,
      "outputs": []
    },
    {
      "cell_type": "code",
      "metadata": {
        "id": "ln75fHk53gOW",
        "colab_type": "code",
        "colab": {}
      },
      "source": [
        "def create_model(bert_config, is_training, input_ids, input_mask, segment_ids,\n",
        "                 labels, num_labels, use_one_hot_embeddings):\n",
        "    \"\"\"Creates a classification model.\"\"\"\n",
        "    model = modeling.BertModel(\n",
        "        config=bert_config,\n",
        "        is_training=is_training,\n",
        "        input_ids=input_ids,\n",
        "        input_mask=input_mask,\n",
        "        token_type_ids=segment_ids,\n",
        "        use_one_hot_embeddings=use_one_hot_embeddings)\n",
        "\n",
        "\n",
        "    output_layer = model.get_pooled_output()\n",
        "\n",
        "    hidden_size = output_layer.shape[-1].value\n",
        "\n",
        "    output_weights = tf.get_variable(\n",
        "        \"output_weights\", [num_labels, hidden_size],\n",
        "        initializer=tf.truncated_normal_initializer(stddev=0.02))\n",
        "\n",
        "    output_bias = tf.get_variable(\n",
        "        \"output_bias\", [num_labels], initializer=tf.zeros_initializer())\n",
        "\n",
        "    with tf.variable_scope(\"loss\"):\n",
        "        if is_training:\n",
        "            # I.e., 0.1 dropout\n",
        "            output_layer = tf.nn.dropout(output_layer, keep_prob=0.9)\n",
        "\n",
        "        logits = tf.matmul(output_layer, output_weights, transpose_b=True)\n",
        "        logits = tf.nn.bias_add(logits, output_bias)\n",
        "        \n",
        "        # probabilities = tf.nn.softmax(logits, axis=-1) ### multiclass case\n",
        "        probabilities = tf.nn.sigmoid(logits)#### multi-label case\n",
        "        \n",
        "        labels = tf.cast(labels, tf.float32)\n",
        "        tf.logging.info(\"num_labels:{};logits:{};labels:{}\".format(num_labels, logits, labels))\n",
        "        per_example_loss = tf.nn.sigmoid_cross_entropy_with_logits(labels=labels, logits=logits)\n",
        "        loss = tf.reduce_mean(per_example_loss)\n",
        "\n",
        "\n",
        "        return (loss, per_example_loss, logits, probabilities)\n",
        "\n",
        "\n",
        "def model_fn_builder(bert_config, num_labels, init_checkpoint, learning_rate,\n",
        "                     num_train_steps, num_warmup_steps, use_tpu,\n",
        "                     use_one_hot_embeddings):\n",
        "    \"\"\"Returns `model_fn` closure for TPUEstimator.\"\"\"\n",
        "\n",
        "    def model_fn(features, labels, mode, params):  # pylint: disable=unused-argument\n",
        "        \"\"\"The `model_fn` for TPUEstimator.\"\"\"\n",
        "\n",
        "\n",
        "        input_ids = features[\"input_ids\"]\n",
        "        input_mask = features[\"input_mask\"]\n",
        "        segment_ids = features[\"segment_ids\"]\n",
        "        label_ids = features[\"label_ids\"]\n",
        "        is_real_example = None\n",
        "        if \"is_real_example\" in features:\n",
        "             is_real_example = tf.cast(features[\"is_real_example\"], dtype=tf.float32)\n",
        "        else:\n",
        "             is_real_example = tf.ones(tf.shape(label_ids), dtype=tf.float32)\n",
        "\n",
        "        is_training = (mode == tf.estimator.ModeKeys.TRAIN)\n",
        "\n",
        "        (total_loss, per_example_loss, logits, probabilities) = create_model(\n",
        "            bert_config, is_training, input_ids, input_mask, segment_ids, label_ids,\n",
        "            num_labels, use_one_hot_embeddings)\n",
        "\n",
        "        tvars = tf.trainable_variables()\n",
        "        initialized_variable_names = {}\n",
        "        scaffold_fn = None\n",
        "        if init_checkpoint:\n",
        "            (assignment_map, initialized_variable_names\n",
        "             ) = modeling.get_assignment_map_from_checkpoint(tvars, init_checkpoint)\n",
        "            if use_tpu:\n",
        "\n",
        "                def tpu_scaffold():\n",
        "                    tf.train.init_from_checkpoint(init_checkpoint, assignment_map)\n",
        "                    return tf.train.Scaffold()\n",
        "\n",
        "                scaffold_fn = tpu_scaffold\n",
        "            else:\n",
        "                tf.train.init_from_checkpoint(init_checkpoint, assignment_map)\n",
        "\n",
        "        tf.logging.info(\"**** Trainable Variables ****\")\n",
        "        for var in tvars:\n",
        "            init_string = \"\"\n",
        "            if var.name in initialized_variable_names:\n",
        "                init_string = \", *INIT_FROM_CKPT*\"\n",
        "            #tf.logging.info(\"  name = %s, shape = %s%s\", var.name, var.shape,init_string)\n",
        "\n",
        "        output_spec = None\n",
        "        if mode == tf.estimator.ModeKeys.TRAIN:\n",
        "\n",
        "            train_op = optimization.create_optimizer(\n",
        "                total_loss, learning_rate, num_train_steps, num_warmup_steps, use_tpu)\n",
        "\n",
        "            output_spec = tf.estimator.EstimatorSpec(\n",
        "                mode=mode,\n",
        "                loss=total_loss,\n",
        "                train_op=train_op,\n",
        "                scaffold=scaffold_fn)\n",
        "        elif mode == tf.estimator.ModeKeys.EVAL:\n",
        "\n",
        "            def metric_fn(per_example_loss, label_ids, probabilities, is_real_example):\n",
        "\n",
        "                logits_split = tf.split(probabilities, num_labels, axis=-1)\n",
        "                label_ids_split = tf.split(label_ids, num_labels, axis=-1)\n",
        "                # metrics change to auc of every class\n",
        "                eval_dict = {}\n",
        "                for j, logits in enumerate(logits_split):\n",
        "                    label_id_ = tf.cast(label_ids_split[j], dtype=tf.int32)\n",
        "                    current_auc, update_op_auc = tf.metrics.auc(label_id_, logits)\n",
        "                    eval_dict[str(j)] = (current_auc, update_op_auc)\n",
        "                eval_dict['eval_loss'] = tf.metrics.mean(values=per_example_loss)\n",
        "                return eval_dict\n",
        "\n",
        "\n",
        "            eval_metrics = metric_fn(per_example_loss, label_ids, probabilities, is_real_example)\n",
        "            output_spec = tf.estimator.EstimatorSpec(\n",
        "                mode=mode,\n",
        "                loss=total_loss,\n",
        "                eval_metric_ops=eval_metrics,\n",
        "                scaffold=scaffold_fn)\n",
        "        else:\n",
        "            print(\"mode:\", mode,\"probabilities:\", probabilities)\n",
        "            output_spec = tf.estimator.EstimatorSpec(\n",
        "                mode=mode,\n",
        "                predictions={\"probabilities\": probabilities},\n",
        "                scaffold=scaffold_fn)\n",
        "        return output_spec\n",
        "\n",
        "    return model_fn"
      ],
      "execution_count": 0,
      "outputs": []
    },
    {
      "cell_type": "code",
      "metadata": {
        "id": "B6ao3jVZ3gKu",
        "colab_type": "code",
        "colab": {}
      },
      "source": [
        "OUTPUT_DIR = \"/content/drive/My Drive/fininsight/21대 총선분석/Text Classification/Bert/working/output\"\n",
        "# Specify outpit directory and number of checkpoint steps to save\n",
        "run_config = tf.estimator.RunConfig(\n",
        "    model_dir=OUTPUT_DIR,\n",
        "    save_summary_steps=SAVE_SUMMARY_STEPS,\n",
        "    keep_checkpoint_max=1,\n",
        "    save_checkpoints_steps=SAVE_CHECKPOINTS_STEPS)"
      ],
      "execution_count": 0,
      "outputs": []
    },
    {
      "cell_type": "code",
      "metadata": {
        "id": "MM8G4wyo3z0Z",
        "colab_type": "code",
        "colab": {
          "base_uri": "https://localhost:8080/",
          "height": 158
        },
        "outputId": "f19c3881-a92e-459e-b8e0-2f32175d4f8c"
      },
      "source": [
        "\n",
        "bert_config = modeling.BertConfig.from_json_file(BERT_CONFIG)\n",
        "model_fn = model_fn_builder(\n",
        "  bert_config=bert_config,\n",
        "  num_labels= len(LABEL_COLUMNS),\n",
        "  init_checkpoint=BERT_INIT_CHKPNT,\n",
        "  learning_rate=LEARNING_RATE,\n",
        "  num_train_steps=num_train_steps,\n",
        "  num_warmup_steps=num_warmup_steps,\n",
        "  use_tpu=False,\n",
        "  use_one_hot_embeddings=False)\n",
        "\n",
        "estimator = tf.estimator.Estimator(\n",
        "  model_fn=model_fn,\n",
        "  config=run_config,\n",
        "  params={\"batch_size\": BATCH_SIZE})"
      ],
      "execution_count": 114,
      "outputs": [
        {
          "output_type": "stream",
          "text": [
            "INFO:tensorflow:Using config: {'_model_dir': '/content/drive/My Drive/fininsight/21대 총선분석/Text Classification/Bert/working/output', '_tf_random_seed': None, '_save_summary_steps': 500, '_save_checkpoints_steps': 1000, '_save_checkpoints_secs': None, '_session_config': allow_soft_placement: true\n",
            "graph_options {\n",
            "  rewrite_options {\n",
            "    meta_optimizer_iterations: ONE\n",
            "  }\n",
            "}\n",
            ", '_keep_checkpoint_max': 1, '_keep_checkpoint_every_n_hours': 10000, '_log_step_count_steps': 100, '_train_distribute': None, '_device_fn': None, '_protocol': None, '_eval_distribute': None, '_experimental_distribute': None, '_experimental_max_worker_delay_secs': None, '_session_creation_timeout_secs': 7200, '_service': None, '_cluster_spec': <tensorflow.python.training.server_lib.ClusterSpec object at 0x7f226a4d0278>, '_task_type': 'worker', '_task_id': 0, '_global_id_in_cluster': 0, '_master': '', '_evaluation_master': '', '_is_chief': True, '_num_ps_replicas': 0, '_num_worker_replicas': 1}\n"
          ],
          "name": "stdout"
        }
      ]
    },
    {
      "cell_type": "code",
      "metadata": {
        "id": "YSAJjM_-3zww",
        "colab_type": "code",
        "colab": {
          "base_uri": "https://localhost:8080/",
          "height": 590
        },
        "outputId": "29fae47d-a151-4968-a6fb-404bf19edcc3"
      },
      "source": [
        "\n",
        "print(f'Beginning Training!')\n",
        "current_time = datetime.now()\n",
        "estimator.train(input_fn=train_input_fn, max_steps=num_train_steps)\n",
        "print(\"Training took time \", datetime.now() - current_time)"
      ],
      "execution_count": 115,
      "outputs": [
        {
          "output_type": "stream",
          "text": [
            "Beginning Training!\n",
            "INFO:tensorflow:Calling model_fn.\n",
            "INFO:tensorflow:num_labels:2;logits:Tensor(\"loss/BiasAdd:0\", shape=(32, 2), dtype=float32);labels:Tensor(\"loss/Cast:0\", shape=(32, 6), dtype=float32)\n"
          ],
          "name": "stdout"
        },
        {
          "output_type": "error",
          "ename": "ValueError",
          "evalue": "ignored",
          "traceback": [
            "\u001b[0;31m---------------------------------------------------------------------------\u001b[0m",
            "\u001b[0;31mValueError\u001b[0m                                Traceback (most recent call last)",
            "\u001b[0;32m/tensorflow-1.15.0/python3.6/tensorflow_core/python/framework/tensor_shape.py\u001b[0m in \u001b[0;36mmerge_with\u001b[0;34m(self, other)\u001b[0m\n\u001b[1;32m    930\u001b[0m         \u001b[0;32mfor\u001b[0m \u001b[0mi\u001b[0m\u001b[0;34m,\u001b[0m \u001b[0mdim\u001b[0m \u001b[0;32min\u001b[0m \u001b[0menumerate\u001b[0m\u001b[0;34m(\u001b[0m\u001b[0mself\u001b[0m\u001b[0;34m.\u001b[0m\u001b[0m_dims\u001b[0m\u001b[0;34m)\u001b[0m\u001b[0;34m:\u001b[0m\u001b[0;34m\u001b[0m\u001b[0;34m\u001b[0m\u001b[0m\n\u001b[0;32m--> 931\u001b[0;31m           \u001b[0mnew_dims\u001b[0m\u001b[0;34m.\u001b[0m\u001b[0mappend\u001b[0m\u001b[0;34m(\u001b[0m\u001b[0mdim\u001b[0m\u001b[0;34m.\u001b[0m\u001b[0mmerge_with\u001b[0m\u001b[0;34m(\u001b[0m\u001b[0mother\u001b[0m\u001b[0;34m[\u001b[0m\u001b[0mi\u001b[0m\u001b[0;34m]\u001b[0m\u001b[0;34m)\u001b[0m\u001b[0;34m)\u001b[0m\u001b[0;34m\u001b[0m\u001b[0;34m\u001b[0m\u001b[0m\n\u001b[0m\u001b[1;32m    932\u001b[0m         \u001b[0;32mreturn\u001b[0m \u001b[0mTensorShape\u001b[0m\u001b[0;34m(\u001b[0m\u001b[0mnew_dims\u001b[0m\u001b[0;34m)\u001b[0m\u001b[0;34m\u001b[0m\u001b[0;34m\u001b[0m\u001b[0m\n",
            "\u001b[0;32m/tensorflow-1.15.0/python3.6/tensorflow_core/python/framework/tensor_shape.py\u001b[0m in \u001b[0;36mmerge_with\u001b[0;34m(self, other)\u001b[0m\n\u001b[1;32m    310\u001b[0m       \u001b[0;32mreturn\u001b[0m \u001b[0mNotImplemented\u001b[0m\u001b[0;34m\u001b[0m\u001b[0;34m\u001b[0m\u001b[0m\n\u001b[0;32m--> 311\u001b[0;31m     \u001b[0mself\u001b[0m\u001b[0;34m.\u001b[0m\u001b[0massert_is_compatible_with\u001b[0m\u001b[0;34m(\u001b[0m\u001b[0mother\u001b[0m\u001b[0;34m)\u001b[0m\u001b[0;34m\u001b[0m\u001b[0;34m\u001b[0m\u001b[0m\n\u001b[0m\u001b[1;32m    312\u001b[0m     \u001b[0;32mif\u001b[0m \u001b[0mself\u001b[0m\u001b[0;34m.\u001b[0m\u001b[0m_value\u001b[0m \u001b[0;32mis\u001b[0m \u001b[0;32mNone\u001b[0m\u001b[0;34m:\u001b[0m\u001b[0;34m\u001b[0m\u001b[0;34m\u001b[0m\u001b[0m\n",
            "\u001b[0;32m/tensorflow-1.15.0/python3.6/tensorflow_core/python/framework/tensor_shape.py\u001b[0m in \u001b[0;36massert_is_compatible_with\u001b[0;34m(self, other)\u001b[0m\n\u001b[1;32m    274\u001b[0m       raise ValueError(\"Dimensions %s and %s are not compatible\" %\n\u001b[0;32m--> 275\u001b[0;31m                        (self, other))\n\u001b[0m\u001b[1;32m    276\u001b[0m \u001b[0;34m\u001b[0m\u001b[0m\n",
            "\u001b[0;31mValueError\u001b[0m: Dimensions 6 and 2 are not compatible",
            "\nDuring handling of the above exception, another exception occurred:\n",
            "\u001b[0;31mValueError\u001b[0m                                Traceback (most recent call last)",
            "\u001b[0;32m/tensorflow-1.15.0/python3.6/tensorflow_core/python/ops/nn_impl.py\u001b[0m in \u001b[0;36msigmoid_cross_entropy_with_logits\u001b[0;34m(_sentinel, labels, logits, name)\u001b[0m\n\u001b[1;32m    167\u001b[0m     \u001b[0;32mtry\u001b[0m\u001b[0;34m:\u001b[0m\u001b[0;34m\u001b[0m\u001b[0;34m\u001b[0m\u001b[0m\n\u001b[0;32m--> 168\u001b[0;31m       \u001b[0mlabels\u001b[0m\u001b[0;34m.\u001b[0m\u001b[0mget_shape\u001b[0m\u001b[0;34m(\u001b[0m\u001b[0;34m)\u001b[0m\u001b[0;34m.\u001b[0m\u001b[0mmerge_with\u001b[0m\u001b[0;34m(\u001b[0m\u001b[0mlogits\u001b[0m\u001b[0;34m.\u001b[0m\u001b[0mget_shape\u001b[0m\u001b[0;34m(\u001b[0m\u001b[0;34m)\u001b[0m\u001b[0;34m)\u001b[0m\u001b[0;34m\u001b[0m\u001b[0;34m\u001b[0m\u001b[0m\n\u001b[0m\u001b[1;32m    169\u001b[0m     \u001b[0;32mexcept\u001b[0m \u001b[0mValueError\u001b[0m\u001b[0;34m:\u001b[0m\u001b[0;34m\u001b[0m\u001b[0;34m\u001b[0m\u001b[0m\n",
            "\u001b[0;32m/tensorflow-1.15.0/python3.6/tensorflow_core/python/framework/tensor_shape.py\u001b[0m in \u001b[0;36mmerge_with\u001b[0;34m(self, other)\u001b[0m\n\u001b[1;32m    933\u001b[0m       \u001b[0;32mexcept\u001b[0m \u001b[0mValueError\u001b[0m\u001b[0;34m:\u001b[0m\u001b[0;34m\u001b[0m\u001b[0;34m\u001b[0m\u001b[0m\n\u001b[0;32m--> 934\u001b[0;31m         \u001b[0;32mraise\u001b[0m \u001b[0mValueError\u001b[0m\u001b[0;34m(\u001b[0m\u001b[0;34m\"Shapes %s and %s are not compatible\"\u001b[0m \u001b[0;34m%\u001b[0m \u001b[0;34m(\u001b[0m\u001b[0mself\u001b[0m\u001b[0;34m,\u001b[0m \u001b[0mother\u001b[0m\u001b[0;34m)\u001b[0m\u001b[0;34m)\u001b[0m\u001b[0;34m\u001b[0m\u001b[0;34m\u001b[0m\u001b[0m\n\u001b[0m\u001b[1;32m    935\u001b[0m \u001b[0;34m\u001b[0m\u001b[0m\n",
            "\u001b[0;31mValueError\u001b[0m: Shapes (32, 6) and (32, 2) are not compatible",
            "\nDuring handling of the above exception, another exception occurred:\n",
            "\u001b[0;31mValueError\u001b[0m                                Traceback (most recent call last)",
            "\u001b[0;32m<ipython-input-115-84e4f15be3d6>\u001b[0m in \u001b[0;36m<module>\u001b[0;34m()\u001b[0m\n\u001b[1;32m      2\u001b[0m \u001b[0mprint\u001b[0m\u001b[0;34m(\u001b[0m\u001b[0;34mf'Beginning Training!'\u001b[0m\u001b[0;34m)\u001b[0m\u001b[0;34m\u001b[0m\u001b[0;34m\u001b[0m\u001b[0m\n\u001b[1;32m      3\u001b[0m \u001b[0mcurrent_time\u001b[0m \u001b[0;34m=\u001b[0m \u001b[0mdatetime\u001b[0m\u001b[0;34m.\u001b[0m\u001b[0mnow\u001b[0m\u001b[0;34m(\u001b[0m\u001b[0;34m)\u001b[0m\u001b[0;34m\u001b[0m\u001b[0;34m\u001b[0m\u001b[0m\n\u001b[0;32m----> 4\u001b[0;31m \u001b[0mestimator\u001b[0m\u001b[0;34m.\u001b[0m\u001b[0mtrain\u001b[0m\u001b[0;34m(\u001b[0m\u001b[0minput_fn\u001b[0m\u001b[0;34m=\u001b[0m\u001b[0mtrain_input_fn\u001b[0m\u001b[0;34m,\u001b[0m \u001b[0mmax_steps\u001b[0m\u001b[0;34m=\u001b[0m\u001b[0mnum_train_steps\u001b[0m\u001b[0;34m)\u001b[0m\u001b[0;34m\u001b[0m\u001b[0;34m\u001b[0m\u001b[0m\n\u001b[0m\u001b[1;32m      5\u001b[0m \u001b[0mprint\u001b[0m\u001b[0;34m(\u001b[0m\u001b[0;34m\"Training took time \"\u001b[0m\u001b[0;34m,\u001b[0m \u001b[0mdatetime\u001b[0m\u001b[0;34m.\u001b[0m\u001b[0mnow\u001b[0m\u001b[0;34m(\u001b[0m\u001b[0;34m)\u001b[0m \u001b[0;34m-\u001b[0m \u001b[0mcurrent_time\u001b[0m\u001b[0;34m)\u001b[0m\u001b[0;34m\u001b[0m\u001b[0;34m\u001b[0m\u001b[0m\n",
            "\u001b[0;32m/tensorflow-1.15.0/python3.6/tensorflow_estimator/python/estimator/estimator.py\u001b[0m in \u001b[0;36mtrain\u001b[0;34m(self, input_fn, hooks, steps, max_steps, saving_listeners)\u001b[0m\n\u001b[1;32m    368\u001b[0m \u001b[0;34m\u001b[0m\u001b[0m\n\u001b[1;32m    369\u001b[0m       \u001b[0msaving_listeners\u001b[0m \u001b[0;34m=\u001b[0m \u001b[0m_check_listeners_type\u001b[0m\u001b[0;34m(\u001b[0m\u001b[0msaving_listeners\u001b[0m\u001b[0;34m)\u001b[0m\u001b[0;34m\u001b[0m\u001b[0;34m\u001b[0m\u001b[0m\n\u001b[0;32m--> 370\u001b[0;31m       \u001b[0mloss\u001b[0m \u001b[0;34m=\u001b[0m \u001b[0mself\u001b[0m\u001b[0;34m.\u001b[0m\u001b[0m_train_model\u001b[0m\u001b[0;34m(\u001b[0m\u001b[0minput_fn\u001b[0m\u001b[0;34m,\u001b[0m \u001b[0mhooks\u001b[0m\u001b[0;34m,\u001b[0m \u001b[0msaving_listeners\u001b[0m\u001b[0;34m)\u001b[0m\u001b[0;34m\u001b[0m\u001b[0;34m\u001b[0m\u001b[0m\n\u001b[0m\u001b[1;32m    371\u001b[0m       \u001b[0mlogging\u001b[0m\u001b[0;34m.\u001b[0m\u001b[0minfo\u001b[0m\u001b[0;34m(\u001b[0m\u001b[0;34m'Loss for final step: %s.'\u001b[0m\u001b[0;34m,\u001b[0m \u001b[0mloss\u001b[0m\u001b[0;34m)\u001b[0m\u001b[0;34m\u001b[0m\u001b[0;34m\u001b[0m\u001b[0m\n\u001b[1;32m    372\u001b[0m       \u001b[0;32mreturn\u001b[0m \u001b[0mself\u001b[0m\u001b[0;34m\u001b[0m\u001b[0;34m\u001b[0m\u001b[0m\n",
            "\u001b[0;32m/tensorflow-1.15.0/python3.6/tensorflow_estimator/python/estimator/estimator.py\u001b[0m in \u001b[0;36m_train_model\u001b[0;34m(self, input_fn, hooks, saving_listeners)\u001b[0m\n\u001b[1;32m   1159\u001b[0m       \u001b[0;32mreturn\u001b[0m \u001b[0mself\u001b[0m\u001b[0;34m.\u001b[0m\u001b[0m_train_model_distributed\u001b[0m\u001b[0;34m(\u001b[0m\u001b[0minput_fn\u001b[0m\u001b[0;34m,\u001b[0m \u001b[0mhooks\u001b[0m\u001b[0;34m,\u001b[0m \u001b[0msaving_listeners\u001b[0m\u001b[0;34m)\u001b[0m\u001b[0;34m\u001b[0m\u001b[0;34m\u001b[0m\u001b[0m\n\u001b[1;32m   1160\u001b[0m     \u001b[0;32melse\u001b[0m\u001b[0;34m:\u001b[0m\u001b[0;34m\u001b[0m\u001b[0;34m\u001b[0m\u001b[0m\n\u001b[0;32m-> 1161\u001b[0;31m       \u001b[0;32mreturn\u001b[0m \u001b[0mself\u001b[0m\u001b[0;34m.\u001b[0m\u001b[0m_train_model_default\u001b[0m\u001b[0;34m(\u001b[0m\u001b[0minput_fn\u001b[0m\u001b[0;34m,\u001b[0m \u001b[0mhooks\u001b[0m\u001b[0;34m,\u001b[0m \u001b[0msaving_listeners\u001b[0m\u001b[0;34m)\u001b[0m\u001b[0;34m\u001b[0m\u001b[0;34m\u001b[0m\u001b[0m\n\u001b[0m\u001b[1;32m   1162\u001b[0m \u001b[0;34m\u001b[0m\u001b[0m\n\u001b[1;32m   1163\u001b[0m   \u001b[0;32mdef\u001b[0m \u001b[0m_train_model_default\u001b[0m\u001b[0;34m(\u001b[0m\u001b[0mself\u001b[0m\u001b[0;34m,\u001b[0m \u001b[0minput_fn\u001b[0m\u001b[0;34m,\u001b[0m \u001b[0mhooks\u001b[0m\u001b[0;34m,\u001b[0m \u001b[0msaving_listeners\u001b[0m\u001b[0;34m)\u001b[0m\u001b[0;34m:\u001b[0m\u001b[0;34m\u001b[0m\u001b[0;34m\u001b[0m\u001b[0m\n",
            "\u001b[0;32m/tensorflow-1.15.0/python3.6/tensorflow_estimator/python/estimator/estimator.py\u001b[0m in \u001b[0;36m_train_model_default\u001b[0;34m(self, input_fn, hooks, saving_listeners)\u001b[0m\n\u001b[1;32m   1189\u001b[0m       \u001b[0mworker_hooks\u001b[0m\u001b[0;34m.\u001b[0m\u001b[0mextend\u001b[0m\u001b[0;34m(\u001b[0m\u001b[0minput_hooks\u001b[0m\u001b[0;34m)\u001b[0m\u001b[0;34m\u001b[0m\u001b[0;34m\u001b[0m\u001b[0m\n\u001b[1;32m   1190\u001b[0m       estimator_spec = self._call_model_fn(\n\u001b[0;32m-> 1191\u001b[0;31m           features, labels, ModeKeys.TRAIN, self.config)\n\u001b[0m\u001b[1;32m   1192\u001b[0m       \u001b[0mglobal_step_tensor\u001b[0m \u001b[0;34m=\u001b[0m \u001b[0mtraining_util\u001b[0m\u001b[0;34m.\u001b[0m\u001b[0mget_global_step\u001b[0m\u001b[0;34m(\u001b[0m\u001b[0mg\u001b[0m\u001b[0;34m)\u001b[0m\u001b[0;34m\u001b[0m\u001b[0;34m\u001b[0m\u001b[0m\n\u001b[1;32m   1193\u001b[0m       return self._train_with_estimator_spec(estimator_spec, worker_hooks,\n",
            "\u001b[0;32m/tensorflow-1.15.0/python3.6/tensorflow_estimator/python/estimator/estimator.py\u001b[0m in \u001b[0;36m_call_model_fn\u001b[0;34m(self, features, labels, mode, config)\u001b[0m\n\u001b[1;32m   1147\u001b[0m \u001b[0;34m\u001b[0m\u001b[0m\n\u001b[1;32m   1148\u001b[0m     \u001b[0mlogging\u001b[0m\u001b[0;34m.\u001b[0m\u001b[0minfo\u001b[0m\u001b[0;34m(\u001b[0m\u001b[0;34m'Calling model_fn.'\u001b[0m\u001b[0;34m)\u001b[0m\u001b[0;34m\u001b[0m\u001b[0;34m\u001b[0m\u001b[0m\n\u001b[0;32m-> 1149\u001b[0;31m     \u001b[0mmodel_fn_results\u001b[0m \u001b[0;34m=\u001b[0m \u001b[0mself\u001b[0m\u001b[0;34m.\u001b[0m\u001b[0m_model_fn\u001b[0m\u001b[0;34m(\u001b[0m\u001b[0mfeatures\u001b[0m\u001b[0;34m=\u001b[0m\u001b[0mfeatures\u001b[0m\u001b[0;34m,\u001b[0m \u001b[0;34m**\u001b[0m\u001b[0mkwargs\u001b[0m\u001b[0;34m)\u001b[0m\u001b[0;34m\u001b[0m\u001b[0;34m\u001b[0m\u001b[0m\n\u001b[0m\u001b[1;32m   1150\u001b[0m     \u001b[0mlogging\u001b[0m\u001b[0;34m.\u001b[0m\u001b[0minfo\u001b[0m\u001b[0;34m(\u001b[0m\u001b[0;34m'Done calling model_fn.'\u001b[0m\u001b[0;34m)\u001b[0m\u001b[0;34m\u001b[0m\u001b[0;34m\u001b[0m\u001b[0m\n\u001b[1;32m   1151\u001b[0m \u001b[0;34m\u001b[0m\u001b[0m\n",
            "\u001b[0;32m<ipython-input-112-781bb7c5589d>\u001b[0m in \u001b[0;36mmodel_fn\u001b[0;34m(features, labels, mode, params)\u001b[0m\n\u001b[1;32m     65\u001b[0m         (total_loss, per_example_loss, logits, probabilities) = create_model(\n\u001b[1;32m     66\u001b[0m             \u001b[0mbert_config\u001b[0m\u001b[0;34m,\u001b[0m \u001b[0mis_training\u001b[0m\u001b[0;34m,\u001b[0m \u001b[0minput_ids\u001b[0m\u001b[0;34m,\u001b[0m \u001b[0minput_mask\u001b[0m\u001b[0;34m,\u001b[0m \u001b[0msegment_ids\u001b[0m\u001b[0;34m,\u001b[0m \u001b[0mlabel_ids\u001b[0m\u001b[0;34m,\u001b[0m\u001b[0;34m\u001b[0m\u001b[0;34m\u001b[0m\u001b[0m\n\u001b[0;32m---> 67\u001b[0;31m             num_labels, use_one_hot_embeddings)\n\u001b[0m\u001b[1;32m     68\u001b[0m \u001b[0;34m\u001b[0m\u001b[0m\n\u001b[1;32m     69\u001b[0m         \u001b[0mtvars\u001b[0m \u001b[0;34m=\u001b[0m \u001b[0mtf\u001b[0m\u001b[0;34m.\u001b[0m\u001b[0mtrainable_variables\u001b[0m\u001b[0;34m(\u001b[0m\u001b[0;34m)\u001b[0m\u001b[0;34m\u001b[0m\u001b[0;34m\u001b[0m\u001b[0m\n",
            "\u001b[0;32m<ipython-input-112-781bb7c5589d>\u001b[0m in \u001b[0;36mcreate_model\u001b[0;34m(bert_config, is_training, input_ids, input_mask, segment_ids, labels, num_labels, use_one_hot_embeddings)\u001b[0m\n\u001b[1;32m     35\u001b[0m         \u001b[0mlabels\u001b[0m \u001b[0;34m=\u001b[0m \u001b[0mtf\u001b[0m\u001b[0;34m.\u001b[0m\u001b[0mcast\u001b[0m\u001b[0;34m(\u001b[0m\u001b[0mlabels\u001b[0m\u001b[0;34m,\u001b[0m \u001b[0mtf\u001b[0m\u001b[0;34m.\u001b[0m\u001b[0mfloat32\u001b[0m\u001b[0;34m)\u001b[0m\u001b[0;34m\u001b[0m\u001b[0;34m\u001b[0m\u001b[0m\n\u001b[1;32m     36\u001b[0m         \u001b[0mtf\u001b[0m\u001b[0;34m.\u001b[0m\u001b[0mlogging\u001b[0m\u001b[0;34m.\u001b[0m\u001b[0minfo\u001b[0m\u001b[0;34m(\u001b[0m\u001b[0;34m\"num_labels:{};logits:{};labels:{}\"\u001b[0m\u001b[0;34m.\u001b[0m\u001b[0mformat\u001b[0m\u001b[0;34m(\u001b[0m\u001b[0mnum_labels\u001b[0m\u001b[0;34m,\u001b[0m \u001b[0mlogits\u001b[0m\u001b[0;34m,\u001b[0m \u001b[0mlabels\u001b[0m\u001b[0;34m)\u001b[0m\u001b[0;34m)\u001b[0m\u001b[0;34m\u001b[0m\u001b[0;34m\u001b[0m\u001b[0m\n\u001b[0;32m---> 37\u001b[0;31m         \u001b[0mper_example_loss\u001b[0m \u001b[0;34m=\u001b[0m \u001b[0mtf\u001b[0m\u001b[0;34m.\u001b[0m\u001b[0mnn\u001b[0m\u001b[0;34m.\u001b[0m\u001b[0msigmoid_cross_entropy_with_logits\u001b[0m\u001b[0;34m(\u001b[0m\u001b[0mlabels\u001b[0m\u001b[0;34m=\u001b[0m\u001b[0mlabels\u001b[0m\u001b[0;34m,\u001b[0m \u001b[0mlogits\u001b[0m\u001b[0;34m=\u001b[0m\u001b[0mlogits\u001b[0m\u001b[0;34m)\u001b[0m\u001b[0;34m\u001b[0m\u001b[0;34m\u001b[0m\u001b[0m\n\u001b[0m\u001b[1;32m     38\u001b[0m         \u001b[0mloss\u001b[0m \u001b[0;34m=\u001b[0m \u001b[0mtf\u001b[0m\u001b[0;34m.\u001b[0m\u001b[0mreduce_mean\u001b[0m\u001b[0;34m(\u001b[0m\u001b[0mper_example_loss\u001b[0m\u001b[0;34m)\u001b[0m\u001b[0;34m\u001b[0m\u001b[0;34m\u001b[0m\u001b[0m\n\u001b[1;32m     39\u001b[0m \u001b[0;34m\u001b[0m\u001b[0m\n",
            "\u001b[0;32m/tensorflow-1.15.0/python3.6/tensorflow_core/python/ops/nn_impl.py\u001b[0m in \u001b[0;36msigmoid_cross_entropy_with_logits\u001b[0;34m(_sentinel, labels, logits, name)\u001b[0m\n\u001b[1;32m    169\u001b[0m     \u001b[0;32mexcept\u001b[0m \u001b[0mValueError\u001b[0m\u001b[0;34m:\u001b[0m\u001b[0;34m\u001b[0m\u001b[0;34m\u001b[0m\u001b[0m\n\u001b[1;32m    170\u001b[0m       raise ValueError(\"logits and labels must have the same shape (%s vs %s)\" %\n\u001b[0;32m--> 171\u001b[0;31m                        (logits.get_shape(), labels.get_shape()))\n\u001b[0m\u001b[1;32m    172\u001b[0m \u001b[0;34m\u001b[0m\u001b[0m\n\u001b[1;32m    173\u001b[0m     \u001b[0;31m# The logistic loss formula from above is\u001b[0m\u001b[0;34m\u001b[0m\u001b[0;34m\u001b[0m\u001b[0;34m\u001b[0m\u001b[0m\n",
            "\u001b[0;31mValueError\u001b[0m: logits and labels must have the same shape ((32, 2) vs (32, 6))"
          ]
        }
      ]
    },
    {
      "cell_type": "code",
      "metadata": {
        "id": "xIe0wpVP3zvT",
        "colab_type": "code",
        "colab": {
          "base_uri": "https://localhost:8080/",
          "height": 254
        },
        "outputId": "5b7c4279-3c2c-4149-abd6-d85b34916c76"
      },
      "source": [
        "eval_file = os.path.join('/content/drive/My Drive/fininsight/21대 총선분석/Text Classification/TextCNN/Bert/working', \"eval.tf_record\")\n",
        "#filename = Path(train_file)\n",
        "if not os.path.exists(eval_file):\n",
        "    open(eval_file, 'w').close()\n",
        "\n",
        "eval_examples = create_examples(x_val)\n",
        "file_based_convert_examples_to_features(\n",
        "    eval_examples, MAX_SEQ_LENGTH, tokenizer, eval_file)"
      ],
      "execution_count": 116,
      "outputs": [
        {
          "output_type": "error",
          "ename": "FileNotFoundError",
          "evalue": "ignored",
          "traceback": [
            "\u001b[0;31m---------------------------------------------------------------------------\u001b[0m",
            "\u001b[0;31mFileNotFoundError\u001b[0m                         Traceback (most recent call last)",
            "\u001b[0;32m<ipython-input-116-d883f7bb2ac5>\u001b[0m in \u001b[0;36m<module>\u001b[0;34m()\u001b[0m\n\u001b[1;32m      2\u001b[0m \u001b[0;31m#filename = Path(train_file)\u001b[0m\u001b[0;34m\u001b[0m\u001b[0;34m\u001b[0m\u001b[0;34m\u001b[0m\u001b[0m\n\u001b[1;32m      3\u001b[0m \u001b[0;32mif\u001b[0m \u001b[0;32mnot\u001b[0m \u001b[0mos\u001b[0m\u001b[0;34m.\u001b[0m\u001b[0mpath\u001b[0m\u001b[0;34m.\u001b[0m\u001b[0mexists\u001b[0m\u001b[0;34m(\u001b[0m\u001b[0meval_file\u001b[0m\u001b[0;34m)\u001b[0m\u001b[0;34m:\u001b[0m\u001b[0;34m\u001b[0m\u001b[0;34m\u001b[0m\u001b[0m\n\u001b[0;32m----> 4\u001b[0;31m     \u001b[0mopen\u001b[0m\u001b[0;34m(\u001b[0m\u001b[0meval_file\u001b[0m\u001b[0;34m,\u001b[0m \u001b[0;34m'w'\u001b[0m\u001b[0;34m)\u001b[0m\u001b[0;34m.\u001b[0m\u001b[0mclose\u001b[0m\u001b[0;34m(\u001b[0m\u001b[0;34m)\u001b[0m\u001b[0;34m\u001b[0m\u001b[0;34m\u001b[0m\u001b[0m\n\u001b[0m\u001b[1;32m      5\u001b[0m \u001b[0;34m\u001b[0m\u001b[0m\n\u001b[1;32m      6\u001b[0m \u001b[0meval_examples\u001b[0m \u001b[0;34m=\u001b[0m \u001b[0mcreate_examples\u001b[0m\u001b[0;34m(\u001b[0m\u001b[0mx_val\u001b[0m\u001b[0;34m)\u001b[0m\u001b[0;34m\u001b[0m\u001b[0;34m\u001b[0m\u001b[0m\n",
            "\u001b[0;31mFileNotFoundError\u001b[0m: [Errno 2] No such file or directory: '/content/drive/My Drive/fininsight/21대 총선분석/Text Classification/TextCNN/Bert/working/eval.tf_record'"
          ]
        }
      ]
    },
    {
      "cell_type": "code",
      "metadata": {
        "id": "l5-7S69Q3gGh",
        "colab_type": "code",
        "colab": {}
      },
      "source": [
        "# This tells the estimator to run through the entire set.\n",
        "eval_steps = None\n",
        "\n",
        "eval_drop_remainder = False\n",
        "eval_input_fn = file_based_input_fn_builder(\n",
        "    input_file=eval_file,\n",
        "    seq_length=MAX_SEQ_LENGTH,\n",
        "    is_training=False,\n",
        "    drop_remainder=False)\n",
        "\n",
        "result = estimator.evaluate(input_fn=eval_input_fn, steps=eval_steps)"
      ],
      "execution_count": 0,
      "outputs": []
    },
    {
      "cell_type": "code",
      "metadata": {
        "id": "wqKD6Geb39sp",
        "colab_type": "code",
        "colab": {}
      },
      "source": [
        "output_eval_file = os.path.join(\"/content/drive/My Drive/fininsight/21대 총선분석/Text Classification/TextCNN/Bert/working\", \"eval_results.txt\")\n",
        "with tf.gfile.GFile(output_eval_file, \"w\") as writer:\n",
        "    tf.logging.info(\"***** Eval results *****\")\n",
        "    for key in sorted(result.keys()):\n",
        "        tf.logging.info(\"  %s = %s\", key, str(result[key]))\n",
        "        writer.write(\"%s = %s\\n\" % (key, str(result[key])))"
      ],
      "execution_count": 0,
      "outputs": []
    },
    {
      "cell_type": "code",
      "metadata": {
        "id": "ToW2r7EM39rZ",
        "colab_type": "code",
        "colab": {}
      },
      "source": [
        "\n",
        "x_test = test[:10000] #testing a small sample\n",
        "x_test = x_test.reset_index(drop=True)\n",
        "predict_examples = create_examples(x_test,False)"
      ],
      "execution_count": 0,
      "outputs": []
    },
    {
      "cell_type": "code",
      "metadata": {
        "id": "NzZTMij739no",
        "colab_type": "code",
        "colab": {}
      },
      "source": [
        "\n",
        "test_features = convert_examples_to_features(predict_examples, MAX_SEQ_LENGTH, tokenizer)"
      ],
      "execution_count": 0,
      "outputs": []
    },
    {
      "cell_type": "code",
      "metadata": {
        "id": "8s-DlvGJ39lv",
        "colab_type": "code",
        "colab": {}
      },
      "source": [
        "\n",
        "def input_fn_builder(features, seq_length, is_training, drop_remainder):\n",
        "  \"\"\"Creates an `input_fn` closure to be passed to TPUEstimator.\"\"\"\n",
        "\n",
        "  all_input_ids = []\n",
        "  all_input_mask = []\n",
        "  all_segment_ids = []\n",
        "  all_label_ids = []\n",
        "\n",
        "  for feature in features:\n",
        "    all_input_ids.append(feature.input_ids)\n",
        "    all_input_mask.append(feature.input_mask)\n",
        "    all_segment_ids.append(feature.segment_ids)\n",
        "    all_label_ids.append(feature.label_ids)\n",
        "\n",
        "  def input_fn(params):\n",
        "    \"\"\"The actual input function.\"\"\"\n",
        "    batch_size = params[\"batch_size\"]\n",
        "\n",
        "    num_examples = len(features)\n",
        "\n",
        "    # This is for demo purposes and does NOT scale to large data sets. We do\n",
        "    # not use Dataset.from_generator() because that uses tf.py_func which is\n",
        "    # not TPU compatible. The right way to load data is with TFRecordReader.\n",
        "    d = tf.data.Dataset.from_tensor_slices({\n",
        "        \"input_ids\":\n",
        "            tf.constant(\n",
        "                all_input_ids, shape=[num_examples, seq_length],\n",
        "                dtype=tf.int32),\n",
        "        \"input_mask\":\n",
        "            tf.constant(\n",
        "                all_input_mask,\n",
        "                shape=[num_examples, seq_length],\n",
        "                dtype=tf.int32),\n",
        "        \"segment_ids\":\n",
        "            tf.constant(\n",
        "                all_segment_ids,\n",
        "                shape=[num_examples, seq_length],\n",
        "                dtype=tf.int32),\n",
        "        \"label_ids\":\n",
        "            tf.constant(all_label_ids, shape=[num_examples, len(LABEL_COLUMNS)], dtype=tf.int32),\n",
        "    })\n",
        "\n",
        "    if is_training:\n",
        "      d = d.repeat()\n",
        "      d = d.shuffle(buffer_size=100)\n",
        "\n",
        "    d = d.batch(batch_size=batch_size, drop_remainder=drop_remainder)\n",
        "    return d\n",
        "\n",
        "  return input_fn"
      ],
      "execution_count": 0,
      "outputs": []
    },
    {
      "cell_type": "code",
      "metadata": {
        "id": "pi47PNwh39kn",
        "colab_type": "code",
        "colab": {}
      },
      "source": [
        "\n",
        "print('Beginning Predictions!')\n",
        "current_time = datetime.now()\n",
        "\n",
        "predict_input_fn = input_fn_builder(features=test_features, seq_length=MAX_SEQ_LENGTH, is_training=False, drop_remainder=False)\n",
        "predictions = estimator.predict(predict_input_fn)\n",
        "print(\"Prediction took time \", datetime.now() - current_time)"
      ],
      "execution_count": 0,
      "outputs": []
    },
    {
      "cell_type": "code",
      "metadata": {
        "id": "YU7-k6H339gv",
        "colab_type": "code",
        "colab": {}
      },
      "source": [
        "def create_output(predictions):\n",
        "    probabilities = []\n",
        "    for (i, prediction) in enumerate(predictions):\n",
        "        preds = prediction[\"probabilities\"]\n",
        "        probabilities.append(preds)\n",
        "    dff = pd.DataFrame(probabilities)\n",
        "    dff.columns = LABEL_COLUMNS\n",
        "    \n",
        "    return dff"
      ],
      "execution_count": 0,
      "outputs": []
    },
    {
      "cell_type": "code",
      "metadata": {
        "id": "O3C_3P0F4GgX",
        "colab_type": "code",
        "colab": {}
      },
      "source": [
        "output_df = create_output(predictions)\n",
        "submission =  pd.concat([x_test, output_df], axis=1)\n",
        "# submission = merged_df.drop(['comment_text'], axis=1)\n",
        "submission.to_csv(\"sample_submission0.csv\", index=False)"
      ],
      "execution_count": 0,
      "outputs": []
    },
    {
      "cell_type": "code",
      "metadata": {
        "id": "DIod3RSw4IGw",
        "colab_type": "code",
        "colab": {}
      },
      "source": [
        "submission"
      ],
      "execution_count": 0,
      "outputs": []
    }
  ]
}