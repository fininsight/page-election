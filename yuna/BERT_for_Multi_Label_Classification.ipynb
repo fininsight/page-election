{
  "nbformat": 4,
  "nbformat_minor": 0,
  "metadata": {
    "colab": {
      "name": "BERT for Multi-Label Classification.ipynb",
      "provenance": [],
      "collapsed_sections": [
        "6eHJDeRv4qGM"
      ]
    },
    "kernelspec": {
      "name": "python3",
      "display_name": "Python 3"
    }
  },
  "cells": [
    {
      "cell_type": "markdown",
      "metadata": {
        "id": "YcQ13xLBvnWs",
        "colab_type": "text"
      },
      "source": [
        "# 환경설정"
      ]
    },
    {
      "cell_type": "markdown",
      "metadata": {
        "id": "28J95ORAFGWF",
        "colab_type": "text"
      },
      "source": [
        "https://github.com/javaidnabi31/Multi-Label-Text-classification-Using-BERT/blob/master/multi-label-classification-bert.ipynb"
      ]
    },
    {
      "cell_type": "code",
      "metadata": {
        "id": "wjR6YwXf4v4k",
        "colab_type": "code",
        "colab": {}
      },
      "source": [
        "# !git clone https://github.com/kakao/khaiii.git\n",
        "# !pip install cmake\n",
        "# !mkdir build\n",
        "# !cd build && cmake /content/khaiii\n",
        "# !cd /content/build/ && make all\n",
        "# !cd /content/build/ && make resource\n",
        "# !cd /content/build && make install\n",
        "# !cd /content/build && make package_python\n",
        "# !pip install /content/build/package_python"
      ],
      "execution_count": 0,
      "outputs": []
    },
    {
      "cell_type": "code",
      "metadata": {
        "id": "I_3AiF_mvkJU",
        "colab_type": "code",
        "outputId": "7c060291-8aa3-4818-8485-3142b8e2e621",
        "colab": {
          "base_uri": "https://localhost:8080/",
          "height": 123
        }
      },
      "source": [
        "from google.colab import drive\n",
        "drive.mount('/content/drive')"
      ],
      "execution_count": 1,
      "outputs": [
        {
          "output_type": "stream",
          "text": [
            "Go to this URL in a browser: https://accounts.google.com/o/oauth2/auth?client_id=947318989803-6bn6qk8qdgf4n4g3pfee6491hc0brc4i.apps.googleusercontent.com&redirect_uri=urn%3aietf%3awg%3aoauth%3a2.0%3aoob&response_type=code&scope=email%20https%3a%2f%2fwww.googleapis.com%2fauth%2fdocs.test%20https%3a%2f%2fwww.googleapis.com%2fauth%2fdrive%20https%3a%2f%2fwww.googleapis.com%2fauth%2fdrive.photos.readonly%20https%3a%2f%2fwww.googleapis.com%2fauth%2fpeopleapi.readonly\n",
            "\n",
            "Enter your authorization code:\n",
            "··········\n",
            "Mounted at /content/drive\n"
          ],
          "name": "stdout"
        }
      ]
    },
    {
      "cell_type": "code",
      "metadata": {
        "id": "f_xK4QwjvrhB",
        "colab_type": "code",
        "outputId": "c0f7a7f7-657a-4a95-c575-62d160e7f186",
        "colab": {
          "base_uri": "https://localhost:8080/",
          "height": 34
        }
      },
      "source": [
        "cd /content/drive/My Drive/fininsight/21대 총선분석/Text Classification/Bert"
      ],
      "execution_count": 2,
      "outputs": [
        {
          "output_type": "stream",
          "text": [
            "/content/drive/My Drive/fininsight/21대 총선분석/Text Classification/Bert\n"
          ],
          "name": "stdout"
        }
      ]
    },
    {
      "cell_type": "markdown",
      "metadata": {
        "id": "6eHJDeRv4qGM",
        "colab_type": "text"
      },
      "source": [
        "# 데이터 생성"
      ]
    },
    {
      "cell_type": "code",
      "metadata": {
        "id": "5NclvMsywWCv",
        "colab_type": "code",
        "outputId": "c14e5d2c-5ac2-45dd-a2ba-bbc18b1914f5",
        "colab": {
          "base_uri": "https://localhost:8080/",
          "height": 1000
        }
      },
      "source": [
        "import pandas as pd\n",
        "\n",
        "df = pd.read_csv('poli_it.csv')\n",
        "df.head(3)"
      ],
      "execution_count": 0,
      "outputs": [
        {
          "output_type": "execute_result",
          "data": {
            "text/html": [
              "<div>\n",
              "<style scoped>\n",
              "    .dataframe tbody tr th:only-of-type {\n",
              "        vertical-align: middle;\n",
              "    }\n",
              "\n",
              "    .dataframe tbody tr th {\n",
              "        vertical-align: top;\n",
              "    }\n",
              "\n",
              "    .dataframe thead th {\n",
              "        text-align: right;\n",
              "    }\n",
              "</style>\n",
              "<table border=\"1\" class=\"dataframe\">\n",
              "  <thead>\n",
              "    <tr style=\"text-align: right;\">\n",
              "      <th></th>\n",
              "      <th>url</th>\n",
              "      <th>category1</th>\n",
              "      <th>category2</th>\n",
              "      <th>date</th>\n",
              "      <th>title</th>\n",
              "      <th>media</th>\n",
              "      <th>inputdate</th>\n",
              "      <th>summary</th>\n",
              "      <th>content</th>\n",
              "      <th>oricategory</th>\n",
              "      <th>comment</th>\n",
              "      <th>updatedate</th>\n",
              "      <th>khaiii_token</th>\n",
              "      <th>tokens</th>\n",
              "      <th>data</th>\n",
              "    </tr>\n",
              "  </thead>\n",
              "  <tbody>\n",
              "    <tr>\n",
              "      <th>0</th>\n",
              "      <td>https://news.naver.com/main/read.nhn?mode=LS2D...</td>\n",
              "      <td>정치</td>\n",
              "      <td>행정</td>\n",
              "      <td>2019-07-01</td>\n",
              "      <td>환경부-KBCSD 환경정책협의회</td>\n",
              "      <td>뉴시스</td>\n",
              "      <td>2019.07.01. 오후 9:03</td>\n",
              "      <td>NaN</td>\n",
              "      <td>【서울=】 = 박천규 환경부 차관 등 참석자들이 1일 서울 강남구 인터컨티넨탈호텔에...</td>\n",
              "      <td>정치</td>\n",
              "      <td>0</td>\n",
              "      <td>2020-03-18 05:22:43</td>\n",
              "      <td>['서울', '', '박천규', '환경부', '차관', '등', '참석자', '일'...</td>\n",
              "      <td>서울 박천규 환경부 차관 등 참석자 일 서울 강남구 인터컨티넨탈호텔 개최 차 환경부...</td>\n",
              "      <td>서울 박천규 환경부 차관 등 참석자 일 서울 강남구 인터컨티넨탈호텔 개최 차 환경부...</td>\n",
              "    </tr>\n",
              "    <tr>\n",
              "      <th>1</th>\n",
              "      <td>https://news.naver.com/main/read.nhn?mode=LS2D...</td>\n",
              "      <td>정치</td>\n",
              "      <td>행정</td>\n",
              "      <td>2019-07-01</td>\n",
              "      <td>쇼호스트 된 채현일 영등포구청장</td>\n",
              "      <td>뉴시스</td>\n",
              "      <td>2019.07.01. 오후 9:03</td>\n",
              "      <td>NaN</td>\n",
              "      <td>【서울=】 = 채현일 영등포구청장이 1일 오전 서울 영등포구 영등포아트홀에서 열린 ...</td>\n",
              "      <td>정치</td>\n",
              "      <td>0</td>\n",
              "      <td>2020-03-18 05:22:44</td>\n",
              "      <td>['서울', '', '채현일', '영등포구 청장', '일', '오전', '서울', ...</td>\n",
              "      <td>서울 채현일 영등포구 청장 일 오전 서울 영등포구 영등포아트홀 민선 기 주년 직원 ...</td>\n",
              "      <td>서울 채현일 영등포구 청장 일 오전 서울 영등포구 영등포아트홀 민선 기 주년 직원 ...</td>\n",
              "    </tr>\n",
              "    <tr>\n",
              "      <th>2</th>\n",
              "      <td>https://news.naver.com/main/read.nhn?mode=LS2D...</td>\n",
              "      <td>정치</td>\n",
              "      <td>행정</td>\n",
              "      <td>2019-07-01</td>\n",
              "      <td>6회 청주시민대상 시상식</td>\n",
              "      <td>뉴시스</td>\n",
              "      <td>2019.07.01. 오후 10:25</td>\n",
              "      <td>NaN</td>\n",
              "      <td>【청주=】 = 1일 충북 청주예술의전당 대공연장에서 통합 청주시 출범 5주년을 맞아...</td>\n",
              "      <td>사회</td>\n",
              "      <td>0</td>\n",
              "      <td>2020-03-18 05:22:45</td>\n",
              "      <td>['청주', '', '일', '충북', '청주예술의 전당', '대공 연장', '통합...</td>\n",
              "      <td>청주 일 충북 청주예술의 전당 대공 연장 통합 청주시 출범 주년 청주시 주최 청주예...</td>\n",
              "      <td>청주 일 충북 청주예술의 전당 대공 연장 통합 청주시 출범 주년 청주시 주최 청주예...</td>\n",
              "    </tr>\n",
              "  </tbody>\n",
              "</table>\n",
              "</div>"
            ],
            "text/plain": [
              "                                                 url  ...                                               data\n",
              "0  https://news.naver.com/main/read.nhn?mode=LS2D...  ...  서울 박천규 환경부 차관 등 참석자 일 서울 강남구 인터컨티넨탈호텔 개최 차 환경부...\n",
              "1  https://news.naver.com/main/read.nhn?mode=LS2D...  ...  서울 채현일 영등포구 청장 일 오전 서울 영등포구 영등포아트홀 민선 기 주년 직원 ...\n",
              "2  https://news.naver.com/main/read.nhn?mode=LS2D...  ...  청주 일 충북 청주예술의 전당 대공 연장 통합 청주시 출범 주년 청주시 주최 청주예...\n",
              "\n",
              "[3 rows x 15 columns]"
            ]
          },
          "metadata": {
            "tags": []
          },
          "execution_count": 14
        }
      ]
    },
    {
      "cell_type": "code",
      "metadata": {
        "id": "EN8ENnWSwZok",
        "colab_type": "code",
        "outputId": "3487f13e-8812-4e5c-f14c-e219355ea6e6",
        "colab": {
          "base_uri": "https://localhost:8080/",
          "height": 140
        }
      },
      "source": [
        "df = df.loc[:,['category1','content']]\n",
        "\n",
        "df2 = pd.get_dummies(df['category1'])\n",
        "df = pd.concat([df, df2], axis=1)\n",
        "df.drop(['category1'], axis=1, inplace=True)\n",
        "df['id'] = df.index\n",
        "df.head(3)"
      ],
      "execution_count": 0,
      "outputs": [
        {
          "output_type": "execute_result",
          "data": {
            "text/html": [
              "<div>\n",
              "<style scoped>\n",
              "    .dataframe tbody tr th:only-of-type {\n",
              "        vertical-align: middle;\n",
              "    }\n",
              "\n",
              "    .dataframe tbody tr th {\n",
              "        vertical-align: top;\n",
              "    }\n",
              "\n",
              "    .dataframe thead th {\n",
              "        text-align: right;\n",
              "    }\n",
              "</style>\n",
              "<table border=\"1\" class=\"dataframe\">\n",
              "  <thead>\n",
              "    <tr style=\"text-align: right;\">\n",
              "      <th></th>\n",
              "      <th>content</th>\n",
              "      <th>IT/과학</th>\n",
              "      <th>정치</th>\n",
              "      <th>id</th>\n",
              "    </tr>\n",
              "  </thead>\n",
              "  <tbody>\n",
              "    <tr>\n",
              "      <th>0</th>\n",
              "      <td>【서울=】 = 박천규 환경부 차관 등 참석자들이 1일 서울 강남구 인터컨티넨탈호텔에...</td>\n",
              "      <td>0</td>\n",
              "      <td>1</td>\n",
              "      <td>0</td>\n",
              "    </tr>\n",
              "    <tr>\n",
              "      <th>1</th>\n",
              "      <td>【서울=】 = 채현일 영등포구청장이 1일 오전 서울 영등포구 영등포아트홀에서 열린 ...</td>\n",
              "      <td>0</td>\n",
              "      <td>1</td>\n",
              "      <td>1</td>\n",
              "    </tr>\n",
              "    <tr>\n",
              "      <th>2</th>\n",
              "      <td>【청주=】 = 1일 충북 청주예술의전당 대공연장에서 통합 청주시 출범 5주년을 맞아...</td>\n",
              "      <td>0</td>\n",
              "      <td>1</td>\n",
              "      <td>2</td>\n",
              "    </tr>\n",
              "  </tbody>\n",
              "</table>\n",
              "</div>"
            ],
            "text/plain": [
              "                                             content  IT/과학  정치  id\n",
              "0  【서울=】 = 박천규 환경부 차관 등 참석자들이 1일 서울 강남구 인터컨티넨탈호텔에...      0   1   0\n",
              "1  【서울=】 = 채현일 영등포구청장이 1일 오전 서울 영등포구 영등포아트홀에서 열린 ...      0   1   1\n",
              "2  【청주=】 = 1일 충북 청주예술의전당 대공연장에서 통합 청주시 출범 5주년을 맞아...      0   1   2"
            ]
          },
          "metadata": {
            "tags": []
          },
          "execution_count": 15
        }
      ]
    },
    {
      "cell_type": "code",
      "metadata": {
        "id": "HEpMizZ62Gva",
        "colab_type": "code",
        "colab": {}
      },
      "source": [
        "import re\n",
        "def pre_fx(text):\n",
        "    # 이메일 등장하면, 그 뒷문장 모두 삭제 \n",
        "    text = re.sub(\"[a-zA-Z0-9]+\\@[a-zA-Z0-9]+\\.[a-z]{1,3}.[a-z]{1,3}.+\",'',text).strip()\n",
        "    text = re.sub('\\(.+?연합뉴스\\)','',text).strip() # (서울=연합뉴스)\n",
        "    text = re.sub('\\(.+?연합인포맥스\\)','',text).strip()\n",
        "    text = re.sub('\\(.+?이데일리\\)','',text).strip()\n",
        "    text = re.sub('\\(.+?조선일보\\)','',text).strip()\n",
        "    text = re.sub('\\(.+?뉴시스\\)',' ',text).strip()\n",
        "    text = re.sub('\\(.+?뉴스1\\)','',text).strip()\n",
        "    text = re.sub('\\(.+?SBS\\)','',text).strip()\n",
        "    text = re.sub('\\(.+?오마이뉴스\\)','',text).strip()\n",
        "    text = re.sub('\\(.+?중앙일보\\)','',text).strip()\n",
        "    text = re.sub('\\(.+?매일경제\\)','',text).strip()\n",
        "    text = re.sub('\\(.+?문화일보\\)','',text).strip()\n",
        "    text = re.sub('\\(.+?세계일보\\)','',text).strip()\n",
        "    text = re.sub('\\(.+?머니투데이\\)','',text).strip()\n",
        "    text = re.sub('\\(.+?서울경제\\)','',text).strip()\n",
        "    text = re.sub('\\(.+?데일리안\\)','',text).strip()\n",
        "    text = re.sub('\\(.+?KBS\\)','',text).strip()\n",
        "    text = re.sub('\\(.+?MBN\\)','',text).strip()\n",
        "    text = re.sub('\\(.+?YTN\\)','',text).strip()\n",
        "    text = re.sub('\\(.+?프레시안\\)','',text).strip()\n",
        "    text = re.sub('\\(.+?디지털타임즈\\)','',text).strip()\n",
        "    text = re.sub('\\(.+?국민일보(과거)\\)','',text).strip()\n",
        "    text = re.sub('\\(.+?국민일보\\)','',text).strip()\n",
        "    text = re.sub('\\(.+?헤드럴경제\\)','',text).strip()\n",
        "    text = re.sub('\\(.+?한국일보\\)','',text).strip()\n",
        "    text = re.sub('\\(.+?아이뉴스24\\)','',text).strip()\n",
        "    text = re.sub('\\(.+?노컷뉴스\\)','',text).strip()\n",
        "    text = re.sub('\\(.+?연합뉴스TV\\)','',text).strip()\n",
        "    text = re.sub('\\(.+?서울일보\\)','',text).strip()\n",
        "    text = re.sub('\\(.+?동아일보\\)','',text).strip()\n",
        "    text = re.sub('\\(.+?한국경제\\)','',text).strip()\n",
        "    text = re.sub('\\(.+?미디어오늘(과거)\\)','',text).strip()\n",
        "    text = re.sub('\\(.+?미디어오늘\\)','',text).strip()\n",
        "    text = re.sub('\\(.+?조세일보\\)','',text).strip()\n",
        "    text = re.sub('\\(.+?파이낸셜뉴스\\)','',text).strip()\n",
        "    text = re.sub('\\(.+?경향신문\\)','',text).strip()\n",
        "    text = re.sub('\\(.+?채널A\\)','',text).strip()\n",
        "    text = re.sub('\\(.+?머니S\\)','',text).strip()\n",
        "    text = re.sub('\\(.+?TVCHOSUN\\)','',text).strip()\n",
        "    text = re.sub('\\(.+?한겨례\\)','',text).strip()\n",
        "    text = re.sub('\\(.+?전자신문\\)','',text).strip()\n",
        "    text = re.sub('\\(.+?SBSCNBC\\)','',text).strip()\n",
        "    text = re.sub('\\(.+?한국경제TV\\)','',text).strip()\n",
        "    text = re.sub('\\(.+?조선비즈\\)','',text).strip()\n",
        "    text = re.sub('\\(.+?ZDNetKorea\\)','',text).strip()\n",
        "    text = re.sub('\\[.+?\\]','',text).strip()\n",
        "    text = re.sub('\\(사진.+?\\)','',text).strip()\n",
        "    # 신문사 이름 삭제 \n",
        "    text = re.sub('조선일보|뉴시스|아시아경제|이데일리|뉴스1|SBS|오마이뉴스|중앙일보|매일경제|문화일보|세계일보|머니투데이|서울경제|데일리안|KBS|MBN|YTN|프레시안|디지털타임스|국민일보(과거)|국민일보|헤럴드경제|한국일보|아이뉴스24|노컷뉴스|연합뉴스TV|서울일보|동아일보|한국경제|미디어오늘(과거)|미디어오늘|조세일보|파이낸셜뉴스|경향신문|채널A|머니S|TVCHOSUN|한겨례|전자신문|SBSCNBC|한국경제TV|조선비즈|ZDNetKorea','',text).strip()\n",
        "    # 000 기자, 000  가자, 000기자 삭제\n",
        "    text = re.sub('[ㄱ-힑]+ 기자|[ㄱ-힑]+  기자|[ㄱ-힑]+기자','',text).strip()    \n",
        "    text = re.sub('[a-zA-Z0-9]{1,20}\\@[a-zA-Z0-9]{1,20}\\.[a-z]{1,20}.+','',text).strip()    \n",
        "\n",
        "    return text\n",
        "\n",
        "#기존 클렌징으로 부족한 부분\n",
        "def filter(s):\n",
        "  hangul = re.compile('[^ ㄱ-ㅣ가-힣]+') # 한글과 띄어쓰기를 제외한 모든 글자\n",
        "  result = hangul.sub('', s) # 한글과 띄어쓰기를 제외한 모든 부분을 제거\n",
        "  return result\n",
        "\n",
        "# # 토큰화\n",
        "# from khaiii import KhaiiiApi\n",
        "# api = KhaiiiApi()\n",
        "\n",
        "# def khaiii_token(sentence):\n",
        "#   token_list = []\n",
        "#   try:\n",
        "#     for word in api.analyze(str(sentence)):\n",
        "#       morphs_str = ' '.join([m.lex for m in word.morphs if m.tag in ['NNG', 'NNP', 'NNB', 'NR', 'NP', 'VA']])\n",
        "#       token_list.append(morphs_str)\n",
        "  \n",
        "#   except:\n",
        "#     pass\n",
        "\n",
        "#   return token_list  "
      ],
      "execution_count": 0,
      "outputs": []
    },
    {
      "cell_type": "code",
      "metadata": {
        "id": "I-6xQO6dq9dp",
        "colab_type": "code",
        "colab": {}
      },
      "source": [
        "df['content'] = df['content'].apply(pre_fx).apply(filter)"
      ],
      "execution_count": 0,
      "outputs": []
    },
    {
      "cell_type": "code",
      "metadata": {
        "id": "ou_Asd1QrRp9",
        "colab_type": "code",
        "outputId": "157ff8d6-4a6c-4b09-eda8-2d5ce18af5e2",
        "colab": {
          "base_uri": "https://localhost:8080/",
          "height": 202
        }
      },
      "source": [
        "df.head()"
      ],
      "execution_count": 0,
      "outputs": [
        {
          "output_type": "execute_result",
          "data": {
            "text/html": [
              "<div>\n",
              "<style scoped>\n",
              "    .dataframe tbody tr th:only-of-type {\n",
              "        vertical-align: middle;\n",
              "    }\n",
              "\n",
              "    .dataframe tbody tr th {\n",
              "        vertical-align: top;\n",
              "    }\n",
              "\n",
              "    .dataframe thead th {\n",
              "        text-align: right;\n",
              "    }\n",
              "</style>\n",
              "<table border=\"1\" class=\"dataframe\">\n",
              "  <thead>\n",
              "    <tr style=\"text-align: right;\">\n",
              "      <th></th>\n",
              "      <th>content</th>\n",
              "      <th>IT/과학</th>\n",
              "      <th>정치</th>\n",
              "      <th>id</th>\n",
              "    </tr>\n",
              "  </thead>\n",
              "  <tbody>\n",
              "    <tr>\n",
              "      <th>0</th>\n",
              "      <td>서울  박천규 환경부 차관 등 참석자들이 일 서울 강남구 인터컨티넨탈호텔에서 개최된...</td>\n",
              "      <td>0</td>\n",
              "      <td>1</td>\n",
              "      <td>0</td>\n",
              "    </tr>\n",
              "    <tr>\n",
              "      <th>1</th>\n",
              "      <td>서울  채현일 영등포구청장이 일 오전 서울 영등포구 영등포아트홀에서 열린 민선기 주...</td>\n",
              "      <td>0</td>\n",
              "      <td>1</td>\n",
              "      <td>1</td>\n",
              "    </tr>\n",
              "    <tr>\n",
              "      <th>2</th>\n",
              "      <td>청주  일 충북 청주예술의전당 대공연장에서 통합 청주시 출범 주년을 맞아 청주시가 ...</td>\n",
              "      <td>0</td>\n",
              "      <td>1</td>\n",
              "      <td>2</td>\n",
              "    </tr>\n",
              "    <tr>\n",
              "      <th>3</th>\n",
              "      <td>서울  박천규 환경부 차관이 일 서울 강남구 인터컨티넨탈호텔에서 개최된 제차 환경부...</td>\n",
              "      <td>0</td>\n",
              "      <td>1</td>\n",
              "      <td>3</td>\n",
              "    </tr>\n",
              "    <tr>\n",
              "      <th>4</th>\n",
              "      <td>청주  일 충북 청주예술의전당 대공연장에서 통합 청주시 출범 주년을 맞아 청주시가 ...</td>\n",
              "      <td>0</td>\n",
              "      <td>1</td>\n",
              "      <td>4</td>\n",
              "    </tr>\n",
              "  </tbody>\n",
              "</table>\n",
              "</div>"
            ],
            "text/plain": [
              "                                             content  IT/과학  정치  id\n",
              "0  서울  박천규 환경부 차관 등 참석자들이 일 서울 강남구 인터컨티넨탈호텔에서 개최된...      0   1   0\n",
              "1  서울  채현일 영등포구청장이 일 오전 서울 영등포구 영등포아트홀에서 열린 민선기 주...      0   1   1\n",
              "2  청주  일 충북 청주예술의전당 대공연장에서 통합 청주시 출범 주년을 맞아 청주시가 ...      0   1   2\n",
              "3  서울  박천규 환경부 차관이 일 서울 강남구 인터컨티넨탈호텔에서 개최된 제차 환경부...      0   1   3\n",
              "4  청주  일 충북 청주예술의전당 대공연장에서 통합 청주시 출범 주년을 맞아 청주시가 ...      0   1   4"
            ]
          },
          "metadata": {
            "tags": []
          },
          "execution_count": 18
        }
      ]
    },
    {
      "cell_type": "code",
      "metadata": {
        "id": "KyX2Ajfo6qH1",
        "colab_type": "code",
        "outputId": "5103f3c9-1498-42b9-8493-af5625c76aee",
        "colab": {
          "base_uri": "https://localhost:8080/",
          "height": 140
        }
      },
      "source": [
        "columns = ['id','content','IT/과학', '정치']\n",
        "df = df[columns]\n",
        "df.head(3)"
      ],
      "execution_count": 0,
      "outputs": [
        {
          "output_type": "execute_result",
          "data": {
            "text/html": [
              "<div>\n",
              "<style scoped>\n",
              "    .dataframe tbody tr th:only-of-type {\n",
              "        vertical-align: middle;\n",
              "    }\n",
              "\n",
              "    .dataframe tbody tr th {\n",
              "        vertical-align: top;\n",
              "    }\n",
              "\n",
              "    .dataframe thead th {\n",
              "        text-align: right;\n",
              "    }\n",
              "</style>\n",
              "<table border=\"1\" class=\"dataframe\">\n",
              "  <thead>\n",
              "    <tr style=\"text-align: right;\">\n",
              "      <th></th>\n",
              "      <th>id</th>\n",
              "      <th>content</th>\n",
              "      <th>IT/과학</th>\n",
              "      <th>정치</th>\n",
              "    </tr>\n",
              "  </thead>\n",
              "  <tbody>\n",
              "    <tr>\n",
              "      <th>0</th>\n",
              "      <td>0</td>\n",
              "      <td>서울  박천규 환경부 차관 등 참석자들이 일 서울 강남구 인터컨티넨탈호텔에서 개최된...</td>\n",
              "      <td>0</td>\n",
              "      <td>1</td>\n",
              "    </tr>\n",
              "    <tr>\n",
              "      <th>1</th>\n",
              "      <td>1</td>\n",
              "      <td>서울  채현일 영등포구청장이 일 오전 서울 영등포구 영등포아트홀에서 열린 민선기 주...</td>\n",
              "      <td>0</td>\n",
              "      <td>1</td>\n",
              "    </tr>\n",
              "    <tr>\n",
              "      <th>2</th>\n",
              "      <td>2</td>\n",
              "      <td>청주  일 충북 청주예술의전당 대공연장에서 통합 청주시 출범 주년을 맞아 청주시가 ...</td>\n",
              "      <td>0</td>\n",
              "      <td>1</td>\n",
              "    </tr>\n",
              "  </tbody>\n",
              "</table>\n",
              "</div>"
            ],
            "text/plain": [
              "   id                                            content  IT/과학  정치\n",
              "0   0  서울  박천규 환경부 차관 등 참석자들이 일 서울 강남구 인터컨티넨탈호텔에서 개최된...      0   1\n",
              "1   1  서울  채현일 영등포구청장이 일 오전 서울 영등포구 영등포아트홀에서 열린 민선기 주...      0   1\n",
              "2   2  청주  일 충북 청주예술의전당 대공연장에서 통합 청주시 출범 주년을 맞아 청주시가 ...      0   1"
            ]
          },
          "metadata": {
            "tags": []
          },
          "execution_count": 79
        }
      ]
    },
    {
      "cell_type": "code",
      "metadata": {
        "id": "sOlWviqczNO0",
        "colab_type": "code",
        "colab": {}
      },
      "source": [
        "from sklearn.model_selection import train_test_split\n",
        "train, test = train_test_split(df, test_size=0.33, random_state=42)"
      ],
      "execution_count": 0,
      "outputs": []
    },
    {
      "cell_type": "code",
      "metadata": {
        "id": "FLJ72qQY21Zl",
        "colab_type": "code",
        "colab": {}
      },
      "source": [
        "train.to_csv('/content/drive/My Drive/fininsight/21대 총선분석/Text Classification/Bert/train.csv', index=False)\n",
        "test.to_csv('/content/drive/My Drive/fininsight/21대 총선분석/Text Classification/Bert/test.csv', index=False)"
      ],
      "execution_count": 0,
      "outputs": []
    },
    {
      "cell_type": "markdown",
      "metadata": {
        "id": "SrHHJ6PR4sxK",
        "colab_type": "text"
      },
      "source": [
        "# BERT"
      ]
    },
    {
      "cell_type": "code",
      "metadata": {
        "id": "DAQFTiIPvzCd",
        "colab_type": "code",
        "colab": {
          "base_uri": "https://localhost:8080/",
          "height": 81
        },
        "outputId": "a7491e18-b177-4d79-cc02-6d74331cdc2f"
      },
      "source": [
        "import collections\n",
        "import pandas as pd\n",
        "import tensorflow as tf\n",
        "import tensorflow_hub as hub\n",
        "from datetime import datetime"
      ],
      "execution_count": 3,
      "outputs": [
        {
          "output_type": "display_data",
          "data": {
            "text/html": [
              "<p style=\"color: red;\">\n",
              "The default version of TensorFlow in Colab will soon switch to TensorFlow 2.x.<br>\n",
              "We recommend you <a href=\"https://www.tensorflow.org/guide/migrate\" target=\"_blank\">upgrade</a> now \n",
              "or ensure your notebook will continue to use TensorFlow 1.x via the <code>%tensorflow_version 1.x</code> magic:\n",
              "<a href=\"https://colab.research.google.com/notebooks/tensorflow_version.ipynb\" target=\"_blank\">more info</a>.</p>\n"
            ],
            "text/plain": [
              "<IPython.core.display.HTML object>"
            ]
          },
          "metadata": {
            "tags": []
          }
        }
      ]
    },
    {
      "cell_type": "code",
      "metadata": {
        "id": "6BAmzfYJv2QJ",
        "colab_type": "code",
        "outputId": "9eb54701-3640-4c8c-937d-05b6d3540ff2",
        "colab": {
          "base_uri": "https://localhost:8080/",
          "height": 141
        }
      },
      "source": [
        "! pip install bert-tensorflow"
      ],
      "execution_count": 4,
      "outputs": [
        {
          "output_type": "stream",
          "text": [
            "Collecting bert-tensorflow\n",
            "\u001b[?25l  Downloading https://files.pythonhosted.org/packages/a6/66/7eb4e8b6ea35b7cc54c322c816f976167a43019750279a8473d355800a93/bert_tensorflow-1.0.1-py2.py3-none-any.whl (67kB)\n",
            "\r\u001b[K     |████▉                           | 10kB 19.7MB/s eta 0:00:01\r\u001b[K     |█████████▊                      | 20kB 1.7MB/s eta 0:00:01\r\u001b[K     |██████████████▋                 | 30kB 2.3MB/s eta 0:00:01\r\u001b[K     |███████████████████▍            | 40kB 1.7MB/s eta 0:00:01\r\u001b[K     |████████████████████████▎       | 51kB 1.9MB/s eta 0:00:01\r\u001b[K     |█████████████████████████████▏  | 61kB 2.2MB/s eta 0:00:01\r\u001b[K     |████████████████████████████████| 71kB 2.0MB/s \n",
            "\u001b[?25hRequirement already satisfied: six in /usr/local/lib/python3.6/dist-packages (from bert-tensorflow) (1.12.0)\n",
            "Installing collected packages: bert-tensorflow\n",
            "Successfully installed bert-tensorflow-1.0.1\n"
          ],
          "name": "stdout"
        }
      ]
    },
    {
      "cell_type": "code",
      "metadata": {
        "id": "j9mOgNrf-PLH",
        "colab_type": "code",
        "colab": {}
      },
      "source": [
        "import os\n",
        "import collections\n",
        "import pandas as pd\n",
        "import tensorflow as tf\n",
        "import tensorflow_hub as hub\n",
        "from datetime import datetime"
      ],
      "execution_count": 0,
      "outputs": []
    },
    {
      "cell_type": "code",
      "metadata": {
        "id": "kPgEWLP9v3ux",
        "colab_type": "code",
        "outputId": "7af4a4b9-c8e1-4c70-a07c-42a4397dd329",
        "colab": {
          "base_uri": "https://localhost:8080/",
          "height": 71
        }
      },
      "source": [
        "import bert\n",
        "from bert import run_classifier\n",
        "from bert import optimization\n",
        "from bert import tokenization\n",
        "from bert import modeling"
      ],
      "execution_count": 6,
      "outputs": [
        {
          "output_type": "stream",
          "text": [
            "WARNING:tensorflow:From /usr/local/lib/python3.6/dist-packages/bert/optimization.py:87: The name tf.train.Optimizer is deprecated. Please use tf.compat.v1.train.Optimizer instead.\n",
            "\n"
          ],
          "name": "stdout"
        }
      ]
    },
    {
      "cell_type": "code",
      "metadata": {
        "id": "nMMpGAflwdSe",
        "colab_type": "code",
        "outputId": "fd4af148-0a80-4ed6-c81b-411b591882cc",
        "colab": {
          "base_uri": "https://localhost:8080/",
          "height": 138
        }
      },
      "source": [
        "# ! unzip 'uncased_L-12_H-768_A-12'"
      ],
      "execution_count": 0,
      "outputs": [
        {
          "output_type": "stream",
          "text": [
            "Archive:  uncased_L-12_H-768_A-12.zip\n",
            "   creating: uncased_L-12_H-768_A-12/\n",
            "  inflating: uncased_L-12_H-768_A-12/bert_model.ckpt.meta  \n",
            "  inflating: uncased_L-12_H-768_A-12/bert_model.ckpt.data-00000-of-00001  \n",
            "  inflating: uncased_L-12_H-768_A-12/vocab.txt  \n",
            "  inflating: uncased_L-12_H-768_A-12/bert_model.ckpt.index  \n",
            "  inflating: uncased_L-12_H-768_A-12/bert_config.json  \n"
          ],
          "name": "stdout"
        }
      ]
    },
    {
      "cell_type": "code",
      "metadata": {
        "id": "_hOsiDQQsmwN",
        "colab_type": "code",
        "colab": {}
      },
      "source": [
        "##use downloaded model, change path accordingly\n",
        "BERT_VOCAB= '/content/drive/My Drive/fininsight/21대 총선분석/Text Classification/Bert/uncased_L-12_H-768_A-12/vocab.txt'\n",
        "BERT_INIT_CHKPNT = '/content/drive/My Drive/fininsight/21대 총선분석/Text Classification/Bert/uncased_L-12_H-768_A-12/bert_model.ckpt'\n",
        "BERT_CONFIG = '/content/drive/My Drive/fininsight/21대 총선분석/Text Classification/Bert/uncased_L-12_H-768_A-12/bert_config.json'"
      ],
      "execution_count": 0,
      "outputs": []
    },
    {
      "cell_type": "code",
      "metadata": {
        "id": "AsXqM2YVskot",
        "colab_type": "code",
        "colab": {
          "base_uri": "https://localhost:8080/",
          "height": 71
        },
        "outputId": "811d4ee4-b71a-4220-c20a-836144674fef"
      },
      "source": [
        "tokenization.validate_case_matches_checkpoint(True,BERT_INIT_CHKPNT)\n",
        "tokenizer = tokenization.FullTokenizer(\n",
        "      vocab_file=BERT_VOCAB, do_lower_case=True)"
      ],
      "execution_count": 8,
      "outputs": [
        {
          "output_type": "stream",
          "text": [
            "WARNING:tensorflow:From /usr/local/lib/python3.6/dist-packages/bert/tokenization.py:125: The name tf.gfile.GFile is deprecated. Please use tf.io.gfile.GFile instead.\n",
            "\n"
          ],
          "name": "stdout"
        }
      ]
    },
    {
      "cell_type": "code",
      "metadata": {
        "id": "zouLG0dn2wR4",
        "colab_type": "code",
        "outputId": "928479ed-2e5b-4d29-c446-a2c0f1c918fa",
        "colab": {
          "base_uri": "https://localhost:8080/",
          "height": 175
        }
      },
      "source": [
        "##change path accordingly\n",
        "import pandas as pd\n",
        "\n",
        "train_data_path='/content/drive/My Drive/fininsight/21대 총선분석/Text Classification/Bert/train.csv'\n",
        "train = pd.read_csv(train_data_path) \n",
        "train.head(3)\n",
        "test = pd.read_csv('/content/drive/My Drive/fininsight/21대 총선분석/Text Classification/Bert/test.csv')\n",
        "test.head(3)"
      ],
      "execution_count": 9,
      "outputs": [
        {
          "output_type": "execute_result",
          "data": {
            "text/html": [
              "<div>\n",
              "<style scoped>\n",
              "    .dataframe tbody tr th:only-of-type {\n",
              "        vertical-align: middle;\n",
              "    }\n",
              "\n",
              "    .dataframe tbody tr th {\n",
              "        vertical-align: top;\n",
              "    }\n",
              "\n",
              "    .dataframe thead th {\n",
              "        text-align: right;\n",
              "    }\n",
              "</style>\n",
              "<table border=\"1\" class=\"dataframe\">\n",
              "  <thead>\n",
              "    <tr style=\"text-align: right;\">\n",
              "      <th></th>\n",
              "      <th>id</th>\n",
              "      <th>content</th>\n",
              "      <th>IT/과학</th>\n",
              "      <th>정치</th>\n",
              "    </tr>\n",
              "  </thead>\n",
              "  <tbody>\n",
              "    <tr>\n",
              "      <th>0</th>\n",
              "      <td>697</td>\n",
              "      <td>기술평가 기관  라인란드 아이 컴포트 디스플레이 인증 테스트 통과 서울  디스플레이...</td>\n",
              "      <td>1</td>\n",
              "      <td>0</td>\n",
              "    </tr>\n",
              "    <tr>\n",
              "      <th>1</th>\n",
              "      <td>296</td>\n",
              "      <td>스위스 제네바에서 개최된 국제전기통신연합 국제회의 국내 양자암호통신 기술이 국제표...</td>\n",
              "      <td>1</td>\n",
              "      <td>0</td>\n",
              "    </tr>\n",
              "    <tr>\n",
              "      <th>2</th>\n",
              "      <td>227</td>\n",
              "      <td>서울   자유한국당 나경원 원내대표가 일 오전 서울 여의도 국회를 예방한 박영선 중...</td>\n",
              "      <td>0</td>\n",
              "      <td>1</td>\n",
              "    </tr>\n",
              "  </tbody>\n",
              "</table>\n",
              "</div>"
            ],
            "text/plain": [
              "    id                                            content  IT/과학  정치\n",
              "0  697  기술평가 기관  라인란드 아이 컴포트 디스플레이 인증 테스트 통과 서울  디스플레이...      1   0\n",
              "1  296   스위스 제네바에서 개최된 국제전기통신연합 국제회의 국내 양자암호통신 기술이 국제표...      1   0\n",
              "2  227  서울   자유한국당 나경원 원내대표가 일 오전 서울 여의도 국회를 예방한 박영선 중...      0   1"
            ]
          },
          "metadata": {
            "tags": []
          },
          "execution_count": 9
        }
      ]
    },
    {
      "cell_type": "code",
      "metadata": {
        "id": "JZwazZPl026m",
        "colab_type": "code",
        "colab": {}
      },
      "source": [
        "ID = 'id'\n",
        "DATA_COLUMN = 'comment'\n",
        "LABEL_COLUMNS = ['IT/과학','정치']"
      ],
      "execution_count": 0,
      "outputs": []
    },
    {
      "cell_type": "code",
      "metadata": {
        "id": "gcgrDrp71X9m",
        "colab_type": "code",
        "colab": {}
      },
      "source": [
        "class InputExample(object):\n",
        "    \"\"\"A single training/test example for simple sequence classification.\"\"\"\n",
        "\n",
        "    def __init__(self, guid, text_a, text_b=None, labels=None):\n",
        "\n",
        "        self.guid = guid\n",
        "        self.text_a = text_a\n",
        "        self.text_b = text_b\n",
        "        self.labels = labels\n",
        "\n",
        "\n",
        "class InputFeatures(object):\n",
        "    \"\"\"A single set of features of data.\"\"\"\n",
        "\n",
        "    def __init__(self, input_ids, input_mask, segment_ids, label_ids, is_real_example=True):\n",
        "        self.input_ids = input_ids\n",
        "        self.input_mask = input_mask\n",
        "        self.segment_ids = segment_ids\n",
        "        self.label_ids = label_ids, # one-hot encoded labels for the text\n",
        "        self.is_real_example=is_real_example"
      ],
      "execution_count": 0,
      "outputs": []
    },
    {
      "cell_type": "code",
      "metadata": {
        "id": "EXWTEKs11X7f",
        "colab_type": "code",
        "colab": {}
      },
      "source": [
        "def create_examples(df, labels_available=True):\n",
        "    \"\"\"Creates examples for the training and dev sets.\"\"\"\n",
        "    examples = []\n",
        "    for (i, row) in enumerate(df.values):\n",
        "        guid = row[0]\n",
        "        text_a = row[1]\n",
        "        if labels_available:\n",
        "            labels = row[2:]\n",
        "        else:\n",
        "            labels = [0,0]\n",
        "        examples.append(\n",
        "            InputExample(guid=guid, text_a=text_a, labels=labels))\n",
        "    return examples"
      ],
      "execution_count": 0,
      "outputs": []
    },
    {
      "cell_type": "code",
      "metadata": {
        "id": "m_ZRc9uz1cYE",
        "colab_type": "code",
        "colab": {}
      },
      "source": [
        "TRAIN_VAL_RATIO = 0.9\n",
        "LEN = train.shape[0]\n",
        "SIZE_TRAIN = int(TRAIN_VAL_RATIO*LEN)\n",
        "\n",
        "x_train = train[:SIZE_TRAIN]\n",
        "x_val = train[SIZE_TRAIN:]\n",
        "\n",
        "train_examples = create_examples(x_train)"
      ],
      "execution_count": 0,
      "outputs": []
    },
    {
      "cell_type": "code",
      "metadata": {
        "id": "UJ3LDoz31k4h",
        "colab_type": "code",
        "colab": {}
      },
      "source": [
        "def convert_examples_to_features(examples,  max_seq_length, tokenizer):\n",
        "    \"\"\"Loads a data file into a list of `InputBatch`s.\"\"\"\n",
        "\n",
        "    features = []\n",
        "    for (ex_index, example) in enumerate(examples):\n",
        "        print(example.text_a)\n",
        "        tokens_a = tokenizer.tokenize(example.text_a)\n",
        "\n",
        "        tokens_b = None\n",
        "        if example.text_b:\n",
        "            tokens_b = tokenizer.tokenize(example.text_b)\n",
        "            _truncate_seq_pair(tokens_a, tokens_b, max_seq_length - 3)\n",
        "        else:\n",
        "            # Account for [CLS] and [SEP] with \"- 2\"\n",
        "            if len(tokens_a) > max_seq_length - 2:\n",
        "                tokens_a = tokens_a[:(max_seq_length - 2)]\n",
        "\n",
        "        tokens = [\"[CLS]\"] + tokens_a + [\"[SEP]\"]\n",
        "        segment_ids = [0] * len(tokens)\n",
        "\n",
        "        if tokens_b:\n",
        "            tokens += tokens_b + [\"[SEP]\"]\n",
        "            segment_ids += [1] * (len(tokens_b) + 1)\n",
        "\n",
        "        input_ids = tokenizer.convert_tokens_to_ids(tokens)\n",
        "\n",
        "        # The mask has 1 for real tokens and 0 for padding tokens. Only real\n",
        "        # tokens are attended to.\n",
        "        input_mask = [1] * len(input_ids)\n",
        "\n",
        "        # Zero-pad up to the sequence length.\n",
        "        padding = [0] * (max_seq_length - len(input_ids))\n",
        "        input_ids += padding\n",
        "        input_mask += padding\n",
        "        segment_ids += padding\n",
        "\n",
        "        assert len(input_ids) == max_seq_length\n",
        "        assert len(input_mask) == max_seq_length\n",
        "        assert len(segment_ids) == max_seq_length\n",
        "        \n",
        "        labels_ids = []\n",
        "        for label in example.labels:\n",
        "            labels_ids.append(int(label))\n",
        "\n",
        "        if ex_index < 0:\n",
        "            logger.info(\"*** Example ***\")\n",
        "            logger.info(\"guid: %s\" % (example.guid))\n",
        "            logger.info(\"tokens: %s\" % \" \".join(\n",
        "                    [str(x) for x in tokens]))\n",
        "            logger.info(\"input_ids: %s\" % \" \".join([str(x) for x in input_ids]))\n",
        "            logger.info(\"input_mask: %s\" % \" \".join([str(x) for x in input_mask]))\n",
        "            logger.info(\n",
        "                    \"segment_ids: %s\" % \" \".join([str(x) for x in segment_ids]))\n",
        "            logger.info(\"label: %s (id = %s)\" % (example.labels, labels_ids))\n",
        "\n",
        "        features.append(\n",
        "                InputFeatures(input_ids=input_ids,\n",
        "                              input_mask=input_mask,\n",
        "                              segment_ids=segment_ids,\n",
        "                              label_ids=labels_ids))\n",
        "    return features"
      ],
      "execution_count": 0,
      "outputs": []
    },
    {
      "cell_type": "code",
      "metadata": {
        "id": "OknjYEnj1k2T",
        "colab_type": "code",
        "colab": {}
      },
      "source": [
        "# We'll set sequences to be at most 128 tokens long.\n",
        "MAX_SEQ_LENGTH = 128"
      ],
      "execution_count": 0,
      "outputs": []
    },
    {
      "cell_type": "code",
      "metadata": {
        "id": "wXCHtBfV1cVE",
        "colab_type": "code",
        "colab": {}
      },
      "source": [
        "\n",
        "# Compute train and warmup steps from batch size\n",
        "# These hyperparameters are copied from this colab notebook (https://colab.sandbox.google.com/github/tensorflow/tpu/blob/master/tools/colab/bert_finetuning_with_cloud_tpus.ipynb)\n",
        "BATCH_SIZE = 32\n",
        "LEARNING_RATE = 2e-5\n",
        "NUM_TRAIN_EPOCHS = 1.0\n",
        "# Warmup is a period of time where hte learning rate \n",
        "# is small and gradually increases--usually helps training.\n",
        "WARMUP_PROPORTION = 0.1\n",
        "# Model configs\n",
        "SAVE_CHECKPOINTS_STEPS = 1000\n",
        "SAVE_SUMMARY_STEPS = 500"
      ],
      "execution_count": 0,
      "outputs": []
    },
    {
      "cell_type": "code",
      "metadata": {
        "id": "eog31LIz1X5A",
        "colab_type": "code",
        "colab": {}
      },
      "source": [
        "\n",
        "class PaddingInputExample(object):\n",
        "    \n",
        "      \n",
        "  def convert_single_example(ex_index, example, max_seq_length, tokenizer):\n",
        "      \"\"\"Converts a single `InputExample` into a single `InputFeatures`.\"\"\"\n",
        "\n",
        "      if isinstance(example, PaddingInputExample):\n",
        "          return InputFeatures(\n",
        "              input_ids=[0] * max_seq_length,\n",
        "              input_mask=[0] * max_seq_length,\n",
        "              segment_ids=[0] * max_seq_length,\n",
        "              label_ids=0,\n",
        "              is_real_example=False)\n",
        "\n",
        "\n",
        "      tokens_a = tokenizer.tokenize(example.text_a)\n",
        "      tokens_b = None\n",
        "      if example.text_b:\n",
        "          tokens_b = tokenizer.tokenize(example.text_b)\n",
        "\n",
        "      if tokens_b:\n",
        "          # Modifies `tokens_a` and `tokens_b` in place so that the total\n",
        "          # length is less than the specified length.\n",
        "          # Account for [CLS], [SEP], [SEP] with \"- 3\"\n",
        "          _truncate_seq_pair(tokens_a, tokens_b, max_seq_length - 3)\n",
        "      else:\n",
        "          # Account for [CLS] and [SEP] with \"- 2\"\n",
        "          if len(tokens_a) > max_seq_length - 2:\n",
        "              tokens_a = tokens_a[0:(max_seq_length - 2)]\n",
        "\n",
        "\n",
        "      tokens = []\n",
        "      segment_ids = []\n",
        "      tokens.append(\"[CLS]\")\n",
        "      segment_ids.append(0)\n",
        "      for token in tokens_a:\n",
        "          tokens.append(token)\n",
        "          segment_ids.append(0)\n",
        "      tokens.append(\"[SEP]\")\n",
        "      segment_ids.append(0)\n",
        "\n",
        "      if tokens_b:\n",
        "          for token in tokens_b:\n",
        "              tokens.append(token)\n",
        "              segment_ids.append(1)\n",
        "          tokens.append(\"[SEP]\")\n",
        "          segment_ids.append(1)\n",
        "\n",
        "      input_ids = tokenizer.convert_tokens_to_ids(tokens)\n",
        "\n",
        "      # The mask has 1 for real tokens and 0 for padding tokens. Only real\n",
        "      # tokens are attended to.\n",
        "      input_mask = [1] * len(input_ids)\n",
        "\n",
        "      # Zero-pad up to the sequence length.\n",
        "      while len(input_ids) < max_seq_length:\n",
        "          input_ids.append(0)\n",
        "          input_mask.append(0)\n",
        "          segment_ids.append(0)\n",
        "\n",
        "      assert len(input_ids) == max_seq_length\n",
        "      assert len(input_mask) == max_seq_length\n",
        "      assert len(segment_ids) == max_seq_length\n",
        "\n",
        "      labels_ids = []\n",
        "      for label in example.labels:\n",
        "          labels_ids.append(int(label))\n",
        "\n",
        "\n",
        "      feature = InputFeatures(\n",
        "          input_ids=input_ids,\n",
        "          input_mask=input_mask,\n",
        "          segment_ids=segment_ids,\n",
        "          label_ids=labels_ids,\n",
        "          is_real_example=True)\n",
        "      return feature\n",
        "\n",
        "\n",
        "  def file_based_convert_examples_to_features(\n",
        "          examples, max_seq_length, tokenizer, output_file):\n",
        "      \"\"\"Convert a set of `InputExample`s to a TFRecord file.\"\"\"\n",
        "\n",
        "      writer = tf.python_io.TFRecordWriter(output_file)\n",
        "\n",
        "      for (ex_index, example) in enumerate(examples):\n",
        "          #if ex_index % 10000 == 0:\n",
        "              #tf.logging.info(\"Writing example %d of %d\" % (ex_index, len(examples)))\n",
        "\n",
        "          feature = PaddingInputExample.convert_single_example(ex_index, example,\n",
        "                                          max_seq_length, tokenizer)\n",
        "\n",
        "          def create_int_feature(values):\n",
        "              f = tf.train.Feature(int64_list=tf.train.Int64List(value=list(values)))\n",
        "              return f\n",
        "\n",
        "          features = collections.OrderedDict()\n",
        "          features[\"input_ids\"] = create_int_feature(feature.input_ids)\n",
        "          features[\"input_mask\"] = create_int_feature(feature.input_mask)\n",
        "          features[\"segment_ids\"] = create_int_feature(feature.segment_ids)\n",
        "          features[\"is_real_example\"] = create_int_feature(\n",
        "              [int(feature.is_real_example)])\n",
        "          if isinstance(feature.label_ids, list):\n",
        "              label_ids = feature.label_ids\n",
        "          else:\n",
        "              label_ids = feature.label_ids[0]\n",
        "          features[\"label_ids\"] = create_int_feature(label_ids)\n",
        "\n",
        "          tf_example = tf.train.Example(features=tf.train.Features(feature=features))\n",
        "          writer.write(tf_example.SerializeToString())\n",
        "      writer.close()\n",
        "\n",
        "\n",
        "  def file_based_input_fn_builder(input_file, seq_length, is_training,\n",
        "                                  drop_remainder):\n",
        "      \"\"\"Creates an `input_fn` closure to be passed to TPUEstimator.\"\"\"\n",
        "\n",
        "      name_to_features = {\n",
        "          \"input_ids\": tf.FixedLenFeature([seq_length], tf.int64),\n",
        "          \"input_mask\": tf.FixedLenFeature([seq_length], tf.int64),\n",
        "          \"segment_ids\": tf.FixedLenFeature([seq_length], tf.int64),\n",
        "          \"label_ids\": tf.FixedLenFeature([2], tf.int64),\n",
        "          \"is_real_example\": tf.FixedLenFeature([], tf.int64),\n",
        "      }\n",
        "\n",
        "      def _decode_record(record, name_to_features):\n",
        "          \"\"\"Decodes a record to a TensorFlow example.\"\"\"\n",
        "          example = tf.parse_single_example(record, name_to_features)\n",
        "\n",
        "          # tf.Example only supports tf.int64, but the TPU only supports tf.int32.\n",
        "          # So cast all int64 to int32.\n",
        "          for name in list(example.keys()):\n",
        "              t = example[name]\n",
        "              if t.dtype == tf.int64:\n",
        "                  t = tf.to_int32(t)\n",
        "              example[name] = t\n",
        "\n",
        "          return example\n",
        "\n",
        "      def input_fn(params):\n",
        "          \"\"\"The actual input function.\"\"\"\n",
        "          batch_size = params[\"batch_size\"]\n",
        "\n",
        "          # For training, we want a lot of parallel reading and shuffling.\n",
        "          # For eval, we want no shuffling and parallel reading doesn't matter.\n",
        "          d = tf.data.TFRecordDataset(input_file)\n",
        "          if is_training:\n",
        "              d = d.repeat()\n",
        "              d = d.shuffle(buffer_size=100)\n",
        "\n",
        "          d = d.apply(\n",
        "              tf.contrib.data.map_and_batch(\n",
        "                  lambda record: _decode_record(record, name_to_features),\n",
        "                  batch_size=batch_size,\n",
        "                  drop_remainder=drop_remainder))\n",
        "\n",
        "          return d\n",
        "\n",
        "      return input_fn\n",
        "\n",
        "\n",
        "  def _truncate_seq_pair(tokens_a, tokens_b, max_length):\n",
        "      \"\"\"Truncates a sequence pair in place to the maximum length.\"\"\"\n",
        "\n",
        "      # This is a simple heuristic which will always truncate the longer sequence\n",
        "      # one token at a time. This makes more sense than truncating an equal percent\n",
        "      # of tokens from each, since if one sequence is very short then each token\n",
        "      # that's truncated likely contains more information than a longer sequence.\n",
        "      while True:\n",
        "          total_length = len(tokens_a) + len(tokens_b)\n",
        "          if total_length <= max_length:\n",
        "              break\n",
        "          if len(tokens_a) > len(tokens_b):\n",
        "              tokens_a.pop()\n",
        "          else:\n",
        "              tokens_b.pop()"
      ],
      "execution_count": 0,
      "outputs": []
    },
    {
      "cell_type": "code",
      "metadata": {
        "id": "P5sXxOzz1Xst",
        "colab_type": "code",
        "colab": {}
      },
      "source": [
        "# Compute # train and warmup steps from batch size\n",
        "num_train_steps = int(len(train_examples) / BATCH_SIZE * NUM_TRAIN_EPOCHS)\n",
        "num_warmup_steps = int(num_train_steps * WARMUP_PROPORTION)"
      ],
      "execution_count": 0,
      "outputs": []
    },
    {
      "cell_type": "code",
      "metadata": {
        "id": "DFzOZB__3gTW",
        "colab_type": "code",
        "colab": {}
      },
      "source": [
        "train_file = os.path.join('/content/drive/My Drive/fininsight/21대 총선분석/Text Classification/Bert/working', \"train.tf_record\")\n",
        "#filename = Path(train_file)\n",
        "if not os.path.exists(train_file):\n",
        "    open(train_file, 'w').close()"
      ],
      "execution_count": 0,
      "outputs": []
    },
    {
      "cell_type": "code",
      "metadata": {
        "id": "2G7A2cni3gSI",
        "colab_type": "code",
        "outputId": "ce095b43-655e-4cd1-fd13-c08ca76d982e",
        "colab": {
          "base_uri": "https://localhost:8080/",
          "height": 86
        }
      },
      "source": [
        "PaddingInputExample.file_based_convert_examples_to_features( \n",
        "            train_examples, MAX_SEQ_LENGTH, tokenizer, train_file) \n",
        "tf.logging.info(\"***** Running training *****\") \n",
        "tf.logging.info(\"  Num examples = %d\", len(train_examples)) \n",
        "tf.logging.info(\"  Batch size = %d\", BATCH_SIZE) \n",
        "tf.logging.info(\"  Num steps = %d\", num_train_steps) "
      ],
      "execution_count": 20,
      "outputs": [
        {
          "output_type": "stream",
          "text": [
            "INFO:tensorflow:***** Running training *****\n",
            "INFO:tensorflow:  Num examples = 486\n",
            "INFO:tensorflow:  Batch size = 32\n",
            "INFO:tensorflow:  Num steps = 15\n"
          ],
          "name": "stdout"
        }
      ]
    },
    {
      "cell_type": "code",
      "metadata": {
        "id": "vlCLTQAw3gPP",
        "colab_type": "code",
        "colab": {}
      },
      "source": [
        "train_input_fn = PaddingInputExample.file_based_input_fn_builder(\n",
        "    input_file=train_file,\n",
        "    seq_length=MAX_SEQ_LENGTH,\n",
        "    is_training=True,\n",
        "    drop_remainder=True)"
      ],
      "execution_count": 0,
      "outputs": []
    },
    {
      "cell_type": "code",
      "metadata": {
        "id": "ln75fHk53gOW",
        "colab_type": "code",
        "colab": {}
      },
      "source": [
        "def create_model(bert_config, is_training, input_ids, input_mask, segment_ids,\n",
        "                 labels, num_labels, use_one_hot_embeddings):\n",
        "    \"\"\"Creates a classification model.\"\"\"\n",
        "    model = modeling.BertModel(\n",
        "        config=bert_config,\n",
        "        is_training=is_training,\n",
        "        input_ids=input_ids,\n",
        "        input_mask=input_mask,\n",
        "        token_type_ids=segment_ids,\n",
        "        use_one_hot_embeddings=use_one_hot_embeddings)\n",
        "\n",
        "\n",
        "    output_layer = model.get_pooled_output()\n",
        "\n",
        "    hidden_size = output_layer.shape[-1].value\n",
        "\n",
        "    output_weights = tf.get_variable(\n",
        "        \"output_weights\", [num_labels, hidden_size],\n",
        "        initializer=tf.truncated_normal_initializer(stddev=0.02))\n",
        "\n",
        "    output_bias = tf.get_variable(\n",
        "        \"output_bias\", [num_labels], initializer=tf.zeros_initializer())\n",
        "\n",
        "    with tf.variable_scope(\"loss\"):\n",
        "        if is_training:\n",
        "            # I.e., 0.1 dropout\n",
        "            output_layer = tf.nn.dropout(output_layer, keep_prob=0.9)\n",
        "\n",
        "        logits = tf.matmul(output_layer, output_weights, transpose_b=True)\n",
        "        logits = tf.nn.bias_add(logits, output_bias)\n",
        "        \n",
        "        # probabilities = tf.nn.softmax(logits, axis=-1) ### multiclass case\n",
        "        probabilities = tf.nn.sigmoid(logits)#### multi-label case\n",
        "        \n",
        "        labels = tf.cast(labels, tf.float32)\n",
        "        tf.logging.info(\"num_labels:{};logits:{};labels:{}\".format(num_labels, logits, labels))\n",
        "        per_example_loss = tf.nn.sigmoid_cross_entropy_with_logits(labels=labels, logits=logits)\n",
        "        loss = tf.reduce_mean(per_example_loss)\n",
        "\n",
        "\n",
        "        return (loss, per_example_loss, logits, probabilities)\n",
        "\n",
        "\n",
        "def model_fn_builder(bert_config, num_labels, init_checkpoint, learning_rate,\n",
        "                     num_train_steps, num_warmup_steps, use_tpu,\n",
        "                     use_one_hot_embeddings):\n",
        "    \"\"\"Returns `model_fn` closure for TPUEstimator.\"\"\"\n",
        "\n",
        "    def model_fn(features, labels, mode, params):  # pylint: disable=unused-argument\n",
        "        \"\"\"The `model_fn` for TPUEstimator.\"\"\"\n",
        "\n",
        "\n",
        "        input_ids = features[\"input_ids\"]\n",
        "        input_mask = features[\"input_mask\"]\n",
        "        segment_ids = features[\"segment_ids\"]\n",
        "        label_ids = features[\"label_ids\"]\n",
        "        is_real_example = None\n",
        "        if \"is_real_example\" in features:\n",
        "             is_real_example = tf.cast(features[\"is_real_example\"], dtype=tf.float32)\n",
        "        else:\n",
        "             is_real_example = tf.ones(tf.shape(label_ids), dtype=tf.float32)\n",
        "\n",
        "        is_training = (mode == tf.estimator.ModeKeys.TRAIN)\n",
        "\n",
        "        (total_loss, per_example_loss, logits, probabilities) = create_model(\n",
        "            bert_config, is_training, input_ids, input_mask, segment_ids, label_ids,\n",
        "            num_labels, use_one_hot_embeddings)\n",
        "\n",
        "        tvars = tf.trainable_variables()\n",
        "        initialized_variable_names = {}\n",
        "        scaffold_fn = None\n",
        "        if init_checkpoint:\n",
        "            (assignment_map, initialized_variable_names\n",
        "             ) = modeling.get_assignment_map_from_checkpoint(tvars, init_checkpoint)\n",
        "            if use_tpu:\n",
        "\n",
        "                def tpu_scaffold():\n",
        "                    tf.train.init_from_checkpoint(init_checkpoint, assignment_map)\n",
        "                    return tf.train.Scaffold()\n",
        "\n",
        "                scaffold_fn = tpu_scaffold\n",
        "            else:\n",
        "                tf.train.init_from_checkpoint(init_checkpoint, assignment_map)\n",
        "\n",
        "        tf.logging.info(\"**** Trainable Variables ****\")\n",
        "        for var in tvars:\n",
        "            init_string = \"\"\n",
        "            if var.name in initialized_variable_names:\n",
        "                init_string = \", *INIT_FROM_CKPT*\"\n",
        "            #tf.logging.info(\"  name = %s, shape = %s%s\", var.name, var.shape,init_string)\n",
        "\n",
        "        output_spec = None\n",
        "        if mode == tf.estimator.ModeKeys.TRAIN:\n",
        "\n",
        "            train_op = optimization.create_optimizer(\n",
        "                total_loss, learning_rate, num_train_steps, num_warmup_steps, use_tpu)\n",
        "\n",
        "            output_spec = tf.estimator.EstimatorSpec(\n",
        "                mode=mode,\n",
        "                loss=total_loss,\n",
        "                train_op=train_op,\n",
        "                scaffold=scaffold_fn)\n",
        "        elif mode == tf.estimator.ModeKeys.EVAL:\n",
        "\n",
        "            def metric_fn(per_example_loss, label_ids, probabilities, is_real_example):\n",
        "\n",
        "                logits_split = tf.split(probabilities, num_labels, axis=-1)\n",
        "                label_ids_split = tf.split(label_ids, num_labels, axis=-1)\n",
        "                # metrics change to auc of every class\n",
        "                eval_dict = {}\n",
        "                for j, logits in enumerate(logits_split):\n",
        "                    label_id_ = tf.cast(label_ids_split[j], dtype=tf.int32)\n",
        "                    current_auc, update_op_auc = tf.metrics.auc(label_id_, logits)\n",
        "                    eval_dict[str(j)] = (current_auc, update_op_auc)\n",
        "                eval_dict['eval_loss'] = tf.metrics.mean(values=per_example_loss)\n",
        "                return eval_dict\n",
        "\n",
        "\n",
        "            eval_metrics = metric_fn(per_example_loss, label_ids, probabilities, is_real_example)\n",
        "            output_spec = tf.estimator.EstimatorSpec(\n",
        "                mode=mode,\n",
        "                loss=total_loss,\n",
        "                eval_metric_ops=eval_metrics,\n",
        "                scaffold=scaffold_fn)\n",
        "        else:\n",
        "            print(\"mode:\", mode,\"probabilities:\", probabilities)\n",
        "            output_spec = tf.estimator.EstimatorSpec(\n",
        "                mode=mode,\n",
        "                predictions={\"probabilities\": probabilities},\n",
        "                scaffold=scaffold_fn)\n",
        "        return output_spec\n",
        "\n",
        "    return model_fn"
      ],
      "execution_count": 0,
      "outputs": []
    },
    {
      "cell_type": "code",
      "metadata": {
        "id": "B6ao3jVZ3gKu",
        "colab_type": "code",
        "colab": {}
      },
      "source": [
        "OUTPUT_DIR = \"/content/drive/My Drive/fininsight/21대 총선분석/Text Classification/Bert/working/output\"\n",
        "# Specify outpit directory and number of checkpoint steps to save\n",
        "run_config = tf.estimator.RunConfig(\n",
        "    model_dir=OUTPUT_DIR,\n",
        "    save_summary_steps=SAVE_SUMMARY_STEPS,\n",
        "    keep_checkpoint_max=1,\n",
        "    save_checkpoints_steps=SAVE_CHECKPOINTS_STEPS)"
      ],
      "execution_count": 0,
      "outputs": []
    },
    {
      "cell_type": "code",
      "metadata": {
        "id": "MM8G4wyo3z0Z",
        "colab_type": "code",
        "outputId": "b5b4867a-75a7-464a-fc13-bf1d63b621df",
        "colab": {
          "base_uri": "https://localhost:8080/",
          "height": 158
        }
      },
      "source": [
        "bert_config = modeling.BertConfig.from_json_file(BERT_CONFIG)\n",
        "model_fn = model_fn_builder(\n",
        "  bert_config=bert_config,\n",
        "  num_labels= len(LABEL_COLUMNS),\n",
        "  init_checkpoint=BERT_INIT_CHKPNT,\n",
        "  learning_rate=LEARNING_RATE,\n",
        "  num_train_steps=num_train_steps,\n",
        "  num_warmup_steps=num_warmup_steps,\n",
        "  use_tpu=False,\n",
        "  use_one_hot_embeddings=False)\n",
        "\n",
        "estimator = tf.estimator.Estimator(\n",
        "  model_fn=model_fn,\n",
        "  config=run_config,\n",
        "  params={\"batch_size\": BATCH_SIZE})"
      ],
      "execution_count": 24,
      "outputs": [
        {
          "output_type": "stream",
          "text": [
            "INFO:tensorflow:Using config: {'_model_dir': '/content/drive/My Drive/fininsight/21대 총선분석/Text Classification/Bert/working/output', '_tf_random_seed': None, '_save_summary_steps': 500, '_save_checkpoints_steps': 1000, '_save_checkpoints_secs': None, '_session_config': allow_soft_placement: true\n",
            "graph_options {\n",
            "  rewrite_options {\n",
            "    meta_optimizer_iterations: ONE\n",
            "  }\n",
            "}\n",
            ", '_keep_checkpoint_max': 1, '_keep_checkpoint_every_n_hours': 10000, '_log_step_count_steps': 100, '_train_distribute': None, '_device_fn': None, '_protocol': None, '_eval_distribute': None, '_experimental_distribute': None, '_experimental_max_worker_delay_secs': None, '_session_creation_timeout_secs': 7200, '_service': None, '_cluster_spec': <tensorflow.python.training.server_lib.ClusterSpec object at 0x7fb29b5a55f8>, '_task_type': 'worker', '_task_id': 0, '_global_id_in_cluster': 0, '_master': '', '_evaluation_master': '', '_is_chief': True, '_num_ps_replicas': 0, '_num_worker_replicas': 1}\n"
          ],
          "name": "stdout"
        }
      ]
    },
    {
      "cell_type": "code",
      "metadata": {
        "id": "YSAJjM_-3zww",
        "colab_type": "code",
        "outputId": "c9e94dc0-8815-4cb3-a5a5-f8801b88c697",
        "colab": {
          "base_uri": "https://localhost:8080/",
          "height": 1000
        }
      },
      "source": [
        "print(f'Beginning Training!')\n",
        "current_time = datetime.now()\n",
        "estimator.train(input_fn=train_input_fn, max_steps=num_train_steps)\n",
        "print(\"Training took time \", datetime.now() - current_time)"
      ],
      "execution_count": 25,
      "outputs": [
        {
          "output_type": "stream",
          "text": [
            "Beginning Training!\n",
            "WARNING:tensorflow:From /tensorflow-1.15.0/python3.6/tensorflow_core/python/training/training_util.py:236: Variable.initialized_value (from tensorflow.python.ops.variables) is deprecated and will be removed in a future version.\n",
            "Instructions for updating:\n",
            "Use Variable.read_value. Variables in 2.X are initialized automatically both in eager and graph (inside tf.defun) contexts.\n",
            "WARNING:tensorflow:\n",
            "The TensorFlow contrib module will not be included in TensorFlow 2.0.\n",
            "For more information, please see:\n",
            "  * https://github.com/tensorflow/community/blob/master/rfcs/20180907-contrib-sunset.md\n",
            "  * https://github.com/tensorflow/addons\n",
            "  * https://github.com/tensorflow/io (for I/O related ops)\n",
            "If you depend on functionality not listed there, please file an issue.\n",
            "\n",
            "WARNING:tensorflow:From <ipython-input-17-b4a285552717>:155: map_and_batch (from tensorflow.contrib.data.python.ops.batching) is deprecated and will be removed in a future version.\n",
            "Instructions for updating:\n",
            "Use `tf.data.experimental.map_and_batch(...)`.\n",
            "WARNING:tensorflow:From /tensorflow-1.15.0/python3.6/tensorflow_core/contrib/data/python/ops/batching.py:276: map_and_batch (from tensorflow.python.data.experimental.ops.batching) is deprecated and will be removed in a future version.\n",
            "Instructions for updating:\n",
            "Use `tf.data.Dataset.map(map_func, num_parallel_calls)` followed by `tf.data.Dataset.batch(batch_size, drop_remainder)`. Static tf.data optimizations will take care of using the fused implementation.\n",
            "WARNING:tensorflow:From /tensorflow-1.15.0/python3.6/tensorflow_core/python/autograph/converters/directives.py:119: The name tf.parse_single_example is deprecated. Please use tf.io.parse_single_example instead.\n",
            "\n",
            "WARNING:tensorflow:From <ipython-input-17-b4a285552717>:135: to_int32 (from tensorflow.python.ops.math_ops) is deprecated and will be removed in a future version.\n",
            "Instructions for updating:\n",
            "Use `tf.cast` instead.\n",
            "INFO:tensorflow:Calling model_fn.\n",
            "WARNING:tensorflow:From /usr/local/lib/python3.6/dist-packages/bert/modeling.py:171: The name tf.variable_scope is deprecated. Please use tf.compat.v1.variable_scope instead.\n",
            "\n",
            "WARNING:tensorflow:From /usr/local/lib/python3.6/dist-packages/bert/modeling.py:409: The name tf.get_variable is deprecated. Please use tf.compat.v1.get_variable instead.\n",
            "\n",
            "WARNING:tensorflow:From /usr/local/lib/python3.6/dist-packages/bert/modeling.py:490: The name tf.assert_less_equal is deprecated. Please use tf.compat.v1.assert_less_equal instead.\n",
            "\n",
            "WARNING:tensorflow:From /usr/local/lib/python3.6/dist-packages/bert/modeling.py:358: calling dropout (from tensorflow.python.ops.nn_ops) with keep_prob is deprecated and will be removed in a future version.\n",
            "Instructions for updating:\n",
            "Please use `rate` instead of `keep_prob`. Rate should be set to `rate = 1 - keep_prob`.\n",
            "WARNING:tensorflow:From /usr/local/lib/python3.6/dist-packages/bert/modeling.py:671: dense (from tensorflow.python.layers.core) is deprecated and will be removed in a future version.\n",
            "Instructions for updating:\n",
            "Use keras.layers.Dense instead.\n",
            "WARNING:tensorflow:From /tensorflow-1.15.0/python3.6/tensorflow_core/python/layers/core.py:187: Layer.apply (from tensorflow.python.keras.engine.base_layer) is deprecated and will be removed in a future version.\n",
            "Instructions for updating:\n",
            "Please use `layer.__call__` method instead.\n",
            "INFO:tensorflow:num_labels:2;logits:Tensor(\"loss/BiasAdd:0\", shape=(32, 2), dtype=float32);labels:Tensor(\"loss/Cast:0\", shape=(32, 2), dtype=float32)\n",
            "WARNING:tensorflow:From /tensorflow-1.15.0/python3.6/tensorflow_core/python/ops/nn_impl.py:183: where (from tensorflow.python.ops.array_ops) is deprecated and will be removed in a future version.\n",
            "Instructions for updating:\n",
            "Use tf.where in 2.0, which has the same broadcast rule as np.where\n",
            "INFO:tensorflow:**** Trainable Variables ****\n",
            "WARNING:tensorflow:From /usr/local/lib/python3.6/dist-packages/bert/optimization.py:27: The name tf.train.get_or_create_global_step is deprecated. Please use tf.compat.v1.train.get_or_create_global_step instead.\n",
            "\n",
            "WARNING:tensorflow:From /usr/local/lib/python3.6/dist-packages/bert/optimization.py:32: The name tf.train.polynomial_decay is deprecated. Please use tf.compat.v1.train.polynomial_decay instead.\n",
            "\n",
            "INFO:tensorflow:Done calling model_fn.\n",
            "INFO:tensorflow:Create CheckpointSaverHook.\n",
            "INFO:tensorflow:Graph was finalized.\n",
            "INFO:tensorflow:Running local_init_op.\n",
            "INFO:tensorflow:Done running local_init_op.\n",
            "INFO:tensorflow:Saving checkpoints for 0 into /content/drive/My Drive/fininsight/21대 총선분석/Text Classification/Bert/working/output/model.ckpt.\n",
            "INFO:tensorflow:loss = 0.73138094, step = 1\n",
            "INFO:tensorflow:Saving checkpoints for 15 into /content/drive/My Drive/fininsight/21대 총선분석/Text Classification/Bert/working/output/model.ckpt.\n",
            "WARNING:tensorflow:From /tensorflow-1.15.0/python3.6/tensorflow_core/python/training/saver.py:963: remove_checkpoint (from tensorflow.python.training.checkpoint_management) is deprecated and will be removed in a future version.\n",
            "Instructions for updating:\n",
            "Use standard file APIs to delete files with this prefix.\n",
            "INFO:tensorflow:Loss for final step: 0.6978677.\n",
            "Training took time  0:11:53.413982\n"
          ],
          "name": "stdout"
        }
      ]
    },
    {
      "cell_type": "code",
      "metadata": {
        "id": "xIe0wpVP3zvT",
        "colab_type": "code",
        "colab": {}
      },
      "source": [
        "eval_file = os.path.join('/content/drive/My Drive/fininsight/21대 총선분석/Text Classification/Bert/working', \"eval.tf_record\")\n",
        "#filename = Path(train_file)\n",
        "if not os.path.exists(eval_file):\n",
        "    open(eval_file, 'w').close()\n",
        "\n",
        "eval_examples = create_examples(x_val)\n",
        "PaddingInputExample.file_based_convert_examples_to_features(\n",
        "    eval_examples, MAX_SEQ_LENGTH, tokenizer, eval_file)"
      ],
      "execution_count": 0,
      "outputs": []
    },
    {
      "cell_type": "code",
      "metadata": {
        "id": "l5-7S69Q3gGh",
        "colab_type": "code",
        "colab": {
          "base_uri": "https://localhost:8080/",
          "height": 297
        },
        "outputId": "64061ae9-b6a9-4214-8a64-4101983df27b"
      },
      "source": [
        "# This tells the estimator to run through the entire set.\n",
        "eval_steps = None\n",
        "\n",
        "eval_drop_remainder = False\n",
        "PaddingInputExample.eval_input_fn = PaddingInputExample.file_based_input_fn_builder(\n",
        "    input_file=eval_file,\n",
        "    seq_length=MAX_SEQ_LENGTH,\n",
        "    is_training=False,\n",
        "    drop_remainder=False)\n",
        "\n",
        "result = estimator.evaluate(input_fn=PaddingInputExample.eval_input_fn, steps=eval_steps)"
      ],
      "execution_count": 36,
      "outputs": [
        {
          "output_type": "stream",
          "text": [
            "INFO:tensorflow:Calling model_fn.\n",
            "INFO:tensorflow:num_labels:2;logits:Tensor(\"loss/BiasAdd:0\", shape=(?, 2), dtype=float32);labels:Tensor(\"loss/Cast:0\", shape=(?, 2), dtype=float32)\n",
            "INFO:tensorflow:**** Trainable Variables ****\n",
            "WARNING:tensorflow:From /tensorflow-1.15.0/python3.6/tensorflow_core/python/ops/metrics_impl.py:808: div (from tensorflow.python.ops.math_ops) is deprecated and will be removed in a future version.\n",
            "Instructions for updating:\n",
            "Deprecated in favor of operator or tf.math.divide.\n",
            "INFO:tensorflow:Done calling model_fn.\n",
            "INFO:tensorflow:Starting evaluation at 2020-03-24T13:50:47Z\n",
            "INFO:tensorflow:Graph was finalized.\n",
            "INFO:tensorflow:Restoring parameters from /content/drive/My Drive/fininsight/21대 총선분석/Text Classification/Bert/working/output/model.ckpt-15\n",
            "INFO:tensorflow:Running local_init_op.\n",
            "INFO:tensorflow:Done running local_init_op.\n",
            "INFO:tensorflow:Finished evaluation at 2020-03-24-13:51:14\n",
            "INFO:tensorflow:Saving dict for global step 15: 0 = 0.59722215, 1 = 0.5, eval_loss = 0.6589736, global_step = 15, loss = 0.662626\n",
            "INFO:tensorflow:Saving 'checkpoint_path' summary for global step 15: /content/drive/My Drive/fininsight/21대 총선분석/Text Classification/Bert/working/output/model.ckpt-15\n"
          ],
          "name": "stdout"
        }
      ]
    },
    {
      "cell_type": "code",
      "metadata": {
        "id": "wqKD6Geb39sp",
        "colab_type": "code",
        "colab": {
          "base_uri": "https://localhost:8080/",
          "height": 121
        },
        "outputId": "ea7f2983-4131-4aa4-d4d1-010c305695b5"
      },
      "source": [
        "output_eval_file = os.path.join(\"/content/drive/My Drive/fininsight/21대 총선분석/Text Classification/Bert/working\", \"eval_results.txt\")\n",
        "with tf.gfile.GFile(output_eval_file, \"w\") as writer:\n",
        "    tf.logging.info(\"***** Eval results *****\")\n",
        "    for key in sorted(result.keys()):\n",
        "        tf.logging.info(\"  %s = %s\", key, str(result[key]))\n",
        "        writer.write(\"%s = %s\\n\" % (key, str(result[key])))"
      ],
      "execution_count": 38,
      "outputs": [
        {
          "output_type": "stream",
          "text": [
            "INFO:tensorflow:***** Eval results *****\n",
            "INFO:tensorflow:  0 = 0.59722215\n",
            "INFO:tensorflow:  1 = 0.5\n",
            "INFO:tensorflow:  eval_loss = 0.6589736\n",
            "INFO:tensorflow:  global_step = 15\n",
            "INFO:tensorflow:  loss = 0.662626\n"
          ],
          "name": "stdout"
        }
      ]
    },
    {
      "cell_type": "code",
      "metadata": {
        "id": "ToW2r7EM39rZ",
        "colab_type": "code",
        "colab": {}
      },
      "source": [
        "x_test = test[:10000] #testing a small sample\n",
        "x_test = x_test.reset_index(drop=True)\n",
        "predict_examples = create_examples(x_test,False)"
      ],
      "execution_count": 0,
      "outputs": []
    },
    {
      "cell_type": "code",
      "metadata": {
        "id": "NzZTMij739no",
        "colab_type": "code",
        "colab": {
          "base_uri": "https://localhost:8080/",
          "height": 1000
        },
        "outputId": "a81406c6-679e-43a8-c3bc-dbd2978a8af9"
      },
      "source": [
        "test_features = convert_examples_to_features(predict_examples, MAX_SEQ_LENGTH, tokenizer)"
      ],
      "execution_count": 40,
      "outputs": [
        {
          "output_type": "stream",
          "text": [
            "기술평가 기관  라인란드 아이 컴포트 디스플레이 인증 테스트 통과 서울  디스플레이는 글로벌 기술평가 기관인  라인란드로부터 대형 올레드 유기발광다이오드 패널에 대해 아이 컴포트 디스플레이   인증을 획득했다고 일 밝혔다 이번 인증에 필요한 테스트는 디스플레이 화면의 블루라이트 방출량 빛 반사도 화질 등 세가지 항목으로 이뤄졌다 디스플레이는 눈의 피로도 증가나 수면 장애를 유발하는 것으로 알려진 블루라이트 부분에서 인치 기준 방출량으로 기준치인 를 하회했다 현재 판매되고 있는 동일 인치 최고사양의 액정표시장치  블루라이트 방출량이  정도임을 감안하면 약 절반에 해당하는 수치다  시청 시 눈부심을 유발하는 외부 조명의 빛 반사도 부분에서도 로 인 기준치를 넘지 않았으며 이 역시 인  대비 약 절반 정도의 수치다 아울러 화질 부분에서도 넓은 색 영역과    등 모든 분야에서 기준치를 충족시켰다 이번 인증 획득으로 디스플레이는  의 가치가 한층 높아져 더 많은 소비자들의 선택을 받을 수 있을 것으로 기대하고 있다 디스플레이는 이번 인증마크를   고객사 및 유통 업체에서 활용할 방침이다 디스플레이 사업부장 오창호 부사장은 이번 인증 획득은 디스플레이의   패널이 시청자의 눈 건강에 합리적인 디스플레이임을 국제적으로 인정받았다는 의미라고 말했다 한편 디스플레이는 현재 파주 사업장에서   인치의   패널 등 초고해상도의 다양한  패널을 생산하고 있다 올해 하반기에 월 만장유리원판 투입 기준 규모의 세대 광저우  공장이 완공되면 현재 월 만장 규모의 생산량을 월 만장까지 끌어올릴 수 있다 \n",
            " 스위스 제네바에서 개최된 국제전기통신연합 국제회의 국내 양자암호통신 기술이 국제표준으로 채택된다 와 유플러스는 월일부터 일까지 스위스 제네바에서 개최된 국제전기통신엽합 전기통신표준화부문 스터디그룹  국제회의에서 암호통신 네트워크 프레임워크 권고안 건이 국제 표준으로 예비 승인됐다고 월일 밝혔다  내 양자암호통신 분야에서는 세계 최초로 채택된 표준으로 이후 회원국 간 회람을 거쳐 반대 의견이 없을 경우 최종 채택될 전망이다 이번 표준화는 와  그리고 한국과학기술연구원 한국전자통신연구원 등이 제안하여 개발을 시작한 이후 국내 개 기관 및 전세계 여개 회원사가 주도적으로 표준화 활동에 참여한 결과다 이번에 승인된 표준은 양자암호통신 네트워크를 구성하는데 필요한 계층 모델 기능적 구성요소 등을 정의했다 와 는 아직 논란의 여지가 많은 양자암호통신 분야에서 사업자와 제조사 관점의 모든 영역을 고려하여 새로운 표준화 기준을 잡았다는데 중요한 의미가 있다고 설명했다 양사는 이번 표준개발을 통해 특허 부분도 확인해 기술 독점을 해결하고 양자암호통신 분야 국제표준화 주도권을 기존 외산 장비업체에서 통신사 서비스 위주로 전환하고 시장을 주도할 수 있게 됐다고 밝혔다 또 양자암호통신 시장에서 국내 업체들의 활발한 해외 진출도 가능할 것으로 전망된다고 기대했다 향후 양자암호통신 기술  표준화는 이번 프레임워크를 바탕으로 진행된다 세부구조  키관리  망 관리 및 제어   컨트롤러  과제에 대해 년 월까지 표준화를 완성할 예정이다 와  는 양자암호통신 관리 및 제어 분야에서 에디터를 맡아 표준화를 주도적으로 진행한다 이번에 승인된 표준에서 규정한 양자암호통신 네트워크 구성 기술을 바탕으로 양자암호서비스의 안정적 공급과 고품질 운용관리를 규정하는 신규 표준으로 개발될 예정이다 한편 텔레콤은 이번 회의에서 국제표준화 작업을 진행중인 양자암호통신 네트워크 프레임워크에 양자암호통신 네트워크와 기존 통신 네트워크 간 연결 시 암호화 키 요청과 전달 신뢰도 측면 고려 사항 양자암호통신 장비의 재기동 시 자동 운영 관련 내용 등 표준에 반영될 기술 관련 내용을 통과시켰다 또 지난해 월   회의에서  제안으로 채택된 양자키 분배 양자난수발생기 관련 개의 신규 과제는 오는 월 회의에서 국제표준 채택을 앞두고 있다 양자암호통신은 양자의 특성을 이용한 암호화 기술이다 송신부와 수신부만 해독할 수 있는 도청 불가능한 암호키를 생성하는 양자키분배 기술이 핵심이다 이번 회의에 참석해 표준화 성과를 지켜본 최준균 카이스트 교수는 앞으로 등장할 인공지능 기반 지능형 사이버 사회가 안전하고 신뢰할 수 있는 사이버 생태계로 나아갈 수 있도록 우리나라가 양자암호 기술에 기반한 표준화를 주도한 중요한 쾌거라고 할 수 있다라고 전했다  융합기술원장 전홍범 부사장은 는 이번 양자암호통신 네트워크 기술의 세계 최초  표준승인을 위해 국내 기술의 국제표준 반영을 추진해 왔다라며향후 미래 기술의 하나로써 새로운 보안 플랫폼인 양자암호통신 네트워크 기술 발전을 위해 계속 노력할 예정이라고 말했다  박송철 개발그룹장은 사업자와 산업계 연구기관과 함께 협업해 양자정보통신을 위한 새로운 네트워크 모델을 제시하여 선도했고 는 지속적으로 고객에게 더 좋은 서비스를 제공하기 위한 상생 생태계 확보에 노력하겠다라고 밝혔다 \n",
            "서울   자유한국당 나경원 원내대표가 일 오전 서울 여의도 국회를 예방한 박영선 중소벤처기업부 장관을 만나 악수하고 있다   저작권\n",
            "넷마블대표 권영식은 신개념 모바일 위치 기반 그림퀴즈게임 쿵야 캐치마인드의 국내 정식 출시를 앞두고 사전예약을 시작했다고 일 밝혔다 사전예약은 공식 사전 예약사이트를 통해 정식 출시 전까지 진행되며 정확한 출시 일정은 추후 공개한다 쿵야 캐치마인드는 지난 년 출시해 총 회원 수 약 만 명 등 많은 사랑을 받고 있는 넷마블의 장수 온라인 게임 캐치마인드를 모바일로 재해석 한 게임이다 게임 내 등장하는 양파쿵야 샐러리쿵야 등 야채들이 의인화된 쿵야 캐릭터도 많은 사랑을 받고 있다 쿵야 캐치마인드 특히 해당 게임은 이용자가 특정 제시어를 보고 그린 그림을 다른 이용자들이 맞히는 남녀노소 누구나 쉽게 즐길 수 있는 기본 재미에 위치기반 기술을 접목한 것이 특징이다 또한 이용자 현재 위치를 중심으로 쿵야   의 퀴즈를 발굴하거나 다른 이용자들이 심어 놓은 그림퀴즈를 푸는 쿵야 퀴즈 주변 친구 퀴즈 등과 다양한 추천 그림을 확인 및 공유하고 댓글참여가 가능한 소셜 홈 등 풍부한 게임 내 소셜 콘텐츠가 친구 가족 연인과 함께 할 수 있는 특별한 즐거움을 제공한다 이와함께 불특정 다수 이용자에게 문제를 출제하는 모두의 퀴즈방 최대 명의 이용자가 동시에 퀴즈를 풀 수 있는 프리미엄 퀴즈방 등 이용자 성향에 맞는 다양한 실시간 멀티 모드가 게임의 재미를 더할 전망이다 넷마블의 이정호 본부장은 년 출시 후 숱한 언어유희를 탄생시킨 그림퀴즈 본연의 재미에 다채로운 게임모드와 풍부한 소셜 콘텐츠들이 이용자들에게 색다른 재미를 선사할 수 있을 것으로 기대한다며 출시 전까지 진행하는 사전예약에 참여해 기한 쿵야 이모티콘과 게임 아이템을 받는 혜택을 꼭 누리시길 바란다고 전했다 \n",
            "조현준 회장 기술에 기술 더해 기술융합 이룰 것 효성은 섬유 첨단소재 화학 등 그룹 통합 생산기술센터를 출범시켰다고 일 밝혔다 생산기술센터는 섬유 첨단소재 화학 부문의 핵심 공정 및 설비 기술 운영을 총괄하는 조직이다 효성기술원 효성티앤씨 효성첨단소재 효성화학 소속 핵심 기술 인력 개 팀 명 규모로 구성됐다 주요 공장과 효성기술원의 핵심 기술 인력이 협업을 통해 신규 공정을 자체적으로 설계하고 기존 생산 공정도 개선시켜 기술 고도화를 이룬다는 전략이다 향후 공정 및 주요 설비들에 대한 기본 설계 전문 인력을 확보육성하는 등 인원도 확대해 나갈 예정이다 조현준 효성 회장 효성은 국내외 섬유 관련 특허 건 첨단소재 관련 특허 건 화학 관련 특허 천건을 보유했으며 독자 기술 간 시너지를 도모할 계획이다 조현준 회장은 세계 등 제품이 곧 세계 등 기술이라고 안주하지 않을 것 기술에 기술을 더해 기술융합을 이루겠다고 밝혔다 효성은 개의 세계일류상품을 보유했다 그 중 스판덱스 폴리에스터 타이어코드 안전벨트 원사 등이 세계 시장 점유율 위를 차지하고 있다 \n",
            "김다나  우리 정부는 지난해 월 데이터 산업 활성화 전략을 발표하는 등 데이터 산업의 중요성을 인식하고 있지만 관련 기술 및 인프라 법제도 개선은 선진국에 크게 못 미친다 실제로 년 스위스 국제경영개발대학원이 발표한 년 세계디지털경쟁력순위에서 한국은 개국중 종합 위를 차지했지만 빅데이터 활용능력은 위로 크게 뒤처졌다 한국과학기술기획평가원 혁신전략연구소가 일 내놓은 데이터경제와 국가기술혁신체계의 역할 보고서에 따르면 데이터경제 활성화를 위해 현재 과학기술정보통신부 정보통신전략위원회  대통령 직속 기구 차산업혁명위원회 행정안전부의 공공데이터전략위원회로 쪼개져 있는 정부 거버넌스를 합칠 필요가 있다고 주장했다 현재 정보통신전략위원회는 데이터 산업 총괄 데이터 생태계 조성 및 인프라 지원 빅데이터 활용 선도사업 지원 데이터 선도보호기술 개발을 위한 연구개발 사업 등을 추진하고 있다 차산업혁명위원회는 산업계민간 의견 수렴 사회적 합의 유도 법제도 개선을 공공데이터전략위원회는 공공데이터 총괄 공공데이터 발굴개방 국가데이터맵 구축 개인정보보호법 등을 맡고 있다 이장재 혁신전략연구소장은 데이터경제 관련 현재 우리 정부의 거버넌스는 분산 조정형이라며 시급성을 감안했을 때 강력한 통합조정거버넌스가 필요하다고 강조했다 또 정부가 공공위주로 데이터를 운영하기 때문에 민간에서 활용할 데이터가 부족하다고 진단했다 데이터 전체에 대한 컨트롤 타워가 없다는 점을 지적한 것 따라서 혁신전략연구소는 국가 전체 데이터를 실효성 있게 다루도록 통합 정부조직을 신설하거나 청와대 소속 통합거버넌스를 설치해야 한다고 제안했다 이 소장은 통합 정부조직 등을 통해 데이터 소유권 및 저작권법을 정비보완하고 사회적 편익과 비용 관점을 반영한 새로운 관점에서의 개인정보보호법을 논의하자고 주문했다 연구소에 따르면 우리나라는 개인에게 일일이 동의를 받아야 하기 때문에 정보보호법 관련 규제가 심한 반면 미국은 일단 데이터 공개를 하고 비공개를 원하는 사람이 신청하게 돼 있는 구조로 데이터경제 측면에서 유리한 구조다 이와 함께 혁신전략연구소는 빅데이터의 수집처리를 위한 기술적경제적 문제와 개별기업에서 개인정보 처리의 어려움 등을 해결하기 위한 데이터 브로커데이터재판매업를 적극 육성할 필요가 있다고 제안했다  \n",
            "서울  일 오전 서울 여의도 글래드호텔에서 열린 한국해양교통안전공단 출범식에서 이연승 공단 이사장이 인사말을 하고 있다 해양교통안전을 위해 흩어진 기능을 하나로 묶어 체계적인 종합 관리를 위해 선박안전기술공단이 개편돼 탄생한 공단은 해양교통안전 전문방송 실시 해양교통환경 분석 저작권\n",
            "세종  일 오전 정부세종청사에서 열린 김현준 신임 국세청장 취임식에서 김 청장이 직원들의 박수를 받으며 입장하고 있다   저작권\n",
            "민간에 모범을 보여야 할 공공에서 소프트웨어사업 유지관리 서비스 대가를 민간보다 더 낮게 지급한다 정부는  유지관리요율  이상 지급을 권고하고 있지만 정부공공 기관 곳 가운데 곳만  이상 요율을 적용했다 최근 과학기술정보통신부와 정책연구소가 발간한 년 산업 실태조사 보고서에 따르면 지난해 공공 부문의 상용 와 개발  유지관리요율은 민간보다 낮게 책정했다 공공 부문에서 평균  미만 요율을 적용한 기관이 로 절대 다수를 차지했다 민간보다 포인트 이상 많은 수치다 도 지급하지 않고 있는 기관이 곳 가운데 곳이나 됐다  미만은   미만은   이상은 였다 반면에 민간에서는  이상 요율을 적용하는 기업이 대다수다  미만이   미만이   이상이 로 공공 대비 더 높은 유지관리요율을 적용했다 개사 가운데 곳 이상이  이상 요율로 대가를 지급한다  미만은 였다\n",
            "기업과 화웨이의 부품거래 허용규제완화 신호\n",
            "서울   수출상황 점검회의가 열린 일 오후 서울 종로구 한국무역보험공사 대회의실에서 성윤모 산업통상자원부장관이 모두발언을 하고 있다   저작권\n",
            "취임주년을맞이하여제주도민들께드리는말씀 글로벌표준선도도시지향사람이제주의미래        원희룡 제주도지사     사랑하고 존경하는 제주도민 여러분  도민의 지지와 성원에 힘입어 다시 도지사직 임기를 시작한지 어느덧 년이 되었습니다  변함없는 격려와 믿음 때로는 따끔한 질책에 고개 숙여 감사드립니다  년 전 첫 직무를 시작할 때 제주에 남아 있던 잘못된 관행과 적폐를 바로잡고 도민 행복을 위한 결과물을 보여드리겠다고 약속드렸습니다  수십 년간 견고하게 유지됐던 공무원사회 줄 세우기 도민사회 편 가르기 오랫동안 난무했던 특권과 반칙 등 적폐를 청산하는 데 주력했습니다  인구 증가와 급속한 발전으로 인한 성장통을 극복하고 변화와 혁신을 통해 제주가 미래로 나아가기 위한 기틀을 다지는 데 집중했습니다  제주의 핵심가치인 청정자연을 지키기 위해 난개발을 방지하고 중산간 개발을 엄격히 제한했습니다  년 만에 대중교통 체계를 전면 개편해 보행자와 대중교통 중심의 도시로 도약하기 위한 기반을 마련했습니다  자원순환형사회로 진입하는 첫 단추로 재활용품 요일별 배출제를 시행했습니다  어떤 시련이 있더라도 차근차근 꿋꿋하게 제주도와 도민만 바라보며 하나씩 바꿔 나갔습니다  새로운 제도의 정착은 도민들께서 넓은 마음으로 불편을 감수해주셨기에 가능했습니다  도민 여러분  저는 민선기에 대한 도민의 평가를 받아 제주를 위해 일할 수 있는 기회를 다시 얻었습니다  저는 취임하면서 통합 소통 공직사회 혁신 실천을 약속드렸고 도정의 주인 도정의 목적 도정의 힘은 도민이라고 말씀드렸습니다  지난 년은 민선 기 동안 쌓아온 공직사회의 청렴과 공정 건전한 재정 청정한 환경 기반시설 확충의 성과를 바탕으로 지속가능한 제주 미래의 초석을 다져왔습니다  이러한 바탕 위에 미래세대에게 자랑스럽게 물려줄 수 있는 청정과 공존의 제주 백년대계를 구현하기 위한 도민 중심의 혁신도정을 도민과 함께 적극 추진하겠습니다  올해 말이면 동복리 환경자원순환센터의 소각시설이 완공됩니다  소각시설이 본격 가동되면 제주에서 배출되는 생활쓰레기 대부분이 처리되어 상당 기간 쓰레기 처리난을 걱정하지 않아도 될 것입니다  도두하수처리장은 여억원이 투자돼 현대화 시설로 탈바꿈됩니다 불어나는 하수 문제를 해결하고 그동안 고통 받아왔던 지역주민의 삶의 질도 높여가겠습니다  수십 년간 근본적인 해결책 없이 땜질식 처방에만 그쳤던 생활사회간접자본시설들이 하나 둘 해결점을 찾아가고 있습니다  제주도정은 여기서 그치지 않고 제주의 지속가능한 미래를 준비하고 동서남북 대 발전축을 중심으로 제주형 자족도시로의 발전 토대를 마련해 나가겠습니다  이를 통해 인구증가와 관광객 증가에 따른 성장통을 극복하고 현세대와 미래세대까지 안심할 수 있도록 대비하겠습니다  존경하는 도민 여러분   이제 제주는 대한민국을 넘어 글로벌 표준을 선도하는 미래 도시로 나아가야 합니다   이를 위해서는 무엇보다 위대한 제주도민의 통합된 힘이 필요합니다  제주도는 지금 자동차 급증에 따른 교통난과 주차난 해소를 위한 또 다른 도전을 시작하고 있습니다  전국에서 처음으로 차고지증명제와 렌터카총량제가 시행됩니다  차고지 증명제와 거주자 우선주차제 도입은 도민의 수용성과 편의성 확보를 목표로 주차장 확충 중장기 로드맵을 마련하고 지역공동체 복원과 서민가계 부담 최소화에 중점을 두고 단계적으로 추진하겠습니다  새로운 정책이 시작될 때 도민 여러분이 느끼시는 불편과 관련 업계의 어려움을 잘 알고 있습니다  항상 도지사로서 도민여러분께 송구스럽고 더할 나위 없이 고마울 뿐입니다 그 고마운 마음 가슴에 뜨겁게 품고 있습니다  도민 여러분  제주의 청정자연을 지키고 미세먼지 등 대기오염이 없는 쾌적한 환경을 함께 누리기 위해서 다시 한 번 위대한 제주도민의 힘을 보여주십시오  제주도정은 오로지 도민만 바라보면서 도민의 눈높이에서 제주의 발전 제주의 미래 도민의 행복을 위해서 온 힘을 다해 더 고민하고 준비해 나가겠습니다  최근 전국적인 경기 침체로 제주의 경제성장이 둔화되고 있습니다  제주도정은 공공부문 일자리 창출에 행정력을 집중해 지금의 국가적 경제 위기를 극복하려 합니다   제주의 가장 중요한 자산은 사람입니다   우리의 아들 딸 청년들에게 좋은 일자리를 제공하고 취업과 창업의 길을 열어주는 더 큰 내일센터를 오는 월부터 본격 가동할 계획입니다  청년들이 더 큰 미래를 설계할 수 있는 경로를 더욱 확대해 나가겠습니다  제주의 생명산업인 차산업과 관광산업의 경쟁력을 높여 시장 변화에 선도적으로 대응하도록 적극 지원하겠습니다  제주의 미래 먹거리를 찾기 위해 전기차 산업의 수준을 높이고 화장품을 포함한 신성장 동력산업을 집중 육성하겠습니다  해상풍력발전을 비롯해 도민이 참여하는 제주형 신재생에너지 모델을 정립해 지속가능한 경제생태계를 만들고 도민들께 과실이 고루 돌아가도록 하겠습니다  월 처음 시작된 수요자 중심의 지역사회 통합돌봄커뮤니티 케어 선도사업은 제주형 복지의 시작입니다 장애인과 어르신들이 지역사회에 거주하면서 맞춤형 복지서비스를 누릴 수 있도록 하겠습니다  지난해 주년을 맞아 대한민국의 당당한 역사로 자리 잡은 의 완전한 해결을 위해 특별법 개정에 더욱 힘을 기울이겠습니다  최근 경찰청 인권침해 사건 진상조사위원회에서 제주해군기지 건설과정에서 있었던 공권력의 잘못에 대한 조사결과를 발표했습니다  도정 책임자로서 과거 행정의 잘못으로 고통 받은 모든 분께 정중히 사과드립니다  강정마을 주민들의 갈등을 해소하고 강정마을 공동체 회복을 위해 최선을 다하겠습니다  존경하는 도민 여러분   제공항의 핵심은 안전 균형발전 미래입니다   제주공항의 안전과 이용불편은 모두가 공감하는 문제입니다  더 이상 대안을 찾아가야할 도정 책임자로서의 의무를 회피하거나 미루지 않겠습니다  제주에 필요한 제공항이 미래를 위한 도민의 공항으로 만들어갈 책임이 우리에게 있습니다  공항운영권 참여를 통해 이익이 도민에게 돌아갈 수 있도록 하고 주민들을 위한 지원책과 제주 균형발전을 위한 방안 개 분야 개 사업을 발굴해 국토부를 설득하겠습니다  제공항은 제주의 경제 지도를 바꿔 지속가능한 미래로 비상하는 안전한 날개가 될 것입니다  재조사 용역 당시 합의된 바와 같이 중대한 하자가 발견되지 않은 이상 제공항은 정상 추진되어 나갈 것입니다  도민의 공항 친환경적이면서 지속가능한 제공항이 되도록 하겠습니다  지난 년 도민과 함께 많은 것을 이뤘지만 앞으로 해야 할 일이 더 많습니다  제주가 반드시 보존해야할 가치를 지켜나가기 위해 현장과 바닥의 목소리를 듣고 더 깊이 소통하고 통합하며 변화와 혁신의 걸음을 멈추지 않겠습니다  지속가능한 행복한 제주 대한민국의 미래를 선도하는 제주를 만들기 위해 무한한 책임감을 가지고 최선을 다하겠습니다  제공항을 비롯해 하수처리시설 폐기물 자원순환 시설 등 제주를 위해 반드시 해야 할 일에 대해서는 흔들림 없이 진행해 나가겠습니다  미래는 함께 만들어 가는 것입니다 도민과 함께 국민과 함께 행복한 제주를 만들어 가겠습니다  미래를 향한 제주의 담대한 여정과 변화를 위한 도전에 도민 여러분의 적극적인 동참을 부탁드립니다 고맙습니다\n",
            " 과학기술 연구동향 연구기관 및 한인 과학자 정보 제공으로 양국 공동연구 기반 마련\n",
            "년 월 서울 성수동 크레비스파트너스 사무실 김재현 크레비스파트너스 대표는 갓 작성한 토지 매매계약서를 들여다보고 있었다 매수자는 김재현 대표 권민석 리디북스 공동창업자 김원영김동민 크레비스파트너스 총괄 이사 등 인 소재지는 서울 성동구 서울숲 주변 평약 으로 매입가는 평당 만원이었다 이들이 땅을 산 이유는 단순했다 청년 주거 문제를 해결할 방법을 고민하던 중 크레비스파트너스가 투자한 스타트업초기 벤처기업과 회사 직원들부터 싼값에 거주할 수 있게 돕자고 뜻을 모은 것이다 회사 사무실 근처인 성수동 토지를 매입한 것도 출퇴근 편의를 고려한 결정이었다 한데 얼마 후 김 대표는 생각을 바꿨다 땅을 더 가치 있게 사용하려면 회사 관계자들뿐 아니라 더 많은 사람에게 혜택이 돌아가야 한다는 신념 때문이었다 마침 그때 서울시가 운영하는 사회주택이 떠올랐고 결국 그해 월 헐값으로 서울주택도시공사공사에 토지를 넘겼다 유명 연예기획사의 성수동 이전 개발 호재 등으로 토지 가격이 평당 만원까지 치솟던 때였다 김재현 크레비스파트너스 대표  미친 것 아니냐는 애길 들었죠 한창 가치가 오르는 곳을 사회주택 부지로 제안하니 서울시 심사 관계자분들도 의아해했습니다 지금 그 땅 가격은 평당 만원으로 두 배가 됐죠 크레비스파트너스 본사에서 만난 김 대표는 애초에 땅 부자 되려던 게 아니었다며 껄껄 웃었다 크레비스파트너스는 그가 년에 설립한 국내 최초 임팩트 투자 전문회사다 임팩트 투자는 사회환경 문제 해결에 힘쓰는 벤처 기업에 투자해 이익을 얻는 투자 방식을 말한다 크레비스파트너스 외에도 다음커뮤니케이션현 카카오 창업자인 이재웅 쏘카 대표가 만든 소풍 현대가 세 정경선씨가 설립한  등이 활발하게 활동하고 있다 에듀플렉스교육 프렌트립여가 활동 렌딧금융 등 지금까지 크레비스파트너스가 투자한 스타트업은 개 이상 능력 있는 사람들이 좋은 목적을 가지고 투자나 창업에 나서면 사회 문제를 해결할 수 있다는 게 그의 지론이다 굿 컴퍼니로 세상을 바꾸겠다는 포부를 가진 김 대표에게 임팩트 투자의 현재와 미래를 물었다  지속가능성에 집중 투자금 배 회수하기도 임팩트 투자란 무엇인가 과거엔 사회적 기업 소셜 벤처라는 표현을 많이 썼다 한국에 이런 기업 투자 방식이 처음 소개됐을 땐 그리 성과가 좋지 않았다 사회에 좋은 영향을 주고 싶지만 돈은 벌 수 없겠다고 판단해 떠난 사람도 많다 하지만 운 좋게 크레비스파트너스는 투자해서 이익을 냈다 최근 글로벌 시장에서 임팩트 투자가 주목받자 국내에서도 다시 주목받기 시작한 것으로 보인다 임팩트 투자로 사회 문제를 해결하고 투자 이익도 얻을 수 있는 시대가 온 거다 어떤 점이 달랐나 지속가능성에 집중한 게 중요했던 것 같다 소셜 벤처 세상에 좋은 영향을 주는 임팩트 투자가 지속 가능하다는 걸 입증했다 선한 목적도 좋지만 사업을 지속할 수 있느냐를 더 중요하게 봤다 임팩트 투자를 한다고 해서 타인보다 더 착한 건 아니다 굳이 표현하자면 따뜻한 투자 정도로 얘기하고 싶다 크레비스파트너스 임직원 홈페이지 캡처 성과지표를 구체적으로 소개해 준다면 일단 이익을 내고 있고 년에 씩 성장하고 있다 제일 잘된 예를 들자면 투자금의 배를 회수한 사례가 있다 고유계정본 투자 내부수익률은  정도다 펀드를 통해선 주력으로 투자하는 규모가 억억원이다 임팩트 투자와 일반 투자의 경계가 모호한 경우도 있을텐데 기업가가 사회적 가치에 대해 이해인정해야 하고 자신의 회사가 가진 사회적 가치에 관해 설명할 수 있어야 임팩트 투자로 본다 아이리스 플러스라는 표준화된 국제 기준도 있다 물론 임팩트 투자인지 아닌지 판단하는 게 간단한 문제는 아니다 회사가 성장해 일반 투자 비중이 커지더라도 임팩트 투자사라는 정체성은 잃고 싶지 않다 그렇다고 해서 임팩트 투자 아닌 걸 임팩트 투자라고 우기는 일도 없을 것이다 일반 투자를 최대한으로 확장하더라도 전체 운용 자금의  이상은 임팩트 투자로 유지할 거다  투자 회수도 책임 있게 금융  부동산 문제에 주목 어떤 사회 문제에 주목하나 현재 투자한 스타트업을 기준으로 말씀드리면 금융 농수산 식품업 부동산 취약계층 케어라고 할 수 있다 이 중에서도 거의 모든 사람이 겪는 금융 부동산 식품 문제에 주목하고 있다 임팩트 투자 관점에선 투자뿐 아니라 투자 회수도 중요하다 우리는 책임 있는 엑싯이란 표현을 쓴다 우리가 지분을 팔고 나와도 임팩트가 유지될 수 있도록 노력한다 그래서 고유계정의 경우 부분 엑싯을 많이 했다 지분을 계속 유지하며 사회적 문제가 해결될 수 있도록 돕는 차원이다 구체적인 예를 들어 달라 성수동 토지를 공사에 넘기는 과정에서 알게 돼 투자한 스페이스워크라는 스타트업이 있다 인공지능 건축 설계 기술을 활용해 토지 개발 솔루션을 제공한다 예를 들어 서울시가 사회주택 사업을 하려면 과거엔 시뮬레이션 없이 땅을 먼저 매입한 후 사업을 추진하는 등 불투명성이 컸다 하지만 스페이스워크 솔루션을 이용하면 용적률 도로 편입 채광 등 다양한 문제를 로 시뮬레이션 해볼 수 있다 스페이스워크의 붕괴 위험 노후 건물 탐색 서비스 랜드북 세이프티 홈페이지 캡처 공익을 목적으로 스페이스워크 솔루션을 공사에 먼저 공급하도록 했고 현재 가로주택정비사업 등에 사용되고 있다 건축가를 통해서 하면 몇 달씩 걸리던 일을 가 하면서 용역 시간 가설계 비용이 크게 줄었고 결과적으로 분양가도 낮출 수 있게 됐다 다른 분야에도 적용 가능한가  건축 설계 기술이기 때문에 데이터만 있으면 다양한 분야에 적용할 수 있다 대표적인 예가 랜드북 세이프티다 작년에 용산 상가 붕괴 상도동 유치원 건물 붕괴 등 큰 사건이 있었는데 랜드북 세이프티를 사용하면 건축 연도 건축 방식 층수 노후도 등의 데이터를 활용해 붕괴 위험 노후 건물을 탐색할 수 있다 현장 조사 인력이 년 걸려서 할 일을 분의  수준으로 줄일 수 있는 혁신적인 서비스다  가톨릭 사제 꿈꾸던 소년 제일 중요한 건 실력 창업 계기는 초등학교 학년 때 꿈은 가톨릭 사제가 되는 것이었다 인자하게 다른 사람을 품어주는 모습이 좋아 보였다 어머니께서 좋아하시며 기업 경영가도 비슷한 역할을 할 수 있다고 얘기해 주셨다 이후 대학에서 경영학을 전공했는데 창업을 해봐야겠다는 생각이 들었다 그러다 서울대 선배였던 에듀플렉스 고승재 대표를 만나 년에 크레비스파트너스의 전신인 싸이맵디지털휴먼웨어를 함께 창업했다 임팩트 투자에 관심을 갖게 된 배경이 있나 년 무렵 중국 요리 전문점 웹사이트 만드는 프로젝트를 한 적 있다 당시 지배인과 미팅을 했는데 한글을 읽지 못하시더라 내가 모르고 있던 세상이 크다는 걸 그때 느꼈다 사회에 좋은 영향력을 주고 싶다는 꿈과 하는 일이 서서히 연결되기 시작했다 임팩트 투자를 통해 크레비스파트너스 이룩한 성과 홈페이지 캡처 목표가 있다면 년 즈음 쌍용차를 인수해 테슬라 같은 회사 만들어 볼까라는 생각을 했다 허황돼 보이지만 조 규모 펀드 만들면 가능한 얘기다 고용 환경 문제를 동시에 해결하는 이 정도 크기의 문제를 풀어야 임팩트 투자가 시민 사회의 공감과 지지를 받을 수 있다고 본다 예비 소셜 벤처  스타트업 창업가를 위해 조언을 해준다면 제일 중요한 건 실력이라고 생각한다 실력이 없는데 사회적 영향력을 주장하면 위험하고 실력이 있는데 주장하지 않는 것도 별로 바람직하지 않다  \n",
            "판타지부터 무협 등 장르 다양 다양한 장르의 모바일 게임 신작이 여름 시즌을 공략한다 월 출시되는 신작만 여종에 이를 전망이다 그동안 국내 모바일 게임 시장은 일부 게임이 점유율을 독식해왔다 여름 시즌 출시되는 신작이 기존 시장 재편을 이끌지가 관전 포인트다 일 게임 업계에 따르면 각 게임사가 여름 시즌에 맞춰 모바일 게임 신작을 차례로 선보일 예정이다 시노앨리스 우선 출시일이 확정된 게임은 넥슨코리아가 준비하고 있는 모바일 역할수행게임 시노앨리스다 일본 스퀘어에닉스가 개발한 시노앨리스는 오는 일 국내 포함 글로벌일보느 중국 홍콩 대만 마카오 제외 시장에 동시 출시된다고 넥슨 측은 설명했다 시노앨리스는 동서양을 아우르는 동화 속 주인공의 이야기를 재해석한 작품이다 일본에 선출시돼 일러스트와 완성도 높은 스토리가 호평을 받은 만큼 국내 흥행이 기대되고 있다 퍼스트서머너 라인게임즈는 스케인글로브에서 개발한 퍼스트 서머너의 출시를 앞두고 사전 예약 이벤트를 진행하고 있다 퍼스트 서머너는 세로 화면 기반의 수동 조작 및 몬스터 소환을 활용한 전략 등 직접 플레이의 재미를 앞세워 지난 월 진행한 테스트를 통해 합격점을 받은 작품이다 국내 포함 북미 유럽 등 글로벌 개국에 동시 출시될 예정인 퍼스트 서머너는 라인게임즈의 올해 첫 타이틀이란 점에서 더욱 주목을 받고 있다 라인게임즈가 해당 게임을 앞세워 모바일 게임 사업에서 다시 힘을 받을지 기대된다 테라클래식 카카오게임즈는 란투게임즈가 개발 중인 모바일 테라 클래식 출시를 앞두고 티저페이지를 오픈했다 테라 클래식은 세계 천만 명이 즐긴   테라를 모바일 기기로 최적화한 게 특징이다 이 게임은 원작 세계관의 년 전 시대가 배경이다 특히 온라인 게임을 연상하게 하는 최고 수준의 그래픽과 방대한 콘텐츠가 강점으로 내세운 만큼 흥행작 반열에 오를지 주목을 받고 있다 보스레이브 치우 신시에 이는 바람 룽투코리아는 중국 게임사 씽크플라이에서 개발한 판타지 무협  보스레이브를 여름 시즌에 선보일 예정이다 보스레이브는 실사풍  그래픽과 방대한 콘텐츠를 담은 신작이다 게임 내에서는 보스 몬스터를 포획해 탈 것과 소환수 등으로 사용할 수 있는 시스템이 구현돼 있으며 보스를 처치하는 과정에서 최상위 대미지를 기록한 명의 이용자에게만 탈 것 혹은 소환수 획득의 기회를 제공해 경쟁의 묘미를 살렸다는 평가다 썸에이지는 모바일 게임 치우 신시에 이는 바람 의 여름 시즌 출시를 앞두고 사전 예약을 진행 중이다 치우 신시에 이는 바람은 고대 신화 치우천왕 스토리를 재해석한  장르다 근거리 딜러 광도 원거리 공격형 영사 원거리 단체 공격형 접무 등 다양한 직업 중 하나를 선택해 즐길 수 있다 시장에서는 여름 시즌을 노린 신작들이 각 게임사의 실적 개선을 이끌지 예의주시하고 있다 게임사별 마케팅 전략과 게임 완성도에 따라 결과는 달라질 전망이다 업계 한 관계자는 여름 시즌을 노린 신작들이 하나 둘 출시 채비를 갖추고 있다 시노앨리스를 시작으로 치우 신시에 이른 바람 등이 여름 시즌 시장을 공략한다며 여름 출시작들이 기존 인기작과 경쟁해 유의미한 성과를 얻을지 지켜봐야할 것이라고 말했다 \n",
            "월 폰 사면 폰으로 교환 프로모션  삼성 갤럭시 로 중고폰 된 만대 폰들 대부분 국외로 국내서 팔던 와 판매점도 잠정 중단 내수 고객에 새 폰 팔아야 제조사 영향 삼성전자 갤럭시  연합뉴스 지난 월 세대 이동통신 가입자 유치전을 준비하던 이동통신 사는 고민에 빠졌다 롱텀에볼루션 버전 삼성전자 갤럭시과 엘지전자  씽큐가 나란히 출시됐는데 개월 뒤에 곧바로  스마트폰갤럭시 씽큐이 나오기로 돼 있어서다 당장 엘티이폰을 팔자니  고객을 유치하기 어렵고 안 팔자니 제조사와 관계가 껄끄러워지는 상황이었다 궁여지책은 세대교체 프로모션이었다 엘티이폰을 산 고객 가운데 원하는 경우 부품교체 값만 받고 폰으로 바꿔주기로 한 것이다 통신사 입장에선 고가 요금을 쓰는  고객들을 유치할 수 있어 장기적으로 이익이 되는 장사였다 그러나 만원이 넘는 폰을 거저 줬을 때 당장 영업 실적이 깎이는 점도 무시하기 어려웠다 이통사들은 거둬들인 엘티이폰을 국내외로 팔기 시작했다 개월간 소비자 손을 탄 휴대폰 가운데 상태가 좋은 것들을 일부 고쳐 일명 리패키징재포장 폰으로 판 것이다 에스케이텔레콤이 지난 한달 동안 판매한 국내 갤럭시  엘티이 가격은 만천원이다 출고가만천원보다 만원 저렴하다 지원금 규모도 새 폰보다 최대 배 많았다 소비자들이 휴대폰 커뮤니티에 리패키징폰 어디 없냐고 수소문하는 이유다 하지만 앞으로는 소비자들의 요구만큼 국내 시장에서 리패키징폰을 찾아보기 어려울 전망이다 아직 엘티이용 새 제품 재고가 남은 휴대폰 제조사들이 국내 시장에 중고폰이 풀리는 걸 반기지 않아서다 실제로 이번 프로모션으로 이통사가 매입한 리패키징폰 대다수는 국외로 팔려나갔다 업계가 추정하는 삼성엘지 엘티이 중고폰 규모는 만천여대인데 이 가운데 를 확보한 케이티와 엘지유플러스가 중고폰 보험사를 끼고 과 갤럭시을 수출했다 주로 충성도와 구매력이 좋은 인도와 중동 일부 아프리카 시장으로 나갔다고 한다 지난 한달간 국내에 갤럭시  일부 물량을 판매했던 에스케이텔레콤과 일부 휴대폰 판매점들도 최근 국내 판매를 전면 중단했다 한 중고폰 판매사업자는 리패키징폰을 공개적으로 홍보했다가 제조사 항의를 받았다며 당분간 판매하지 않는다고 밝혔다 업계 관계자는 국내 소비자들은 아쉽겠지만 제조사 입장에선 두터운 엘티이 고객층을 새 폰으로 끌어들일 필요가 있었다며 장기적으로 폰이 보급되면 엘티이 휴대폰 가격이 중고폰만큼 내릴 거로 기대한다고 했다\n",
            "텔레콤은 삼성전자와 국내 최초로  단독규격인   패킷 교환기와 코어 장비를 연동해 순수  시스템을 이용한 데이터 통신에 성공했다고 일 밝혔다 현재  네트워크는 와 장비를 일부 공유하는  복합 규격 방식이다 네트워크를 모두  장비로 구성하는  는 표준화 개발 소요 시간과 비용 자원이 많이 필요해 상용화 초기에는  방식을 활용하는 것이 일반적이다 이번에 선보인  는 기존  에 비해 데이터 처리 효율성이 배 높다 대규모 트래픽을 효율적으로 제어할 수 있어 증강현실과 가상현실 자율주행 스마트팩토리 등 차세대 서비스에 최적의 통신 성능을 제공할 수 있다는 것이 텔레콤 측 설명이다  \n",
            "서울  박지원 법제사법위원회 국회의원이 일 오후 서울 동대문구 법무부 서울준법지원센터에서 열린 보호관찰제도 주년 기념행사에서 축사를 하고 있다   저작권\n",
            "넷마블대표 권영식은 모바일 역할수행게임 세븐나이츠에 린 신화 각성 등 대규모 업데이트를 실시했다고 일 밝혔다 새롭게 신화 각성하는 린은 강화된 스킬들을 통해 적에게 더욱 강력한 데미지를 줄 수 있다 특히 각성기를 통해 상대방의 버프를 감소시켜 상대방을 빠르게 무력화시킬 수 있는 강력한 영웅으로 거듭나게 됐다 신화각성 후 강력해진 힘으로 아이사의 황제에 오르면서 세븐나이츠에 스토리 전개에 힘을 더할 예정이다 신화 각성은 기존 각성 영웅을 한 번 더 성장시킬 수 있는 시스템으로 신화 각성 된 영웅은 새로운 외형과 더욱 뛰어난 능력치를 보유하게 된다 이번 업데이트로 새로운 천상계 장비가 추가 됐으며 장비 신화 각성도 가능해졌다 천상계 장비는 난타전 콘텐츠를 통해 획득할 수 있으며 기본 장비보다 더욱 뛰어난 옵션을 보유하고 있다 성장 난이도도 대폭 낮췄다 모든 영웅들을 최초 획득 시 레벨로 획득할 수 있게 됐으며 요일던전에서 획득할 수 있는 신화 정수도 배로 늘어났다 또한 성장업적을 통해 스킬옵션 전용장비 등 다양한 재화를 획득할 수 있게 됐다 넷마블은 이번 업데이트와 세나의 달을 기념해 출석판 이벤트를 진행한다 이용자들은 일 동안 매일 출석만 해도 불사의 반지 신화각성 장비 천상계 장비 등 다양한 보상을 획득할 수 있다 \n",
            " 슈퍼 출시 일 서울 광화문 스퀘어에서 열린  슈퍼 출시 행사에서 모델들이 초고화질  콘텐츠를 체험해 보고 있다  \n",
            "판단 신중해야필요한 사람들이 다투면 돼 목포  김종식 전남 목포시장이 일 오전 목포시청 상황실에서 민선 기 취임 주년 기자회견을 갖고 있다   김종식 전남 목포시장은 일 무소속 손혜원 의원에게 건넨 문서와 관련 목포시의 공식 입장은 사법부에 판단을 맡긴다는 것이라고 재확인했다 김 시장은 이날 오전 목포시청 상황실에서 가진 민선 기 취임 회견에서 쟁송의 대상이기 때문에 판단은 신중해야 한다면서 이같이 말했다 수사를 받아 온 당사자인 목포시가 자료에 대한 검찰의 결정을 두고 옳고 그름을 판단하는 것은 맞지 않다는 입장으로 보인다 김 시장은 시청공무원도 검찰의 수사를 받았으며 보안자료 여부가 초미의 관심이 되고 있다면서 서류의 성격은 필요한 사람들이 다투면 되는 사안이라고 잘라 말했다 박홍률 전 시장 재임시절 일어난 사안이고 판례 등 해석이 분분한 상황에서 굳이 휩쓸릴 필요가 있겠느냐는 분석이다 하지만 당사자인 목포시가 명확한 입장을 보이기 보다는 한발 물러난 듯한 인상을 보이면서 논란도 일고 있다 또 전임 시장과의 불편한 관계를 단적으로 보여주는 것이라는 정치적 해석도 낳고 있다 앞서 검찰은 지난 년 월 박 전 시장이 손 의원에게 목포시의 도시재생사업 등에 대한 보안자료를 넘겨 주고 이 자료를 토대로 손 의원이 유달동과 만호동 일대 건물과 땅을 구입했다고 발표했다 한편 목포시는 지난달 일 손 의원에게 문건을 전달한 박 전 시장이 비공개 비밀문건이 아니다는 주장에 해석과 판단은 사법기관의 몫이라는 배치된 입장을 보였다 또 보안자료라고까지 이야기할 수 없다는 목포시 담당 간부의 발언에 대해서도 실무적 차원의 개인적 견해라고 밝혔다 반면 박 전 시장은 전달된 문건은 용역보고회와 시민공청회 등을 통해 공개된 내용을 요약한 것이라며 검찰의 보안문서 결정을 정면으로 반박했다 \n",
            "서울   일본정부가 반도체와 유기발광다이오드 소재의 한국 수출규제를 발표한 가운데 일 오후 수출상황 점검회의가 열린 서울 종로구 한국무역보험공사 대회의실에서 성윤모 산업통상자원부장관이 모두발언을 하고있다   저작권\n",
            "매슈 우스티븐  퓨어스토리지 아태일 최고기술책임자  디지털 우주 에 떠다니는 데이터가 기하급수적으로 늘어나고 있습니다 인간은 물러나고 인공지능이나 머신러닝에 데이터 관리를 맡겨야 하는 시대가 올 겁니다 일 매슈 우스티븐 퓨어스토리지 아시아태평양일본지역 최고기술책임자사진는 급증하는 데이터를 관리하려면 효율적인 시스템이 필요하다고 말했다 그는 협력사인 엔비디아의  콘퍼런스에 참석하고 한국 고객들의 요구사항 등을 파악하기 위해 한국을 방문했다 지난 월 아시아 지역 로 취임한 이후 첫 방한이다 우스티븐 는 제타바이트의 제곱 바이트 단위를 언급하며 데이터의 방대함을 설명했다 는 를 지구에서 달까지 두 번 쌓아 올려야 하는 규모다 그는 세계에 떠다니는 데이터의 크기가 수년 내 에 이를 것이라는 추산도 나온다며 문제는 데이터가 급속도로 증가하고 있다는 것이라고 말했다 사물인터넷 등에 부착되는 센서가 급증하면서 데이터도 빠른 속도로 쌓이고 있다는 것이다 그는 수집된 방대한 양의 데이터가 실시간으로 정확히 분석돼야 한다는 점을 강조했다 퓨어스토리지는 데이터의 중복 제거 압축 저장 등의 기술로 데이터를 효율적이고 간단하게 보관할 수 있도록 한다 년 설립된 퓨어스토리지는 올플래시 스토리지를 내놓으며 급부상했다 기존 스토리지 기업들은 하드디스크 기반의 스토리지 시스템을 구축해 사용해왔다 올플래시 스토리지는 이런 시스템보다 데이터 처리 속도가 빠를 뿐만 아니라 데이터 저장에 필요한 공간의 크기가 분의  수준으로 줄어든다 우스티븐 는 한국 기업들이 글로벌 경쟁력을 유지하려면 데이터 관리 기술이 무엇보다 중요하다고 말했다  \n",
            "유전체 빅데이터 기반 인공지능 신약개발 기업인 신테카바이오가 억원 규모의 시리즈  투자 유치에 성공했다고 일 밝혔다 이번 투자는 전략적 투자자로 유한양행이 참여했고 시리즈 투자에 참여했던 알토스벤처스와 상장 주관사인 증권을 포함해서 새한창투타임와이즈인베스트먼트 등 다수의 재무적 투자자가 참여했다 신테카바이오는 올해 월부터 제약회사벤처캐피탈자산운용회사증권사 등을 대상으로 상장 전 시리즈 투자유치를 위한 을 진행해왔고 지난 달 성공적으로 투자유치를 완료했다고 설명했다 년 억원 규모의 시리즈 투자와 년 억원 규모의 시리즈 투자를 성공적으로 유치한 바 있는 신테카바이오는 이번 시리즈  투자유치에서 기존 투자자들이 보유하고 있던 전환우선주를 보통주로 전환함에 따라 보통주의 신주 인수 형태로 진행됐다 신테카바이오는 지난 년 이후 헬스케어 중외제약 등과 신약개발 공동연구를 진행해왔고 지난 월에는 셀리드생명과학과 신약개발 공동연구를 위한 업무협약을 체결하는 등 제약사들과의 공동 신약개발 파이프라인을 확대 중이다 또한 이 회사는 올해 월 헬스케어로부터 양사가 공동 발굴한 면역항암제 후보물질을 기술이전 받아 독자적인 신약개발 파이프라인도 확보했다 이 회사는 투자유치를 통해 진행중인 자체 파이프라인 개발에 박차를 가하고 제약사들과의 협업 프로젝트에 필요한 연구개발과 인력 확충 등을 추진한다는 방침이다 김태순 신테카바이오 경영총괄 사장은 올해 들어 증권을 기업공개 대표주관사로 선정한 이후 투자유치와 더불어 내부 규정 정비 신임감사 선임 지정감사인 선정 등 를 위한 일정들을 계획에 따라 추진해 나가고 있다고 말했다  신테카바이오 기업아이덴티티 신테카바이오 제공   기획   풀뿌리상권 살려내자 네이버 채널에서 를 구독해주세\n",
            "동두천시 정재훈  네이버 홈에서  뉴스\n",
            "양천구 김태형  네이버 홈에서  뉴스\n",
            "클라우드 보안 전문기업 아카마이코리아는 이경준 신임 대표이사를 선임했다고 일 밝혔다 이 대표는 한국후지쯔와 한국을 거쳐 년 아카마이코리아에 합류해 미디어 및 통신사 사업부 삼성그룹 및 하이테크 비즈니스 사업부를 총괄했다 이 대표는 콘텐츠전송네트워크과 클라우드 보안 업계 내 리더십 강화에 주력할 계획이다  채널\n",
            "충주  일 조길형충주시 제공  저작권\n",
            "권익위 미세먼지 민원 만건 분석제도개선 방안 마련 포스코 포항제철소가 희뿌연 초미세먼지에 뒤덮여 있다    어린이노인 등 미세먼지 취약계층 보호를 위해 실내공기질 관리대상이 확대되고 학교경로당지하철 등에 설치된 공기정화설비 관리도 강화된다 노후경유차 조기폐차 지원 대상으로 선정되면 폐차인수증명서를 통해 책임보험과 정기검사 의무를 면제하는 등 조기폐차를 통한 노후경유차 감축이 실제 친환경차 구매로 이어지도록 정책적 지원도 확대된다 국민권익위원회는 최근 년 개월간 민원정보분석시스템에 수집된 미세먼지 민원 만건을 분석한 결과를 토대로 의견수렴 절차를 거쳐 환경부 국토교통부 교육부 산림청 등 관계기관과 이같은 내용의 제도개선 방안을 마련했다고 일 밝혔다 정부는 국민의 우려와 관심이 미세먼지 취약계층에 대한 피해예방 지원과 교육현장의 공기정화시설 설치관리 등 교육현장 대책에 집중된 만큼 어린이 노인 옥외근로자 등에 대한 보호를 강화하기로 했다 이에 따라 어린이집 연면적  미만도 실내공기질 관리대상에 포함할 수 있도록 단계적인 적용대상 확대 방안을 마련할 계획이다 현행 실내공기질 관리대상은 어린이집의 경우  이상인 시설에 한정돼 전체 어린이집의 만개는 관리대상에서 제외되고 있다 또 이달부터 전국 유치원과 초중고 교실에 공기정화설비와 미세먼지 측정기 설치가 의무화되고 경로당 등 사회복지시설과 지하철 등 다중이용시설에도 공기청정기 보급이 확대되는 만큼 공기정화설비 관리방안을 마련해 소음 전기요금 필터교체 등 유지관리의 어려움을 이유로 활용률이 떨어지는 문제를 해결할 예정이다 공공근로 등 각종 재정지원 직접일자리사업 추진 시 미세먼지 저감조치에도 불구하고 무방비로 야외근로를 지속하는 일이 발생하지 않도록 나쁨 수준부터 마스크 지급 근무시간 단축을 실시한다 특히 경보 발령 시에는 야외근무를 즉시 중단하는 등 안전조치를 이행하도록 했다 미세먼지 저감대책 추진과정에서 나타난 사각지대와 국민이 느껴왔던 고충도 개선한다 그동안 노후경유차 조기폐차 신청이 몰리면서 등록말소까지 최대 개월이 소요됨에 따라 이 기간에 책임보험에 가입하지 않거나 정기검사를 이행하지 않아 과태료를 납부하는 사례가 있었지만 앞으로는 조기폐차 지원 대상으로 선정되면 폐차인수증명서를 통해 차량이 운행되지 않았다는 사실이 증명되면 책임보험과 정기검사 의무를 면제할 방침이다 노후경유차 조기폐차 지원금에 대한 거주요건 완화도 추진한다 그동안은 지원금을 받으려면 신청지역에 년 이상 거주해야해 이사 등으로 주소를 옮긴 경우에는 노후경유차를 폐차해도 보조금을 받지 못하는 사례가 발생했다 화목보일러의 경우 폐목재를 무분별하게 연료로 사용해 미세먼지를 배출하고 있다는 지적에 따라 연료사용기준 등 구체적인 사용지침을 마련해 교육홍보하고 장기적으로 오염물질 저감 방안을 마련할 계획이다 또한 주요 거점도시의 대기질 및 초미세먼지 개선대책을 마련하기 위해 지역별 대기오염 현황 오염물질 배출량 등을 평가하고 대기관리권역을 추가해 대기개선대책의 실행력을 높여나가기로 했다 특히 사업장자동차선박 등의 배출기준 초과와 같이 적발이 어렵고 신고가 필수적인 위반행위에 대해서는 공익신고 대상에 포함할 수 있도록 공익신고자 보호법 개정도 추진한다 전기수소차 등 친환경차 보급이 더 확대될 수 있도록 지원도 강화한다 조기폐차 보조금을 지원받은 후 경유차를 재구매하는 사례를 방지하기 위해 구매차종에 따라 보조금을 차등화하는 등 조기폐차가 실제 친환경차 구매로 이어질 수 있도록 할 방침이다 노후 경유화물차의 폐차를 유도하고 전기화물차를 구매할 경우 보조금 확대도 검토한다 이외에도 보조금을 지원받은 전기차를 수출할 때는 국내에서 등록말소 할 때와는 달리 배터리 반납의무가 없어 의무운행기간 년이 지나면 해외에 판매하는 등 편법이 발생함에 따라 수출할 때도 배터리를 반납하거나 잔존가치에 해당하는 금액을 금전으로 납부하는 방안을 추진한다 정부는 이번에 만든 대책 중 공기정화설비 관리 공공사업 참여 노약자 건강보호대책 등 당장 시행할 수 있는 과제는 즉시 조치하고 법령 개정이 필요한 과제는 입법작업을 시작해 내년 중 시행할 계획이다 박은정 권익위원장은 관계기관과 협업해 개선방안을 철저히 이행해 나갈 것이라고 말했다 조명래 환경부 장관은 국민의 목소리를 토대로 마련된 제도개선 방안을 차질 없이 실행해 미세먼지 정책의 완성도와 국민 체감도를 높이겠다고 강조했다 \n",
            "세종  학교 급식조리원과 돌봄전담사 등 전국 학교 비정규직 노동자들이 임금인상과 처우개선 등을 요구하며 오는 일부터 사흘간 총파업을 예고한 가운데 박백범 교육부 차관이 전국 시도교육청 부교육감들과 일 오후 정부세종청사에서 대응방안 모색을 위한 회의를 하고 있다   저작권\n",
            "경기도 용인시 목암타운에 설립된 녹십자 셀센터 조감도  녹십자홀딩스 제공 녹십자랩셀은 지난달 일부터 일까지 서울 그랜드 인터콘티넨탈 호텔에서 열린 글로벌 바이오 콘퍼런스 에서 자사가 개발중인 차세대 자연살해 세포치료제의 개발 현황에 대해 발표했다고 일 밝혔다 올해로 회째를 맞은 이번 콘퍼런스는 바이오의약품 분야의 최신 개발 현황과 규제 동향을 공유해 국내 바이오산업의 경쟁력을 높이기 위해 마련됐다 이번 행사의 발표자로 나선 황유경 녹십자랩셀 연구소장은 자사가 개발 중인 세포치료제의 가치와 개발 현황 등을 소개했다 세포는 우리 몸에서 암세포나 비정상 세포를 즉각적으로 파괴하는 선천면역세포다 녹십자랩셀은 간암혈액암을 적응증으로 한 세포치료제 의 임상 상을 진행 중이며 전세계적으로 가장 상용화에 근접해있다고 평가 받고 있다 또한 암세포에만 인식해 살상률을 크게 증가시킬 수 있는    단백질을 세포에 발현시킨 유전자치료제 개발도 병행하고 있다 최근에는 세포 대량생산동결 제형 기술을 기반으로 한  기술과  표적 항체 기술을 융합해 위암을 적응증으로 한 유전자치료제의 비임상 시험을 개시하는 등 차세대 세포 분야의 연구개발에 속도를 내고 있다  표적 항체 기술은 위암과 유방암 세포에서 과발현되는 단백질인 에 대한 인식률을 높여 세포의 살상력을 더 높이는 기술이다 황유경 녹십자랩셀 연구소장은 녹십자랩셀은 차세대 세포치료제 개발을 위한 독보적인 기술력을 꾸준히 확보하고 있다면서 기존 연구과제와 함께 세포를 활용한 후속연구도 활발히 이어나갈 계획이라고 말했다   기획   풀뿌리상권 살려내자 네이버 채널에서 를 구독해주세\n",
            "컴투스가 게임 스토리 공모전 컴투스 글로벌 게임문학상 의 응모작을 일월 일 원천 스토리와 게임 시나리오의 개 부문으로 나눠 접수한다 원천 스토리 부문은 작년과 동일하게 게임 또는 코믹스 애니메이션 등의 콘텐츠로 제작 가능한 창작 스토리 공모이며 게임 시나리오는 최근 인기 트렌드인 스토리 기반의 인터랙티브 게임으로 제작 가능한 창작 시나리오 부문이다 최종 대상 수상자 명에게는 만원의 상금이 수여되며 응모 부문별로 최우수상 명 우수상 명씩을 선정해 각각 만원 만원의 상금이 제공된다 또 수상자들에게는 인턴십 프로그램 참가 기회 제공 입사지원시 가산점 부여 수상작품집 출간 등 다채롭고 실질적인 역량 강화 기회도 제공한다 신인이나 기성 작가 누구나 참여할 수 있다  \n",
            "한국마이크로소프트 부사장 엔터프라이즈 커머셜 사업본부 우미영 파트너 및  사업본부 장홍국 전무 서비스 사업본부 김한호 상무 마케팅오퍼레이션즈 사업본부 유\n",
            "세종  일 오전 정부세종청사에서 열린 김현준 신임 국세청장 취임식에서 김 청장이 국민의례를 하고 있다   저작권\n",
            "요금제별 속도 제한 아래 무제한 이용 가능 강화되는  가입자 해외 데이터 로밍 혜택  제공 가  가입자들 전체를 대상으로 해외 데이터 로밍 무료 프로모션에 들어간다 기존에는 고가 요금제 이용자에게만 제공되던 혜택을 대폭 강화했다 는 오는 월 일까지  요금제 전 라인업에 대한 데이터 로밍 혜택을 늘린다고 일 밝혔다 기존에 속도 제한 아래 무제한 데이터 로밍이 가능했던 요금제는 속도 제한선을 더 높이고 데이터 로밍 혜택이 없던 요금제에는 새로 로밍 혜택을 추가하는 게 골자다   요금제는 슈퍼플랜 프리미엄월 만원 스페셜만원 베이직만원 슬림만원으로 구성돼 있다 기존 스페셜과 베이직 가입자들은 해외에서  속도로 데이터를 무한으로 쓸 수 있는 혜택이 제공되고 있었다 이번 프로모션으로 기존 속도보다 배 빠른 로 데이터를 자유롭게 쓸 수 있다 로 데이터 무제한 로밍이던 프리미엄 요금제 혜택은 그대로 유지된다 데이터 로밍 혜택이 포함되지 않았던 슬림 가입자들도 월 일까지 데이터로밍 하루종일 톡 요금제를 무료로 신청할 수 있다 데이터로밍 하루종일 톡은 원래 하루 원에 최대  속도를 무제한으로 즐길 수 있는 상품인데 신청만 하면 무료로 제공된다 박현진   사업본부장 상무는 해외 여행 시즌을 맞이해  의 차별화 혜택인 데이터 로밍 무제한을 강화해 모든  고객이 끊김 없이 데이터를 사용할 수 있도록 했다며 앞으로 고객이 체감할 수 있는  혜택을 지속적으로 강화하겠다고 말했다  \n",
            "이해찬 국회 방북단 구성 제안 도널드 트럼프 미국 대통령과 김정은 북한 국무위원장의 판문점 회담을 계기로 북미 간 대화의 물꼬는 물론 비핵화 논의가 급물살을 타면서 여권에서도 군불 때기가 본격화하고 있다  일 여권에선 대북 인도적 지원 금강산 관광 개성공단 재개 등을 위한 국회 대표단 방북 남북 간 대화 재개 및 이를 위한 정부민간의 교류 확대 요구가 봇물이 터지듯 하고 있다  어렵게 다시 조성된 남북미 간 평화 무드 속에 향후 대화 단절을 막을 최소 장치로 남북 정부민간의 교류를 이 기회에 확대하자는 취지로 보인다  다만 여당 일부나 야당에서도 현재 남북 교류 확대를 위해선 미국의 대북제재 완화가 선행돼야 한다는 신중론도 거세지고 있다 현재 대북 인도적 지원 문제도 유엔이나 미국의 태도 변화가 없다면 대북 제재 위반 사항이라는 점에서다  문재인 대통령의 최측근으로 불리는 김경수 경남도지사도 이날 경남도 월례전략 회의에서 멈춰졌던 한반도 평화 프로세스가 다시 시작될 것 같다며 한반도 평화 시대에 대비해 남북 교류 협력사업을 본격적으로 준비해야 한다고 강조했다 그러면서 한반도 평화는 곧 경제다 경남에서 남북 교류 협력사업 본격 준비에 착수해 한반도 평화 시대에 내실 있게 대비해달라고 당부했다  이해찬 더불어민주당 대표도 이날 오전 문희상 국회의장 주재로 열린 여야 당 대표 오찬 간담회에서 국회 차원의 방북단 구성을 공개 제안했다  이 대표는 여야 개 정당도 한반도 비핵화와 항구적 평화 구축을 위해 힘을 모아가길 염원한다며 국회 차원의 방북단을 구성해서 남북 국회회담 한반도 비핵화 대북 인도적 지원 금강산 관광 개성공단 재개 등 남북현안을 논의할 기회를 만들었으면 좋겠다고 주장했다  정동영 민주평화당 이정미 정의당 대표 등 범여권 정당도 적극적으로 찬성한다며 이 대표의 주장에 화답했다  정동영 대표는 천만 주권자를 대표하는 국회가 지난 년간 기여한 것을 생각하면 부끄럽기 짝이 없다고 했다 민주당도 이날 판문점 회담을 계기로 평화 담대한 전진 현수막을 걸고 당내 특위도 후속 활동을 검토하기로 했다  이런 가운데 김대중 전 대통령의 남 김홍걸씨가 상임의장으로 있는 대북 민간 교류 단체 민족화해협력범국민협의회민화협도 이날 성명을 통해 하노이 회담 결렬 후 만남조차 이루어지지 않았던 남북 정부 간의 교류와 협력은 반드시 재개되어야 하며 남북 민간 간의 교류도 이른 시일 내 이루어져야 한다고 강조했다 구체적으로 일제하 강제동원 피해자들의 진상규명을 위한 평양토론회와 월 금강산 공동행사를 위한 실무회담이 조속히 이루어지길 희망한다고 기대했다\n",
            " 시대 국내 실감미디어 생태계를 대표하는 차세대 미디어 플랫폼 사업자로 거듭나도록 하겠다 가  무선 가상현실 서비스  슈퍼을 출시하고  플랫폼 사업자로서 포부를 밝혔다  뉴미디어사업단장 김훈배 상무는 콘텐츠 사업을 넘어 플랫폼 사업자 새로운 미디어 시장 사업자로서 의  사업 방향성에 대해 말했다 단순히  기기나 콘텐츠만 개발하고 서비스하는 게 아닌 콘텐츠와 소비자를 연결하는 접점 역할을 하겠다는 설명이다   기기 및 콘텐츠 는 월일 서울 종로구 광화문 스퀘어에서  슈퍼 간담회를 열었다 지난 월일 출시된 슈퍼은 기존  단말 서비스 기가라이브의 단말 사양을 개선하고 콘텐츠를 강화한 서비스다 가장 큰 특징은  고화질 콘텐츠를 지원한다는 점이다 피코  를   기기로 활용해   해상도를 지원하며 의 화소 밀집도를 제공한다   뉴미디어사업단장 김훈배 상무  슈퍼 서비스는 기존 기가라이브와 마찬가지로 무선 독립형  기기로 제공된다 주로 삼성 기어 을 활용해 스마트폰과 연동한  서비스를 제공하는 다른 이동통신사와 달리 는 독립형  기기를 내세우고 있다 이날 발표에 나선 김훈배 상무는 착탈식 의 단점을 짚으며 무선 독립형  를 활용한 서비스를 제공하는 이유에 대해 밝혔다 스마트폰을 활용한 의 경우 스마트폰 케이스를 벗기고 다시 에 끼우는 과정에서 번거롭고 액정에 붙인 보호필름 흠집 등으로 인해 기기 몰입도가 떨어진다는 판단이다 또 전화 문자 등 각종 스마트폰 알림이  몰입을 방해한다고 지적했다 중국 피코와의 협력 이유에 대해서는 가성비를 꼽았다 중국  시장의 선두 기업으로서 저렴한 가격에 완성도 높은 제품을 제조하며 의 맞춤형 주문에 대해 잘 대응해 준다는 점에서 는 피코와 협력을 지속할 예정이라고 밝혔다 콘텐츠 역시  화질로 개선됐다 슈퍼은  고화질 콘텐츠 약 여편을 제공하며 스포츠 슈팅 공포 리듬액션 등 다양한 장르의 게임 종을 선보인다 는 매월 종씩 신규 게임을 추가하고 편의 전용 영화 콘텐츠를 제공하는 와이드맥스 상영관에는 매월 편의 최신 영화를 업데이트할 예정이라고 밝혔다 또한 올레  모바일 앱을 탑재해 여개 실시간 채널과 만여편의 도 제공한다   슈퍼은 기존 기가라이브보다 기기콘텐츠 면에서 개선됐다 스마트폰과 연동성도 강화된다 슈퍼 는 스마트폰의 모바일 데이터 공유테더링 기능을 비롯해 상호 화면 공유 기능을 지원한다 는 년  모듈을 탑재한  제품도 선보일 예정이다 현재는 와이파이를 바탕으로 제품을 사용할 수 있지만 내년부터는  기기 자체적으로  네트워크를 지원한다는 얘기다 정용기  뉴미디어사업단 팀장은 하반기 이후 오큘러스 플랫폼 등 다른 플랫폼에 탑재되는 형태로 확장하는 걸 생각하고 있으며 글로벌 제조사들과 접촉하고 있다라며 가성비 좋은 단말부터 고가의 고성능 단말까지 다양화해서 제품 라인업을 추가해나갈 예정이라고 밝혔다 이날 실제로 제품을 사용해본 결과 단말 성능 자체는 기존 기가라이브보다 좋은 모습을 보여줬다 기존 서비스가 낮은 단말 사양 탓에 화질이 낮은 뿌연 화면의 콘텐츠를 보여줬다면 슈퍼은 확실히 이전보다 선명한 화질을 자랑했다  서비스로서 기본 토대는 갖춰진 셈이다 슈퍼 서비스는 월 원 요금제로 제공된다 또   단말을 개월 콘텐츠 이용권과 묶어  할인된 가격인 만원에 판매한다 슈퍼은 전국  대리점 또는 샵에서 구매할 수 있다 게임 아닌 미디어 사업에 초점 는 차세대 미디어 사업으로서 의 가능성에 주목하고 있다 김훈배 상무는 영상미디어 시장은 콘텐츠유통에서 연동의 시대로 진화 중이며 차세대 미디어로 부상할 실감미디어 시장에서는 통신 인프라 기반의 플랫폼 사업자 역할이 확대될 거로 예상된다라고 짚었다  등 실감미디어가 유통 중심의  서비스에 뒤이어 콘텐츠와 사용자를 실시간으로 연결해주는 차세대 미디어로 자리 잡을 거라는 전망이다 는 시장조사업체 디지캐피탈의 지난해 분기 조사 결과를 인용해  등 전세계 실감미디어 시장이 년 조원에서 년 조원 규모로 약 배 성장할 거라고 내다봤다 국내에서는 같은 기간 조원에서 조원 규모로 약 배 성장할 거라고 예상했다 는 국내 실감미디어 시장 성장 전망치가 해외보다 낮게 책정된 이유에 대해 전방위적으로 실감미디어 시장을 이끄는 사업자가 없기 때문이라고 말하며 가 그 역할을 하겠다고 밝혔다 콘텐츠가 아닌 플랫폼 사업자로서 오픈형 실감미디어 생태계를 조성하겠다는 방침이다 특히 는 게임보다 미디어에  시장의 가능성이 있다고 판단했다 글로벌  사업자가 주로 게임에 집중하는 반면 는 영상 미디어에 더 초점을 맞추겠다는 전략이다 는 자사  서비스 사용자를 분석해본 결과 전체 사용자 중  이상이 미디어 가 게임을 소비했다고 밝혔다 또 접근성 높은 미디어로 접근한 결과 대까지 다양한 고객층을 확보할 수 있었다고 전했다 는 실감미디어 생태계를 조성하기 위해 자체  플랫폼을 구축하고 온오프라인 사업자를 대상으로   플랫폼을 개방할 계획이다 또 전략적 제휴를 기반으로 국내에 특화된  콘텐츠를 확보하고 국내외 신규  단말의 국내 유통 등을 단계적으로 추진할 예정이다 이날 는 다양한 파트너사와의 제휴 계획을 발표했다 영화 기생충을 제작한 바른손이앤에이의 관계사 바른손과는 멀티엔딩  콘텐츠를 협력기획했다 넷플릭스 블랙 미러 밴더스내치처럼  영화와 게임을 결합해 사용자 선택에 따라 결말이 달라지는 콘텐츠를 제공할 계획이다 아프리카와 협력한 스포츠 멀티뷰 중계 네이버 브라이브와 협력한  전용 스타 콘텐츠 이너테인먼트와 협력해 만든 아이돌 팬미팅 콘텐츠 등도 소개됐다 이밖에도 경기창조경제혁신센터 육성기업 민트팟과 협력한  면접훈련 콘텐츠 청담어학원과 협력한  영어교육 콘텐츠 헬로앱스와 협력한  코딩교육 콘텐츠 등 교육 서비스를 선보일 예정이다 오프라인 영역에서는 롯데와 협력해  단말기 렌털 서비스를 제공하고 실감형 스포츠 체험존 및 매장을 확대할 계획이다 실감미디어를 쉽게 전할 수 있는  직영점 운영 전용 플랫폼과 고객 선호가 높은 콘텐츠 패키지 유통을 통해  솔루션 적용 매장도 확대 추진한다 해외 시장에도 진출한다 는 오는 월일 말레이시아에   테마파크를 열고 아시아 지역을 중심으로 글로벌 매장을 확대할 예정이다 한편 는 증강현실 시장에 대해 아직 쉽지 않은 시장이라고 평가했다 김훈배 상무는  부문을 뚫어지게 보고 있지만 현재 시장에서  기반 플랫폼의 성공이 쉽지 않다라며  기반 렌즈들이 대중화되고 고객 진입장벽이 없는 시대가 오기를 기대한다라고 밝혔다 \n",
            "일본 한국 대상 반도체디스플레이 소재 수출 규제 채널\n",
            "서울   일본정부가 반도체와 유기발광다이오드 소재의 한국 수출규제를 발표한 가운데 일 오후 수출상황 점검회의가 열린 서울 종로구 한국무역보험공사 대회의실에서 성윤모 산업통상자원부장관이 모두발언을 하고있다   저작권\n",
            "서울  일 오전 서울 여의도 글래드호텔에서 열린 한국해양교통안전공단 출범식에서 문성혁 해수부 장관이 대통령 축사를 대독하고 있다 해양교통안전을 위해 흩어진 기능을 하나로 묶어 체계적인 종합 관리를 위해 선박안전기술공단이 개편돼 탄생한 공단은 해양교통안전 전문방송 실시 해양교통환경 분석대책 수립 안전 교육홍보 등 더욱 확대된 해양교통안전 업무를 담당한다   저작권\n",
            "서울   일본정부가 반도체와 유기발광다이오드 소재의 한국 수출규제를 발표한 가운데 일 오후 수출상황 점검회의가 열린 서울 종로구 한국무역보험공사 대회의실에서 성윤모 산업통상자원부장관이 굳은 얼굴로 관련 업계 대표들과 인사하고 있다   저작권\n",
            "임정자씨 별세 최병문씨 부인상 최형규월일 오후 시분께 순천 성가롤로병원 장례식장 호실 발인 일 오전 시분   \n",
            "켐트로닉스가 삼성전기 무선충전 사업 인수를 마무리하고 모바일 무선충전 사업 영역을 수신 분야까지 넓힌다 기존 송신용 무선충전 사업에서도 하반기부터 자동차 분야 매출이 본격화 될 전망이다 켐트로닉스는 무선충전 사업을 위한  자회사 위츠가 일 공식 출범했다고 밝혔다 회사는 지난 월 위츠를 통해 삼성전기 모바일용 무선전력전송 사업과 근거리무선통신 칩코일 사업을 억원에 양수하는 계약을 체결했다 기존  무선충전 부품을 주로 생산했던 켐트로닉스는 삼성전기 사업 인수로 사업영역을  분야까지 넓혀 와  솔루션을 모두 보유한 국내 무선충전 시장점유율 위 지위를 공고히 하게 됐다 당분간  사업은 켐트로닉스가  부문은 위츠로 분리 운영한다 이후 사업을 일원화할 계획이다 생산안정화를 위해 올해는 삼성전기 태국공장을 외주위탁 형태로 운영하고 내년 분기 켐트로닉스 베트남 공장으로 설비를 이전해 직접 생산에 나선다 켐트로닉스가 강점을 가진  부문은 기존 모바일에서 자동차 분야로 적용이 확대되고 있어 폭발적인 성장세가 예상된다 현대기아차가 향후 출시하는 종 이상 양산 차종에 무선충전 부품을 공급하기로 하고 개발을 진행 중이다 일부 차종에는 코일이나 모듈 대비 부가가치가 높은 완제품이 공급될 예정이다 에도 향후 년간 만대 차량에 무선충전 코일을 공급하기로 했다 르노삼성차와 쌍용차에도 무선충전 완제품을 공급하고 있다 모바일 분야 영역 확장도 가능해졌다 켐트로닉스는 갤럭시와 노트 시리즈 갤럭시워치용  모듈을 공급하고 있으며 갤럭시버드용  모듈도 공급을 시작했다 여기에 연간 매출 억원대 삼성전기 무선충전 사업이 추가된다 삼성전기로부터 인력 설비 지적재산권 등을 같이 양수해오기 때문에 기술력과 시장지배력을 그대로 이어받을 수 있다 가격경쟁력을 높여 삼성전자 중저가 모델과 중화권 제조사로도 매출 다변화가 가능할 전망이다 신규 사업부문 매출은 월부터 연결실적에 반영된다 증권가에서는 지난해 억원 수준이던 켐트로닉스 무선충전 사업 매출이 올해 송신과 수신 부문을 합쳐 억원을 넘어설 것으로 전망하고 있다 내년 이후 무선충전 장착 차량 모델이 늘어나면 전체 무선충전 매출은 억원 규모로 늘고 이 중 자동차용 매출만 억원 이상이 될 것으로 전망된다 켐트로닉스 관계자는 스마트폰 무선충전 기능이 기본 탑재되면서 글로벌 자동차 제조사도 편의 제공을 위해 무선충전 적용에 박차를 가하기 시작했다면서 향후 배터리가 탑재되는 모든 기기에 무선충전 적용 가능성이 열려있어  생활가전 로봇 사무기기 등에 탑재되는 무선 중전력 전송 기술과 전기차 무선충전을 위한 대전력 무선충전 기술도 개발 중이라고 말했다 정현정 배터리부품  \n",
            "강정 주민 갈등 해소공동체 회복 최선 다할 것 과거 진상조사보고서 공개 여부 제출된 바 없어 제주  원희룡 제주특별자치도지사가 일 오전 제주도청 층 대강당에서 열린 민선 기 회견에서 도정 비전을 설명하고 있다    제주  원희룡 제주특별자치도지사는 일 제주 해군기지 건설과정에서 과거 행정의 잘못에 대해 제주도민에게 공식 사과했다 원희룡 제주도지사는 이날 오전 제주도청 탐라홀에서 민선 기 출범 회견을 열고 최근 경찰청 인권침해 사건 진상조사위원회에서 제주 해군기지 건설과정에서 있었던 공권력의 잘못에 대한 조사 결과를 발표했다며 도정 책임자로서 과거 행정의 잘못으로 고통 받은 모든 이들에게 정중히 사과한다고 밝혔다 원 지사는 앞으로 강정 주민들의 갈등을 해소하고 마을 공동체 회복을 위해 최선을 다하겠다고 덧붙였다 또  강정 해군기지 건설과 관련 과거 진상조사 보고서 공개 여부에 대해 제주도정으로 제출된 해군기지 건설 관련 진상조사 보고서가 없는 상태다고 설명했다 이어 당시 사회협약위원회 강정분과에서 자체적으로 진상조사를 진행했다며 하지만 사회협약위원회 내부적으로도 진상조사 보고서가 채택되지 않았다고 말했다 원 지사는 당시 위원회에 소속돼 작성한 사람 등은 해당 진상조사 보고서를 가지고 있겠지만 결국 빛을 보지 못했다며 진상조사 보고서가 채택돼 제출됐다면 의견을 검토한 다음 잘못한 이들에 대한 조사와 징계가 내렸겠지만 그럴 수 없는 상황이라고 덧붙였다 한편 원 지사는 회견에서 제주 사건의 완전한 해결을 위해 특별법 개정에 더욱 힘을 기울이겠다고 강조했다 \n",
            "한국과학창의재단 과학문화 전문 인력 양성 사업은 과기정통부가 지난해 월 말 발표한 과학문화산업 혁신성장 전략 추진에 따른 신규 사업으로 과학문화 산업에 종사할 전문 인력 양성을 위한 대표적인 기반 사업이다 이 사업은 과학문화 관련 신규 진로를 발굴하고 서비스 분야에서 일자리 창출 기반을 마련해 차 산업혁명 시대 급변하는 환경에 연구자들이 적응할 수 있는 다양한 기회를 확대하기 위한 사업이다 과기정통부와 창의재단은 인력 양성을 위해 각계 전문가 자문회의를 추진해 현장의 다양한 의견을 수렴했고 효율적인 사업 운영을 위해 총괄연구조사 및 직종별 협력기관을 모집해 추진할 계획이다 과학문화 전문 인력은 융합강연자 과학퍼포머 크리에이터 과학저술가 과학만화가 스토리텔러 등이 있다 과학문화 전문 인력 양성 사업 운영에 도움을 줄 수 있는 협력기간 공모는 오는 일까지 진행하며 선정된 개의 기관 및 업체는 이후 직종별 교육생 모집월 하순월 중순 예정을 시작으로 내년 월 일까지 정해진 과업을 추진할 예정이다 과기정통부와 과학창의재단은 지난 년부터 과학을 주제로 분 동안 발표하는 경연대회인 페임랩 코리아를 통해 매년 명의 전문 인력을 발굴해 대중이 과학기술을 문화로 즐길 수 있도록 지원하는 등의 노력을 기울여 왔다 양 기관은 매년 늘어나는 대중의 수요에 비해 공급자가 부족한 상황을 극복하기 위한 대안으로 바로 현장에 투입 가능한 전문 인력 뿐만 아니라 잠재력을 갖춘 활동 경험 보유자를 선발해 양성할 계획이다 과기정통부 유영민 장관은 이번 사업을 통해 과학기술을 문화로 접하기 원하는 대중의 수요를 충족시킬 수 있을 것이라며 이를 위해 전문 인력 발굴 양성 활용의 선순환 체계를 구축하겠다고 말했다 사업과 관련한 보다 자세한 내용은 한국과학창의재단 홈페이지를 통해 확인할 수 있다 이연호  네이버 홈에서  뉴스\n",
            "진천   충북 진천군 덕산면이 다음 달 일 읍 충북 진천군 덕산면이 일 읍으로 승격했다 군은 덕산읍 승격에 맞춰 행정구역을 읍면에서 읍면으로 개편했다 덕산 인구는 지난해 월 만 명을 넘어섰다 읍승격에 필요한 인구는 만 명이다 년 월 명에 불과했던 덕산 인구는 혁신도시 정주 여건 개선으로 년 말 명 년 만명 지난해 만명을 찍었다 덕산 인구는 월 말 만명외국인 명을 기록했다 덕산 인구 증가로 진천군 주민등록 인구는 만명을 넘어섰다 군은 덕산읍에 재무팀을 신설하고 자치법규 공부대장 안내표지판도 정비 했다 군은 이날 덕산읍 행정복지센터 앞 광장에서 승격 기념행사를 했다이시종 충북도 도지사 장선배 충북도의회 의장 송기섭 진천군수 경대수 국회의원 박양규 진천군의회 의장 등 여명이 참석했다 송기섭 군수는 덕산읍은 중앙정부를 비롯해 충북도 진천군 주민이 합심해 만들어 낸 결과물이라며 덕산읍과 혁신도시를 중심으로 신재생에너지 차 산업 등 미래산업을 육성해 진천군 발전을 견인하겠다고 말했다 \n",
            "핀란드 알토 대학교와 공동연구게임 흐름 방해하지 않는 장점 카이스트는 일 문화기술대학원 이병주 교수가 핀란드 알토대학교와 공동연구를 통해 게임 내 레이턴시 현상을 없앨 수 있는 기술을 개발했다고 밝혔다 레이턴시는 장치 네트워크 프로세싱 등 다양한 이유로 발생하는 지연 현상을 말한다 이용자가 명령을 입력했을 때부터 출력 결과가 모니터 화면에 나타날 때까지 걸리는 지연을 엔드투엔드 레이턴시라 한다 실시간 상호작용이 중요한 게임에서는 이런 현상이 이용자 능력에 부정적 영향을 미치는 것으로 알려져 있다 이에 따라 연구팀은 레이턴시가 있는 게임 환경에서도 플레이어의 본래 실력으로 게임을 할 수 있도록 돕는 레이턴시 보정 기술을 개발했다 이 보정기술은 레이턴시의 양에 따라 장애물의 크기 등 컽보기 형태를 변화시켜 레이턴시가 있음에도 레이턴시가 없는 것처럼 느껴지는 환경을 조성하는 기법이다 이를 위해 연구팀은 레이턴시가 플레이어에 미치는 영향을 분석해 플레이어의 행동을 예측하는 수학적 모델을 제시했다 시간제한이 있는 상황에서 게임 플레이를 위해 버튼 입력을 해야 하는 움직이는 타겟 선택 과업에 레이턴시가 있을 때 이용자의 성공률을 예측할 수 있는 인지 모델이다 이어 연구팀은 이 모델을 활용해 게임 환경에 레이턴시가 발생할 경우 플레이어 과업 성공률을 예측하고 이를 통해 레이턴시가 없는 환경에서의 성공률과 비슷한 수준으로 만들기 위해 게임의 디자인 요소를 변형했다 연구팀은 캐주얼 모바일게임 플래피 버드에서 기둥의 높이를 변형해 레이턴시가 추가됐음에도 기존 환경에서의 플레이 실력을 유지함을 확인했다 연구팀은 후속 연구를 통해 게임 속 장애물 등의 크기를 변형시켜 레이턴시를 없앨 수 있는 확장 연구를 기대하고 있다 이병주 교수는 이번 기술은 비 간섭적 레이턴시의 보정 기술로 레이턴시의 양만큼 게임 시계를 되돌려 보상하는 기존의 랙 보상 방법과는 다르게 이용의 게임 흐름을 방해하지 않는 장점이 있다라고 말했다 한편 이인정 박사과정이  저자로 참여하고 알토대학교 김선준 연구원이 공동으로 개발한 이번 연구는 지난 월 일 열린 인간컴퓨터 상호작용 분야 최고권위 국제 학술대회  에서 발표됐다 \n",
            "롯데커머스 사업본부가 유료멤버십을 앞세워 충성고객 확보 경쟁에 본격적으로 뛰어든다 개 유통 계열사 쇼핑몰이 제공하는 다양한 혜택을 무기로 후발주자 한계를 극복할 계획이다 롯데커머스 사업본부는 월 원을 과금하는 유료멤버십 서비스 롯데오너스 를 선보인다고 일 밝혔다 롯데오너스 가입자는 백화점 마트 슈퍼 롭스 홈쇼핑 하이마트 롯데닷컴 쇼핑몰에서 동일한 혜택을 받을 수 있다 가입 후 첫 정기 결제 시 엘포인트 점을 지급한다 매월 각 계열사 쇼핑몰에서 사용 가능한 무료배송 쿠폰 장쇼핑몰 별 장이 주어진다 상품 구매 시 계열사 별 최우수 등급 고객 수준 최대  엘포인트 적립 혜택도 받을 수 있다 롯데오너스 가입자만을 위한 상품 기획전도 마련된다 롯데는 비유통 계열사 오프라인 매장도 롯데오너스 혜택 범위에 포함시켰다 온라인몰로 혜택이 한정된 기존 커머스 업체 유료멤버십과 차별화하기 위함이다 예를 들어 롯데월드 어드벤쳐 자유이용권  할인 롯데콘서트홀 낮 공연  할인 롯데렌탈 단기 렌터카 최고  할인 등을 적용한다 커머스 유료멤버십 서비스는 지난 년 미국 아마존이 아마존 프라임을 선보인 이후 급성장세다 고객이 일정 금액을 회비로 지불하면 무료배송 적립금 전용 상품군 등을 제공하면서 판매채널 록인 효과를 높이는 형태다 아마존 프라임 가입자 수는 작년 월 기준 억만명 이상이다 국내에서는 년 월 이베이코리아 스마일클럽을 시작으로 쿠팡 티몬 위메프 등이 잇달아 유료멤버십을 도입했다 추동우 롯데커머스  본부 상무는 롯데오너스 멤버가 되면 온오프라인 구분없이 다양한 차별화 혜택을 받을 수 있다면서 전국 롯데 비유통 계열사 오프라인 매장에서도 경쟁사를 압도하는 품격과 서비스를 경험할 수 있을 것이라고 말했다 롯데는 롯데오너스 멤버십 첫 가입 시 한 달간 무료 멤버십 체험 혜택을 제공한다 월 한 달 개 계열사 쇼핑몰에서 원 이상 구매한 모든 고객에게 롯데시네마 영화티켓을  무료로 증정한다 멤버십 회원을 위한 전용 특가 행사 오너스 마켓 오너스 하프타임 등도 마련했다 윤희석 유통  \n",
            "차 산업혁명 추진 주요지표\n",
            "긴급 민관 대책회의 예정미중 무역분쟁에 더해 수출 타격 예상 연합뉴스 박태성 산업통상자원부 무역투자실장이 일 오전 정부세종청사에서 년 월 수출입 동향을 발표하고 있다 지난 월 수출은 지난해 같은 달보다  줄어든 억천만달러로 집계됐다  채널\n",
            "생명 본부장 선임 대면채널본부 김병철 본부장  \n",
            "국내 대표 모바일커머스 티몬대표 이진원은 일 오전 시 분부터 서울 강남구 대치동 본사 앞에서 사은품데이 오프라인 선물 증정 행사인 해피타임을 진행했다고 이날 밝혔다 이번 오프라인 행사는 사은품데이와 퍼스트데이티몬데이 의 만남을 기념해 진행했다 오전 시 분부터 오후 시까지 진행된 이번 행사는 월 사은품데이의 상품에어서큘레이터 전달 원딜 고객 천명에게 아메리카노 증정 룰렛이벤트 진행 초상화 그리기 등 다양한 볼거리와 즐길거리로 구성됐다 특히 이번 행사에서는 삼성역 인근의 직장인들이 점심시간을 이용해 티몬 본사를 직접 방문 원딜 아메리카노를 구매하기도 했다 이진원 티몬 대표는 퍼스트데이와 티몬데이가 만나는 역대급 이벤트를 기념해 오프라인 행사를 진행했다면서 많은 고객들이 여름 쇼핑 축제를 온라인뿐 아니라 오프라인에서도 즐기시기를 바라는 마음으로 준비한 행사로 고객과 상호 소통할 수 있는 계기가 돼 기쁘다고 말했다 \n",
            "서울  일 오전 서울 광화문 스퀘어에서 열린 국내 최초  무선 서비스  슈퍼 출시 행사에서 모델들이  초고화질 콘텐츠를 체험하고 있다   저작권\n",
            "최영완 단장 한국연구재단이사장 노정혜은 기초연구본부 융합연구단장에 최영완 중앙대 교수를 선임했다고 일 밝혔다 최 신임단장은 융합연구단 소관 지원사업의 평가관리 기획 및 정책수립 진도점검 및 성과활용 촉진 연구동향 조사분석 등 업무 수행을 년간 담당하게 된다 \n",
            "월의 첫날인 오늘은 전국에 가끔 구름이 많이 끼는 가운데 호남지방과 경남 제주도에는 에서 의 비가 내리겠습니다  비가 오는 동안 일부 지역에서는 벼락이 치고 돌풍이 부는 곳도 있겠습니다  낮 최고기온은 서울 도 등 전국이 도에서 도로 어제와 비슷하거나 조금 낮겠습니다  바다의 물결은 제주도 남쪽 먼바다에서 미터 안팎으로 다소 높게 일겠고 해상에는 짙은 안개가 끼는 곳이 있겠습니다  내일은 전국에 대체로 맑은 날씨가 이어질 것으로 보입니다  \n",
            "세종  일 오전 정부세종청사에서 열린 김현준 신임 국세청장 취임식에서 김 청장이 축하 꽃다발을 받고 있다   저작권\n",
            "  게임채널 이 일 열리는 마스터즈 오브 섀도우버스 코리아 시즌 오프라인 예선 참가자를 모집한다 대전형 온라인  섀도우버스의 국내 최대 규모 공식 대회이자 섀도우버스 월드 그랑프리 의 마지막 한국 대표를 선발하는 무대이다 예선 참가 접수는 일 까지 만 세 이상 누구나 참가가 가능하다 예선은 일 서울  스타디움 층 페이스북 게이밍 아레나에서 열린다 대회의 총상금은 만 원으로 우승자는 만 원의 우승 상금과 함께 올 연말 일본에서 약 억원규모의 우승 상금을 놓고 펼쳐지는 섀도우버스 월드 그랑프리 에 초청된다 생활경\n",
            "서울  박상기왼쪽 법무부장관과 박지원 법제사법위원회 국회의원이 일 오후 서울 동대문구 법무부 서울준법지원센터에서 열린 보호관찰제도 주년 기념행사에서 대화를 나누고 있다   저작권\n",
            "이길성 특파원    \n",
            "여름시즌 개 기관 개 과학문화행사 개최 계획    올 여름 과학을 직접 보고 듣고 배우며 휴가를 즐길 수 있는 다양한 과학문화행사가 펼쳐진다 과학기술정보통신부는 여름방학 및 휴가철인 월 동안 과학관 연구기관 지방자치단체 등 전국 개 기관에서 개 과학문화행사를 개최할 계획이라고 일 밝혔다 과기정통부는 함께 즐기는 과학문화를 주제로 전국에서 개최하는 과학문화를 동고동락이라는 가지 테마로 분류해 소개했다 동 행사는 가족연인친구들과 함께 즐길 수 있는 프로그램으로 마련됐다 대전 국립중앙과학관은 오는 월일부터 월일까지 전시관 야간개장 행사를 진행하며 국립광주과학관에서는 오는 월일까지 물 특별전을 통해 여름철 물과 연관된 과학 원리를 이해하고 체험할 수 있는 전시를 개최한다 휴가철 찾는 피서지에서도 과학문화행사를 즐길 수 있다 거창월성우주창의과학관에서는 월일부터 일까지 휴가철 월성계곡을 찾는 피서객들에게 과학체험을 할 수 있는 체험형 부스를 운영하며 자연과 별 가평천문대는 월일부터 이틀간 자연과 과학을 융합한 공연예술 축제를 개최한다 고 행사는 배움을 통한 휴식이란 테마로 진행된다 서울시립과학관은 일반인을 대상으로 월 동안 격주로 토요과학 강연회를 진행하며 국립부산과학관에서는 월 일에 여름방학 특별 강연을 실시한다 지역의 가까운 시설에서도 다양한 과학 프로그램을 즐길 수 있다 서울 상월곡역 사이언스 스테이션에서는 월  일에 초등학생 대상 코딩강연 프로그램을 진행하며 정독도서관서울달서구립성서도서관대구부산디자인센터부산교육과학연구원대전창의융합교육원광주인천대학교인천에서도 매주 금요일마다 일반인 대상의 과학강연을 진행한다 동 행사는 전국 방방곳곳을 돌아다니며 즐길 수 있는 프로그램으로 마련됐다 국립중앙과학관은 월일 전라북도 무주 덕유산과 월일 강원도 원주 치악산에서 우리나라 자연을 주제로 한 성인 자연탐사 체험프로그램을 진행한다 밤하늘을 보면서 더위를 잊을 수 있는 프로그램도 마련돼 있다 국립부산과학관에서는 월일 칠월칠석을 테마로 은하수 및 여름철 별자리를 관측할 수 있는 프로그램을 운영하며 서귀포천문과학문화관에서는 월일 목성과 갈릴레이 대 위성 및 월 일 토성과 견우직녀별을 관측할 수 있다 마지막 락 행사는 청소년들을 위한 유익하고 재밌는 여름방학 프로그램으로 운영된다 한국과학기술연구원은 중고등학생 대상으로 교과과정과 연계한 연구성과 강연과 연구실험체험 프로그램 등으로 구성된 사이언스캠프고교 월월일 중학 월일를 진행하며 구미과학관에서는 청소년을 대상으로 로봇과 블록코딩 미션을 수행하는  코딩캠프가 열린다 청소년들이 진로를 고민할 수 있는 진로 캠프도 운영된다 대전 한국항공우주연구원에서는 월 중 청소년들의 항공우주과학에 대한 관심을 높이고 진로탐색의 기회를 제공하기 위한 중고등학생 대상 진로캠프를 진행하며 대구 창공과학관은 월일 로봇 기술 등 현장 체험을 기반으로 한 진로 직업체험캠프를 개최한다 구혁채 과기정통부 미래인재정책국장은 여름 휴가철에 즐기고 체험하고 배울 수 있는 다양한 과학문화 프로그램을 준비했다며 올 여름 국민 모두가 과학으로 무더위를 잊는 유익한 휴가가 되길 바란다고 말했다 \n",
            "이스라엘 블록체인 프로젝트 오브스 미국 행정부와 솔루션 공동개발 지원 자금 투명한 집행 워한 플랫폼 계획  이스라엘 블록체인 프로젝트 오브스가 팔레스타인 난민 지원에 나서는 미국 정부와 손잡고 블록체인 기술을 활용한 투명한 자금집행 솔루션 개발에 착수했다 오브스는 일 네타 코린 공동창업자이자 헥사재단 대표가 지난달 말 바레인에서 열린 중동평화 워크숍에서 이스라엘 기업인들과 미국 행정부 관계자들과 함께 팔레스타인에 자금을 지원할때 블록체인 기술을 도입하는 방안을 논의했다고 밝혔다 미국 행정부는 팔레스타인 난민 문제 해결을 위해 경제적 지원을 확대하기로 했으며 년간 억 달러를 모금하고 이 가운데 억 달러를 팔레스타인 인프라 확충을 위해 투자하겠다고 언급한 바 있다 이 투자가 이뤄질때 투명한 자금집행을 위해 블록체인 기술을 도입하는 방안이 논의되고 있는 것이다          예를 들면 오브스가 개발중인 블록체인 플랫폼을 활용해 팔레스타인 난민들에게 지원되는 여러 구호자금이 제대로 지원이 필요한 곳에 쓰이고 있다는 점을 증명할 수 있을 것으로 기대된다 또 블록체인 기반 신분증명을 통해 난민들의 신분을 증명할 수 있을 것으로 예상된다 오브스 관계자는 블록체인 기술은 팔레스타인에 대한 경제 원조를 위한 물류 문제를 해결해줄 수 있는 최적의 혁신기술이라며 바레인에서 열린 미팅에서 블록체인 도입에 대해 심도있는 논의가 오갔다고 전했다 아울러 이 관계자는 블록체인은 굉장한 파급력을 지닌 기술이며 이 기술이 제대로 활용되기 위해서는 정부와 협력해서 실제로 당면한 문제를 해결하는 것이 중요하다고 덧붙였다 한편 오브스는 미국 정부와 구체적으로 어떻게 협력할지에 대해서는 공개하지 않았다 향후 더 구체적인 방안이 나오면 설명하겠다는 입장이다\n",
            "국내 위  실감미디어 플랫폼 사업자 목표 기가라이브에서 단말콘텐츠 강화한 슈퍼 초고화질  콘텐츠로  서비스 대중화 목표 서울  가  시대 국내 대표 실감미디어 플랫폼 사업자로 성장하겠다는 포부를 밝혔다 는 일 서울 종로구 광화문 스퀘어에서 국내 최초  무선  서비스  슈퍼  설명회를 열고 차세대 미디어시장을 주도하겠다고 밝혔다 이를 위해  자체  플랫폼 구축 온오프라인 사업자 대상   플랫폼 오픈 전략적 제휴를 기반으로 국내에 특화된  콘텐츠 확보 국내외 신규  단말의 국내 유통 추진 등을 단계적으로 추진할 계획이다 는 지난해 월 세계 최초 모바일  를 내세우며 선보였던 기가라이브의 단말 사양과 콘텐츠 라인업을 강화해 슈퍼이라는 이름으로 새롭게 선보였다 슈퍼은 피코의  단말을 사용했으며 기존 기가라이브 대비 고성능  올인원 단말을 사용해 보다 현실감 높은  콘텐츠 경험을 제공한다 기존  단말의 화소가 였다면 는 화소 수가 로 늘어 생생함을 더했다 아울러 렌즈를 개선해 눈부심 현상을 줄였으며 안경 착용자를 위해 글라스 서포터를 추가했다 국내 최다 만여편의 실감형 콘텐츠를 제공하는 슈퍼은 프리미엄  영상과 게임을 대폭 강화한 것이 특징이다  초고화질 콘텐츠 여편을 선보이고 스포츠 슈팅 공포 리듬액션 등 다양한 장르의 게임 종을 제공하며 매월 종씩 신규 게임을 추가할 계획이다  영화관처럼 몰입감이 뛰어난 와이드맥스 상영관에서는 기존 편의 전용 콘텐츠에 매월 편의 최신영화를 업데이트한다 올레  모바일 앱을 탑재해 여개의 실시간 채널과 만여편의 도 함께 즐길 수 있다 는 다양한 파트너사와 제휴를 통해 실감미디어 시장의 생태계를 확장하고 콘텐츠 경쟁력을 강화할 계획이다 새롭게 선보이는 멀티엔딩  콘텐츠는 영화 기생충을 제작한 바른손이앤에이의 관계사 바른손과의 협력으로 기획됐다  영화와 게임을 결합해 사용자의 선택에 따라 결말이 달라지는 신개념 서비스다 이밖에 아프리카와 협력한 스포츠 멀티뷰 중계 네이버 브이라이브 와 협력한  전용 스타 콘텐츠 이너테인먼트와 협력해 만든 아이돌 팬미팅 콘텐츠바스타 라이브 등 엔터테인먼트 콘텐츠도 강화한다 아울러 경기창조경제혁신센터 육성기업 민트팟과 협력한  면접훈련 콘텐츠면접의 신 청담어학원과 협력한  영어교육 콘텐츠 헬로앱스와 협력한  코딩교육 콘텐츠 등 신규 교육 서비스를 기획 중이다 는  월정액 요금제인 슈퍼 패스월 원 부가세 포함를 내놓았다 슈퍼 서비스를 이용하기 위해서는 단말이 필요한데 는 가격을  할인하고 슈퍼 패스 개월 이용권을 묶어 만원에 단말을 판매한다 슈퍼은 전국  대리점 또는 샵에서 구매할 수 있으며 여곳의  매장에 체험존을 마련했다 김훈배  뉴미디어사업단장상무은 는 슈퍼을 출시하며 에 이어 실감미디어 시장에서도 등 사업자가 되기 위한 도전을 시작했다며 가 영상 콘텐츠를 즐기는 트렌드를 변화시켰듯 는 다양한 파트너들과 함께 고객들에게 차원이 다른 실감미디어 서비스를 선보이겠다고 말했다 \n",
            "대전 서구의회연합뉴스 일 대전 서구의회 제회 임시회가 열리고 있다   채널\n",
            "서울  이개호 농림축산식품부 장관과 김병원 농협중앙회장을 비롯한 참석자들이 일 오전 서울 중구 농협중앙회에서 열린 농협 창립 주년 기념식에서 국민의례를 하고 있다   저작권\n",
            " 오사카 선언 암호자산 규제안 마련할 것 월 일부터 일까지 일본 오사카에서 열린  정상회의에서 암호화폐를 포함한 디지털자산에 대한 각국의 공동 대응 방안이 논의됐다 주요 외신에 따르면 공동성명인 오사카 선언에는 암호화폐 명칭을 암호 자산으로 통일하고 암호자산에 대한 국제 규제안에 국제자금세탁방지기구 권고안을 적극 수용하겠다는 내용이 포함됐다 에 앞서 개최된  가상자산서비스공급자 정상회의에서는 각국의 블록체인 및 암호화폐 관련 기관들은 국제 디지털자산 거래소 협회를 설립키로 합의한 바 있다 민간 주도의 국제 규제 기구 설립을 통해 의 권고안 등에 적극 대응한다는 계획이다           전 세계 중앙은행의 가  발행 준비 국제통화기구가 최근 보고서를 통해 각국 중앙은행들이 자체 디지털통화 발행을 준비하고 있다고 밝혔다 일현지시간 에 따르면 보고서는 전 세계 국 중앙은행 중 가  발행을 검토하고 있으며 우루과이 바하마 중국 스웨덴 우크라이나 등은 이미 시범 사업을 준비하고 있다고 전했다 는 대부분의 중앙은행이  발행에 관심이 높다면서 비용 절감뿐만 아니라 금융서비스 확대 익명거래방지 등 다양한 요구 수준에 대한 검증을 필요로 하고 있다고 밝혔다            포브스 페이스북 리브라 금본위 암호화폐 기대   일현지시간 코인텔레그래프에 따르면 포브스의 스티브 포브스 회장이 페이스북 리브라에 대한 자신의 견해를 밝혔다 포브스 회장은 마크 저커버그 페이스북 에게 보낸 공개서한에서 리브라는 달러를 대체할 수 있는 잠재력을 가진 암호화폐라고 높이 평가하면서 달러 기반이 아닌 금을 기반으로 한 스테이블코인이 되어야 한다고 주장했다 그는 금본위제 기반의 스테이블코인이 전 세계에 통용될 수 있는 진정한 스테이블코인이라고 강조했다          블록체인으로 바뀌게 될 개 산업 블록체인의 확장으로 당장 변화를 맞고 있는 주요 산업을 일현지시간 코인텔레그래프가 정리했다 우선 식품 유통 산업이 가장 큰 변화를 맞이할 것이며 다이아몬드 등 귀금속 증권 미술품 부동산 토지등록 선거 공공투자 재정보조 국경 간 결제 분야가 새로운 전기를 맞이할 것으로 전망되고 있다 무엇보다 블록체인 기술이 생산유통시스템의 효율과 투명성을 향상할 수 있는 획기적인 기회를 제공한다는 점에서 각 산업 분야의 혁신이 기대되고 있다고 코인텔레그래프는 전했다          암호화폐 시장 하락  비트코인 만달러대 주말 동안 오름세를 보이던 암호화폐 시장은 일 전반적인 하락세로 반전했다 오전 시 코인을 기준으로 비트코인은 시간 전보다  하락한 만달러에 기록하고 있다 이더리움도  하락한 달러 리플은  하락한 센트 라이트코인은  하락한 달러 비트코인캐시는  하락한 달러에 거래되고 있다 시총 기준 톱 암호화폐 종목 모두가 내림세를 보이고 있다\n",
            "서울  김병원 농협중앙회장과 내빈들이 일 오전 서울 중구 농협중앙회에서 열린 농협 창립 주년 기념식에 서 참석자들과 인사를 나누고 있다   저작권\n",
            "삼성는 솔리데오시스템즈와  는 대우정보와 컨소시엄 구축경험운영능력 팽팽한 구도   사옥 전경 삼성 사옥 전경 차세대 지방세시스템 놓고 경쟁 공공 시장 전통의 라이벌 삼성와  가 년 만에 공공 프로젝트에서 맞붙는다 올초부터 공공 사업 참여를 저울질해온 삼성가 첫 프로젝트로 행정안전부 차세대 지방세정보시스템 사업을 선정 입찰 참여를 준비 중인  와 맞대결을 펼친다 일 관련업계에 따르면 삼성와  가 각각 솔리데오시스템즈 대우정보시스템과 컨소시엄을 구성하고 행안부 지역정보개발원이 최근 공고한 차세대 지방세정보시스템 구축사업에 참여한다 이 사업은 억원 규모의 초대형 프로젝트로 지역정보개발원은 우선 억원 규모의 단계 구축사업을 공고하고 이달 중 사업자를 선정할 예정이다 제안서 제출마감은 오는 일이다 대기업 참여제한 예외사업으로 지정된 데다 규모가 커 일찌감치 대기업  서비스 업체간 경쟁구도가 예상돼 왔다 위택스세무행정시스템 전면 재구축 이 사업은 전 국민이 이용하는 지방세 납부서비스 위택스와 지방자치단체 세무공무원이 쓰는 세무행정시스템을 년 만에 전면 재구축하는 프로젝트다 지방세정보시스템은 국세청 국세정보시스템 관세청 관세정보시스템과 함께 조세 분야 국가 대 시스템으로 연 조원에 달하는 지방세 업무가 이 시스템을 통해 진행된다 지역정보개발원은 이 사업을 통해 클라우드 인프라를 구축하고 참여기업들은 세무업무 정보화 경험뿐 아니라 클라우드 플랫폼 구축운영능력과 빅데이터 기술력을 갖추는 게 필수다 삼성와  는 수년간 확보한 클라우드빅데이터 기술력을 총 동원한다는 계획이다 업계 한 관계자는 이 사업에 이어 기획재정부 디브레인 행안부 차세대 재정정보시스템 등 초대형 프로젝트가 올해와 내년에 이어질 전망으로 이번에 맞붙은 삼성와  가 전문기업들과 협업해 경쟁할 것으로 예상된다고 밝혔다    기획   풀뿌리상권 살려내자 네이버 채널에서 를 구독해주세\n",
            "합참은 일 중부전선 비무장지대에서 이날 오후 시경 레이더에 포착된 미상항적이 새 떼로 확인됐다고 밝혔다\n",
            "서울  박상기앞줄 왼쪽 네번째부터 법무부장관과 박지원 법제사법위원회 국회의원을 비롯한 참석자들이 일 오후 서울 동대문구 법무부 서울준법지원센터에서 열린 보호관찰제도 주년 기념행사에서 국민의례를 하고 있다   저작권\n",
            "서울  이개호 농림축산식품부 장관이 일 오전 서울 중구 농협중앙회에서 열린 농협 창립 주년 기념식에서 정부 훈포장을 수여 후 수상자들과 기념촬영을 하고 있다   저작권\n",
            "서울   자유한국당 나경원 원내대표가 일 오전 서울 여의도 국회를 예방한 박영선 중소벤처기업부 장관을 만나 이야기를 나누고 있다   저작권\n",
            "창립 주년 기념식서 혁신 강조 삼성 한편 삼성는 창립 주년을 맞아 지난 달 일부터 이날까지 국내 개 사업장 만여명의 임직원들이 자원봉사대축제 캠페인에 참여했다고 밝혔다 위 드림  함께가요 미래로라는 주제로 진행된 이 캠페인에서는 걸음을 통한 모금 활동 드림워킹 에코백 캔버스아트 등 물품 제작 기부 활동 핸즈온 릴레이 일회용품 사용 줄이기를 통해 환경을 지키는 마이 텀블러 캠페인 헌혈 캠페인 등 다양한 활동들이 진행됐다 지난달에는 전 사장과 경영진들이 지역 소외이웃들을 위한 물품들을 담는 에너지 충전박스를 제작하는 활동을 펼쳤다 또 입사 년차 임직원들은 경기 용인시에 위치한 아동보육시설 성심원을 찾아 청소 자재 운반 등 다양한 봉사활동을 실시했다 \n",
            "미녀삼국 위드 등 실제 게임 연동 테스트 진행  한빛소프트는 일 블록체인 플랫폼 브릴라이트의 메인넷 구축을 완료하고 실제 게임 연동 작업에 착수했다고 발표했다 메인넷 가동과 함께 방치형 역할수행게임 미녀삼국과 퍼즐게임  등 모바일게임 종과 온라인게임인 위드 종의 연동 테스트가 시작됐다 테스트 이후 글로벌 서비스를 시작한다는 것이 회사 측의 설명이다 브릴라이트 전지영 사업 은 블록 생성 및 이용자에 대한 암호화폐 보상 등은 정식 서비스 개시와 함께 이뤄질 것이라며 각 게임 개발사와 협업해 빠른 정식 서비스를 시작하기 위해 박차를 가하고 있다고 전했다          아울러 종의 게임 외에도 한빛소프트의 대표  온라인게임 오디션도 연동을 준비중이다 오디션은 전세계 억명의 누적 가입자를 확보하고 있는 인기 게임이다 또 파트너십을 체결한 여개 개발사들과 함께 동남아시아 일본 남미 등 글로벌 시장에 블록체인 기반의  소셜게임 등 다양한 장르의 게임을 선보인다는 계획이다 브릴라이트 플랫폼과 연계된 게임이 출시되면 이용자들은 게임을 즐기는 것만으로도 브릴라이트코인을 얻을 수 있다 는 브릴라이트와 연동된 모든 게임에서 활용할 수 있다 게임을 통해 얻은 아이템 등 자산도 로 전환할 수 있다 향후 게임 뿐만 아니라 웹툰 디지털 콘텐츠 등 향후 확장될 브릴라이트 생태계 내에서 를 활용할 수 있게 된다 한편 브릴라이트는 메인넷 가동과 함게 암호화폐 지갑인 브링도 선보였다 구글 플레이스토어를 통해 내려받을 수 있다 브링은 암호화폐 소유자의 개인 주소와 보안키를 손쉽게 관리해준다 이용자들은 복잡한 주소를 외울 필요 없이 간단한 지갑주소를 입력하는 것만으로 암호화폐를 주고 받을 수 있다\n",
            "이번 깜짝 비무장지대 회동의 일등공신은 트위터였다 만남 제안과 수락의 과정은 모두 트위터 상에서 이뤄졌다 그동안 철통 보안이었던 정상회담이 모두가 볼 수 있는 온라인상에서 이뤄졌다는 점에서 세기의 이벤트로 평가된다 트럼프 대통령은 만남 제안이 거절당했다면 공개적으로 망신을 당할 뻔 했다는 농을 치기도 했다 도널드 트럼프 미국 대통령은 일 자신의 트위터에 김 위원장과 만나고 싶다고 제안했다 그는 일본 오사카에서 열린 주요 개국 정상회의를 마친 뒤 만약 김 위원장이 이것을 본다면 비무장지대에서 그를 만나 악수하고 인사했으면 한다고 적었다 이같은 내용을 확인한 최선희 북한 외무성 부상은 즉각 담화를 통해 나는 트럼프 대통령의 의중대로 분단의 선에서 조미수뇌상봉이 성사된다면 두 수뇌분들 사이에 존재하고 있는 친분관계를 더욱 깊이하고 양국 관계진전에서 또 하나의 의미있는 계기가 될 것이라고 본다며  회동에 긍정적인 입장을 내놨다 트럼프 대통령이 트윗을 올린 지 불과 시간분 만이었다 트위터로 제안한 만남은 현실이 됐다 트럼프 대통령이 트윗을 올린 지 하루 뒤인 일 북미 두 정상이 군사분계선을 함께 넘었다 이 역사적 자리에 문재인 대통령도 함께였다 남북미 정상이 한 자리에 그것도 판문점에서 회동한 것은 이번이 처음이다 트럼프 대통령은 이날 오후 시분경 남측 군사분계선 인근에 모습을 드러냈다 이 때까지만 해도 문 대통령의 모습은 보이지 않았다 같은 시각 김 위원장은 북측에서 군사분계선을 향해 걸어왔다 트럼프 대통령은 김 위원장 쪽으로 비교적 빠른 걸음으로 뚜벅뚜벅 걸어갔다 김 위원장과 군사분계선에서 만나 악수를 한 뒤 선을 넘어 북쪽 땅을 밟았다 이로써 그는 북한 땅을 밟은 사상 최초 미국 대통령이 됐다 두 정상은 나란히 서서 잠시 북쪽을 향해 걷다가 다시 남쪽으로 건너왔다 트럼프 대통령은 급하게 만나자고 했는데 흔쾌히 응해주셔서 감사하다며 김 위원장은 처음봤을 때부터 마음에 들었다고 전했다 양 정상이 대화를 나누고 있을 때 문 대통령이 모습을 드러냈다 문 대통령은 이들을 보며 환하게 미소를 지었다 세 정상은 악수를 나누면서 잠시동안 군사분계선 인근에서 대화를 나눴다 이후 판문점 남측에 위치한 자유의 집으로 이동해 약 시간 동안 환담을 가졌다 환담 자리에서 김 위원장은 누군가는 미리 계획된 일정이라고 생각할지 모르지만 오늘 회동은 예상하지 못했던 갑작스러운 만남이 맞다고 전했다 이어 나도 깜짝 놀랐다고 말했다 트럼프 대통령은 김 위원장이 내 제안을 거절했다면 체면이 구겨졌을 것이라고 받아쳤다     \n",
            " 백군기 용인시장이 최근 네이버 데이터센터 건립 무산과 관련해 어린아이들 영향이 미치지 않는 곳을 네이버측과 협상하고 있다고 말해 네이버 데이터센터 유치가 아직 끝나지 않았음을 시사했다 백 시장은 일 처인구 삼가동 용인어린이상상의숲에서 열린 취임 간담회에서 용인시 곳을 물색하고 있다며 이같이 말했다 백 시장은 네이버 데이터센터 건립은 위치가 문제였다 민원인들은 전자파 유해성을 문제삼았고 네이버측은 무해하다며 대립했지만 과학적으로 완벽히 검증할 수 없어 주민들이 신뢰성을 믿지 못한다고 밝혔다 그러면서 인근에 학교가 있어 부담이 있다 어린아이들이 미치는 영향이 어떻겠냐는 시민들 질문에 답하는 어려움이 있었다며 당시 고충을 토로했다 그는 네이버 데이터건립 취소결정에 용인시가 마지막까지 중재 역할을 다하지 못해 아쉬웠다고 말했다 앞서 네이버는 년 월부터 용인시 기흥구 공세동에 춘천 데이터센터 각을 잇는 두 번째 대규모 데이터센터 건립을 추진해왔다 최근 인근 주민들이 센터 운영에 필요한 특고압 전기공급시설에서 전자파 발생 등 건강을 위협할 수 있는 이유로 반대가 계속되자 무산됐다 김미희  네이버 홈에서  뉴스\n",
            " 가천대 한마음 원정대가 지난달 일부터 일까지 박 일간 독도울릉도 탐방 원정을 실시했다고 일 밝혔다 이번 원정은 가천대가 개교 주년을 맞아 울릉도와 독도를 방문해 우리나라의 생태를 직접 체험하고 애국심을 키워주기 위해서다 학생회와 교수 직원 등 총 명이 참가했다 원정대는 지난 일 대학 실내체육관에서 집결해 발대식을 갖고 일 새벽 묵호항 여객터미널로 이동해 울릉도행 배에 올랐다 울릉도에 도착한 원정대는 울릉초등학교를 방문해 벽화봉사  실습 구강관리 자세 교정 등 자신들의 전공과 재능을 살려 나눔 봉사활동을 펼쳤다 울릉초등학교에 이어 울릉 경비대를 방문 구급함 선크림 스킨워시 텀블러 등 물품을 전달했다 원정대는 일 독도를 방문해 생태 탐방과 접안 지역 부유물 청소 등 환경정화 활동을 펼치고 독도경비대도 찾아 원정대가 준비한 의료물품을 전달했다 이어 일 학교로 돌아와 원정대의 의미를 되새기기 위해 조별로 영상을 제작해 상영회를 갖기도 했다 박상용 가천대 학생복지처장은 학생들의 애국심을 고취하고 우리나라의 역사와 생태에 대한 이해도를 높이기 위해 기획했다며 앞으로도 올바른 생각을 바탕으로 우리 사회에 기여할 수 있는 인재를 양성하기 위해 다양한 프로그램을 추진하겠다고 했다 김미희  네이버 홈에서  뉴스\n",
            "사진삼성전자 일본이 한국에 반도체디스플레이 소재 수출을 규제한다 대법원의 강제징용 피해자 배상판결에 대한 사실상 보복조치다 일 일본 정부는 한국에 대한 수출관리 운용 정책이 개정됐다며 플루오린 폴리이미드와 리지스트 에칭가스 등 개 품목의 수출규제를 일부터 실시한다고 밝혔다 이번 수출규제는 앞서 일본 언론이 보도하면서 공개됐다 산케이신문은 지난달 일 한국 반도체와 스마트폰에 필수적인 개 품목에 대한 수출 규제를 일부터 실시할 것이라고 보도했다 업계 관계자는 플루오린 폴리이미드는 불소처리 공정을 거침 폴리이미드로 열안정성이 높은 특징을 지닌다며 다만 공정에 따라 다양한 가 사용되기 때문에 직접적인 영향을 파악하기 어렵다고 밝혔다 는 일본의 카네카 우베 히타치 등이 시장을  이상 점유 중인 것으로 알려졌다 하지만 듀퐁  코오롱 경인양행 등 다양한 기업이 제품을 생산하고 있다 일본이 워낙 많은 공급량을 갖췄기 때문에 문제는 발생하겠지만 대체품이 없는 것은 아니다 반도체 제조 공정에 필수적인 리지스트는 감광액을 지칭하는 용어로 일본 신에츠화학  스미토모 등이 시장점유율  이상을 장악하고 있다 반도체 제조공정에서 회로의 패턴을 인쇄하는 노광 과정에서 사용되는 물질이다 한국에서는 동진쎄미켐이 이 제품을 생산할 수 있는데 삼성전자는 동진쎄미켐에 지분투자를 한 상황이다 에칭가스 국내에서 고순도 불화수소라 불리는 이 물질은 스텔라 모리타 등 일본 기업이  이상의 독과점시장을 형성 중이다 에칭가스는 반도체 회로의 패턴을 형성하는 식각과 세정에 사용되는 만큼 반도체 제조공정에 필수적이지만 유독물질이기 때문에 개발과 생산을 꺼리는 제품이다 일본은 이 물질을 약 년 이상 제조하면서 상당한 노하우를 갖춘 것으로 파악된다 삼성전자와 하이닉스도 필요량의 대부분을 일본에서 수입한다 국내에서는 솔브레인이 저순도 불산을 만들고 있지만 반도체 제조공정에 사용할 수 있는 초고순도 불산은 생산하지 못하는 것으로 알려졌다 일본의 보복조치로 디스플레이와 반도체 업계는 영향을 피할 수 없을 것으로 예상된다 일부 국내 기업에서 부품을 조달할 수 있지만 해당 부문에서  이상을 차지하는 일본을 단기간에 대체하는 것은 사실상 불가능에 가깝다는 분석이다 업계 관계자는 공급처를 다변화하기 위해 노력 중이지만 해당 부문에서 일본의 기술력을 따라가기는 어려운 것이 사실이라고 토로했다 한편 일본의 보복조치에 정부가 어떤 대응책을 내놓을지도 관심이 쏠린다 앞서 지난달 일 강경화 외교통상부 장관은 국회 외교통일위원회에 출석해 일본의 보복성 조치가 나온다면 가만히 있을 수 없다고 언급한 바 있다  \n",
            "행복 인프라에코 사업 화제 장애인 작년 매출 억원 재단법인 행복이사장 유항제는 발달장애인들의 미래 설계와 자립을 돕기 위해 인프라 에코 사업 심창용씨세 김현진씨세는 업무에 투입된 지 개월 만에 노트북데스크톱 검수와 분류는 물론 부품 탈거 외장 클렌징 부품 분해조립 등의 업무를 소화해 내고 있다 이들은 경기 포천에 위치한 사회적 기업 리맨이 제공한 작업공간에서 일하고 있다 행복는 이들의 활동에 힘입어 올해 억원의 인프라 에코 사업 매출을 기대하고 있다 내년에는 발달장애인들을 추가 채용할 계획이다김준범 행복 대표는 이 사업에서 작은 배려와 관심만 있다면 발달장애인들이  전문가로 충분히 성장할 수 있다는 가능성을 봤다며 앞으로도 장애인 직원들이 일을 통해 성취감을 느끼며 회사와 함께 성장할 수 있도록 노력하겠다고 말했다    기획   풀뿌리상권 살려내자 네이버 채널에서 를 구독해주세\n",
            "반도체 디스플레이 업계 관계자들이 일 오후 정승일 산업통상자원부 차관 주재로 긴급대책회의를 하기 위해 함께 정부서울청사 회의실로 이동하고 있다  \n",
            "여름 성수기 시즌 성급 호텔 및 리조트 할인 이벤트 서울  글로벌 여가 플랫폼 기업 야놀자가 여름 휴가철을 앞두고 레저와 숙박 부문에서 초특가전을 진행한다고 일 밝혔다 야놀자는 오는 일까지 롯데월드 아쿠아리움 만원 판매 이벤트를 진행한다 매일 정오부터 선착순 명에 한해 입장권을 정상가만원 대비  할인된 만원에 판매한다 준비 수량이 매진되면 주중과 주말 입장권을  이상 할인된 만원과 만원에 내놓는다 롯데월드 아쿠아리움 입장권은 이달 일까지 사용할 수 있다 구명조끼와 실내외 락커 이용권이 포함된 오션월드 종일 입장권은 매일 정오부터 개 한정으로 정상가만원 대비  할인된 만원에 선보인다 준비수량 매진 시에는 극성수기월 일월 일에 이용 가능한 입장권구명조끼 이용권 제외을 정가 대비  할인된 만원에 극성수기 이용 제한 입장권은  할인된 만원에 판매한다 사용 기한은 월 일까지다 성급 호텔과 리조트를 여름 성수기에도 만원대에 이용할 수 있는 초특가전도 선보인다 야놀자는 오는 일까지 히든클리프 호텔네이쳐를 최대  할인된 가격에 내놓는다 오는 일부터 일에는 인 조식 뷔페와 리버파크 입장권 등이 포함된 그랜드 워커힐 서울 숙박권을 최대  할인 판매한다 일에는 라이브 퀴즈쇼 잼라이브 야놀자워커힐 특집 방송을 기념해 오후 시에 숙박권을 같은 가격에 한 번 더 내놓는다 오는 일부터 일에는 강릉 세인트존스 호텔 숙박권을 최대  할인된 가격에 만날 수 있다 김혜정 야놀자 브랜드마케팅실장은 본격적인 무더위가 시작됨에 따라 실내 레저시설과 워터파크 호텔리조트 등을 찾는 고객들이 늘었다며 야놀자가 준비한 레저 및 숙박 초특가 상품을 통해 여름 성수기 시즌에도 부담 없이 여가를 즐길 수 있기를 바란다고 말했다 \n",
            "어린이노인 등 미세먼지 취약계층 관리 확대 월 공기정화설비 의무화에 따라 공기정화설비 관리방안 마련 노후경유차 조기폐차 혜택 늘리고 친환경차 구매 유도 사진연합뉴스\n",
            "통계청 과장급 인사 동북지방통계청 조사지원과장 송\n",
            "넷마블 넷마블문화재단은 지난달 일 경기도 김포시 소재 하늘빛초등학교에서 가족 내 건강한 게임문화 확산을 위해 년 회차 게임소통교육을 진행했다고 일 밝혔다 하늘빛초등학교 학생과 학부모 명을 대상으로 진행된 이번 게임소통교육은 건강한 여가로서 게임이 지닌 가치와 문화를 이해하고 부모자녀 간 관계를 강화하는 프로그램을 중심으로 진행됐다 특히 게임의 원리와 장르 게임산업 및 직군 특성을 탐색하는 게임의 이해 놀이문화로서 게임의 가치를 알아보고 자녀들의 심리와 문화를 이해하는 게임과 문화 자녀의 성격 및 감정을 파악하고 이해하는 시간을 통해 부모자녀 간 게임에 대한 생각 차이를 이해하는 게임과 소통 가족 간 소통법과 지도법을 체험하고 우리 가족만의 게임 규칙을 만드는 가족 소통 시간으로 꾸며졌다 게임소통교육은 넷마블이 년부터 게임이라는 공통 주제를 통해 학부모와 자녀가 함께 눈높이를 맞추며 서로에 대해 충분히 이해할 기회를 제공 서로 간의 견해 차이를 좁히는 부모자녀 공감프로그램으로 현재 넷마블문화재단에서 운영하고 있다 한편 건강한 게임문화의 가치 확대 및 미래 창의 인재 양성 나눔 문화 확산 등을 위해 지난해 월 출범한 넷마블문화재단은 문화 만들기 인재 키우기 마음 나누기 등 가지 영역을 중심으로 다양한 사회공헌 활동을 전개하고 있다  \n",
            "서울   일본정부가 반도체와 유기발광다이오드 소재의 한국 수출규제를 발표한 가운데 일 오후 수출상황 점검회의가 열린 서울 종로구 한국무역보험공사 대회의실에서 성윤모 산업통상자원부장관이 모두발언을 하고있다   저작권\n",
            "서울   강태웅 서울시 행정부시장이 일 오후 서울 중구 세종대로 서울시청 시민청 태평홀에서 열린 제회 서울시 성평등상 시상식에서 인사말을 하고 있다   저작권\n",
            "거래제한 명단엔 계속 남아제한적으로만 허용 래리 커들로 미국 백악관 국가경제위원회 래리 커들로 미국 백악관 국가경제위원회 위원장이 중국 통신장비업체 화웨이의 미국산 제품 구입을 제한적으로 허용할 계획이라고 일현지시간 밝혔다 커들로 위원장은 이날 방송된 폭스뉴스 및  방송과의 인터뷰에서 도널드 트럼프 대통령이 지난달 일 일본 오사카에서 열린 시진핑 중국 국가주석과의 정상회담 당시 자국 기업과 화웨이 간 거래 재개를 시사한 데 대한 질문에 이 같이 답했다 커들로 위원장은 상무부에서 미국 기업들이 화웨이에 제품 판매 허가를 내주겠지만 국가안보에 위협이 되지 않는 장비들에만 적용될 것이라며 제재로부터의 일반적인 사면은 아니다 화웨이는 수출통제를 받는 거래제한 명단에 남을 것이라고 말했다 트럼프 대통령과 시 주석은 앞서 주요 개국 정상회의 참석을 계기로 회담을 열어 양국 간 무역전쟁 휴전 및 협상 재개에 합의했다 특히 트럼프 대통령은 이 자리에서 양국 간 협상 기간 중국산 제품에 대한 추가 관세 부과를 연기하겠다고 밝히는 한편 현재 미국 기업과의 거래가 금지돼 있는 화웨이에 대한 제재 완화도 시사했다 미 상무부는 지난 월 국가안보 위협을 이유로 화웨이를 거래제한 대상으로 지정했었다 그러나 미국 내에선 화웨이에 대한 제재 완화는 재앙적 실수마르코 루비오 공화당 상원의원 등의 비판도 제기되고 있는 상황 커들로 위원장은 이에 대해 화웨이와 관련된 엄청난 위험성을 이해한다며 미중 무역협상은 아직 어떤 약속도 합의도 일정도 없다 협상이 상당 기간 계속될 수 있다고 설명했다 \n",
            "서울전자는 현대자동차와 함께 지난달 일부터 경기도 고양시에 위치한 국내 최대 체험형 자동차 테마파크 현대 모터스튜디오 고양에서 클로이 안내로봇 시범서비스를 시작했다고 일 밝혔다 현대 모터스튜디오 고양을 찾은 방문객들이 시범서비스 중인 클로이 안내로봇를 체험하고 있다  전자 제공  저작권\n",
            "마카롱 택시에 개인택시 대가 추가된다 모빌리티는 서울 지역 개인택시 사업자가 참여하는 브랜드 택시 서비스 마카롱파트너스를 월일부터 시작한다고 알렸다 지난해 창업한 모빌리티는 택시의 프랜차이즈화를 목표로 하고 있다 기존 택시사업자들이 모빌리티의 마카롱 택시 가맹회원으로 참여하면 드라이버와 차량관리 마케팅까지 마카롱 방식으로 운영하는 택시사업 모델을 구현하겠다는 것이다 모비리티는 올해 월 전용 호출 앱 마카롱 택시를 출시하고 전문 서비스 교육을 이수한 운전기사를 통해 품질이 개선된 택시 서비스를 제공하고자 하고 있다 지난달 일 국토교통부로부터 운송가맹사업을 위한 광역면허를 정식으로 취득했다 마카롱파트너스는 기존 마카롱 택시와 동일하게 전용 앱으로 서비스를 예약할 수 있다 차량은 마카롱 브랜드 로고와 민트색 라인으로 꾸며져 있으며 전문교육을 받은 택시기사가 승객을 태운다 차량 내부에는 스마트폰 충전기 물티슈가 제공된다 와이파이 반창고 유아용 카시트 등의 부가서비스도 추후 제공될 예정이다 호출료는 따로 없고 최소 시간에서 최대 일 이내 예약해 이용할 수 있다 모빌리티는 서울 지역에서 총 명의 개인택시명 및 모범택시명 사업자와 마카롱파트너스 회원 계약을 맺고 우선적으로 개인택시 회원을 대상으로 서비스 교육을 진행했다고 밝혔다 이달 안에 대전 지역에서도 총 대 차량이 마카롱파트너스에 합류하기로 했다 모빌리티는 실시간 호출 및 즉시 배차가 가능한 마카롱 나우 서비스가칭도 준비하고 있다고 전했다 이행열 모빌리티 대표는 기존 택시사업자들과 함께 성장하는 브랜드의 철학을 강조하기 위해 마카롱파트너스라는 표현을 사용했다라며 이를 통해 고객과의 거리를 더욱 좁히고 한국 택시산업이 미래 모빌리티 혁신의 주인공으로 자리잡도록 할 것이라고 말했다 \n",
            "서울  뉴미디어사업단장 김훈배 상무가 일 오전 서울 광화문 스퀘어에서 열린 국내 최초  무선 서비스  슈퍼 설명회에서 시대 실감미디어 사업전략에 대해 말하고 있다   저작권\n",
            "갤럭시 폴드 사진삼성전자 삼성전자의 폴더블 스마트폰 갤럭시 폴드의 가격이 공개됐다 일 삼성전자가 운영하는 삼성닷컴 챗봇은 삼성전자의 갤럭시 폴드의 자급제 가격을 만원으로 안내했다 삼성전자는 앞서 미국시장에서 갤럭시 폴드 모델을 달러삼성전자 홈페이지 챗봇 캡처 갤럭시 폴드의 출고가가 해외와 국내가 다른 이유로는 통신방식의 차이 때문으로 보인다 미국에서 출시할 예정인 갤럭시 폴드는 롱텀에볼루션모델이며 국내에는 모델로만 출시된다 현재는 갤럭시 폴드의 검색과 가격정보가 막힌 상태다 한편 삼성전자는 지난 월 수주 내에 갤럭시 폴드의 출시 일정 등을 공개하겠다고 밝혔지만 아직 어떤 정보도 공개되지 않았다  \n",
            "다날 블록체인 프로젝트 페이 프로토콜 도미노피자와 이벤트 진행 선착순 고객 대상 만원 상당의 페이코인 지급 현금처럼 사용가능 블록체인 기반 페이코인 결제 서비스가 더욱 대중화되는 계기 되길          다날의 블록체인 프로젝트 페이코인이 도미노피자와 함께 페이코인 지급 이벤트를 실시한다     도미노피자에서 피자를 구매하면 암호화폐도 함께 지급되는 이벤트가 주간 진행된다 일 통합결제 전문기업 다날은 도미노피자와 함께 자사 블록체인 프로젝트인 페이 프로토콜에서 발행하는 페이코인을 지급하는 이벤트를 진행한다고 밝혔다 이벤트 주 내용은 도미노피자에서 특정 피자를 주문하는 고객을 대상으로 선착순 명에게 약 만원를 증정해주는 것으로 주간 차례 응모일정에 따라 진행된다 다날은 페이코인 하루 거래액 억원 가입자수 만명 돌파 등을 기념해 이번 이벤트를 기획한 것으로 알려졌다 현재 페이코인은 도미노피자와 달콤커피 편의점 온라인 상점 여개 등에서 현금과 동일하게 사용이 가능하다 다날 관계자는 현재 페이코인은의 하루 거래액이 억원을 돌파했으며 페이프로토콜 월렛  애플리케이션 가입자 수도 빠르게 증가하고 있다며 이번 도미노피자와의 이벤트 진행을 통해 페이코인 결제 서비스가 더욱 대중화되는 계기가 될 것이라고 기대하고 있다고 말했다 페이코인 관계자는 도미노피자와의 결제 서비스 제휴 이후 페이코인을 통해 도미노피자를 결제하는 고객이 많이 증가하고 있고 실제로 페이코인을 통한 결제서비스 사용후기를 자발적으로 올려주시는 블로거도 많다며 이번 이벤트를 통해 더 많은 분들이 안전하고 간편한 페이코인 결제 서비스를 경험하고 이벤트 참여를 통해 받는 페이코인 또한 유용하게 사용하길 바란다고 말했다\n",
            "과기정통부 차 산업혁명 지표 발표  사물인터넷과기정통부\n",
            "모바일 한경은 폰태블릿에서 만나는 프리미엄 디지털 서비스입니다 구독  문의  \n",
            "반도체 디스플레이 업계 관계자들이 일 오후 정승일 산업통상자원부 차관 주재로 긴급대책회의를 하기 위해 함께 정부서울청사 회의실로 이동하고 있다  \n",
            "실무자들은 이게 원하던 것이었다고 말했습니다 자료가 있는지도 모르고 있는 걸 알아도 찾기 어려웠습니다 경험 있는 사람만이 어디 있는지 아는 자료를 주니어가 원할 때도 반드시 찾아줬습니다 의 인공지능을 적용한 검색 시스템은 경험을 보완하는 역할을 해줬습니다 대우조선해양 선박기본계획부 김선태 차장이 지난 월 대우조선해양에  기반 선박 영업지원 설계시스템을 구축한 내용에 대해 전한 말이다 대우조선해양은 정보시스템 인공지능 전문 스타트업 기업 와 공동으로 이 시스템을 구축했다 관련 프로젝트에 참여한 대우조선해양 정보시스템 기획부 현옥흥 부장은 자연어 처리 기반 인공지능 시스템을 구축한 사례가 없었습니다 그리고  적용은 한 프로젝트에서 끝날 일이 아니었습니다라며 동종업계에서 가장 뛰어난 대우조선해양의  경쟁력을 유지하기 위해 개월에 걸쳐 개 업체를 철저하게 테스트했습니다 모두 테스트를 통과하지 못했습니다 한동안 시간이 지난 뒤 를 소개받아 테스트를 다시 했는데요 포티투마루라면 우리가 하고자 하는 일을 함께 할 수 있다고 판단했습니다라고 당시 상황을 전했다 대우조선정보해양 옥포조선소 전경 제공 테크수다 이 시스템은 선박 계약 전 선주가 요청하는 다양한 기술적 문의 사항에 대해 과거 실적을 기반으로 적절한 해답을 찾아줘 즉각 대응한다 통상 선박 수주 과정에서 선주가 한 프로젝트당 수백 건에 달하는 기술적 문의를 해오는데 답변 기한은 수일 또는 당일이다 이에 답변자는 약 만 건에 달하는 자료를 살펴보는 등 사전 작업에 상당한 시간을 소요했다 대우조선해양은 이번에 개발한  설계시스템이 선주측 질문에 대한 답변 작성 시간을 상당부문 단축할 것으로 예상한다 단어 혹은 문장을 입력하면 맥락과 의미를 파악해 과거 사례를 검색 가장 적합한 내용을 선별해 제시하기 때문이다 년에 창업한 가 쟁쟁한 국내외 기업을 물리치고 이 프로젝트를 수행했다 는 질의응답 기술을 중심으로 기계독해    자연어처리     검색 등의 기술을 보유한 스타트업이다 회사 설립은 몇 년 안되었지만 내부 근무자들은 강호의 고수라고 해도 손색이 없다 김동환 대표는 년 엠파스 검색 개발자로 사회생활을 시작해 검색 기획과 개발에만 몸담았다 커뮤니케이션즈가 엠파스를 인수합병한 후 통합 네이트 검색 서비스를 담당했고 시맨틱 검색 서비스 개발도 담당했다 여 년을 검색 분야에 몸담아 왔다 컴퓨터비전 전공자기도 하다 관련 업계는 년 음성 검색이 전체 검색의 를 넘어설 것으로 예상한다 또한 자연어 이해를 기반으로 한 인지 컴퓨팅 시장은 년에 이르면 조 원에 이를 것으로 전망한다 가 설명하는 딥러닝을 사용해 개발한 일종의 검색 기술 딥 시맨틱 는 기존 검색 시스템과 무엇이 다를까 구글이나 네이버 등 기존 검색 사이트가 제공하는 결과는 키워드를 매칭해서 여러 결과를 보여준다 때문에 사용자는 원하는 결과를 찾기 위해 다시 검색 결과를 하나씩 클릭하는 재탐색 과정이 필요하다 기존 검색과   딥 시맨틱   차이점 출처  반면 딥 시맨틱 는 사용자의 질의 의도를 파악해 정답을 찾아준다 사용자는 재탐색 과정없이 한번에 검색 결과를 얻을 수 있다 기존에도 비슷한 시도가 있었지만 사용자 의도 분석을 대부분 수작업에 의존했다 는 딥러닝을 이용해 이를 자동화했다 김 대표는 년 넘게 웹 문서 검색과 멀티미디어 검색 등을  대상 서비스로 제공한 경험이 있다 그런 그가 이번에는     형태로  시장과 고객을 겨냥한다 지난 년에는 여 회사들이 경쟁한   스타트업챌리지에서 위 안에 입상한 경험도 있다 년말에는 세계 최고 권위의 기계 독해 경진대회      에서 구글과 공동 위를 차지하며 기술력을 입증했다 는 컴퓨터가 사람처럼 문서를 읽고 이해한 후 질문에 대한 정답을 찾아내는    테스트다 올해는 정보통신산업진흥원에서 주관하는 년 글로벌  육성 프로젝트에 선정되어  사업에 박차를 가하고 있다 는    등 보유 기술을   형식으로 공급하는 글로벌 사업을 준비 중이다 미국보다 유럽 시장을 우선 공략하는 것도 눈에 띄는 대목이다 김 대표는  기업을 겨냥한 이유에 대해 클라우드와  환경이 있었기 때문입니다 검색 서비스는 엔진 개발 이외에 서비스를 위한 다양한 작업이 필요합니다 구축형의 경우 인건비 위주로 시장이 형성되어 있어 국내를 넘어 해외로 나가기 쉽지 않았습니다 하지만  형태는 바로 해외 진출도 가능하고 개선 사항을 바로 적용할 수 있기 때문에 서비스 차별화도 가져갈 수 있습니다라고 말했다     출처  이어서 그는 대우해양조선의 경우 수주 후 구축한 시스템 오픈 바로 며칠 전 관련 엔진을 개선했습니다 엔진을 지속적으로 업그레이드하기 때문에 고객에 적용된 시스템도 선택에 따라 지속적으로 진화합니다 그것이 기존 패키지 형태 제품들과 다른 점입니다라고 덧붙였다 는    라는 모델로  플랫폼을 활용할 수 있는 글로벌  엔터프라이즈 제공자로 자리잡을 계획이다 대기업 지식관리시스템는  형태가 아니어도 직접 구축할 수 있는 프로젝트다 국내 시장에 맞게 구축형 모델도 대응하면서 고객사에게 기존과 다른 차별화된 기술을 경험할 수 있도록 하기 위해서다 음성검색 서비스는 이미 국내 이통사에도 음성 답변 분야에 엔진을 제공 중이다 음성인식 기능과 엣지 장비나 기기에 신경망 칩을 탑재하면서  서비스 적용에 유리한 환경도 조성되고 있다  서비스 이외에도 자사 엔진을 활용할 수 있는 생태계가 마련되면서  사업을 병행할 계획이다 챗봇 시장도 진출도 자연스러운 확장 분야다  김동환 대표가 테크스타즈 데모데이에서 발표하고 있다 출처  의 유럽 시장 공략이 다소 특이한데 년 월 유럽 엑셀러레이터 테크스타즈 런던 프로그램에 선발된 것을 발판으로 삼았다 테크스타즈는 포브스지가 선정한 최고의 글로벌 스타트업 엑셀러레이터 중 한곳이다 전세계 여 개 업체 중 총 팀을 선발하는데 가 선정되면서 주목을 끌었다 김 대표는 영국 런던에 법인을 세우고 이를 기반으로 독일과 프랑스에서 인력을 뽑아 개발하고 있습니다 이전과는 다른 기술 환경 덕분에 이런 도전도 가능힙니다라고 말했다 사실 김 대표는 년 검색에 종사했지만 시장에서 글로벌 기업과 네이버의 벽을 넘지 못했다는 아픔을 간직하고 있다 그와 함께 하는 이들도 거대한 사업자들과 세계에서 쏟아지는 유사 경쟁자들의 존재를 잘 알고 있다 그럼에도 불구하고 그들은 다시 도전에 나섰다 클라우드와 인공지능이 그들의 가슴을 다시 한번 불태우고 있다 글  도안구  칼럼니스트 동아닷컴 전문  \n",
            "일 오전 서울 광화문 스퀘어에서 열린 국내 최초  무선 서비스  슈퍼  출시행사에서 모델들이  초고화질의  슈퍼  콘텐츠를 체험하고 있다  \n",
            "한국자동차산업협회 임원 승진 조사연구실 상근이사 김\n",
            " 서울청년자치정부 일 청년정책 해커톤 개최  다시 세운상가청년창업가 유치로 도심재생 나서야  진입안착 투트랙뉴딜일자리초기투자매칭 제안  일자리예산 억평등 억 결정주거복지  일 오전 서울 동대문구 서울시립대 주년 기념관에서 열린 제회 서울청년시민회의 해커톤에 참여한 청년들이 정책 토론을 벌이고 있다 서울특별시 청년청 앞서 서울시는 지난 월 청년자치정부를 출범해 청년 당사자의 목소리가 시정에 반영될 수 있도록 민관 협력거버넌스를 강화했다 현재 일자리경제 교통환경 문화 교육 평등다양성 복지안전망 민주주의 도시주거 건강 등 개 분과 산하에는 개 소주제 모임이 있으며 총 명의 청년시민위원이 오프라인 멤버로 활동하고 있다 온라인으로 활동하는 청년정책패널은 총 명이다 김영경 서울시 청년청장은 서울시 청년자치정부는 준정부 권한을 가지고 정책 기획과 예산 편성에 있어서 실질적 권한을 청년이 행사한다는 전례 없는 정부와 시민 협력 모델로 일정한 예산 범위 내에서 청년당사자 주도의 독립적 예산 편성 절차인 청년자율예산제를 운영하게 됐다고 설명했다 올해 청년자율예산제 편성규모는 억원으로 시정숙의형 억원 자치구숙의형 억원으로 구성돼 있다 시정숙의형 억원이 분과숙의형 억원과 특별기획형 억원으로 나눠지는데 이번에 분과숙의형 억원이 구체적인 편성안을 결정했다 박일경 \n",
            "집배원 과중한 업무 개선 목적 이르면 내년 하반기 적용 가능 총파업 우려 속 비판의 목소리  전국우정노조가 지난달 회견에서 총파업 찬반투표 결과를 발표하는 모습  우정사업본부 출범 이후 첫 총파업 위기가 가시화되고 있는 가운데 집배원의 과중한 업무를 개선하기 위한 정부의 디지털 플랫폼 사업이 이달부터 시작된다 하지만 본격적인 시범 사업은 빨라야 내년 하반기 이후여서 뒷북 대응이라는 지적이 제기되고 있다 일 관련 업계에 따르면 과학기술정보통신부와 한국정보화진흥원이 진행 중인 국가디지털전환사업 기획과제로 우본의 디지털 우정 물류 공유관리 플랫폼 사업이 선정됐다 이는 판매자창고업자차량제공업자 대리운전기사 배송대행업자 등 전국에 흩어져 있는 물류 배송 관계자를 한곳으로 연결해 공유경제 기반의 다양한 물류 사업을 창출하는 방식이다 이를 통해 소비자가 원하는 방식 맞춤형으로 유연한 배송 서비스를 제공해 제의 마켓컬리와 같은 스타트업 배출을유도하겠다는 것이다 궁극적으로는 전자상거래 발달로 우본에 집중 포화되는 배송 물량을 전국 민간 사업자에게 분산시키는 것이 주된 목적이다 대신 우본이 공신력을 바탕으로 플랫폼을 관리하게 된다 우본 관계자는 집배원의 중노동을 해결하기 위한 근본적인 해결책으로 디지털 플랫폼 사업이 도입되는 것이라고 강조했다 여기에는 첨단 차산업혁명 기술도 적용된다 우본 관계자는 각기 다른 사업자노드를 연결하는 블록체인 네트워크 기술 각 배송 경로를 추적할 수 있는 사물인터넷 센서 실시간으로 정보를 전송하기 위한  통신기술 각종 배송데이터를 분석하는 인공지능 접목이 필수라고 설명했다 우본은 이달 중으로 디지털 플랫폼 사업을 설계할 연구용역 업체가 선정되면 본격적인 플랫폼 추진 계획 업무에 돌입해 연내 최종안을 확정할 계획이다 내년부터는 플랫폼 시스템을 구축해 실질적으로 서비스가 적용되는 시점은 내년 하반기 이후가 될 것이라고 우본 측은 설명했다 하지만 이마저도 시범서비스여서 정식 서비스로 확대되려면 년 이후에나 가능해질 전망이다 디지털 플랫폼 사업과도 연계해 우본은 물류 센터에서 사람이 화물을 싣고 내리는 것을 자동으로 처리하는 무인화 프로젝트도 자체적으로 준비 중이지만 이 역시 내년 하반기 이후부터 도입될 예정이다 우본 안팎에서 배송 물량의 효율적인 처리와 집배원의 고강도 업무량 해소 등을 주문하는 목소리가 지속 제기돼 왔지만 플랫폼 적용은 년 뒤에나 가능해져 우본의 대처가 기민하지 못했다는 업계 비판이 따르고 있다 나아가 융복합 중심의 플랫폼 사업인 만큼 각종 규제와 법제도 변수로 서비스가 지연될 가능성도 있다 하반기 계획 수립 시 예상되는 제도적 문제를 규제개혁위원회에 건의한다는 방침이지만 신속한 해결을 장담할 수 없기 때문이다 해외 우정 당국은 이미 공유경제 기반의 플랫폼 사업을 도입해 적용하고 있다 정보통신정책연구원 우정경영연구센터에 따르면 프랑스우정 은 년 스튜어트를  자회사로 인수했다 스튜어트는 독립적인 지역 기반 개인 소포사업자들을 물류 관련 사업과 연계시켜주는 플랫폼이다 스튜어트 플랫폼 상에서 배송 물류의  이상이 도보 자전거 전기차로 소화돼 배송 업무 강도가 개선됐다 소비자는 특정 시간과 장소에 소포를 배달받을 수 있고 개인 소포사업자들은 배송 물량과 연계해 보너스를 지급받아 배송 업무 책임이 강화됐다 \n",
            "북한 김정은 정권에 반대하는 자유조선옛 천리마민방위이 김정은 국무위원장과 도널드 트럼프 미 대통령 간의 비무장지대 깜짝 회동에 대해 공허한 제스처라고 말했다 자유조선은 일현지시각 홈페이지에 에서의 행사에 대한 자유조선 정부의 성명을 내고 이같이 밝혔다 자유조선은 자유조선 임시정부는 궁극적인 평화를 추구하는 선의를 가진 파트너들 간의 대화를 신뢰한다며 평양 체제에선 수백만명이 굶어죽고 수십만명이 수용소에 수감돼있으며 수백명의 외국인들이 납치되고 암살당한다 그들김정은 정권은 대량살상무기를 계속 증식하고 대량학살을 자행하는 등 선의로 행동한 적이 없다고 했다 그러면서 김정은 정권은 년부터 미국과 비핵화협상을 진행하는 동안에도 대량살상무기의 개발을 멈추지 않고 있다며 김정은 정권에 의한 공허한 제스처는 세계를 기만하고 부도덕한 범죄 체제에 힘을 부여하는 역할만 한다 억압된 국민과 진정한 평화를 위해 변화가 이뤄져야 한다고 했다\n",
            " 일본 경제산업성 한국 첨단재료 수출 면제국 제외 탈일본 가속화   저작권자  디지털데일리 무단전재재배포\n",
            "서울   일본정부가 반도체와 유기발광다이오드 소재의 한국 수출규제를 발표한 가운데 일 오후 수출상황 점검회의가 열린 서울 종로구 한국무역보험공사 대회의실에서 성윤모 산업통상자원부장관이 모두발언을 하고있다   저작권\n",
            "뷰티테크 스타트업 여신티켓이 투자유치에 성공하며 본격적인 마케팅에 나선다 피부시술 정보 플랫폼 여신티켓을 제공하는 뷰티테크 스타트업 패스트레인대표 손승우은 스타트업 투자사 컴퍼니비로부터 투자를 유치했다고 최근 밝혔다 손승우 패스트레인 대표왼쪽와 엄정한 컴퍼니비 대표 컴퍼니비 제공 앱과 웹으로 서비스되는 여신티켓은 런칭 년만에 앱 다운로드 만 제휴병의원 곳을 달성하는 등 빠르게 성장하고 있는 뷰티테크 스타트업 실제 피부시술을 받은 고객만 후기를 작성할 수 있는데다 고객의 피부상태와 시술목적 대기시간 상담만족도 등도 공유할 수 있는 것이 특징이다 월 말 현재 누적 후기만 해도 만건 매월 추가되는 후기도 약 건에 달한다 엄정한 컴퍼니비 대표는 여신티켓은 홍보성 정보와 이벤트 중심의 기존 뷰티정보 플랫폼들과 달리 입소문으로 여성고객들의 만족을 이끌어내고 있는 플랫폼이라면서 여신티켓이 한국을 넘어 아시아 뷰티허브가 될 수 있도록 최선을 다하겠다고 밝혔다 앞서 여신티켓은 지난 월 창업활성화 지식서비스분야에서 청년창업문화 확산에 기여한 공을 인정받아 창업진흥원장상을 수상해 화제를 모은 바 있다  \n",
            "핸드메이드 마켓 플랫폼 아이디어스를 운영하는 백패커는 수공예 작가들을 위한 공유 공방 아이디어스 크래프트랩을 열었다고 일 밝혔다 아이디어스 크래프트 랩은 수공예 작가들 대상으로 독립된 개인 작업실 전문 작업을 위한 공용 작업실 촬영 스튜디오 클래스룸 등을 지원한다 랩은 개의 개인 작업실로 구성돼 있으며 기존 사무형 공유 오피스보다 인당 최대 배 큰 공간을 갖췄다 가죽 폰케이스 도예 금속 발향 작업을 할 수 있는 필수 장비도 구비돼 있다 또 작품 사진을 전문으로 촬영할 수 있는 스튜디오 교육 및 강연 등이 가능한 대규모 회의실 개인 창고 간식과 휴식을 취할 수 있는 공간을 포함했다 김동환 백패커 대표는  앞으로도 핸드메이드 작가들을 위한 지원 활동을 계속할 계획이라고 말했다  \n",
            "김정숙 여사는 환상적인 여성이다 내 아내가 김정숙 여사 팬이다 특별하고 훌륭한 여성이다 도널드 트럼프 미국 대통령이 방한 중 공식 석상마다 문재인 대통령의 영부인 김정숙 여사를 극찬했다 트럼프 대통령은 회견장에서는 물론 소수 인원이 모인 회담장에서도 김 여사에 대한 찬사를 이어갔다 함께하지 못한 멜라니아 여사가 김 여사의 팬이라고 전하기도 했다 트럼프 대통령은 일 청와대에 도착해 친교 만찬을 즐기는 자리에서 김 여사를 가리키며 내 아내는 문 대통령 부인의 굉장한 팬이다라며 그녀는 김정숙 여사가 환상적인 여성이라고 생각한다고 말했다 이에 김 여사는 멜라니아 여사도 왔으면 좋았을 것이라고 말했고 트럼프 대통령도 그렇다 왔으면 매우 좋아했을 것이라며 아쉬워했다 트럼프 대통령은 또 멜라니아 여사를 대표해 내 자신과 미국을 대표해 말하고 싶다며 따뜻한 환대에 감사하다고 했다 다음날인 일 오전 청와대에서 열린 한미 정상회담 후 가진 회견 모두발언에서도 트럼프 대통령은 가장 먼저 영부인에게 큰 감사의 말씀을 드리고 싶다 김 여사는 굉장히 특별한 분이라고 말씀드리고 싶다며 영부인이 굉장히 활기찬 면모를 갖고 있고 나라를 생각하고 문 대통령을 잘 보좌하고 사랑하는 분임을 이번에도 느낄 수 있었다고 평가했다 한미 정상회담  소인수회담 모두발언에서도 트럼프 대통령은 문 대통령을 어제 만났을 때 제일 먼저 얘기했던 것이 영부인께 감사를 표하는 것이었다며 영부인께서는 한국에 대한 많은 사랑과 아주 좋은 에너지를 가지고 있는 분이다 아주 훌륭한 여성이다라고 강조했다 김 여사는 멜라니아 여사 대신 퍼스트 레이디 역할을 한 트럼프 대통령의 딸 이방카 보좌관과도 솔직한 대화를 나누며 친밀감을 드러냈다 일 환영 만찬 전 상춘재 칵테일 리셉션에서 김 여사는 내일 굉장히 중요한 행사가 있는데 잘 풀렸으면 좋겠다고 말했다 이방카 보좌관은 이에 대해 오늘 저녁에 그것과 관련해 남편이 업데이트해줄 것이 있다고 하더라라고 답했다 이에 김 여사는 정말이요라며 반색을 표한 것으로 전해졌다 이방카 보좌관의 남편은 제러드 쿠슈너 백악관 수석고문이다 당시만 해도 남북미 회동이 불투명한 상황에서 김 여사가 이방카 보좌관의 말에 기대감을 드러낸 것으로 보인다 외국 정상이 영부인을 공개적으로 여러 차례 호평하는 것은 이례적인 일인 만큼 김 여사의 친화력이 트럼프 대통령에게 깊은 인상을 남긴 것으로 해석할 수 있다 청와대는 트럼프 대통령 내외와 김 여사의 유대감이 한미 관계에 긍정적인 영향을 줄 것으로 기대한다고 밝혔다     \n",
            "월 일부터 월 일까지 코엑스에서 개최 한국지능형사물인터넷협회회장 박진효는 오는 월 일수부터 월 일금까지 일간 코엑스층 홀에서 개최되는  사물인터넷 국제전시회   이하 전시회의 참가기업을 모집한다고 밝혔다 사물인터넷 국제전시회는 국내외 기업들의 제조 건설 가전 의료 에너지 등 전 산업 분야에 적용되고 있는  플랫폼 네트워크 디바이스 응용서비스 및 융합 제품 전시홍보를 통해 새로운 비즈니스 기회를 확대할 수 있는 행사다 과기정통부가 주최하는 사물인터넷진흥주간  의 메인 행사로써 매년 개최되고 있다 이번 사물인터넷 국제전시회는 작년보다 확대된 규모로 국내외 여 개 기업 부스의 규모로 개최되며 는 물론  산업 관계자 약 만여 명이 참관한다 특히 올해는  기반의   데이터 등  유망기술이 융합된 지능형  서비스 및 제품들을 발굴해 확산 계기를 마련할 예정이다 또한 참가업체 관람객을 위한 다양한 부대행사와 컨퍼런스도 개최돼  산업의 트렌드를 한눈에 살펴볼 수 있는 좋은 기회의 장이 될 것이다 참가 신청 기간은 월 일금까지이며 한국지능형사물인터넷협회 회원사의 경우 참가비 할인 적용을 받을 수 있다 참가 신청 방법은 전시회 홈페이지를 통해 확인할 수 있다 인터넷  \n",
            "서울  박상기앞줄 왼쪽 세번째 법무부장관을 비롯한 참석자들이 일 오후 서울 동대문구 법무부 서울준법지원센터에서 열린 보호관찰제도 주년 기념행사에서 국민의례를 하고 있다   저작권\n",
            "중국 피코 단말기에 요금제 붙여 사업 시작 네이버아프리카 등 제휴사업자 늘려 콘텐츠 하나로 잇는 플랫폼 만들 계획 앱단말 다변화 없인 확장성 한계 지적도  초고화질 독립형  단말기 출시 중국 피코의 지투 단말기 사용 누리집 갈무리 가상현실 유통사업에 공들이던 케이티가 플랫폼 사업에 본격적으로 나선다 네이버 브이라이브 등 다른 콘텐츠 플랫폼과 제휴를 맺고 단말기에 가상현실 콘텐츠를 얹어 월정액 요금을 받는다 케이티는 일 서울 종로구 회견을 열고 월정액 요금제를 얹은 초고화질 독립형 브이아르 단말기를 출시했다고 밝혔다 소비자는 만원을 내고 기기를 산 뒤 매달 원슈퍼패스을 내고 영화스포츠영상 미디어 콘텐츠를 시청할 수 있다 중국 피코의 지투 단말기를 사용했다 제휴사도 늘렸다 기존에 제공하던 스포츠중계 및 영화 콘텐츠에 더해 네이버 브이라이브 아프리카티브이 바른손 영화사업부의 콘텐츠를 브이아르로 보여주기로 했다 청담어학원이나 코딩교육업체의 브이아르 교육콘텐츠도 탑재한다 롯데와 손잡고 단말기 대여사업을 추진할 계획도 있다고 케이티는 밝혔다 케이티는 단말기와 브이아르 콘텐츠를 하나로 묶어 판매유통 수수료로 수익을 올릴 계획이다 비싼 단말기값 때문에 브이아르 전체 시장이 위축돼 있는데 값싼 단말기를 들여와 제휴사 콘텐츠 등과 엮으면 기기와 콘텐츠 모두 잘 팔릴 거라 봐서다 박정호 케이티 뉴미디어사업단 상무는 당분간은 시장 확장성을 위해 별도 과금을 하지 않겠지만 장기적으로는 올레티브이 유료 영화를 비롯해 광고를 붙인 커머스 모델까지 확장할 예정이라며 미디어 시장의 광고상품이라든지 다양한 수익원을 발굴할 예정이라고 했다 그러나 업계 관계자들 사이에선 케이티의 전략이 시장에 통할지 의견이 분분하다 피코 단말기를 쓰지 않으면 케이티 콘텐츠를 이용할 수 없고 콘텐츠가 다른 단말기와 호환성이 떨어질 수도 있어서다 네이버 브이라이브나 아프리카티브이 등 콘텐츠 유통제작사업자들이 케이티하고만 콘텐츠를 독점 유통한다고 보기도 어렵다 경쟁사는 단말기가 아닌 모바일 앱에 브이아르 콘텐츠를 모은다 어느 단말기를 쓰든 앱만 탑재하면 콘텐츠를 즐길 수 있게 하기 위해서다 에스케이텔레콤은 미디어 콘텐츠 플랫폼 옥수수 앱과 웹사이트를 통해 엘지유플러스도 자체 앱을 통해 증강현실 아이돌 영상을 배포한다 통신업계 관계자는 아직 브이아르 생태계가 작은 상황에서 혼자 독점 생태계를 구축하긴 어렵다며 시장 판도를 키우면서도 플랫폼 사업을 키우려면 고민을 많이 해야 할 것이다고 했다\n",
            "국회 차원의 방북단을 구성합시다  일 낮 시 서울 여의도 국회 본청 귀빈식당 별실 호 이해찬 더불어민주당 대표가 초월회 오찬 자리에서 이런 제안을 했다 초월회는 국회의장과 각 당 대표의 월례 오찬 모임이다  이 대표는 전날 북미 정상회담을 언급하며 여야 정당도 한반도 평화 구축을 위해 힘을 모으자고 했다    문희상 국회의장 주최 초월회 오찬 간담회가 일 국회 귀빈식당에서 열렸다 이해찬 민주당 대표왼쪽가 황교안 자유한국당 대표오른쪽 발언 때 머리를 만지고 있다      이같은 흐름은  차 남북 정상회담과  차 북미 정상회담 때도 이어졌다  현일훈 \n",
            "행안부 내일 광주혁신포럼 출범식전국 곳서 순차 진행 세종  행정안전부는 오는 일 국립아시아문화전당에서 광주혁신포럼 출범식을 개최한다고 일 밝혔다 혁신포럼은 지역 사회의 문제를 주민이 발굴하고 민관이 협업해 해결책을 찾자는 형태의 플랫폼이다 지난해 대구와 강원에 이어 올해는 광주 충북 경남 대전 등 전국 곳에서 가동된다 출범식에서는 지난 월 발굴한 개 의제 중 혁신도시 이전 공공기관을 중심으로 해결방안을 찾고 있는 대표의제 개에 대해 발표토론한다 한국전력과 교육청이 협력해 학교 옥상에 햇빛발전소를 설치하고 그 수익금으로 마을교육공동체를 지원하는 마을과 학교가 함께 만드는 햇빛발전소와 현수막을 농어촌공사의 재난대비용 비축용 마대나 구청의 가로청소용 마대로 재사용하는 폐현수막 소각 매립 제로 도시 광주가 대표적이다 행안부는 혁신포럼의 원활한 운영을 위해 표준조례를 만들어 보급할 계획이다 온라인으로 각 지역의 의제 제안논의해결 과정을 한눈에 볼 수 있는 사회혁신온라인플랫폼도 운영한다 윤종인 행안부 차관은 지역 문제는 현장에서 생활하는 지역 주민이 가장 잘 안다며 올해 개 지역의 혁신포럼 모델이 주민이 체감할 수 있는 성공사례를 많이 만들도록 적극 지원해 나가겠다고 말했다 \n",
            "게임 내 구조물장애물 크기 변형시켜 레이턴시 는 문화기술대학원 이병주 교수와 핀란드 알토 대학교 가 공동연구를 통해 랙이라 불리는 온라인 게임 내 레이턴시 현상을 없앨 수 있는 기술을 개발했다고 일 밝혔다 레이턴시는 장치 네트워크 프로세싱 등 다양한 이유로 발생하는 지연 현상을 말한다 사용자가 명령을 입력했을 때부터 출력 결과가 모니터 화면에 나타날 때까지 걸리는 지연을 엔드투엔드 레이턴시 라 한다 상호작용의 실시간성이 중요한 요소인 게임 환경에서는 이런 현상이 플레이어의 능력에 부정적 영향을 미치는 것으로 알려져 있다 이에 따라 연구팀은 레이턴시가 있는 게임 환경에서도 플레이어의 본래 실력으로 게임을 할 수 있도록 돕는 레이턴시 보정 기술을 개발했다 이 보정기술은 레이턴시의 양에 따라 게임의 디자인 요소 즉 장애물의 크기 등 컽보기 형태를 변화시켜 레이턴시가 있음에도 레이턴시가 없는 것처럼 느껴지는 환경을 조성하는 기법이다 이를 위해 연구팀은 레이턴시가 플레이어에 미치는 영향을 분석해 플레이어의 행동을 예측하는 수학적 모델을 제시했다 시간제한이 있는 상황에서 게임 플레이를 위해 버튼 입력을 해야 하는 움직이는 타킷 선택 과업에 레이턴시가 있을 때 사용자의 성공률을 예측할 수 있는 인지 모델이다 이어 연구팀은 이 모델을 활용해 게임 환경에 레이턴시가 발생할 경우 플레이어 과업 성공률을 예측하고 이를 통해 레이턴시가 없는 환경에서의 플레이어 성공률과 비슷한 수준으로 만들기 위해 게임의 디자인 요소를 변형했다 연구팀은 플래피 버드 라는 게임에서 기둥의 높이를 변형해 레이턴시가 추가됐음에도 기존 환경에서의 플레이 실력을 유지함을 확인했다 연구팀은 후속 연구를 통해 게임 속 장애물 등의 크기를 변형시켜 레이턴시를 없앨 수 있는 확장 연구를 기대하고 있다 이 교수는 이번 기술은 비 간섭적 레이턴시의 보정 기술로 레이턴시의 양만큼 게임 시계를 되돌려 보상하는 기존의 랙 보상 방법과는 다르게 플레이어의 게임 흐름을 방해하지 않는 장점이 있다라고 말했다 하편 이인정 박사과정이  저자로 참여하고 알토대학교 김선준 연구원이 공동으로 개발한 이번 연구는 지난 월 일 열린 인간컴퓨터 상호작용 분야 최고권위 국제 학술대회           에서 발표됐다논문명           \n",
            " 년 달 착륙 프로젝트스페이스 등 민간이 추월할수도  달 뒷면 최초 정복 우주굴기인도일본도 탐사기회 엿봐 연합뉴스 일본도 달 탐사선 셀레네 호를 개발해 달 착륙 기회를 엿보고 있다 년까지 유인 달 탐사선 발사를 목표로 정했다 일본은 소행성 탐사에서는 뚜렷한 성과를 냈다 탐사선 하야부사가 소행성 내부물질을 추출할 인공 웅덩이 만들기를 시도하고 있다 일본은 국제우주정거장 실험동 개발과 운용에 참여한 경험을 토대로 가 구상 중인 달 궤도 기지 게이트웨이 주거동 개발에 유럽연합과 공동으로 참여할 의향을 표시했다 냉전 시대 미국과 치열한 탐사 경쟁을 벌이던 러시아도 달에서 생명체와 물의 흔적을 찾기 위해 년 이후 탐사선 루나를 발사할 계획이라고 최근 타스통신이 보도한 바 있다 루나는 반세기 전부터 이어져 온 옛 소련의 탐사 전통을 따른 작명이다 우주발사체 누리호의 급 단 엔진 연구개발에 주력하는 한국은 천리안 기상해양환경 등 인공위성 개발을 고도화하는 한편 시험용 달 궤도선 시스템 설계에도 예산을 투입한다는 전략이다 년 달 탐사선을 띄운다는 목표를 갖고 우주발사체 기술자립 등 우주개발 대 전략에 박차를 가하고 있다 \n",
            "청주  일 민선 기 년을 맞아 한범덕 충북 청주시장이 브리핑을 열어 그동안의 성과를 설명하고 앞으로의 비전을 제시하고 있다   저작권\n",
            "애니모션텍이 레이저 코리아 에서 레이저 가공장비의 생산성과 품질을 높이는 고성능 스캐너  라인업을 공개한다 모션 제어시스템 솔루션 전문기업 애니모션텍대표 신동혁은 오는 일 사흘간 경기도 고양시 킨텍스에서 개최하는 레이저 코리아 에 참가한다고 일 밝혔다 레이저 코리아 는 레이저 기술 전문 전시회이다 레이저 전문기업의 첨단레이저 기술 최신 장비부품을 한 자리에서 만나볼 수 있다 나노마이크로기술 첨단세라믹 고기능소재 스마트센서 등 첨단기술 분야를 총망라한 총 개 전시회가 통합 개최된다 애니모션텍은 초정밀 스테이지와 모션 컨트롤 기술을 보유한 미국 에어로텍의 합작사로 제품을 국내에 공급한다 년 기술이전을 통해 일부 장비를 직접 설계제작공급할 수 있는 토대를 갖췄다 애니모션텍이 레이저 코리아 에서 선보일 주력제품 애니모션텍은 반도체기타 정밀검사 측정 레이저 어플리케이션 등에 활용도가 높은        등 에어로텍만의 기능을 구현한 데모장비를 시연한다 또 차원 레이저 가공 분야에 적용할 수 있는  스캐너 제품군 데모장비도 전시한다 기존  스캐너 보다 넓은 시야 각도를 확보할 수 있는 스캐너 와 축 미세 가공이 가능한 스캐너  도 소개한다 신동혁 애니모션텍 대표는 스테이지스캐너 연동  기능 스테이지 위치 기반 트리거  기능과 연계해 레이저 가공장비의 생산성과 품질을 높인 고성능 스캐너  신규 라인업을 선보인다고 전했다 그는 또 로 속도 변화에 따른 엔코더 위치를 기반으로 원하는 거리에서 펄스를 트리거한다면서 로 스테이지 엔코더 값을 기반으로 스캐너와 동기화해 갤보의   보다 큰 영역을 연속 가공한다고 부연했다  \n",
            "하이닉스 개 협력사 대표와 환경 분야 담당자들이 일 경기도 이천시 에덴파라다이스 호텔에서 열린  에코얼라이언스 출범식에서 기념촬영을 하고 있다 사진하이닉스 하이닉스가 환경 문제 해결에 앞장서기 위해 협력사들과 힘을 모은다 하이닉스는 친환경 반도체 생태계 구축을 위해 개 협력사가 참여하는 에코 얼라이언스를 출범했다고 일 밝혔다 하이닉스와 개 협력사가 참여하는 에코 얼라이언스는 참여기업 환경경영 목표 설정 공동 환경 목표 설정 친환경 비즈니스 모델 발굴 등 세가지 과제를 해결할 계획이다 협력사들은 참여기업별 환경경영 경쟁력을 강화하기 위해 올해까지 환경목표를 수립한다 온실가스 폐수 폐기물 등의 감축 목표가 해당된다 하이닉스 관계자는 참여기업에 전문기관 컨설팅과 주기적인 담당자 교육 등을 지원할 예정이라고 설명했다 협력사 간 공동 환경 목표도 설정한다 일회용 폐기물 발생 제로 캠페인 등이 대표적 사례다 이러한 활동으로 창출된 사회적 가치는 금액으로 측정되고 연 회 열리는 회의에서 활동 성과와 계획을 검증받는다 아울러 경제적 가치와 사회적 가치 동시 창출을 목표로 새로운 비즈니스 모델도 발굴한다 하이닉스 측은 생산 과정에서 발생하는 폐기물 재활용 반도체 제품 재사용 등의 경험이 공유되면서 다양한 사업기회가 만들어 질 것으로 기대한다고 설명했다 이날 경기도 이천시 에덴파라다이스 호텔에서 열린 에코 얼라이언스 출범식에는 김동섭 하이닉스 김동섭 사장을 비롯하여 동우화인켐 미코 원익 등 개 협력사 대표 및 환경 업무 담당자 여 명이 참석했다 신승국 하이닉스 전무는 출범식에서 지금은 개 협력사로 시작하지만 중장기적으로는 차 협력사와 해외 협력사의 동참을 이끌어내 사회적 가치 창출에 기여하겠다고 말했다  \n",
            "내년 상용화데이터 처리 효율 배 텔레\n",
            "서울  박상기 법무부장관이 일 오후 서울 동대문구 법무부 서울준법지원센터에서 열린 보호관찰제도 주년 기념행사에서 기념사를 하고 있다   저작권\n",
            "홍 부시장 다시한번 의정부 부시장 맡아 영광 홍귀선 부시장  경기 의정부시는 홍귀선 제대 부시장이 일 취임했다고 밝혔다 홍 부시장은 년 화성시에서 공직에 입문해 경기도 일자리센터장 대중교통과장 버스정책과장을 역임하고 년 지방부이사관으로 승진해 의정부시 부시장 경기도 교통국장 황해경제자유구역청 사업총괄본부장을 거쳐 다시 의정부시 부시장에 취임했다 취임사에서 홍 부시장은 의정부시가 비상하는 중차대한 시기에 다시 한 번 부시장의 소임을 맡아 영광과 무거운 책임감을 느낀다며 복합문화융합단지 조성과 민락 국민체육센터 건립 예비군훈련장 이전 자원회수시설 현대화 사업 등 추진해야 할 사업이 많은 만큼 직원들과 함께 최선을 다하겠다고 밝혔다 정재훈  네이버 홈에서  뉴스\n",
            "이베이코리아가 운영하는 마켓과 옥션은 오는 일 패션뷰티 상품 대상 연중 최대 규모 세일을 실시한다고 일 밝혔다 해당 기간 유명 명품 브랜드부터  트렌드 패션 인기 뷰티 브랜드를 만나볼 수 있다 총 만개 상품을 선보인다 마켓과 옥션은 매일 모든 회원에게 최대 만원과 최대 원 할인되는  할인쿠폰 장을 제공한다 유료멤버십 스마일클럽 회원에게는 매일  할인쿠폰 장을 추가 지급한다 전체 패션뷰티 상품 중 행사 로고를 노출한 상품에 적용 가능하다 두 오픈마켓은 매일 최대  할인율을 적용한 특가 상품을 총 개 선보인다 스마일클럽 회원을 위한 전용 클럽딜도 준비했다 자세한 내용은 마켓과 옥션 메인화면에서 패션뷰티 빅세일 행사 이미지를 클릭하면 확인 가능하다 윤희석 유통  \n",
            "서울  진선미 여성가족부 장관이 일 오후 서울 세종로 정부서울청사에서 유엔여성기구  아사 레그너왼쪽 부총재와 비네타 디옵 아프리카연합 여성평화안보 특사와 면담 전 기념촬영을 하고 있다   저작권\n",
            "지분  추가 획득서구권 시장 공략에 활용  넥슨이 스웨덴 게임사 엠바크 스튜디오를 자회사로 편입했다 차세대 온라인 게임을 개발해 서구권 시장을 공략하겠다는 전략으로 풀이된다 넥슨은 일 만달러약 억원을 들여 엠바크 스튜디오의 지분 를 추가로 확보했다고 일 밝혔다 앞서 넥슨은 지난해 월 엠바크 스튜디오의 지분에 투자한 바 있다 이번 추가 투자에 따라 넥슨의 엠바크 스튜디오 지분은 가 됐다 이로써 엠바크 스튜디오는 넥슨의 자회사가 됐다 스웨덴 스톡홀름에 있는 엠바크 스튜디오는 신기술 기반 쌍방향 게임 콘텐츠와 가상 온라인 세계 구축 등 완전히 새 유형의 온라인 게임 개발을 위해 설립됐다 자회사로 편입된 만큼 넥슨의 서구권 시장 공략에 활용될 전망이다 지난 월 넥슨의 신임 사내이사로 선입된 엠바크 스튜디오의 창업자 패트릭 쇠더룬드는 사내이사 역할을 이어간다 사내이사로 선임된 엠바크의 창업자 패트릭 쇠더룬드   역시 사내이사 역할을 지속한다 오웬 마호니 넥슨 대표이사는 엠바크는 짧은 시간 내 놀라운 성과를 내고 있다며 넥슨과 엠바크는 각각의 전문성을 공유하며 온라인 게임 서비스 역량 극대화 및 서구권 시장 공략에 박차를 가할 것이라고 했다 패트릭 쇠더룬드 엠바크 대표는 넥슨과 엠바크는 근본적으로 같은 방향의 비전을 갖고 있다며 양사는 새로운 관점과 기술력을 기반으로 혁신적인 방식의 게임개발과 서비스를 제공할 것이라고 했다  \n",
            "글로벌 수준 정보보호관리능력 인정받아 카카오게임즈 제공    카카오게임즈는 네덜란드에 위치한 카카오게임즈 유럽 법인이 국제표준화기구의 정보보호 인증  과 클라우드 개인정보 보안 인증  을 취득했다고 일 밝혔다  인증은 전 세계적으로 가장 널리 인정받는 국제 보안 표준이다 이를 획득함으로써 카카오게임즈는 인프라 시스템뿐 아니라 애플리케이션과 인력 기술 데이터센터 및 클라우드 환경에서의 개인 데이터 보호까지 보안 시스템 전반에 걸쳐 글로벌 수준의 관리 능력을 인정받게 됐다 카카오게임즈 국내 법인 또한 지난 년부터 매년 한국인터넷진흥원의 정보보호 관리체계 등 국내 주요 보안 시스템 인증을 유지하고 있다 카카오게임즈 측은 글로벌 게임 시장에서 지난 수년간 개인 정보 관리와 보안 시스템을 강화해 왔고 이번 국제 표준 인증 취득으로 그 신뢰성이 입증됐다며 앞으로도 글로벌 게임 기업으로서 내실을 다져나가는데 힘쓸 것이라고 밝혔다 \n",
            "로켓 탑재 우주선 보호하는 덮개 번 실패끝 번째 시도에서 성공 로켓 회수재활용 새 이정표 세워 발사비용 만달러 줄일 수 있어 로켓의 재활용은 우주여행을 대중화하는 데 가장 큰 열쇠 가운데 하나로 꼽힌다 로켓 발사 비용을 크게 줄일 수 있기 때문이다 그런데 재활용을 위해선 먼저 로켓을 손상없이 회수해야 한다 미국의 민간 우주개발업체 스페이스엑스는 이 부문에서 독보적인 기술을 확보했다 지금까지 실시한 차례 로켓 발사 중 차례 발사에서 단 로켓을 회수하는 데 성공했다 지난달 일현지시각 있었던 팰컨헤비 로켓 발사에서 스페이스엑스가 로켓 회수재활용에서 또 하나의 이정표를 세웠다 지금까지 실패를 거듭했던 페어링 회수에 마침내 성공한 것 년 이후 번의 실패 끝에 얻은 전기의 값진 성과다  페어링이란 로켓 위에 탑재한 우주선이나 위성을 보호하는 덮개를 말한다 이번에 회수한 것은 페어링 두 쪽 전부가 아닌 하나이지만 로켓 회수재활용 기술에서 한 발을 더 내디딘 것으로 평가할 수 있다 이날 페어링을 회수한 선박은 고 미즈 트리  라는 이름의 배로 이 배에는 낙하하는 페어링을 잡아챌 수 있는 커다란 그물망이 달려 있다 두 쪽으로 이뤄진 페어링은 제작비용이 만달러에 이른다 팰컨 로켓 총 발사비용 만달러의 약 다 팰컨 로켓 개를 연결한 팰컨헤비의 발사비용 천만달러에 견주면 약 에 해당하는 비용이다 따라서 페어링을 회수하면 그만큼 로켓 발사비용을 절약할 수 있다 스페이스엑스 최고경영자인 일론 머스크는 페어링을 회수하는 이유에 대해 공중에 떠다니는 백만달러짜리 물건을 그냥 두고만 볼 것이냐고 반문한 바 있다  스페이스엑스는 로켓에서 분리된 페어링이 그물배를 향해 낙하할 수 있도록 페어링에 낙하산과 소형 추진기 자동 내비게이션 시스템을 장착했다 원래 이 그물배의 이름은 미스터 스티븐 이었으나 그물을 새로 교체한 뒤 이름을 바꿨다고 한다 회수한 페어링은 일현지시각 커내버럴 항구에 도착해 재활용이 가능한지 점검을 받고 있다 스페이스엑스는 과거 단 로켓도 회수하려는 계획을 세운 바 있으나 기술적인 어려움 등으로 이를 시도하지는 않고 있다 곽노필  \n",
            "신진 작가 작품 티셔츠에코백 등 제품으로 선보여 서울  재고 없는 생산을 추구하는 선주문 커머스 플랫폼 카카오메이커스가 아티스트 탭을 신설하고 신진 작가들의 작품을 티셔츠 에코백과 같은 제품으로 선보인다고 일 밝혔다 지난 월 카카오메이커스가 진행한 티셔츠에코백 그래픽 디자인 공모전 수상작을 포함해 모두 점의 작품이 판매된다 재고 없이 주문받은 만큼 만들어지며 주간 주문을 받아 생산 배송한다 판매 수익금의 일부는 작가에게 지급한다 향후 카카오메이커스는 디자이너 이모티콘 창작자 등 다양한 크리에이터들의 새로운 작품을 아티스트 탭에 공개하고 티셔츠와 에코백 외 제품 종류도 다양화할 예정이다 아티스트 탭은 특별한 제품을 주문 생산하는 방식을 추구하며 재고 없는 생산을 추구해온 카카오메이커스의 가치를 이어나간다 카카오메이커스는 구매자들의 삶을 편리하게 하고 행복을 줄 수 있는 제품을 판매하는 것에 중점을 두고 있다 아티스트 탭을 통해 신진 작가들은 자신의 작품을 알릴 수 있고 소비자들은 자신의 취향에 맞는 제품을 소장할 수 있다 홍은택 카카오메이커스 대표는 아티스트 탭을 통해 뛰어난 작품을 만들어내는 작가를 발굴하고 고객에게 카카오메이커스에서만의 특별한 제품을 선보이는 선순환을 만들어나갈 것이라고 밝혔다 \n",
            "반도체 디스플레이 업계 관계자들이 일 오후 정승일 산업통상자원부 차관 주재로 긴급대책회의를 하기 위해 함께 정부서울청사 회의실로 이동하고 있다  \n",
            "서정인  네오텍 총괄 상무년 월 행정안전부과학기술정보통신부가 민간 클라우드 서비스를 공공부문에 적극 도입한다고 발표한 이후 국내 많은 공공기관이 클라우드 도입사업을 추진하고 있다 과학기술정보통신부가 발표한 년 행정공공기관 클라우드컴퓨팅 수요조사 결과에 따르면 올해 개 기관이 개 시스템을 클라우드로 도입할 예정이다 국내 뿐 아니라 해외도 공공 분야 클라우드 도입이 활발하다 미국은 년 월 연방정부의 정보 기술을 현대화해 대국민 서비스 접근 가능성을 개선하고 사이버 보안을 유지하기 위해 클라우드 스마트 전략  을 발표했고 영국은 정부의 신규 또는 기존 서비스를 조달할 때 반드시 클라우드 솔루션 도입을 우선적으로 고려해야 한다는 클라우드 퍼스트  정책을 년 도입해 현재까지 유지하고 있다 서정인 네오텍 총괄 상무 최근 창조경제연구회가 발표한 바에 따르면 세계적으로 차 산업혁명의 핵심 동력인 클라우드 데이터의 활용도는 가 넘지만 우리나라는 클라우드법 등의 경직된 규제로 활용도가  안팎에 불과하다 국내 중심의 정책 외국계 기업에 대한 높은 진입장벽이 국내 클라우드 시장 활성화를 가로막고 있다 정부가 올해부터 공공 클라우드를 활용할 수 있게 규제를 완화하면서 국내 기업뿐만 아니라 외국계 클라우드 기업도 국내 시장을 본격적으로 공략하고 있다 하지만 정부와 지자체를 비롯한 공공부문에서 클라우드 요구가 높아지고 있음에도 예상했던 만큼의 수요는 발생하지 않고 있다 과기정통부에 따르면 이의 원인은 보안 우려 미흡한 예산절감 효과 복잡한 도입절차 때문이다 공공기관에 클라우드 서비스를 제공하기 위해서는 한국인터넷진흥원의 클라우드 보안 인증이 필수적이다 하지만 클라우드 보안인증에 드는 큰 부담으로 클라우드 업체들이 이를 포기하고 있다 현재 국내 공공기관이 선택할 수 있는 클라우드 서비스 업체는 서비스형 인프라와 를 포함해 곳이 되지 않는다 복잡한 절차도 공공기관의 클라우드 도입을 가로막고 있다 공공이 따라야 하는 조달청을 통한 계약 체계는 여전히 클라우드 서비스에 적합하지 않다 클라우드 서비스는 주일이면 도입이 가능한데 기존 조달체계는 절차 수행에만 개월 이상이 소요된다 뿐만 아니라 입찰에 참여하는 사업자가 한 곳일 경우 단독 응찰로 재발주를 하도록 되어 있어 어려움을 더하고 있다 민간 클라우드를 도입할 경우 공공기관은 비용 절감 확장성 용이 생산성 향상 등의 효과를 기대할 수 있다 클라우드 도입을 통해 소프트웨어 구입비용을 절감하고 지속적인 업그레이드 및 유지보수 비용을 절감할 수 있다 또 리소스의 유연한 확장 및 축소가 가능하며 장소와 시간에 구애 받지 않는 서비스 제공을 통해 국가 운영효율과 서비스 만족도를 향상시킬 수도 있다 이와 같은 이점을 누리기 위해서는 우선적으로 관련 정책의 지속적인 개선이 필요하다 현재 국내에는 년 공공기관의 민간 클라우드 이용 가이드라인 과 년 공공 부문 클라우드 기본계획이 차례로 발표 공공기관의 민간 클라우드 도입 향상을 유도하고 있다 앞으로도 관련 정책을 끊임없이 개선해 공공기관이 민간 기업의 클라우드를 신뢰할 수 있도록 해야 한다 더 나아가 공공기관의 클라우드에 대한 불신을 해소시켜야 한다 미국과 영국의 경우 보안 불신 과 공급업체 종속과 같은 우려에도 불구 정부가 클라우드 기술 신뢰의 온도 차를 극복하기 위해 민간 기업과 주기적으로 소통 적극적으로 공공 분야 클라우드 도입을 추진하고 있다 이와 같은 해외 사례를 거울삼아 국내 공공기관도 민간 클라우드에 대한 불신을 해소시킬 수 있는 노력이 필요하다 현재 논의되고 있는 공공 클라우드 도입을 촉진하기 위해 개인정보 유출에 대한 피해보상 제도와 함께 공공 부문의 클라우드 보안 신뢰성 제고를 위한 클라우드 기술 교육을 병행 믿고 사용할 수 있는 환경을 조성하는 것이 시급하다 서정인 네오텍 총괄 상무\n",
            "서울김계조 행정안전부 재난안전관리본부장이 일 오후 세종시 정부세종청사 동 대회의실에서 재난안전 분야 일자리 과제 점검회의를 주재하고 있다  행정안전부 제공  저작권\n",
            " 수리 서울 지하철역 공조기 부품 이상 자동 감지하는 딥러닝 모델 개발 국가수리과학연구소는 서울교통공사와 서울 지하철역 기계장비 고장 예지 알고리즘 개발 공동 연구를 통해 지하철 역사 내 다양한 공조기에 적용 가능한 주요 부품 이상 자동 감지 모델을 개발하는데 성공했다고 일 밝혔다 지하철 환기 설비는 역사의 냉방과 쾌적한 내부 공기를 책임지는 중요한 설비지만 최근 들어 장비의 노후화로 인해 고장 빈도가 꾸준히 증가하고 있고 많은 유지관리 비용이 투입되고 있다 서울교통공사 측은 환기설비의 효율적인 제어와 유지 관리를 위해 수학적 데이터 분석 방법 개발 등에 관한 산업수학 문제를 지난해 월 수리연에 의뢰 양 기관은 환기 설비 이상 작동 감지 및 예지 모델 개발을 위한 공동 연구를 진행해왔다 수리연 연구진은 지하철 환기실의 공조기송풍기에서 수집되는 전류데이터와 실제 부품 교체 날짜를 활용해서 부품의 상태와 조건에 대한 패턴분석을 진행했다 이를 바탕으로 공조기 주요 부품인 벨트와 베어링 부품의 이상 상태 정도를 감지해 교체 필요 여부를 확률적으로 판단하는 딥러닝 모델을 개발했다 또한 해당 모델을 공사 측이 관리하고 있는 전체 지하철역 내 천여대의 공조기 모터에 적용할 수 있도록 자동으로 부품의 이상 상태를 분류하고 딥러닝 모델을 생성하는 방법을 개발하는데 성공했다 해당 모델을 노원역 건대입구역 등 서울 지하철 역사 내 공조기 벨트와 베어링에 실제 적용 이상 상태 감지를 시뮬레이션한 결과 평균  이상의 정확도를 얻을 수 있었다 양 기관은 이후 추가적인 후속 검증 절차를 진행한 후 해당 모델을 서울시 지하철 전 역사에 적용할 계획이다 대형 고장의 원인이 되는 노후화된 축과 임펠러 등의 공조기 소모 부품을 최적기에 교체함으로써 유지관리 비용 감소와 지하철 환기 설비의 안정적인 운용이 가능해 질 것으로 예상하고 있다 정순영 수리연 소장은 이번 서울교통공사와의 공동 연구 결과는 산업수학이 산업 분야뿐 아니라 공공의 영역까지 확대돼 다양한 분야에서 활용될 수 있음을 증명하는 좋은 사례가 될 것이다라고 밝혔다 건대입구역 공조기 벨트 부품 정상 여부에 대한 패턴 그래프\n",
            "서울   자유한국당 나경원 원내대표가 일 오전 서울 여의도 국회를 예방한 박영선 중소벤처기업부 장관을 만나 이야기를 나누고 있다   저작권\n",
            "합참은 일 강원 중부전선서 포착된 미상항적은 새떼라고 밝혔다  합참 관계자는 오늘 오후 시 분경부터 오후 시경까지 공군 레이더에 포착됐다가 소실이 반복되는 미상항적을 추적했다며 중부전선 북쪽에서 남쪽으로 이동하는 미상항적이었다고 밝혔다 계속 레이더 식별은 됐는데 확인이 안됐다며 공군 조종사가 항적속도 고도를 똑같이 따라가서 대응 조치를 하며 새 여마리가 날아가는거 확인했다고 설명했다 군은 비행금지구역 위쪽까지 비행해 항적을 확인하기 시작했고 최종 확인한 곳은 원주 상공인 것으로 확인됐다  군 관계자는 이날 항적 확인을 위해 오후 시 분  군사합의에 의거 우발적인 충돌방지를 위해 국방부 차원에서 대북 통지문을 보냈다고 밝혔다\n",
            "텔레콤이 삼성전자와 국내 최초로 세대 이동통신 단독규격인   패킷 교환기와 코어 장비를 연동해 순수  시스템을 이용한 데이터 통신에 성공했다고 일 전했다 이번에 선보인  는 기존   대비 데이터 처리 효율성이 배 높다 대규모 트래픽을 효율적으로 제어할 수 있고  시대에서 기대되는 증강현실가상현실자율주행스마트팩토리스마트팜 등 차세대 서비스에 최적의 통신 성능을 제공할 수 있다 텔레콤 제공  \n",
            "하반기 대만 홍콩 마카오 서비스 목표 액토즈소프트 관계사 아이덴티티게임즈대표 구오하이빈는 감마니아와 모바일  월드 오브 드래곤네스트   이하 의 대만 홍콩 마카오 지역 퍼블리싱 계약을 체결했다고 일 밝혔다 오픈월드 모바일  는 드래곤네스트 에 새로움을 더해 만들어진 게임이다 캐릭터 별 여종의 스킬을 조합해 색다른 전투를 경험할 수 있고 원작의 강점인 논타기팅 액션 기반 컨트롤의 재미도 느낄 수 있다 원작의 세계관에서 또 다른 세계가 탄생해 새로운 모험의 이야기가 펼쳐지는 스토리도 뿌리가 탄탄하다 더불어 최근 트렌드에 부합하는 유니크한 그래픽 스타일도 의 강점 중 하나다 월드오브드래곤네스트 드래곤네스트는 중화권 지역에서 특히 인기가 높은 다 의 원작인 드래곤네스트 년 감마니아를 통해 대만에 론칭해 당시 최고 동시접속자가 만 명을 넘겼고 현재 회원 만 명 이상을 보유하고 있다 또한 드래곤네스트 로 만들어진 드래곤네스트은 대만 홍콩 마카오에서  무료 게임 위와 매출 위를 차지한 바 있어 에 대한 흥행 기대감도 매우 높다고 회사 측은 설명했다 알버트 류 감마니아 대표는 원작의 성공 요소들을 잘 살리면서 오픈월드 기반의 새로운 이야기가 펼쳐지는 에 대해 내부적으로도 기대가 높다면서 가 원작을 기억하는 대만 이용자들에게 높은 만족감을 줄 수 있을 것으로 확신한다고 전했다 구오하이빈 아이덴티티게임즈 대표는  감마니아가 가진 대만 지역에서의 노하우를 믿고 있다며 드래곤네스트에 높은 관심을 갖고 있는 대만 이용자들을 위해 서비스 준비에 보다 만전을 기하겠다고 했다 \n",
            "통신사 설문 선호 위 기념 할인프로모션 적용국가 늘려 모델이  요금제 전 라인업에 대한 데이터로밍 업그레이드 프로모션을 홍보하고 있다     제공 가  요금제 전 라인업에 대한 데이터로밍 혜택을 강화한다 는 지난달 모바일 설문 업체 두잇서베이가 진행한  인식 및 사용 관련 조사에서  통신사로 선택하고 싶은 통신사 위에 이름을 올렸다 는 이같은 고객의 선호에 화답하고  시장 선도를 공고히 하기 위해 데이터 로밍 할인 프로모션을 진행했다  슈퍼플랜 스페셜베이직 이용 고객은 월 일까지 전세계 개국에서 최대 로 강화된 데이터로밍 혜택을 무제한으로 누릴 수 있다 는 기본 혜택에 비해 배 빠른 속도로 검색 및 이미지 로딩 등의 인터넷을 자유롭게 사용할 수 있다 이는 지난 월 일부터 미국중국일본 방문고객 대상으로 진행되던 프로모션을 강화해 적용국가를 확대하고 프로모션 기간을 연말까지로 연장한 것이다  슈퍼플랜프리미엄스페셜베이직은 국내 통신사 요금제 중 유일하게 데이터로밍 혜택을 포함하고 있어 별도로 신청하지 않아도 데이터로밍 혜택을 무제한으로 이용할 수 있다 또한 기존 데이터로밍 혜택이 포함되지 않았던  슬림 요금제를 이용하는 고객도 월 일까지 데이터로밍 하루종일 톡 요금제를 무료로 신청할 수 있다 해당 요금제는 하루 원에 전세계 개국에서 최대  속도를 무제한 즐길 수 있는 요금제다 이 요금제는 홈페이지와 로밍센터를 통하여 신청 가능하다 아울러 기존 진행중인 미중일 로밍통화 분 무료 혜택 또한 월 일까지 계속된다 한편 슈퍼플랜 프리미엄 요금제는 해외에서도 최대 의 속도로 데이터로밍을 무제한으로 제공한다 이는 고화질급 영상을 불편 없이 즐길 수 있는 속도다 슈퍼플랜 스페셜베이직 요금제는 카카오 톡 등 메신저 서비스를 원활히 이용할 수 있도록 최대  속도의 데이터로밍 혜택을 기본 제공한다    기획   풀뿌리상권 살려내자 네이버 채널에서 를 구독해주세\n",
            "포켓몬 고로 세계적인 증강현실게임 붐을 일으켰던 나이언틱이 해리포터 를 활용한 게임을 출시했다 게임 인기가 주춤한 가운데 초강력  해리포터를 앞세운 이 게임이 게임 흥행의 기폭제가 될지 관심이 모인다 나이언틱과 워너브라더즈게임즈 샌프란시스코가 출시한 해리포터 마법사 연합은 포켓몬 고처럼 이용자 위치에 따라 다양한 게임 콘텐츠를 제공한다 이용자는 비밀 태스크 포스팀 일원이 돼 스마트폰을 들고 걸어 다니며 주변 위치에 맞춰 화면 속에 나타나는 다양한 발견물을 마법을 사용해 마법 세계로 돌려보내는 역할을 수행한다 진보된  기술은 현실 세계와 마법 세계가 교차하는 문을 여는 데 활용된다 게임 속 아이템을 이용하면 스마트폰 화면에 현실 세계와 겹친 포털이 열리고 그 속으로 걸어가면 화면은 가상 마법 세계로 바뀐다 흥미로운 점은 현재 시간과 날씨 그리고 달 주기 등도 반영된다는 사실이다 보름달이 뜨면 늑대인간이 더 많아지는 식이다 현실적인 요소가 게임 콘텐츠에 영향을 주는 셈이다 존 행키 나이언틱 대표는 해리포터 마법사 연합에 지난 년간의  기술과 리얼월드 게임에 대한 노하우들을 집약했다고 밝혔다 무엇보다 이 게임의 강점은 전 세계에 수많은 팬을 갖고 있는  해리포터의 힘이다 일부 세대에게 국한된 포켓몬과 달리 해리포터 의 경우 소설과 블록버스터 영화를 통해 전 세대에게 고른 인기를 모았던 콘텐츠이기에 포켓몬 고를 능가하는 인기를 얻을지 기대가 모아진다 특히 나이언틱은 텔레콤과 파트너십을 체결 년간 텔레콤 유저는 게임을 즐기는 데 소모되는 데이터를 무료로 제공받을 수 있으며 전국 여 개 매장 방문을 통해 다양한 게임 아이템과 더 많은 마법 에너지 등을 획득할 수 있도록 했다 해리포터 마법사 연합은 한국을 시작으로 순차적으로 글로벌 출시될 예정이다  \n",
            "지난 일 북한 선원 명이 탄 어선이 연안에서 조업 중인 어민의 신고로 발견됐다는 정부 당국의 발표와 달리 삼척항 부두에 정박했다고 가 일 보도했다 사진은 당시 삼척항 부두에 정박한 북한어선과 어민 독자 제공     북한 어선의 강원 삼척항 입항 관련 진위를 밝혀내기 위해 출범한 국방부 합동조사단 조사 결과 허위은폐 정황을 확인하지 못한 것으로 전해졌다  일 정부 관계자 등에 따르면 합조단은 경계작전에는 문제가 있었다고 파악했지만 군 당국과 관계기관의 발표 과정에서 허위은폐 의혹은 없었다고 결론내린 것으로 알려졌다 아울러 합조단은 지난 주말께 이미 조사를 마치고 결과 보고서를 작성하고 있는 것으로 전해졌다  앞서 군 당국은 사건 발생 이틀 만에 최초 브리핑을 했지만 그 이후 발표가 바뀌고 지역 주민 증언과 문건 발표 등으로 새로운 사실이 알려지면서 축소은폐 의혹이 불거졌다 이에 국방부는 지난 일 국방부 감사관과 작전 및 정보 분야 군 전문가 국방부 조사본부와 군사안보지원사령부 관계자 등으로 합동조사단을 출범시켜 삼척항으로 급파했다  지난 일에는 조사 대상 부대와 확인할 사항들이 추가로 식별돼 합조단의 조사기간을 연장하기도 했다 당시 경계감시 작전에 문제점이 있는 군인과 부대가 추가로 식별돼 기한을 늘린 것으로 알려졌다  합조단은 최종적으로 군 당국의 보고 발표 과정에서 허위은폐는 없었던 것으로 평가한 것으로 전해졌다  특히 삼척항 인근에서 발견됐다는 최초 발표가 항구에 접안하지 않았다는 오해를 할 수 있다며 조직적인 은폐 의혹이 제기되기도 했다  이에 군 당국은 표현이 부적절한 측면은 있었지만 은폐 의도가 담긴 것으로 파악하기는 어렵다는 결론을 내린 것으로 알려졌다  경계작전 실패와 관련해서는 레이더에 포착된 표적을 판독하는 작업에서 문제가 있었음을 확인했고 해안 경계에 문제가 있었음을 확인했다는 후문이다  앞서 군은 북한 어선을 포착하지 못했던 이유로 어선의 높이보다 파도가 높았고 반사파로 오인해 레이더로 잡아내지 못했다고 설명했다 그러나 지난 일 언론 보도를 통해 지상감시레이더에 북한 어선이 분 동안 선명하게 포착됐던 사실이 드러났다  레이더에서 담당 요원이 어선의 존재를 명확히 식별했지만 자신의 책임 작전구역 바깥이라 별다른 조치 없이 넘어간 것이다  합조단 조사 결과 은폐 행위가 없었다는 결론이 나더라도 경계작전의 책임이 있는 해당 부대의 관계자들은 책임을 피하기 어려울 것으로 보인다  다만 청와대 안보실 소속 행정관이 지난 일과 일 국방부의 비공개 브리핑에 참석한 사실에 대해서는 조사가 이뤄지지 않은 것으로 확인됐다  뒤늦게 이 사실이 밝혀지자 군 당국을 비롯한 관계기관의 발표에 청와대의 개입이 있었던 것 아니냐는 논란이 일었다  노재천 국방부 부대변인은 일 국방부 정례브리핑에서 국방부 합동조사단에서는 그 부분에 대해서는 조사 권한이 없는 것으로 알고 있다고 말했다 합조단은 이르면 이번 주 내에 조사결과를 발표할 예정이다\n",
            " 가지로 개편 스포츠음악취미 채널 늘어 월정액 가입땐  할인쿠폰 브로드밴드 모델이   요금제 개편을 홍보하고 있다    브로드밴드 제공 브로드밴드가 고객의 라이프스타일과  시청 패턴에 맞춰 단순하고 직관적으로 개편한   요금제를 선보였다 브로드밴드가 개편해 선보인 요금제는          등으로 복잡한 상품구조를 단순화하고 고객의 시청 데이터와 요구를 분석해   및 포인트 혜택을 강화했다 먼저 메인 상품인   은  에서 제공하는 개의 모든 실시간 채널 채널 개 포함 유료채널 제외을 시청할 수 있으며 월 기본료는 만원년 약정 초고속인터넷광랜 결합 시 부가세포함 이다 브로드밴드는 요금제 개편을 맞아       등 스포츠 음악 취미와 같이 다양한 라이프스타일과 관련된 채널 개를 신규로 수급해  의 실시간 채널 경쟁력을 강화했다 이와 함께   에 월 원을 추가해 자신의 라이프스타일 및 취향에 따라 다양한 옵션을 선택할 수 있는 확장상품인    시리즈도 선보인다 또한    포인트는 모든 실시간 채널 시청이 가능한   에 매월 보고 싶은 를 구매할 수 있는 포인트 점을 추가로 제공하며    무비는   에 영화  월정액 상품프리미어 라이트 약 여 편 원을 추가로 제공한다 예를 들어 드라마나 예능 관련 를 많이 시청하는 고객은    포인트를 영화나 해외 드라마 관련 를 많이 시청하는 고객은    무비를 선택하는 것이 유리하다 또한 최신 영화와 시리즈에 관심이 많은 고객을 위해   에 영화 전문 채널 캐치온 와 캐치온  월정액 상품을 무제한 즐길 수 있는    캐치온과  다시보기 시청이 많은 고객을 위해    등 지상파에서 제공하는 를 무제한 즐길 수 있는    지상파도 선보인다    또는    요금제에 신규 가입한 고객이 개월 이내에   내  월정액 상품영화 지상파   키즈클럽 등을 가입하면 최대 개까지 매월  할인 받을 수 있는 쿠폰을 제공한다 기존  월정액 상품 이용 고객도    또는    요금제로 전환할 경우 동일한 혜택을 받을 수 있다 특히    또는    고객이 텔레콤 이동전화와 인터넷을 동시에 결합할 경우 각 서비스의 월 기본료가 원씩 할인되며  의 월 기본료를 추가 원 할인 받을 수 있다 아울러 기존 실속 상품인   를   로 변경해 주요 스포츠 및 골프 채널을 포함 꼭 필요한 채널들만 엄선해 월 만원년 약정 초고속인터넷광랜 결합시 부가세포함에 이용할 수 있다    기획   풀뿌리상권 살려내자 네이버 채널에서 를 구독해주세\n",
            "말도 많고 탈도 많지만 삼성전자의 갤럭시 폴드는 흥미로운 제품임은 분명하다 스마트폰의 패러다임을 바꾸는 갤럭시 폴드는 기기의 중앙 힌지 도움으로 화면이 접히고 펼쳐진다 디스플레이를 펼쳐 인치 화면의 태블릿 모드에서 개의 앱을 동시에 사용하고 그 사이에서 콘텐츠를 이동할 수 있다 지금까지 안드로이드 스마트폰에서 경험했던 멀티태스킹이 아니다 중국 통신장비 업체 화웨이는 유사한 디자인의 메이트를 오는 월 출시한다는 계획이다 애플도 년 플더블폰을 내놓을 예정이라는 관측이 나온다 이 와중에 구글이 세계지적재산권기구 렛츠고디지털 여러 디스플레이가 연결되는 책처럼 펼칠 수 있는 특징을 갖는다 여러 장의  디스플레이는 중앙의 힌지에 연결돼 책처럼 펼쳐지고 디스플레이 사이를 오갈 수 있다  디스플레이 뒷면에는 배터리 메모리 프로세서 카메라 등의 주요 부품이 탑재된다 특허 출원 문서에는 장의  디스플레이가 그려져 있는데 임의의 숫자일 가능성이 높다 각각의  디스플레이 사이의 틈새는 로 매우 좁게 설계됐다 디스플레이 패널 앞뒷면에는 정보를 표시할 수 있으며 일상생활에서 책을 읽을 때처럼 다음 페이지를 넘기는 식의 디스플레이를 변경하는 전에 없던 완전하게 새로운 애플리케이션 사용 경험을 기대할 수 있다  디스플레이는 극단적으로 얇은 두께와 유연성 그리고 뛰어난 화질이 장점으로 접히거나 펼쳐지는 유연한 화면이 요구되는 기기 개발에 적합하기 때문이다 최근 플래그십 스마트폰의 경우 혁신 둔화와 가파른 가격 상승이 겹치면서 사용자들의 단말기 교체 주기가 길어지고 있다 아이폰 갤럭시 같은 플래그십 스마트폰의 전세계 판매량이 지속적으로 하락하고 있다 폴더블 기기는 와 더불어 스마트폰 시장에서 새로운 활력을 불어넣을 수 있을 것으로 기대되고 있다 구글이 폴더블 기술을 출원했다고 해서 플더블 기기 출시를 의미하는 것은 아니더라도 스마트폰 업계가 쓸 수 있는 카드인 것은 분명하다 마이크로소프트는 직접 개발한 서피스 시리즈를 통해 투인원 시장을 사실상 개척하며 프리미엄 시장에서 굳건한 우위를 지키고 있다 \n",
            "와 유플러스는 지난달 일 스위스 제네바에서 개최된 국제전기통신연합 전기통신표준화부문 스터디그룹  국제회의에서 암호통신 네트워크 프레임워크 권고안 건이 국제 표준 으로 예비 승인 되었다고 일 전했다 내 양자암호통신 분야에서는 세계 최초로 채택된 표준으로 이후 회원국 간 회람을 거쳐 반대의견이 없을 경우 최종 채택될 전망이다 사진은 이번 회의를 주재한 한국 국가대표단 수석대표 김형수 박사와  워킹파티 의장단 왼쪽부터 슬로베니아 통신청알로츠 후도브닉워킹파티 공동 부의장 텔레콤 이탈리아루카 페산도워킹파티 공동의장 김형수워킹파티 공동의장 차이나모바일루루워킹파티 공동 부의장  제공  \n",
            "모바일 세상이 되면서 이메일을 활용한 업무 범위가 점점 넓어지고 있다 메신저나 소셜미디어가 인기를 끌고 있지만 기업들의 업무용으로는 제한적이다 번거롭고 시간이 많이 걸리는 이메일 분류와 정리를 똑똑한 인공지능이 대신 해 준다면 업무 효율이 크게 오르지 않을까 빅데이터 기반 소프트웨어 전문기업 케이엠에스랩주대표 배희정가 인공지능 기반의 이메일 자동 분류 솔루션인    을 출시했다고 일 밝혔다 케이엠에스랩은    을 사용하면 가 개인 사용자의 이메일 정리 및 분류 습관을 학습해 사람 대신 이메일을 분류하고 정리함으로써 업무 생산성을 높일 수 있도록 지원한다고 설명했다 스팸메일에 섞여 걸러내지 못한 문서가 있더라도 사용자의 습성 및 평소 패턴을 학습한 알고리즘을 이용 중요도가 높은 것을 분류하고 재정리함으로써 별도의 분류 작업 없이 중요한 메일을 신속하게 점검할 수 있다고 강조했다 실제 케이엠에스랩의  모듈은 년 국내 최대 레퍼런스인 농협만 명 이메일에 적용돼 금융감독원 보안 규정에 위배되는 메일 내용을 자동으로 분류하여 기업 차원의 대응이 가능하도록 지원하는 시스템에서 성공적으로 가동이 되고 있다고 한다 이번에 출시한    은 인공지능 모듈의 기술적 한계를 보완하기 위해 자동 학습 방법은 물론 수동학습 옵션을 제공하여 메일 분류의 정확도를 높일 수 있도록 했다며 국내 대기업 고객사 중심으로 해당 솔루선 사용을 확대할 계획이라고 업체 측은 밝혔다 인공지능 기반의 이메일 자동 분류 솔루션을 국내 소프트웨어 기업에서 개발출시한 것은 이번이 처음으로 알려졌다 지금껏 시장에 나온 대부분의 제품은 마이크로소프트의 클러터와 같이 글로벌 기업에서 출시했다 박해식  \n",
            "아카마이코리아가 일 이경준 신임 대표이사를 선임했다 이 대표는 년 이상 글로벌  기업에서 시스템 엔지니어 시스템 통합 클라우드 보안 등을 담당했다 년 아카마이코리아에 합류한 후 년간 미디어 및 통신사 사업부 삼성그룹 및 하이테크 비즈니스 사업부를 총괄했다 아카마이코리아에 합류하기 전에는 한국에서 약 년 동안 전자 전기 산업 고객사를 대상으로 영업을 담당했다 특히 삼성그룹 전자계열 그룹 전자계열  하이닉스  그룹 등 국내 유수 대기업과의 협업을 성사시켰다 한국 이전에는 한국후지쯔에서 약 년간 포스코를 포함한 제조 산업 고객을 대상으로 한 시스템 엔지니어 및 프로젝트 매니저로 재직했다 이 대표는 아카마이는 미디어 및  서비스 분야에서 압도적인 선두 자리를 이어가고 있으며 최근 클라우드 보안 분야에서도 놀라운 성장을 보이고 있다 고객에게 맞춤화된 디지털 경험을 빠르고 안전하게 전송할 것이라고 포부를 밝혔다 \n",
            "일 오전 서울 광화문 스퀘어에서 열린 국내 최초  무선 서비스  슈퍼  출시행사에서 모델들이  초고화질의  슈퍼  콘텐츠를 체험하고 있다  \n",
            "기획재정부 부이사관 승진 조세정책과장 조만희 공공정책총괄과장 정향우 국제금융과장 유\n",
            "누구나 손쉽게 연주법 배우는 전자 키보드 로리 이 루미는 크라우드 펀딩 사이트인 킥스타터에 공개돼 며칠만에 목표액의 천를 조달했다 루미는  안드로이드앱과 연동해 빛과 색상 연주의 박자 음악연주법을 가르친다 따라서 초보자나 전문가 모두 루미를 통해 피아노 연주를 배울 수 있으며 게임도 할 수 있다 로리의 스마트 키보드인 루미는 각종 음악 이론이나 음표를 몰라도 피아노 연주법을 배울 수 있다 이 키보드만 있으며 모자르트 소나타를 피아노를 칠 수 있을 정도로 쓰임새가 뛰어나다  \n",
            "서울  일 오전 서울 여의도 글래드호텔에서 열린 한국해양교통안전공단 출범식에서 수협 한국해양과학기술원 한국해양수산연구원 한국해양교통안전공단 목포해양대 한국해양대 한국수산과학기술진흥원 등 개 기관이 업무 협약을 체결하고 있다 해양교통안전을 위해 흩어진 기능을 하나로 묶어 체계적인 종합 관리를 위해 선박안전기술공단이 개편돼 탄생한 공단은 해양교통안전 전문방송 실시 해양교통환경 분석 저작권\n",
            "서울  뉴미디어사업단장 김훈배 상무가 일 오전 서울 광화문 스퀘어에서 열린 국내 최초  무선 서비스  슈퍼 설명회에서 시대 실감미디어 사업전략에 대해 말하고 있다   저작권\n",
            "년 가입 만개 전년   국내에서 인공지능 스피커 판매량이 만대로 년 새 배 이상 증가했다 초연결 사회 진입과 관련이 큰 사물인터넷 서비스 가입은  늘어 만개에 달했다  과학기술정보통신부는  스피커네트워크 드론자율주행차이동체 핀테크 사업체금융물류 스마트 공장제조 등 분야별 차 산업혁명 지표를 일 공개했다     올해 월 기준으로 이동통신 사와 네이버카카오가 판매한  스피커는 만대누적로 지난해 동기보다  증가했다 지난해 말 기준으로 원격검침사물 간 통신홈네트워크 등  서비스 가입은 만개로 전년 동기 대비  늘었다  정부가 개발개방한 인공지능 프로그램오픈  이용은 만건으로 전년 대비 배 상승했다 차 산업혁명의 핵심 동력인 지능화 기술 관련한 인공지능 전문기업은  증가해 지난해 곳으로 집계됐다  자율주행 자동차용 정밀지도 구간은 로 년 새  연장됐고 자율주행차를 위한 첨단 도로 시스템 구간도 로  늘었다 자율주행차 운행을 위해 정부의 임시운행허가를 받은 차량은 대였다  중소제조기업의 경쟁력 강화를 위해 추진되고 있는 스마트공장은 지난해 말 기준으로 전국에 곳이었다 정부는 년까지 만곳으로 늘린다는 계획이다\n",
            "시장 입맛에 맞는 사람들을 뽑아서 서울시 예산을 주무르게 한다는 비판이 나올 수 밖에 없겠네요  잘들었습니다\n",
            " 괌사이판파푸아뉴기니 인수 계약 체결 손해보험 손해보험은 하반기 중 지분 취득 및 해외 직접투자 관련 인허가 절차를 마무리하고  개 법인에 대한 통합 작업을 추진할 계획이다 \n",
            "서울  박상기앞줄 왼쪽 두번째 법무부장관을 비롯한 참석자들이 일 오후 서울 동대문구 법무부 서울준법지원센터에서 열린 보호관찰제도 주년 기념행사에서 다짐 퍼포먼스를 하고 있다   저작권\n",
            "과기정통부과학창의재단 관련 사업 공고 과학기술정보통신부와 한국과학창의재단이사장 안성진은 년 과학문화 전문인력 양성사업 분야별 협력기관 모집을 시작한다고 일 밝혔다 이 사업은 작년 월 발표된 과학문화산업 혁신성장 전략에 따른 신규 사업으로 과학문화 산업에 종사할 전문인력을 양성하는 게 골자다 과기정통부와 창의재단은 효율적인 사업 운영을 위해 총괄연구조사 및 직종별 협력기관을 모집해 추진한다 직종은 융합강연자 과학퍼포머 크리에이터 과학저술가 과학만화가 스토리텔러 등이다 과학 융합강연자는 최신 과학내용을 소재로 대중과 소통하는 강연자를 양성하는 과학융합강연자 양성과정 개발운영 대행용역 과학 퍼포머는 과학기술과 예술을 접목한 공연자를 양성하는 과학퍼포머 양성 과정 개발운영 대행용역으로 공고했다 온라인을 기반으로 콘텐츠를 업로드하는 창작자인 크리에이터와 논픽션 기반의 과학 단행본을 제작하는 작가는 각각 과학크리에이터 양성과정 개발운영 대행용역과 과학저술가 양성과정 개발운영 대행용역으로 각각 공고했다 과학 만화가는 과학만화가 양성과정 개발운영 대행용역을 통해 과학을 소재로 한 웹툰이나 만화 등을 그리는 만화가를 선발하기 위한 협력기관을 지정한다 과학 스토리텔러는  과학스토리텔러 양성과정 개발운영 대행용역으로 픽션 기반의 공상과학 이야기를 창조하는 창작자를 위한 협력기관을 선정할 계획이다 개 직종을 총괄 관리하고 연구조사를 할 과학문화 전문인력 양성과정 총괄연구조사 대행용역도 공고 중이다 과학문화 전문인력 양성사업 협력기간 공모는 일까지 진행되며 선정된 개 기관과 기업은 월 하순부터 월 중순까지 직종별 교육생을 모집한 후 내년 월 일까지 정해진 과업을 수행하게 된다 유영민 과기정통부 장관은 이 사업을 통해 과학기술을 문화로 접하기 원하는 대중의 수요를 충족시킬 수 있을 것이라면서 관련 전문인력 발굴 양성 활용의 선순환 체계를 구축하겠다고 말했다    기획   풀뿌리상권 살려내자 네이버 채널에서 를 구독해주세\n",
            "세종  일 오전 정부세종청사에서 열린 김현준 신임 국세청장 취임식에서 김 청장이 취임사를 하고 있다   저작권\n",
            "글로벌디지털총괄 신설 우리금융지주가 기존 본부 체제에서 총괄 체제로 조직 개편을 단행했다 일 우리금융은 그룹사별로 운영 중인 자산관리글로벌디지털 부문을 그룹 차원에서 통합해 관리하기 위해 각 부문 별 사업총괄실을 신설했다 기존에 경영기획본부경영지원본부리스크관리본부는 경영기획총괄경영지원총괄리스크관리총괄로 변경 총괄 체제가 됐다 총괄에는 기획부도 신설됐다 그룹 자산 관리 부문 역량 강화를 위한 컨트롤타워 역할을 수행한다 글로벌총괄에는 글로벌기획부가 생겼으며 그룹사 간 동반 해외 진출 및 협업 확대를 추진할 예정이다 총괄 산하에 산하 기획부 신설됐다 은행종금의  부문 협업체제 안정이 목표다 디지털총괄의 디지털혁신부는 확대 재편됐으며 그룹 관점에서 핀테크 기업 육성을 활성하는 역할을 맡는다 경영기획총괄 산하에는 퇴직연금 경쟁력 제고를 위해 연금기획부가 생겼다 향후 확대될 그룹사인 증권보험업의 퇴직연금사업자 편입에 대비 사업총괄 체계를 사전에 대비한다 또 그룹사 내부통제 및 위험관리체계를 강화하고 자금세탁방지 모니터링을 통한 일관된 정책 수행을 위해 준법지원부 산하 자금세탁방지팀도 신설했다 우리금융 관계자는 그룹사간  시너지 창출과 의사결정 효율성이 제고될 것으로 기대됨은 물론 사업포트폴리오 확충에 대비한 그룹사간 협업체계 기반을 확립하게 됐다고 설명했다 \n",
            "삼성전자 월일 미국 뉴욕서 갤럭시노트 공개 유튜버 테크토크 갤럭시노트 플러스 추정 영상 공개 베젤 축소 이어폰 단자 사라지고 갤럭시 버즈 제공 예상 후면 왼쪽 상단에 카메라 개 세로 배열 상위 모델 명칭 프로에서 플러스로 바뀔 것으로 전망  유튜버 테크토크  영상 갈무리 다음달 공개되는 삼성전자의 하반기 야심작 갤럭시노트 실물이 유출됐다 베젤테두리이 최소화되고 이어폰 단자가 자취를 감췄다 명칭은 기존 노트 모델에 적용되던 프로에서 플러스로 바뀔 것이란 전망이 나왔다 일 샘모바일 씨넷 등 외신에 따르면 유튜브 채널 테크토크 는 갤럭시노트 플러스로 추정되는 제품 영상을 공개했다 베젤이 눈에 띄게 얇아졌다 전작 갤러시노트의 전면 베젤과 비교하면 측면 테두리 폭과 동일한 정도로 베젤이 크게 축소됐다 디스플레이 내장 사운드 기술이 적용돼 별도 통화용 스피커를 넣을 필요가 없어졌기 때문으로 풀이된다 이어폰 단자도 사라졌다 삼성전자가 무선 이어폰 갤럭시 버즈를 함께 제공할 것으로 업계는 추측하고 있다 전면 상단 중앙에는 싱글 카메라가 위치했다 홀구멍 크기는 다소 작아졌다 뒷면 왼쪽 상단에는 카메라 개가 세로로 나란히 배열돼 있다 올 초 공개한 갤럭시 플러스의 경우 전면 오른쪽에 듀얼 카메라가 후면 상단 중앙에 카메라가 위치했다 갤럭시노트 상위 모델의 명칭에는 프로가 아닌 플러스가 붙었다 플러스는 갤럭시 시리즈에서 쓰는 명칭이다 갤럭시노트은 갤럭시처럼 세대 와 세대 이동통신을 지원하는 모델이 각각 출시될 것으로 알려졌다 국내에는  버전만 출시된다  갤럭시노트은 인치 인치 크기 디스플레이를 탑재한다 인치 모델에 플러스 명칭이 붙을 것으로 점쳐진다 가격은 갤럭시노트보다 만원 이상 오를 것으로 보인다 갤럭시노트 가격은 기가바이트가 만원 는 만원으로 출시됐다 갤럭시노트의 경우 일반모델 만원대 플러스 모델은 만원대로 전망된다 삼성전자는 다음달 일 미국 뉴욕 브루클린의 바클레이스 센터에서 갤럭시노트 언팩공개 행사를 열고 갤럭시노트 시리즈를 공개할 예정이다 김은지   기사제보 및 보도자료 \n",
            "청주  일 충북 청주예술의전당 대공연장에서 통합 청주시 출범 주년을 맞아 청주시가 주최하고 청주예총이 주관한 회 청주시민의 날 기념식의 하나로 열린 회 청주시민대상 시상식에서 수상자들이 한범덕 청주시장 하재성 청주시의회의장과 기념사진을 찍고 있다  청주시 제공  저작권\n",
            "팜히어로 포레스트매니아 상대 소송 기존 게임과 다른 특징 저작권 인정 서울팜히어로 사가 타사 제품과 유사한 모바일 게임을 만들어 유통하는 건 저작권 침해라고 대법원이 판단했다 대법원 부주심 조희대 대법관는 최근 게임개발사인 킹닷컴이 아보카도엔터테인먼트를 상대로 낸 저작권 침해금지 등 청구 소송 상고심에서 원고 패소 판결한 원심을 깨고 사건을 서울고법에 돌려보냈다고 일 밝혔다 모바일 게임 팜히어로 사가 개발사인 킹닷컴은 아보카도엔터테인먼트가 배급한 홍콩 모바일 게임 포레스트매니아가 저작권을 침해했다며 년 월 이 소송을 제기했다 두 게임은 특정 타일을 개 이상 연결해 사라지게 하면서 점수를 획득하는 방식으로 팜히어로 개발 이전부터 게임 업계에서 폭넓게 활용한 방법이다 대법원은 팜히어로가 앞서 개발된 유사 게임과는 다른 개성을 갖고 있어 저작물 보호 대상이라고 판단했다 재판부는 게임물은 어문음악미술영상컴퓨터프로그램 등이 결합된 복합 저작물로 제작 의도와 시나리오 구현 과정에서 다양한 요소를 조합해 다른 게임과 구별되는 특징이 나타날 수 있다며 창작성 여부 판단에는 각 구성요소의 창작성과 함께 전체적인 창작적 개성을 갖는지 고려해야 한다고 전제했다 이어 기존에도 같은 형식의 게임이 있었지만 팜히어로는 과일야채 등을 기본 캐릭터로 하고 방해 캐릭터로 토끼나 너구리를 형상화하는 등 농장을 일체감 있게 표현한 게임이라는 점에서 기존 게임과 구별된다고 설명했다 이와 함께 여러 규칙을 단계별로 순차 도입하는 방식도 특징으로 봤다 그러면서 팜히어로는 개별 구성요소 창작성 인정 여부와 별개로 특정 제작 의도와 시나리오에 따라 구성요소들이 선택배열돼 유기적 조합을 이룬다며 선행 게임과 확연히 구별되는 창작적 개성을 갖게 됐다고 판단했다 이를 토대로 재판부는 포레스트매니아가 팜히어로와 실질적으로 유사하다고 지적했다 재판부는 기본 캐릭터로 농작물 대신 동물을 토끼너구리 대신 늑대와 원시인을 사용하긴 했지만 팜히어로와 같은 순서로 규칙 등을 단계 도입했다면서 캐릭터만 달라진 느낌을 주고 있다고 판단했다 그러면서 원심은 주요 구성요소들의 선택배열조합에 따른 창작적 개성 등을 제대로 심리하지 않은 채 두 게임이 실질적으로 유사하지 않다고 판단했다며 사건을 다시 심리하도록 했다 대법원 관계자는 모바일 게임 창작성 판단기준을 구체적으로 판시한 최초 판결로 선행 게임과 구별되는 창작적 개성으로 저작권 침해를 인정했다는 데 의의가 있다며 향후 게임 개발 관행과 실무에 많은 영향을 미칠 것이라고 설명했다 앞서 심은 포레스트매니아가 저작권을 침해하지 않았다고 판단했으며 대법원은 업계에 미칠 파급력 등을 고려해 지난 월 소부 변론을 열기도 했다 \n",
            "서울  일 오전 서울 광화문 스퀘어에서 열린 국내 최초  무선 서비스  슈퍼 출시 행사에서 모델들이  초고화질 콘텐츠를 체험하고 있다   저작권\n",
            "통계청 과장급 인사 동북지방통계청 조사지원과장 송일규  \n",
            "저작권자  디지털데일리 무단전재재배포\n",
            "국제질병분류 차 세계보건기구는 국제질병분류체계를 개정하면서 최초로 한의학 등 전통의학을 포함시켜 가치를 세계적으로 공식 인정했다 일 한국한의학연구원원장 김종열에 따르면  연례 총회에서 개정된 차 국제질병분류이하 에 한의학 등 동아시아 전통의학을 기반으로 개발된 전통의학 챕터가 신설됐다 전통의학 챕터 개발은 년     서태평양지역사무소를 중심으로 착수됐다 이후 년 전통의학 주요 국가인 한중일의 지원을 통해 본격 추진돼 년 월 전통의학 챕터 배포버전이 완성됐고 지난 월 연례총회에서 공식 승인됐다 이로써 수천 개의 질병과 그 의료진단을 담은 에 전통의학이 포함되며 각국 정부는 전통의학 관련 통계정보를 정책 수립 보험보장 범위 설정 등에 활용할 수 있게 됐다 국제사회에서 동아시아의 전통의학을 중의학   으로 통칭하는 경우가 적지 않지만 에서는 전통의학 챕터의 영문 명칭을     로 채택했다 동아시아의 전통의학이 특정 국가에서 생겨나고 발전한 것이 아니라 한국 중국 일본 등을 아우른 동아시아 전체가 발전시키고 공유한 의학이라는 점을 인정한 것이다  전통의학 챕터는 우리나라의 한국표준질병분류에 포함된 한의학 분류체계에 기반을 두고 개발됐다 개발에 참여한 한중일 전통의학 전문가 중 한국 전문가들이 챕터 개발에 주도적인 역할을 수행하며 한의학의 위상을 높였다 은 년에 본격적으로 효력이 발생할 예정이다 국내외 전문위원들은 전통의학 챕터의 효과적인 적용을 위해 관련 교육 등 다양한 활동을 할 예정이다 전통의학 챕터 개발을 위해 간사기관으로 활동한 한국한의학연구원의 김종열 원장은 한의학을 포함한 전통의학이 의 인정을 받은 것은 매우 의미 있는 일이라며 향후 한의학의 정책적 발전과 세계화를 위해 더욱 힘쓰겠다고 말했다 \n",
            " 년 예정된  텔레콤은 삼성전자와 함께 국내 최초로 순수  시스템을 이용한 데이터 통신에 성공했다고 일 밝혔다 이번 시연은  단독규격인   패킷 교환기와 코어 장비를 연동해 진행했다 두 회사는 실제 고객 대상 서비스와 동일한 환경에서 데이터가 정상적으로 송수신되는지 확인했으며 이를 통해   상용화에 한걸음 다가섰다고 강조했다 현재 상용화된  네트워크는 와 를 일부 혼용하는  방식이다  장비만으로 네트워크를 구성하는  는 표준화 개발 소요시간 비용 자원 등을 이유로 오는 년 상용화가 예정돼있다 텔레콤은  단독모드가 기존  혼용모드보다 데이터 처리 효율성이 배 높다고 설명했다 이에 따라 대규모 트래픽을 효율적으로 제어하는가 하면 증강가상현실 자율주행 스마트팩토리 스마트팜 등 차세대 서비스에 최적의 통신성능을 제공할 수 있다 박진효 텔레콤 기술센터장은  구축 초기부터 고객에게 차별화된 통신 품질과 상품을 제공할 수 있는  업그레이드 기술 개발해 왔다며 는 내년 상반기 상용화할 것으로 예상한다고 말했다 전재호 삼성전자 네트워크사업부 부사장은  는 기존 가 제공하지 못 하는 다양하고 혁신적인  서비스를 가능하게 하는 핵심 기술이 될 것이라며   분야에서도 텔레콤과의 협력을 바탕으로 새로운 역사를 만들겠다고 강조했다 \n",
            " 이후 정식 오픈 암호화폐 지갑 브링 공개 서울  블록체인 플랫폼 브릴라이트가 메인 네트워크메인넷 구축을 완료하고 게임 연동에 착수했다 일 브릴라이트에 따르면 이날 자정부터 메인넷을 가동하고 클로즈 베타에 돌입했다 모바일 방치형  미녀삼국 모바일 퍼즐게임  종과  온라인  위드에 대한 연동 테스트가 완료되는 대로 글로벌 서비스를 순차적으로 개시할 예정이다 전지영 브릴라이트 사업 은 블록 생성 및 유저에 대한 암호화폐 보상 등은 정식 서비스 개시와 함께 이뤄질 것이라며 각 게임 개발사와 협업해 빠른 정식 서비스를 시작하기 위해 박차를 가하고 있으며 게임의 명칭이 일부 수정될 수 있다고 전했다 이어 종의 게임뿐만 아니라 전세계 억명의 누적 가입자를 확보하고 있는  온라인 게임 오디션도 연동 준비 중인 가운데 현재 파트너십을 체결한 여개 개발사들과 함께 동남아시아 일본 남미 등 글로벌 시장에 블록체인 기반의   퍼즐 아케이드  게임 등 다양한 장르의 게임을 선보일 계획이라며 일본의 경우는 현지  방 런쳐 솔루션 업체와의 제휴도 추진하고 있다고 말했다 브릴라이트는 게임 생태계에 기여하는 유저들을 위한 실질적인 보상을 제공하기 위해 지난해부터 플랫폼 구축을 시작했고 계획대로 메인넷 구축을 완료했다 앞으로 유저들은 브릴라이트 플랫폼과 연계된 게임을 플레이하는 것만으로 브릴라이트코인를 얻을 수 있다 는 브릴라이트와 연동된 모든 게임에서 활용할 수 있다 또 게임을 통해 얻은 아이템 등 자산들을 로 전환하는 것도 가능하다 그 동안 게임들은 아이템 선물 기능을 제외하면 유저 개인이 보유한 게임재화를 재활용하는 데 한계가 있었다 하지만 브릴라이트 블록체인 생태계 안에서 유저들은 암호화폐를 공용 재화로 소비 가능하다 또 특정 게임을 즐기다가 서비스가 종료되면 게이머들에게는 남는 것이 없었지만 브릴라이트 플랫폼과 연결된 게임을 플레이할 경우엔 가 남는다 유저들은 뿐만 아니라 웹툰 글로벌 결제 디지털 콘텐츠 등 앞으로 확장될 브릴라이트 블록체인 생태계 내 비게임 분야에서도 암호화폐를 사용할 수 있다 게임 개발사 입장에서는 비게임 분야 유저들이 게임으로 신규 유입되는 효과가 기대된다 블록체인을 통해 검증되고 확인된 접속 유저를 기준으로 게임 플레이 보상을 지급하는 마케팅도 가능하다 브릴라이트는 메인넷 구축에 맞춰 전용 암호화폐 전자지갑인 브링도 선보였다 구글 플레이스토어를 통해 내려받을 수 있는 이 어플리케이션은 암호화폐 소유자의 개인 주소와 보안키를 손쉽게 관리해주는 매개체다 주소란 은행 계좌와 비슷한 개념으로 메인넷 상에 존재하며 암호화폐를 주고 받을 때 주소를 알아야 한다 주소는 대개 긴 영문과 숫자의 복잡한 조합으로 이뤄지기에 기억하기 힘들다 주소를 적어둔 문서를 잃어버리면 해당 주소에 존재하는 암호화폐는 메인넷 상에서 영구적인 미아가 되고 만다 그러나 브링은 유저들이 처음 한번만 주소를 월렛에 등록하면 암호화폐를 사용하는 절차를 편리하게 만들어 준다 브릴라이트 블록체인 생태계에 참여하는 유저들은 복잡한 주소를 외울 필요 없이 간단한 월렛주소를 입력하는 것만으로 화폐를 주고 받을 수 있다 또 유저들은 브링을 통해 브릴라이트 블록체인 생태계에 참여하는 게임사들이 실시하는 업데이트 및 이벤트 정보 등을 편리하게 확인 가능하다 게임사들은 별도의 마케팅 수단을 사용할 필요 없이 월렛을 이용해 유저들과 소통할 수 있다 \n",
            "서울전자는 현대자동차와 함께 지난달 일부터 경기도 고양시에 위치한 국내 최대 체험형 자동차 테마파크 현대 모터스튜디오 고양에서 클로이 안내로봇 시범서비스를 시작했다고 일 밝혔다 현대 모터스튜디오 고양을 찾은 방문객들이 시범서비스 중인 클로이 안내로봇를 체험하고 있다  전자 제공  저작권\n",
            "유한양행은 베링거인겔하임에 비알콜성 지방간염을 치료하기 위한 융합단백질  을 기술수출하는 계약을 체결했다고 공시했다 총 기술수출 금액은 억만달러 규모다   기획   풀뿌리상권 살려내자 네이버 채널에서 를 구독해주세\n",
            "라이엇 게임즈가 일 리그 오브 레전드의 번째 신규 챔피언 키아나와  아케이드 울트라 콤보 이벤트를 공개했다 소환사의 협곡에 새로이 등장한 원소의 여왕 키아나는 정글도시 이샤오칸 최고의 원소술사이자 왕좌를 노리는 야심가로 강 벽 수풀 등 환경에서 원소의 힘을 흡수해 이에 따른 추가 효과를 얻는다 은신 돌진 적 속박과 기절 추가 피해 등 다양한 스킬 효과를 상황 별로 활용할 수 있어 소환사의 협곡 전역을 활발히 누비며 적을 급습하는 암살자로 활용될 것으로 기대된다 먼저 키아나는  대지창조로 맵 상의 원소를 대상으로 지정해 돌진하고 원소의 힘을 흡수할 수 있다 흡수한 원소 근처에 있으면 이동 속도와 공격 속도가 증가하고 적에게 추가 피해를 주며 흡수한 원소의 특성에 따라 다른 스킬 활용 시에도 추가 효과가 주어진다 기본 지속 효과인 왕가의 특권은 적 챔피언에 대한 첫 번째 공격이나 스킬에 추가 피해를 주며 새로운 원소를 흡수하면 재사용 대기시간이 초기화된다  이쉬탈의 칼날 스킬은 키아나가 전방의 영역을 공격하여 피해를 입히는 기술로 원소를 흡수한 상태에서는 투사체로 무기가 날아가며 적에게 명중하면 폭발한다 또한 흡수한 원소에 따라 추가 효과를 얻을 수 있는데 강일 경우 적을 속박할 수 있고 벽일 경우 체력이 낮은 적에게 추가 피해를 입히며 수풀일 경우는 이동 속도가 상승하는 은신 영역을 생성한다  대담무쌍 스킬을 사용하면 대상을 향해 일정 거리만큼 돌진하며 피해를 입히며 궁극기인  여왕의 진가를 사용하면 키아나가 충격파를 발사해 적을 뒤로 밀어낼 수 있다 이 때 충격파가 강 수풀 벽에 충돌하면 폭발이 일어나며 근처 적에게 피해를 입히고 잠시 기절시킨다 신규 챔피언에 대한 다양한 팁과 활용 방법을 소개하는 입롤의 신 키아나 편 영상도 공개됐다 이번 편에서는 한화생명 스포츠의 미드라이너로 활동하고 있는 라바 김태훈 선수가 출연한다 신 챔피언 키아나 출시와 함께 월 일 오후 시 분까지  아케이드 울트라 콤보 이벤트가 진행된다 아케이드 케이틀린 프레스티지 에디션 중간보스 키아나 중간보스 야스오 아케이드 카이사 아케이드 케이틀린 데마시아 강력반 가렌 데마시아 강력반 루시안 등 다양한 신규 스킨이 출시돼 이벤트 기간 중 테두리 혹은 크로마 상품과 함께 기간 한정 세트로 구입이 가능하다 또  아케이드 패스를 구입하면 이벤트 기간 중 매 게임의 승패에 따라 토큰을 얻을 수 있으며 월 일 오전 시까지 토큰을 사용해 신규 스킨과 크로마 테두리 감정표현 아이콘 상품을 구입하거나 무작위 아이템을 획득할 수 있는 아케이드라구를 구입할 수 있다 생활경\n",
            "넷마블문화재단이사장 방준혁은 지난달 일 경기도 김포시 소재 하늘빛초등학교에서 가족 내 건강한 게임문화 확산을 위해 년 회차 게임소통교육을 진행했다고 일 밝혔다 하늘빛초등학교 학생 및 학부모 명을 대상으로 진행된 이번 년 회차누적 회 게임소통교육은 건강한 여가로서 게임이 지닌 가치와 문화를 이해하고 부모자녀간 관계를 강화하는 프로그램을 중심으로 진행됐다 이번 행사는 게임의 원리와 장르 게임산업 및 직군 특성을 탐색하는 게임의 이해 놀이문화로서 게임의 가치를 알아보고 자녀들의 심리와 문화를 이해하는 게임과 문화 자녀의 성격 및 감정을 파악하고 이해하는 시간을 통해 부모자녀간 게임에 대한 생각차이를 이해하는 게임과 소통 가족간 소통법과 지도법을 체험하고 우리 가족만의 게임 규칙을 만드는 가족 소통 등의 프로그램으로 구성됐다 이번 게임소통교육에 참여한 김지향 학부모는 부모도 게임에 대해 잘 알아야 한다는 생각은 하지 못했는데 게임과 소통의 연관성에 대해 알게 되면서 앞으로 자녀와 함께 게임에 대해 알아보고 대화해야겠다는 생각을 하게 됐다라고 말했으며 이준희 학부모는 게임의 산업적 측면이나 다양한 장르에 따른 자녀 지도법 등 모르던 정보와 함께 자녀교육 팁도 많이 얻은 교육이었다고 소감을 밝혔다 게임소통교육은 넷마블이 지난 년부터 게임이라는 공통 주제를 통해 학부모와 자녀가 함께 눈높이를 맞추며 서로에 대해 충분히 이해할 수 있는 기회를 제공 서로간의 견해 차이를 좁히는 부모자녀 공감프로그램으로 현재 넷마블문화재단에서 운영하고 있다 한편 건강한 게임문화의 가치 확대 및 미래 창의 인재 양성 나눔 문화 확산 등을 위해 지난해 월 출범한 넷마블문화재단은 문화 만들기 인재 키우기 마음 나누기 등 가지 영역을 중심으로 다양한 사회공헌 활동을 전개하고 있다     \n",
            "로지텍 슬림 무선 콤보  로지텍 코리아지사장 윤재영가 저소음무선 키보드 마우스 세트 로지텍 슬림 무선 콤보 을 선보인다 로지텍 슬림 무선 콤보 은 모던하고 슬림한 디자인이 특징이다 문서 작업 시 발생하는 타이핑 마우스 소리를 최소화한 저소음 키보드 마우스로 구성됐다 로지텍 슬림 무선 콤보  키보드는 텐 키를 포함한 모든 키를 담은 풀사이즈 레이아웃으로 공간 효율성과 편안함을 제공한다 로지텍 슬림 무선 콤보  노트북 키보드에서 주로 사용되는 펜터그래프 스위치 를 탑재했다 마치 노트북 키보드를 사용하듯 조용하고 부드럽게 타이핑할 수 있다  무소음 마우스는 대칭형 디자인으로 양손 모두 편안하게 사용이 가능하다 클릭감은 그대로 살리고 클릭 시 발생하는 소음을  줄였다 로지텍 슬림 무선 콤보 은 플러그 앤 플레이  수신기로 미터 범위 무선 연결을 지원한다 사용 시 자동 슬립 모드 기능이 작동된다 키보드는 최대 개월 마우스는 개월의 배터리 수명을 자랑한다 로지텍 슬림 무선 콤보 은 퓨어 화이트 시크 블랙 총 가지 색으로 구성된다 윤재영 로지텍 코리아 지사장은 로지텍 슬림 무선 콤보 은 데스크 공간을 살려주는 모던하고 슬림한 디자인은 물론 부드럽고 편안한 키감과 사용자와 주변 사람을 배려한 저소음 기능까지 갖춘 대표 오피스 아이템이라고 말했다  \n",
            "일본의 반도체 소재 등 수출규제와 관련 우리 기업들의 수입 의존도가 꽤 높지만 역으로 일본 기업들도 한국 반도체 업체들에 크게 의존하기 때문에 제재가 길어질 경우 큰 부담을 느낄 수 밖에 없다는 분석이 나왔다 한국무역협회는 일 일본 정부가 수출 규제를 강화하겠다고 밝힌 리지스트와 에칭가스반도체 제조용 소재 플루오린폴리이미드 디스플레이용 재료 등 총 개 품목의 대일 수입 현황을 공개한 보고서에서 이 같이 밝혔다 무협 보고서에 따르면 올해 월 기준으로 리지스트 에칭가스 플루오드 폴리이미드에 대한 대일 수입의존도는 각각   이다 반도체 주요 소재의 대일 수입의존도 채널\n",
            "삼성닷컴 챗봇  골드힌지 만 원 안내 갤럭시 폴드 판매가가 표시된 삼성닷컴 챗봇 서비스 화면사진제공인터넷 커뮤니\n",
            "세종  학교 급식조리원과 돌봄전담사 등 전국 학교 비정규직 노동자들이 임금인상과 처우개선 등을 요구하며 오는 일부터 사흘간 총파업을 예고한 가운데 박백범 교육부 차관과 전국 시도교육청 부교육감들이 일 오후 정부세종청사에서 대응방안 모색을 위한 회의를 하고 있다   저작권\n",
            "서울  이개호 농림축산식품부 장관이 일 오전 서울 중구 농협중앙회에서 열린 농협 창립 주년 기념식에서 축사를 하고 있다   저작권\n",
            " 전직원 존중 일터 실천 서약 정보통신기획평가원은 일 본관 가람홀에서 전직원 여명이 참석한 가운데 존중일터 실천 서약식을 개최했다 이번 서약식은 근로시간 단축과 직장 내 괴롭힘 행위를 금지한 근로기준법 개정을 계기로 장시간의 근로가 성과로 이어진다는 그릇된 인식을 바꾸고 원하지 않는 회식을 강요하거나 사적 심부름을 시키는 행위 등 관행이라는 이름으로 용인되었던 직장 내 괴롭힘을 근절하기 위해 마련됐다 석제범 원장과 전직원은 기존의 비효율적인 업무관행과 근로문화가 일과 생활의 불균형은 물론 조직의 경쟁력을 저하시킨다는 인식 하에 일하는 방식 혁신과 직원의 인권건강권이 보호되는 존중일터를 만들기 위한 다섯가지 행동원칙을 실천할 것을 다짐했다 다섯가지 행동원칙은 근무집중도를 높이고 정시 퇴근을 활성화해 장시간 근무관행 개선  다양한 유연근무제 적극 활용 업무간소화 등 일하는 방식 개선 눈치보기 문화 타파 및 자유로운 휴가사용 분위기 조성 노력 역지사지의 마음으로 다른 직원을 존경으로 대하고 괴롭힘 행위 금지 다른 직원의 어려움에 관심을 가지고 괴롭힘이 발생하지 않도록 예방 등이다 는 차 산업혁명 근로시간 단축 등 급변하는 경영환경 속에서 비효율적 업무관행과 일상화된 야근 등 기존의 일하는 방식과 문화가 일과 생활의 불균형을 유발하고 있음을 인식하고   대 혁신 캠페인을 전직원이 강도 높게 추진해 오고 있다 이와 함께 지난 월 온오프라인 갑질 피해 신고지원센터를 설치하고 직장 내 괴롭힘 금지 및 예방에 관한 사항을 내부 지침으로 제정했다 석제범 원장은 우리 원의 경영원칙으로 천명한   대 혁신 캠페인이 일하는 방식과 조직문화를 개선하는데 기여했다면서 오늘 서약식을 계기로 신발 끈을 다시한번 조여매는 마음으로 우리 원을 존중일터로 만들기 위해 다섯가지 행동원칙을 나부터 말이 아닌 행동으로 실천하겠다고 말했다 한편 는 과학기술정보통신부 산하 국내 유일의   전담기관으로 분야 국가연구개발사업에 대한 기술기획 정책연구 성과확산 및 인력양성 등 전주기 지원을 통해 대한민국 혁신성장을 주도하고 있다 일 정보통신기획평가원은 전직원 여명이 참석한 가운데 존중일터 실천 서약식을 개최했\n",
            "법제처 고위공무원 전보 법령해석국장 최영찬 과장급 전보 행정법제국 법제관 손대수 경제법제국 법제관 윤강욱 안승철  \n",
            "저작권자  디지털데일리 무단전재재배포\n",
            "일 오전 서울 광화문 스퀘어에서 열린 국내 최초  무선 서비스  슈퍼  출시행사에서 모델들이  초고화질의  슈퍼  콘텐츠를 체험하고 있다  \n",
            "부사장 엔터프라이즈 커머셜 사업본부 우미영 파트너 및  사업본부 장홍국 전무 서비스 사업본부 김한호 상무 마케팅오퍼레이션즈 사업본부 유현경  \n",
            "우리는 인공지능이란 새로운 시대를 맞고 있다 금융 신약 유통 시스템에서부터 자율 주행 차량에서 휴머노이드 로봇 및 지능형 개인 비서 스마트홈 장치에 이르기까지 우리 주변의 세계는 근본적인 변화를 겪어 가고 있으며 또한 우리의 삶의 방식을 변화시키고 있다 이제 인공지능은 산업 혁명 컴퓨터 시대 스마트폰 혁명과 같은 과거의 변화와 동등이상으로 혁신적으로 작용할 것이며 우리의 삶과 사회를 변화시키고 더불어 변화무쌍한 산업 환경에 대응하기 위한 단순한 기술우위 확보 경쟁을 넘어 보다 근본적이고 새로운 인식과 패러다임을 고민하고 지속적인 비즈니스 모델 혁신이 중요함을 시사하고 있다 오는 일수부터 일금까지 서울 삼성동 코엑스에서 개최되는 제회 국제인공지능대전    마지막 날인 일금에 국내외  기업의 비즈니스 전략 및 도입 사례 등 가 우리 사회와 산업에 가져올 변화와 영향에 대해 인사이트를 공유하는     이 초연결 사회 의 미래란 주제로 개최된다 이번 행사는 인터넷신문 테크데일리대표 문창남와 인공지능신문이 공동으로 주관하며 코엑스 컨퍼런스룸 호에서 관련 업계 및 단체 등에서 여명이 참가할 예정이다 이날 행사에서는 먼저 한국 시스템사업부에서 인공지능 인프라를 총괄하는 유부선 상무가 누가 우유 상자를 훔쳤을까  일상 속의   이란 주제로 간단한 업무에 를 어떻게 적용하여 효과를 볼 수 있는지 몇 가지 예시를 들어 보이고 그렇게 간단한  적용을 위해 비전문가도 쉽게 를 학습시킬 수 있는 솔루션에 대해서 살펴본다 이어서  사업단 임채환 상무가 공간속의 인공지능과 미래의 주제를 가지고  서비스가 우리의 실제 생활패턴을 어떻게 변화시키고 있는지를 살펴볼 것이며 노키아 네트웍스 최성남 실장이  기반의 기업  통합 및 디지털 트랜스포메이션이란 주제로 캠브리지 컨설턴트  아시아 지역 총괄 책임자인 마일즈 업튼  박사가   개념증명 한계에서 벗어나 실제 상용화에 도달하는 방법이라 주제로 발표된다 오후 첫 번째    세션에서는 인텔리콘 임영익 대표이자 변호사가 법률 인공지능과 리걸테크의 세계란 주제로 딥러닝의 실체와 의 미래  판사와  변호사 리걸테크과 법률 혁명 등의 가지 테마로 발표한다 또  세션에서는 다크트레이스 코리아 주진현 수석이 비지도 학습 기반의 를 활용한 사이버 보안 면역시스템이란 주제로  플랫폼세션에서는 인텔의 이주석 전무가 빅데이터 분석 최적화를 위한   이란 주제로 엔비디아 이상문 전무가           라는 주제로  플랫폼 및 빅데이터 솔루션에 대한 최신 인사이트를 공유한다 이어지는  애플리케이션에서는 먼저 엘젠 김남현 대표가  스마트키오스크 및 음성의 혁신솔루션이란 주제로 말뭉치를 이용해 한번에 여러 프로세스를 뛰어넘는 셋트의 완성과  음성 기반의 스마트키오스크 라는 테마로 발표하며 마지막으로 최근 가장 핫한 로보틱 프로세스 자동화의 글로벌 리더 오토메이션애니웨어  이영수 한국지사장이 미래 기업경쟁력 에서 찾아라 로 무장한  시대가 온다란 주제로 인지 기반 봇의 업무 프로세스 혁신 사례를 살펴보며 디지털 워크포스로 무장한 미래 기업 대응 전략을 제시한다 더 자세한 행사 내용이나 참석 문의는 인공지능신문 또는 테크데일리   서밋  사무국 행사 홈페이지를 참고하면 된다 인터넷  \n",
            "빅터 차사진 전략국제문제연구소 한국석좌는 지난 일 판문점에서 열린 남북미 정상회동에 대해 리얼리티 쇼라고 했다 차 교수는 지난 일 트위터에서 나는 외교 활동에 반대하지 않는다면서도 가짜 외교 는 미국한국북한에 사소한 영예를 주면서 북한의 인권 침해와 북핵을 정당화한다고 했다 문재인 대통령에게는 사진 몇장이 비핵화에 도움이 되리라 보는가라며 도널드 트럼프 미국 대통령은 몰라도 문 대통령은 도움이 되지 않는다는 사실을 알아야 한다고 했다 그는 또 트럼프 대통령이 판문점 군사분계선에서 김정은을 만나고 잠시 북한 지역에 월경했던 것을 언급하며 두 정상의 만남이 비핵화 협상과 검증가능한 합의 평화협정으로 이어져야 역사적일 것이라며 그렇지 않다면 멋진 사진과 화려한 행사일뿐이라고도 했다 한미 양국 정부에서 판문점 회동을 두고 역사적인 사건이라고 평가하는 것을 염두에 둔 것으로 보인다 차 교수는 트럼프 대통령은 스티븐 비건 국무부 대북정책특별대표와 마이크 폼페이오 미 국무장관이 북한과 비핵화 거래를 하기 위해 주 안에 만날 것이라고 했다며 대단하다 우리는 실무차원 회담을 다시 이어가기 위해 정상회담을 했다고 말했다 이벤트의 상징성에 비해 실질적 성과는 보잘 것 없다는 뉘앙스다 그는 이날 블룸버그 통신과의 인터뷰에서도 트럼프 대통령은깜짝 쇼를 위한 외교 수단으로 김 위원장과의 만남을 절대 중단하지 않을 것이라며 한국 정부가 김 위원장과 트럼프 대통령 간 판문점 회동을 위해 적극 노력하겠지만 사진 촬영 외에는 정말 얻을 게 없는 만남이라고 했다\n",
            "핀테크 해커톤 성료우수 서비스 개발 개팀 시상 서울  한국인터넷진흥원은 지난달일부터 일까지 서울 가락동  핀테크 기술지원센터에서 핀테크 해커톤 대회를 열고 신규 서비스를 발굴했다고 일 밝혔다 해커톤은 해킹과 마라톤의 합성어로 마라톤을 하듯 쉬지 않고 아이디어를 내고 개발해 시제품 단계의 결과물을 만들어내는 경진대회다 과학기술정보통신부 주최 한국인터넷진흥원과 국민은행 주관으로 진행된 이번 해커톤 대회는 신규 핀테크 서비스 기획개발을 주제로 사전접수를 거쳐 총 개 팀 명이 참가했다 참가팀들은 국민은행 및 인공지능 빅데이터 등  기술을 활용해 다양한 핀테크 서비스를 개발했다 심사에는 주관기관 및 핀테크 업계 전문가들로 이뤄진 심사위원들이 참여했으며 참가팀들의 서비스 시연을 바탕으로 아이디어 및 기술역량을 종합적으로 평가했다 그 중 온라인을 활용한 비대면 금리 인하 서비스를 개발한 별 빚이 내린다팀은 창의적인 아이디어와 기술완성도 측면에서 높은 관심을 받아 과학기술정보통신부 장관상 수상의 영예를 안았다 최우수상으로는 사람 간 케미지수를 바탕으로 사람공간금융상품 연결 플랫폼을 개발한  팀 환율 예측을 통한 환전 시기 추천 시스템을 개발한 환타스틱팀이 선정됐다 이 외에도 우수상 점 장려상 점 등 총 개 팀이 이번 해커톤에서 수상했다 이번 대회 수상팀에게는 상금 총 만 원뿐 아니라  핀테크 기술지원센터 입주 신청 시 우대  입사지원 시 서류전형 가점 국민은행 직군 신입행원 공채 시 서류필기전형 면제년까지 회에 한함 등의 특전이 제공될 예정이다 노명선  인터넷서비스지원본부장은 는 해커톤 대회를 금융 기관들과 매년 공동 개최해 핀테크 서비스를 지속적으로 발굴하고 있다며 핀테크 산업 활성화를 위해 올해는 인슈어테크 분야를 포함해 서비스 발굴 및 사업화 지원 범위를 확대 할 계획이라고 밝혔다 \n",
            "찬성  반대 원포인트 임시회서 무기명 전자투표 거쳐 의결 서울시의회 시정질문에 출석한 박원순 시장 박원순 서울시장의 역점사업인 서울민주주의위원회를 설립하는 조례안이 재표결 끝에 서울시의회를 통과했다 시의회는 일 제회 임시회를 열고 서울특별시 행정기구 설치 조례 일부개정조례안 서울특별시 공무원 정원 조례 일부개정조례안 서울특별시의회 기본 조례 일부개정조례안 등을 의결했다 이날 신원철 시의회 의장이 행정기구 설치 조례 개정안과 공무원 정원 조례 개정안을 일괄 상정하고 두 안건에 이의가 있는지 묻자 정진술더불어민주당 의원이 의사진행 발언을 신청했다 정 의원은 찬반 토론을 하러 나온 것은 아니다면서 두 안건을 무기명 전자투표로 진행해달라고 제안했고 의원들은 기명 전자투표를 통해 무기명 전자투표 진행에 동의했다 이어 진행된 무기명 전자투표에서 행정기구 설치 조례 개정안은 찬성 표 반대 표 기권 표를 얻었고 공무원 정원 조례 개정안은 찬성 표 반대 표 기권 표를 얻어 모두 가결됐다 행정기구 설치 조례 개정안은 서울민주주의위원회를 시장 직속 기구로 설치하는 내용으로 박 시장의 숙원사업이었다 공무원 정원 조례 개정안은 서울민주주의위원회에서 일할 공무원 자리를 만드는 내용이며 시의회 조례 개정안은 서울민주주의위원회를 담당할 시의회 상임위원회를 지정하는 내용이다 결국 이번 임시회는 서울민주주의위원회 조례 안건을 처리할 원포인트 의회였던 셈이다 서울민주주의위원회는 공무원 각계 전문가 등 명 이내의 위원으로 구성되는 합의제 행정기관이다 각종 정책을 기획조정의결하고 시민참여숙의제 예산 편성에도 참여한다 시민참여예산은 시민이 제안한 신규 사업 예산을 시민숙의예산은 기존 서울시 사업 중 시민 숙의 과정을 거치는 예산을 말한다 두 예산 규모는 시민민주주의 확대에 따라 내년 천억원에서 년 천억원 년에는 조원대까지 늘어난다 이에 대해 위원회의 예산 편성 권한이 비대하다는 지적이 꾸준히 제기됐다 서울시가 너무 자주 조직을 개편한다는 비판도 뒤따랐다 그 결과 제회 정례회 회기 중이던 지난달 일 시의회 기획경제위원회는 행정기구 설치 조례안을 만장일치로 부결한 바 있다 석 중 석이 박 시장과 같은 더불어민주당인 서울시의회에서 박 시장이 제출한 조례안이 만장일치로 부결된 것은 민선 기 들어 처음 있는 일이었다 무난한 통과를 예상했던 서울시는 서울민주주의위원회와  설명회를 준비했다가 조례가 부결되자 이를 급히 취소하고 새롭게 입법예고를 해야 했다 시의회는 정례회 마지막 날인 지난달 일 논의 끝에 이 안건을 다룰 임시회를 열기로 합의하고 다음날 공고했다 안건에 합의하고 열린 임시회인 만큼 이날 조례 통과 자체는 예상됐다 그러나 무기명 투표를 통해 여전히 적지 않은 반대 의견이 확인됨에 따라 서울시는 앞으로 사업 추진 과정에서 의원들과 교감을 늘려야 하는 과제를 안게 됐다 \n",
            "과 한국직업전문학교는 일  본사에서 영재교육원 설립 업무 협약식을 개최했다 왼쪽부터 홍승모 사 이사 김명용 직업전문학교 이사장 양승욱 사 사장 김홍진 직업전문학교 학장 다산인재개발원 한국직업전문학교이사장 김명용와 사가 소프트웨어  전형 인재 양성을 위해 손을 맞잡았다 김명용 한국직업전문학교 이사장과 양승욱 사 사장은 일 사 대회의실에서 영재교육원 설립 업무협약서를 교환했다 양사는 한국직업전문학교가 올 하반기에 설립 예정으로 있는 영재교육원가칭의 활성화를 위해 서로 협력하기로 했다 학생 모집에서부터 커리큘럼 구성 학사 진행 진학 컨설팅까지  인재 양성을 위해 힘을 모은다 영재교육원은   전형을 통해 중심대학 등 관련 과정에 진학하고자 하는 중고등학생 지원자 대상으로  교육을 실시한다 교육은 학기 주 과정으로 매주 토요일 수업이 진행된다 교수진은 전공 분야 석박사 학위 소지자이며 대 코칭시스템으로 맞춤 교육이 이뤄진다 다양한 흥미 유발 교육 과정으로 진행되며 각종 정보올림피아드와 경진대회 및 자격증 취득까지 이어지는 원스톱 교육을 실시한다 김 이사장은 많은 대학이 대입 수시 전형의 하나로  전형을 도입하고 있다면서  프로그램 인재 조기 교육으로 관련 대학 진학을 유도하고 한국  산업 발전에 기여하겠다고 말했다 양 사장은 양사의 강점이 결합된  영재교육을 진행 시너지 효과를 기대한다면서 관련 대학 진학은 물론 졸업 후 관련 기업 입사까지 지원을 아끼지 않겠다고 밝혔다  \n",
            "서울   일본정부가 반도체와 유기발광다이오드 소재의 한국 수출규제를 발표한 가운데 일 오후 수출상황 점검회의가 열린 서울 종로구 한국무역보험공사 대회의실에서 한국반도체산업협회장을 대신해 참석한 전세원 삼성전자 부사장이 물을 마시고 있다   저작권\n",
            " 유플러스 한국과학기술연구원 등 개 기관 주도로 제안 양자암호통신네트워크 구성 위한 서비스 표준 모델 제시 세계 양자암호통신 시장서 국내기술 확보 및 해외진출 기대 서울유플러스는 월 일부터 일까지스위스 제네바에서 개최된 국제전기통신연합 전기통신표준화부문 스터디그룹 한국 주도로 개발한 양자암호통신 네트워크 프레임워크 권고안이 국제 표준 에 예비 승인됐다 과학기술정보통신부 국립전파연구원은 지난달 스위스 제네바에서 개최된 국제전기통신연합 전기통신표준화부문 스터디그룹  국제회의에서 이같이 승인을 받았다고 일 밝혔다  내 양자암호통신 분야에서는 세계 최초로 채택된 표준으로 이후 회원국 간 회람을 거쳐 반대 의견이 없을 경우 최종 채택될 전망이다 이번에 승인된 표준은 양자암호통신 네트워크를 구성하는데 필요한 계층 모델 기능적 구성 요소 등을 정의한 것으로 지난해 월 와 유플러스 한국과학기술연구원 한국전자통신연구원 등이 제안해 개발을 시작했다 이후 국내 개 기관 및 전세계 여개 회원사들이 주도적으로 표준화 활동에 참여한 결과 예비 승인을 받았다 지금까지 양자암호통신 기술과 표준은 주로 장비 제조업체 위주로 개발됐지만 표준 채택을 통해 통신사업자 입장에서 서비스 상용화를 위한 표준을 개발할 수 있는 길이 열리게 됐다 표준 개발을 통해 특허 부분도 확인하며 양자암호통신 분야 국제표준화 주도권을 기존 외국산 장비업체에서 통신사 서비스 위주로 전환하고 시장을 이끌 수 있게 됐다 양자암호통신 시장에서 해외 거대기업과 경쟁에서 국내 기술 우위 확보와 함께 국내 업체들의 활발한 해외 진출도 가능할 것으로 전망된다 향후 개발되는  표준화는 프레임워크를 바탕으로 진행되며 세부 구조 키 관리 망 관리제어  컨트롤러 과제에 대해 년 월까지 표준화를 완성할 예정이다 이번  회의에서는 양자암호통신 네트워크 프레임워크 권고 채택에 이어 와 가 공동으로 제안한 양자암호통신 제어 및 관리 역시 신규 표준화 과제로 승인됐다   회의에 참석해 의 성과를 지켜본  최준균 교수는 앞으로 등장할 인공지능 기반 지능형 사이버 사회가 안전하고 신뢰할 수 있는 사이버 생태계로 나아갈 수 있도록 우리나라가 양자암호 기술에 기반한 표준화를 주도한 중요한 쾌거라고 평가했다  융합기술원장 전홍범 부사장은 는 양자암호통신 네트워크 기술의 세계 최초  표준승인을 위해 국내 기술의 국제표준 반영을 추진해 왔다며 새로운 보안 플랫폼인 양자암호통신 네트워크 기술 발전을 위해 노력하겠다고 밝혔다 유플러스 박송철 개발그룹장 역시 사업자와 산업계 연구기관과 함께 협업해 양자정보통신을 위한 새로운 네트워크 모델을 제시해 선도했다며 더 좋은 서비스를 제공하기 위한 상생 생태계 확보에 노력하겠다고 밝혔다 한편 지난해 월   회의에서 의 제안으로 채택된 신규 과제 건 또한 오는 월 회의에서 국제표준으로 채택을 앞두고 있다 국립전파연구원 이경희 국제협력팀장은 양자암호통신의 상용화를 위해 필수적인 양자암호통신 네트워크 기술이  표준으로 채택돼 국내 기업들의 시장 경쟁력을 향상시킬 수 있을 것으로 기대된다며 추후 후속 표준개발에서도 우리나라가 국제표준화를 선도할 수 있도록 지원하겠다고 밝혔다 \n",
            "스마트인피니대표 김인석는 오는 월 일까지 자사 판매 채널 라이프스타일 힐팩에서 워터파크 특가 기획전을 실시한다고 일 밝혔다 해당 기간 가평 경주 강원도 등 전국 유명 워터파크 상품을 최대  할인 가격에 선보인다 기획전 상품 구매 이용 시 포인트를 지급한다 워터파크 특가 프로모션은 가격 비교 사이트 에누리에서 동시에 진행한다 가평에서는 수상레저 시설인 캠프통아일랜드를 즐길 수 있다 이용권을 인 기준 최저 원 가격에 판매한다 수상레저 바비큐 등 종 패키지로 구성된 가평 캠프통아일랜드 럭셔리 롯지는 인 기준 최저 만원이다 웨이크 서핑이 포함된 철없는 수상레저 서핑패키지는 원에 선보인다 철없는 수상레저 놀이기구 패키지는 수상레저  이용권을 만원에 제공한다 두 상품 모두 서핑티켓과 놀이기구 티켓 구매 시 모터보트 보팅 이용권을 원에 구매 가능하다 경주에서는 캘리포니아비치 패밀리권과 경주월드 빅 이용권을  할인한 만원대인 인소인 인에 선보인다 뽀로로 캐릭터를 주제로 단장한 워터파크 뽀로로아쿠아빌리지는 소인 기준  할인한 만원이다 대명리조트 경주 아쿠아월드에서는 온 가족이 아름다운 추억을 만들 수 있는 리조트 이용권을 소인기준 만원에 판매한다 강원도 지역의 다양한 레저 상품을 준비했다 홍천 비발디파크 오션월드 패밀리권은 만원이다 이지패스로 빠른 입장이 가능한 실내락카 종일 이용권은 소인 기준 만원이다 설악산을 바라보며 천연 보양 온천수를 즐길 수 있는 속초 한화 설악워터피아 상품은 소인 인 기준 만원에 만나볼 수 있다 동해안의 바다를 보며 여유와 즐거움을 만끽할 수 있는 삼척 대명리조트 쏠비치 아쿠아월드는 만원대인 인 기준이다 이외에도 쓰나미슬라이드와 튜브옥토퍼스레이서를 즐길 수 있는 천안 대명리조트 오션파크만원 진정한 여수 밤바다의 낭만을 즐길 수 있는 여수 스파랜드 워터파크부터 바비큐까지 즐길 수 있는 배다골 테마파크 등을 준비했다 김인석 스마트인피니 대표는 본격 휴가철을 맞아 연인 가족들이 즐길 수 있는 상품을 선보인다면서 휴가철에 이용하기 좋은 수상레저 워터파크 등 패키지 상품을 알뜰하게 구매할 수 있는 기회라고 말했다 윤희석 유통  \n",
            "일본 한국 대상 반도체디스플레이 소재 수출 규제 일본이 반도체디스플레이 핵심 소재의 대 한국 수출 규제를 강화하기로 했다는 소식에 일 국내 소재 업체들이 강세를 보였다 이날 동진쎄미켐은 전 거래일보다  오른 만천원에 거래를 마쳤다 후성도 동반 상승했다 이 가운데 동진쎄미켐은 반도체용 감광액과 식각액 등을 공급하는 기업이고 후성은 반도체 및 디스플레이의 식각 공정에 사용되는 소재인 불산을 제조판매하는 업체다 국내 대표적인 반도체 제조 기업인 하이닉스는 미국의 화웨이 제재 완화 수혜 기대감 등으로 강세를 보였다 다만 삼성전자는 하락 마감했다 김양재 투자증권 연구원은 일본의 수출 규제로 반도체 제조사들이 향후 국내산 소재의 비중을 늘리면서 국내 소재 업체들이 반사이익을 얻게 될 것이라고 예상했다 이어 국내 반도체디스플레이 제조사들은 단기적으로 생산 차질을 겪을 수도 있겠지만 중장기적으로는 과잉 재고를 소진하고 가격 협상력을 확보하면서 역시 수혜를 보게 될 것이라고 전망했다 김동원 증권 연구원도 이번 일본의 수출 규제 조치는 지금까지 해외 의존도가 높았던 국내 정보기술 산업의 소재 국산화를 가속하는 계기가 될 것이라고 예상했다 김현수 하나금융투자 연구원은 일본 입장에서도 반도체 공정용 소재를 한국으로 수출하지 않으면 대만 이외 수요처를 확보하기 힘든 상황이라며 일본의 수출 규제 강화는 어디까지나 한국에 대한 협상용 카드를 마련하기 위한 조치로 전면적인 수출 금지를 위한 것은 아니다라고 진단했다 앞서 일본 경제산업성은 오는 일부터 대 한국 수출관리 규정을 개정해 반도체 등의 제조 과정에 필요한 플루오린 폴리이미드 리지스트 고순도불화수소에칭가스 등 개 품목의 수출 규제를 강화한다고 이날 오전 발표했다 이 가운데 플루오린 폴리이미드와 리지스트는 전 세계 생산량의  고순도불화수소는 약 를 일본이 점유하고 있는데 향후 이들 품목이 한국에 수출될 때에는 일본 정부의 개별 허가 절차를 거쳐야 된다 일본 정부는 또 외국환 및 외국무역관리법외환법에 따른 우대 대상인 화이트백색 국가 리스트에서 한국을 제외하는 방안도 검토 중인 것으로 알려졌다 이 경우 집적회로 등 일본의 국가안보와 관련된 제품을 수출할 때 건별로 일본 정부의 승인을 받아야 한다 이와 관련해 우리 정부는 이날 오전 홍남기 부총리 주재로 성윤모 산업통상자원부 장관 등 관계부처 장관들이 참석한 가운데 녹실회의를 열고 대응 방향을 논의했다 \n",
            "국내 개 기관 주도로 제안  표준 채택 쾌거 양자암호통신네트워크 구성을 위한 서비스 표준 모델 제시 세계 양자암호통신 시장에서 국내기술 확보 및 해외진출 기대 이번 회의를 주재한 한국 국가대표단 수석대표 김형수 박사와  워킹파티 의장단 알로츠 후도브닉 공동 부의장슬로베니아 통신청 루카 페산도 공동의장텔레콤 이탈리아 김현수 공동의장 루루 부의장차이나모바일 왼쪽부터  와 유플러스를 비롯한 국내 개 기관이 공동 개발한 양자암호통신 기술이 세계 최초로 국제 표준에 지정된다 세계 양자암호통신 시장에서 국내 기술 확보는 물론 우리 기술의 해외 진출도 기대된다 와 유플러스는 일 스위스 제네바에서 개최된 국제전기통신연합 전기통신표준화부문 스터디그룹 국제회의에서 암호통신 네트워크 프레임워크 권고안 건이 국제 표준으로 예비 승인됐다고 밝혔다 내 양자암호통신 분야에서는 세계 최초로 채택된 표준으로 이후 회원국 간 회람을 거쳐 반대 의견이 없을 경우 최종 채택될 전망이다 이번 표준화는 와 유플러스 그리고 한국과학기술연구원 한국전자통신연구원 등이 제안하여 개발을 시작한 이후 국내 개 기관 및 전세계 여개 회원사들이 주도적으로 표준화 활동에 참여한 결과다 승인된 표준은 양자암호통신 네트워크를 구성하는데 필요한 계층 모델 기능적 구성요소 등을 정의한 것으로 아직 논란의 여지가 많은 양자암호통신 분야에서 사업자와 제조사 관점의 모든 영역을 고려하여 새로운 표준화 기준을 잡았다는 데 중요한 의미가 있다 이번 표준개발을 통해 특허 부분도 확인해 기술 독점을 해결해 양자암호통신 분야 국제표준화 주도권을 기존 외산 장비업체에서 통신사 서비스 위주로 전환하고 시장을 선도 할 수 있게 됐다 이에 따라 양자암호통신시장에서 해외 거대 기업과의 경쟁에서 국내 기술 우위 확보와 함께 국내 업체들의 활발한 해외 진출도 가능할 것으로 전망된다 와 가 공동 제안한 신규 표준화 과제 양자암호통신 제어 및 관리도 승인됐다 양자암호 서비스의 안정적 공급과 고품질 운용관리를 규정하는 신규 표준으로 개발될 예정이다 는 지속적으로 성공적인 국제 표준화를 통하여 우리나라는 전기통신표준화부문 세계 최고 권위의 공적 표준화 기구인 에서 양자암호통신 분야 기술력을 인정받고 국내기술의 국제적 입지를 더욱 공고히 할 계획이다 전홍범  융합기술원장부사장은 는 이번 양자암호통신 네트워크 기술의 세계최초  표준승인을 위해 국내 기술의 국제표준 반영을 추진해 왔다며 향후 미래 기술의 하나로써 새로운 보안 플랫폼인 양자암호통신 네트워크 기술 발전을 위해 계속 노력할 예정이라고 말했다  \n",
            "유플러스 와 유플러스는 지난달 일 스위스 제네바에서 개최된 국제전기통신연합 전기통신표준화부문 스터디그룹  국제회의에서 암호통신 네트워크 프레임워크 권고안 건이 국제 표준으로 예비 승인 됐다고 일 밝혔다 내 양자암호통신 분야에서 세계 최초로 채택된 표준으로 이후 회원국 간 회람을 거쳐 반대의견이 없을 경우 최종 채택될 전망이다 이번 표준화는 와 유플러스 한국과학기술연구원 한국전자통신연구원 등이 제안해 개발을 시작했다 이후 국내 개기관 및 전세계 여개 회원사들이 주도적으로 표준화 활동에 참여했다 이번에 승인된 표준은 양자암호통신 네트워크를 구성하는데 필요한 계층 모델 기능적 구성요소 등을 정의한 것이다 특히 이번 표준개발을 통해 특허 부분도 확인해 기술 독점을 해결해 양자암호통신 분야 국제표준화 주도권을 기존 외산 장비업체에서 통신사 서비스 위주로 전환하고 시장을 리드할 수 있게 됐다고 와 유플러스는 설명했다 이에 따라 양자암호통신시장에서 해외 거대기업과의 경쟁에서 국내 기술우위 확보와 함께 국내 업체들의 활발한 해외진출도 가능할 전망이다 향후 개발되는  표준화는 이번 프레임워크를 바탕으로 진행되며 세부 구조 키관리 망 관리제어  컨트롤러 과제에 대해 오는 년 월까지 표준화를 완성할 예정이다 전홍범  융합기술원장부사장은 향후 미래 기술의 하나로써 새로운 보안 플랫폼인 양자암호통신 네트워크 기술 발전을 위해 계속 노력할 예정이라고 말했다 박송철 유플러스 개발그룹장은 사업자와 산업계 연구기관과 함께 협업하여 양자정보통신을 위한 새로운 네트워크 모델을 제시해 선도했고 유플러스는 지속적으로 고객에게 더 좋은 서비스를 제공하기 위한 상생 생태계 확보에 노력하겠다고 했다 한편 텔레콤은  내 통신 보안 관련 전문 연구 그룹 에서 양자키 분배 양자난수발생기 관련 개의 과제를 수행 중이며 해당 과제는 오는 월말월초 주간 진행되는 회의에서 국제 표준으로 채택될 것으로 기대된다  \n",
            "전자부품 금속 원자재 등 최대 천배까지 확대 관찰 가능 올림푸스한국 또한 본체와 스테이지를 좌우로 도 회전시킬 수 있어 반도체 기판과 같은 얇은 샘플이나 자동차 부품 등 다양한 샘플도 원하는 각도에서 관찰할 수 있다 총 개의 관찰법을 지원하며 한 번의 클릭으로 명시야 암시야 두 가지 관찰법을 조합하는 것 간이 편광 및 미분간섭 등 다양한 관찰법을 활용해 샘플을 정확하게 분석할 수 있다 또한 표면의 요철을 강조해주는 콘트라스트  기능이 새로 추가되었다 일반 렌즈보다 이미지 왜곡이 적은 텔레센트릭 광학 시스템을 적용했고 새롭게 개발된 알고리즘을 통해 기존의 디지털 현미경 대비 배 가량 빠른 속도로  이미지를 제공해준다 올림푸스한국 사이언스솔루션사업본부 전종철 본부장은 신제품  은 올림푸스의 탁월한 광학 기술을 바탕으로 다양한 산업 현장에서 편리하고 정밀한 검사 환경을 제공해 사용자가 정확한 분석을 할 수 있게 도움을 줄 것으로 기대한다고 밝혔다 \n",
            "전자가 현대자동차와 손잡고 국내 최대 체험형 자동차 테마파크 현대 모터스튜디오 고양에서 클로이 안내로봇 시범서비스를 시작했다 전자 클로이 안내로봇 이 현대자동차 브랜드 체험공간 현대 모터스튜디오 고양에서 손님들을 맞이한다 전자는 현대자동차와 손잡고 지난달 일부터 경기도 고양시에 위치한 국내 최대 체험형 자동차 테마파크 현대 모터스튜디오 고양에서 클로이 안내로봇 시범서비스를 시작했다고 일 밝혔다 클로이 안내로봇은 전시장 안내 전시차량 안내 프로모션 안내 코드를 통한 견적 안내 등의 서비스를 제공한다 고객이 클로이 안내로봇에 헤이 클로이 상설전시장이 어디야라고 질문하면 로봇은 상설전시장 이미지를 보여주며 안내를 원하시면 길안내 시작 버튼을 누르시거나 클로이 길안내 시작이라고 말씀해 주세요라고 대답한다 클로이 안내로봇은 한국어는 물론 영어 중국어 등도 지원한다 전시장을 방문한 외국인들이 언어를 선택할 수 있다 또 방문객이 로봇과 함께 기념사진을 촬영할 수 있는 재미도 더했다 전자는 클로이 안내로봇에 자체 개발한 로봇관제시스템인    를 처음 탑재했다 는 관리자가 로봇을 직접 관리하는 시스템으로 로봇 상태 확인 일정 관리 콘텐츠 업데이트 등이 가능하다 현대자동차는 클로이 안내로봇이 수집한 데이터를 활용해 차량 선호도 인기 시설물과 프로모션 등을 분석해 향후 고객 맞춤형 서비스를 제공할 계획이다 전자는 이번 협업이 로봇사업 선도 이미지를 구축하는 데 도움이 될 것으로 기대하고 있다 또 로봇 서비스를 확대해 고객이 로봇을 경험할 수 있는 기회를 늘릴 계획이다 현대자동차도 안내로봇을 도입해 전시장 방문 고객에게 새로운 재미와 경험을 제공할 예정이다 방문 고객이 많은 시간대에 전시장 운영 효율성도 높아질 것으로 예상하고 있다 양사는 한 달 동안 클로이 안내로봇 대로 시범서비스를 진행하고 월 중순부터 대로 늘려 상용서비스를 시작할 계획이다 앞서 전자는 지난해 인천국제공항에 클로이 안내로봇을 도입해 새로운 경험과 편의성을 제공한 바 있다 노진서 전자 로봇사업센터장 전무는 협업을 통해 더 많은 고객이 일상에서 로봇을 만나 새로운 경험을 접하게 될 것이라면서 로봇이 고객에게 주는 가치를 극대화하기 위한 방법을 지속 발굴하겠다고 말했다 권건호 전자산업  \n",
            "일본 한국 대상 반도체디스플레이 소재 수출 규제 성윤모 산업통상자원부 장관이 일 오후 서울 중구 한국무역보험공사에서 열린 수출상황점검회의에서 발언하고 있다   \n",
            "시정 질의서 답변법원 이전에 다소 이견  안병용 경기 의정부시장은 일 법무타운은 고산 공공주택지구 조성 사업과 함께 진행돼 년 말 완료될 계획인 것으로 파악하고 있다고 밝혔다 안 시장은 이날 시의회에서 오범구 의원의 시정 질문에 대해 법무타운은 기획재정부가 추진 중이라고 전제한 뒤 이같이 답변했다 의정부지검과 의정부지법 채널\n",
            "양국 외교문제라 곤혹불확실성 커서 당장 대응방안 없다 글로벌 공급과잉 해결 계기 국내 업체에 중장기 호재 분석도  일본 정부가 일 한국에 대한 일부 반도체 디스플레이 소재 수출을 규제하겠다고 공식 발표하자 국내 관련 업계는 당혹감을 감추지 못하는 분위기다 이번 조치가 일제 강제징용 피해자 배상 문제를 둘러싼 양국 외교 갈등에서 비롯된 것이어서 업계에서 직접 해결 방법을 찾기 어려운 데다 상황이 더 악화할 가능성도 염두에 둬야 하기 때문으로 풀이된다 특히 수출 규제 대상에 오른 개 품목은 사실상 한국 경제를 떠받치고 있는 반도체와 디스플레이 산업 등에서 필수 소재로 꼽히고 대일 의존도도 높아 업계에서는 사실상 속수무책이라는 탄식까지 나왔다 한 업계 관계자는 당장 어떻게 대응할지 결정하지 못하는 상황이라면서 워낙 불확실성이 크고 기업간의 문제가 아닌 국가간 외교 문제가 얽힌 사안이어서 상당히 곤혹스럽다고 지적했다 일본 반도체디스플레이 소재 한국 수출규제  채널\n",
            " 한국표준질병분류에 포함된 한의학 분류체계 기반으로 개발 세계보건기구가 국제질병분류체계를 개정하면서 최초로 전통의학한의학을 포함시켜 그 가치를 세계적으로 공식 인정했다 한국한의학연구원은 지난 월 일 개최된  연례 총회에서 개정된 차 국제질병분류이하 에 한의학 등 동아시아 전통의학을 기반으로 개발된 전통의학 챕터가 신설됐다고 일 밝혔다 이번 개정을 통해 수천 개의 질병과 그 의료진단을 담은 에 전통의학이 포함되며 각국 정부는 전통의학 관련 통계정보를 정책 수립 보험보장 범위 설정 등에 활용할 수 있게 됐다 국제사회에서 동아시아의 전통의학을 중의학   으로 통칭하는 경우가 적지 않지만 에서는 전통의학 챕터의 영문 명칭을     로 채택했다 가 동아시아의 전통의학이 특정 국가에서 생겨나고 발전한 것이 아니라 한국 중국 일본 등을 아우른 동아시아 전체가 발전시키고 공유한 의학이라는 점을 인정한 것이다  전통의학 챕터는 우리나라의 한국표준질병분류에 포함된 한의학 분류체계에 기반을 두고 개발됐다 이에 개발에 참여한 한중일 전통의학 전문가 중 한국 전문가들이 챕터 개발에 주도적인 역할을 수행하며 한의학의 위상을 높였다 전통의학 챕터 개발을 위해 간사기관으로 활동한 한국한의학연구원 김종열 원장은 한의학을 포함한 전통의학이 의 인정을 받은 것은 매우 의미있는 일이라며 향후 한의학의 정책적 발전과 세계화를 위해 더욱 힘쓰겠다라고 소감을 밝혔다 한편 은 년에 본격적으로 효력이 발생할 예정이며 전통의학 챕터의 효과적인 적용을 위해 국내외 전문위원들은 관련 교육 등 다양한 활동을 수행할 예정이다  국제질병분류 차홈페이지 화\n",
            "세종  박태성 산업통상자원부 무역투자실장이 일 오전 정부세종청사에서 월 수출이  감소한 억불 수입은  감소한 억불을 기록했다고 밝히고 있다   저작권\n",
            "반도체 디스플레이 업계 관계자들이 일 오후 정승일 산업통상자원부 차관 주재로 긴급대책회의를 하기 위해 함께 정부서울청사 회의실로 이동하고 있다  \n",
            "엘임디지털구미시 투자장세용 구미시장 유제욱 엘엠디지털 대표 김태근 구미의회 의장 전자부품 생산업체 엘엠디지털이 구미국가산업단지에 억원 규모의 투자를 하기로 했다 엘엠디지털과 구미시는 일 엘엠디지털 구미공장에서 투자 양해각서를 체결했다 인쇄회로기판 검사 및 가공업체인 엘엠디지털은 구미국가산업단지에 추가로 생산라인을 증설하고 신규인력 명을 고용할 계획이다 경기도 안양에 본사를 둔 이 회사는 년 월 구미공장에 이어 작년 월 구미공장을 설립한 바 있다 앞으로  서비스 상용화에 따라 인쇄회로기판 수요가 늘어날 것으로 보고 구미공장 증설투자를 결정했다 구미시는 삼성 협력업체이자 인쇄회로기판 분야의 선두주자인 엘엠디지털이 투자를 확대해 지역경제 활성화에 기여할 것으로 기대했다 장세용 구미시장은 구미 투자를 결정해 준 엘엠디지털에 감사하고 인쇄회로기판 분야의 선두기업으로 거듭날 수 있도록 적극 지원하겠다고 말했다 \n",
            "년 대한치과보철학회가 세 이상 틀니 사용자 명을 대상으로 틀니 관리 실태를 조사했는데요 그 결과에 따르면 국내 틀니 사용자의 명 중 명에 해당하는 가 틀니를 사용한 후 잇몸 염증과 출혈 구취 등 구강 증상을 경험한 것으로 나타났습니다 이 같은 증상은 주로 잘못된 틀니 관리법 때문에 발생하는데요 틀니를 씻을 때 치약을 사용하면 치약의 연마제 성분 때문에 레진 등 플라스틱 재질인 틀니 표면에 금이 가고요 마모 현상까지 일어날 수 있습니다 이럴 경우 틈새로 구내염과 구취를 유발하는 세균이 번식할 수 있어 위험하게 되죠 틀니를 씻을 때는 부드러운 재질의 틀니 전용 칫솔을 사용해 흐르는 물에 씻어내고요 뜨거운 물이 아닌 깨끗한 찬물에 담가 틀니 전용 세정제와 함께 보관해야 합니다 또한 취침 전에는 틀니를 빼놓고 자야 뒤틀림 등의 손상까지 막을 수 있습니다 부분 틀니를 사용하는 경우 남은 치아를 꼼꼼하게 양치질해야 하고요 잇몸과 혀 입천장까지 깨끗하게 닦는 것이 중요합니다 제의 치아라 불리는 틀니 자신의 치아 상태와 조건에 맞는 틀니를 잘 고르고 올바르게 사용해서 오복 중 하나인 치아 건강을 지켜보세요 정보충전이었습니다 \n",
            "테마파크 몬스터 운영 기업 이 롯데 몬스터에서 거북선의 정식 서비스에 나선다고 일 밝혔다 거북선은 이 자체 개발한 신규 어트랙션으로 서울  엑스포 에서 첫 공개 이후 많은 관심과 기대를 받아왔다 총 길이  높이 의 웅장한 규모로 거북선의 강인함을 느낄 수 있으며 나무 재질의 외관을 중심으로 쇠 재질의 상단부 가시를 조합해 실제 거북선과 같은 느낌을 전달함과 동시에 생동감 넘치는 콘텐츠의 재미가 강점이다 거북선 어트랙션에 탑승하면 실제 바다 위 거북선에 올라와 있는 것과 같은 파도의 움직임과 진동을 느낄 수 있으며 시야에 보이는 파도의 크기에 따라 움직이는 각도를 조절하여 보다 세밀한 거북선의 움직임을 직접 체감할 수 있다 콘텐츠는 거북선 역사와 노량대첩에 관한 정보 제공 및 체험의 집중도를 높여주는 연출 장면과 생생한 전투를 즐길 수 있는 전투 콘텐츠로 나뉘며 이를 통해 재미를 기반으로 한 올바른 우리 역사의 가치를 알리는 역할을 할 것으로 기대를 모으고 있다 또 활을 사용한 장거리 전투와 대로 싸우는 백병전의 재미를 경험할 수 있다  \n",
            "우정사업본부와 전국우정노동조합이하 우정노조의 노사 합의 조정기간이 오는 일까지로 연장됐다 우정사업본부와 우정노조는 일 중앙노동위원회에서 열린 제 차 조정회의에서 노사간 합의로 조정기간을 오는 일까지 연장하기로 결정했다 차 조정회의는 오는 일 오전 시분 진행된다 우정사업본부는 조정 기간 연장과 관련해 먼저 노사협상이 원활하게 타결되지 못해 국민 여러분께 심려를 드려 매우 죄송하다며 노조와 계속 협상을 진행해 타결될 수 있도록 노력하겠다고 말했다 이어 국민 여러분께서 불편이 없도록 차질 없는 우정서비스 제공에 최선을 다하겠다고 덧붙였다 한편 우정노조 측은 조정 기간까지 합의가 이뤄지지 않을 경우 오는 일 총파업에 돌입하겠다고 예고했다 집배원 총파업은 년 노조 출범 이후 처음이다  \n",
            "문재인 대통령이 지난 일 주요 국 정상회의 일정을 마치고 일본 오사카에서 귀국하는 길에 일본 측 수행단이 나오지 않은 것으로 일 확인됐다 남관표 주일 대사 내외와 오태규 주오사카 총영사 내외 등 우리 측 인사들만 나와 문 대통령을 환송했다 공항에는 레드카펫도 깔리지 않았다 이번  회의 의장국인 일본은 공식 방문 형식으로 방일한 국가를 제외하고 단순히  정상회의 참석 차 일본을 찾은 국가 정상들에게는 일본 측 인사의 공항 환송과 레드카펫 등을 제공하지 않기로 했다 아베 신조 일본 총리와 양자 회담을 갖지 않은 문 대통령에게도 이 기준에 따라 별도의 의전이 제공되지 않은 것이다 외교부 관계자는 이날 다자 회의 때는 물리적인 여건상 의장국이 평소보다 낮은 단계의 의전을 하거나 생략하는 경우가 있다며 국제관례에 따라 용인하는 부분이라고 말했다 외교 소식통은 일본이 문 대통령을 홀대한다고 할 수는 없지만 결국 정상회담 불발이라는 외교 실패의 결과물로 불필요한 논란이 계속되고 있다고 말했다\n",
            "리그 오브 레전드의 올시즌 두번째 글로벌 대회이자 라이벌 지역 리그의 스프링 스플릿 상위권 팀들이 참가하는 리프트 라이벌즈가 일 서울 장충체육관에서 열린다 이번 리프트 라이벌즈에는 기존의 한국 중국 대만홍콩마카오 외에 베트남이 참가한다 베트남은 지난 년간 국제대회에서 꾸준히 좋은 기량을 선보인 리그로 특히 올해 미드 시즌 인비테이셔널에서 인상깊은 경기력으로 전세계 팬들의 이목을 집중시켰다 와 은 각각 상위 개팀이 출전하며 와 는 각각 상위 개팀이 하나의 연합팀으로 출전한다 에서는 텔레콤 과 킹존 드래곤 그리고 국제 무대에 첫 출전하는 그리핀과 담원 게이밍이 나선다 한국과 구승을 다툴 에서는 지난해 롤드컵 우승팀 인빅터스 게이밍과 임프 구승빈 등 한국인 선수들이 활약하고 있는  게이밍을 비롯해 펀플러스 피닉스 탑 스포츠 등이 출전한다 한국은 지난 차례의 리프트 라이벌즈에서 중국에 밀려 모두 준우승에 그친데다 최근 국제대회에서 잇따라 팬들에게 실망을 안긴터라 국내에서 열리는 이번 대회에서 팬들에게 스포츠 종주국의 저력을 보여줘야 할 상황이다 일에는 개 지역이 스프링 시즌 순위대로 팀별 경기씩을 치르며 여기서 위를 차지한 팀은 결승으로 직행하고 위팀은 일 준결승전을 가진다 이어 일 결승전이 펼쳐진다  \n",
            "서울  박상기왼쪽 법무부장관이 일 오후 서울 동대문구 법무부 서울준법지원센터에서 열린 보호관찰제도 주년 기념행사에서 제회 범죄예방대상 수상자들에게 시상하고 있다   저작권\n",
            "넥슨대표 오웬 마호니이 스웨덴 스톡홀름 소재 게임개발사 엠바크스튜디오의 지분 를 한화 약 억원만달러을 들여 추가 취득했다 이번 지분 투자 확대로 넥슨은 엠바크의 지분 를 보유한 최대주주로 등극했다   넥슨은 엠바크는 넥슨의 자회사로 편입되며 서구권 시장에서 넥슨의 경쟁력을 더욱 강화하는 역할을 하게 된다며 지난 월 넥슨 신임 사내이사로 선임된 엠바크의 창업자 패트릭 쇠더룬드  역시 사내이사 역할을 지속한다고 설명했다 넥슨은 지난해 월 엠바크에 대한 전략적 투자를 단행해 지분 를 확보한바 있다 스웨덴 스톡홀름에 기반을 둔 게임 개발사 엠바크는 신기술을 바탕으로 쌍방향 게임 콘텐츠와 가상의 온라인 세계 구축 등 완전히 새로운 유형의 온라인 게임을 개발하기 위해 설립됐다 이 회사를 이끄는 패트릭 쇠더룬드 대표는 글로벌 게임업체 의 개발스튜디오 다이스의 로 활약했으며 에서 핵심 타이틀들을 총괄하며 월드와이드 스튜디오 수석 부사장 의 수석 디자이너로 근무했다 넥슨은 글로벌 를 탄생시킨 엠바크의 개발역량에 넥슨의 라이브게임 운영 노하우를 접목시킨 혁신적인 차세대 온라인게임을 선보이기 위한 협업을 긴밀히 해나갈 예정이다 넥슨 일본법인 오웬 마호니 대표는 엠바크는 짧은 시간 내 놀라운 성과를 내고 있으며 넥슨 이사회에 합류한 패트릭은 우리의 비전을 추진하는데 있어 필수적인 역할을 해오고 있다며 넥슨과 엠바크는 각각의 전문성 공유를 통해 온라인 게임 서비스 역량 극대화 및 서구권 시장 공략에 박차를 가할 것이라고 밝혔\n",
            "서울  일 오전 서울 여의도 글래드호텔에서 열린 한국해양교통안전공단 출범식에서 이연승 공단 이사장이 인사말을 하고 있다 해양교통안전을 위해 흩어진 기능을 하나로 묶어 체계적인 종합 관리를 위해 선박안전기술공단이 개편돼 탄생한 공단은 해양교통안전 전문방송 실시 해양교통환경 분석대책 수립 안전 교육홍보 등 더욱 확대된 해양교통안전 업무를 담당한다   저작권\n",
            " 무선  서비스  슈퍼 출시이어 실감미디어 시장 등 할것   속도경쟁으로 시작된 이통사의  전쟁이 가상현실 격전으로 옮겨붙고 있다 가 무선독립형 기기 슈퍼을 내놓으며 경쟁사인 유플러스가  기기로 공격의 포문을 연 것에 대한 반격을 시작했다  유일하게 독립형  단말 출시 일 는 무선 가상현실 서비스  슈퍼  출시를 알리며  대표 실감미디어 플랫폼 사업자로 성장하겠다는 포부를 밝혔다 눈에 띄는 점은 통신업계 최초로 독립형  단말기 슈퍼을 출시하고 요금제 서비스도 내놨다는 점이다 텔레콤과 가 제공하는 기기는 모두 스마트폰을 끼워 사용하는 모바일 연동형이고 어플리케이션을 기반으로 하는데 비해 는 스마트폰 없이 쓸 수 있는 단독형 기기를 내놓고 자체 플랫폼도 만들었다 김훈배 뉴미디어사업단장상무는 스마트폰을 기기에 끼워서 사용하는 방식은 전화가 오거나 문자 진동이 오면 방해가 될 뿐만 아니라 폰 발열도 심하고 배터리 수명도 짧아진다면서 독립형 단말로 소비자들이 더 편리하게 기기를 사용하도록 했다 렌즈도 업그레이드하고 도트현상도 없애 기기 성능을 높였다고 밝혔다 는 또 업계 최초로 월 원 정액에 만원 상당의 슈퍼기기를 사면 영상예능뮤직 와이드맥스 대화면 영화 프리미엄 교육 아프리카 등과 제휴과 게임넷마블 등과 제휴 올레모바일을 쓸수 있도록 했다 슈퍼에는 현재  초고화질 콘텐츠 여편이 장착돼 있다 게임은 현재 종 제공되는데 매월 종씩 신규 게임이 추가되고  영화관처럼 몰입감이 뛰어난 와이드맥스 상영관에서는 기존 편의 전용 콘텐츠에 매월 편의 최신영화를 업데이트한다 올레  모바일 앱을 탑재해 여개의 실시간 채널과 만여편의 도 함께 즐길 수 있도록 했다 단말 성능도 강화했다 슈퍼은 피코의  단말을 사용했다 기존  단말의 화소가 였다면 는 화소 수가 로 늘어 생생함을 더했다  초고화질 콘텐츠 여편을 선보이고 스포츠 슈팅 공포 리듬액션 등 다양한 장르의 게임 종을 제공한다 는 또  월정액 요금제인 슈퍼 패스월 원 부가세 포함도 내놨다  슈퍼 서비스를 이용하기 위해서는 단말이 필요한데 는 가격을  할인하고 슈퍼 패스 개월 이용권을 묶어 만원에 단말을 판매한다  플랫폼 사업 핵심콘텐츠 시장 주도할 것 는 슈퍼 출시와 함께 플랫폼 사업에도 방점을 찍었다 영화 게임 교육업체 백화점 공공기관 등과 제휴해 콘텐츠 통합플랫폼을 제공한다는 복안이다 콘텐츠를 만드는 업체들이 이 공간에 플랫폼을 출시하고 장기적으로는 콘텐츠 과금도 할 수 있도록 환경을 만들겠다는 것이다 박정호  뉴미디어사업단 사업담당 상무는 플랫폼은 준비돼 있지만 추가 유료 과금 서비스는 아직 준비 중이지 않다 당분간은 구독체제로 갈 것라며 시장 확산 보고 체험 무르익으면 구체적으로 할 계획이라고 말했다 현재 슈퍼 플랫폼에는 영화 기생충 기획사 바른손이용자가 엔딩을 바꾸는 멀티엔딩 네이버의 아이돌 생중계 플랫폼 브이라이브와 아프리카기기 연동넷마블게임한국관광공사국내 주요 관광지를 영상으로 제작 등과 제휴서비스를 만들었다 김훈배 상무는 가 영상 콘텐츠를 즐기는 트렌드를 변화시켰듯 는 다양한 파트너들과 함께 고객들에게 차원이 다른 실감미디어 서비스를 선보이겠다면서 플랫폼을 통해 시장을 주도하는 사업자가 될 것이라고 말했다  \n",
            "하반기 출시 유력참가자 전원에게 카카오톡 이모티콘 제공 넷마블이 그림퀴즈게임 쿵야 캐치마인드의 사전등록을 일 시작했다    넷마블은 특정 제시어를 보고 그린 그림을 다른 사용자들이 맞히는 모바일 그림퀴즈게임 쿵야 캐치마인드의 사전등록을 일 시작했다 출시 일정은 올 하반기가 유력하다 쿵야 캐치마인드는 지난 년 출시돼 총회원 수 만명을 넘긴 넷마블의 장수  온라인 게임 캐치마인드를 모바일로 재해석한 게임이다 이 게임은 위치기반 기술을 접목해 사용자 현재 위치를 중심으로 논 플레이어 캐릭터 쿵야나 다른 사용자들이 심어 놓은 그림퀴즈를 푸는 쿵야 퀴즈 주변 친구 퀴즈 등을 플레이 할 수 있다 불특정 다수 사용자에게 문제를 내는 모두의 퀴즈방 최대 명의 사용자가 동시에 퀴즈를 풀 수 있는 프리미엄 퀴즈방 등 사용자 성향에 맞는 다양한 실시간 멀티 모드도 마련됐다 아울러 다양한 추천 그림을 확인 공유하고 댓글을 달 수 있는 소셜 홈 등 소셜 콘텐츠도 추가된다 넷마블은 일부터 출시 전까지 진행하는 사전등록 이벤트 참가자 전원에게 모바일 메신저 카카오톡에서 사용할 수 있는 쿵야 이모티콘을 지급한다 또 자신의 사전등록 링크를 카카오톡 친구에게 공유하면 인원수에 따라 고급 아이템 및 캐릭터를 증정할 계획이다 이정호 넷마블 본부장은 년 출시 후 숱한 언어유희를 탄생시킨 그림퀴즈 본연의 재미에 다채로운 게임모드와 풍부한 소셜 콘텐츠들이 사용자들에게 색다른 재미를 선사할 수 있을 것으로 기대한다며 출시 전까지 진행하는 사전등록에 참여해 기한 쿵야 이모티콘과 게임 아이템을 받는 혜택을 꼭 누리시길 바란다고 말했다 \n",
            " 텔레콤은 일 강원도 춘천 강원지방경찰청 대회의실에서 강원경찰청과 보이스 피싱 근절을 위한 업무협약을 맺고 보이스 피싱 의심 정보 자동 검출 시스템을 운영한다 이 시스템은 빅데이터 기반 패턴 분석을 통해 보이스 피싱으로 의심되는 디바이스 정보를 자동으로 찾아내 강원경찰청에 제공한다 텔레콤과 강원경찰청은 시스템이 도입되는 이달부터 보이스 피싱 의심 디바이스 정보를 집중 모니터링 검출할 예정이다연합뉴스 김원준 강원지방경찰청장과 텔레콤 문갑인  본부장이 일 강원지방경찰청에서 보이스 피싱 근절을 위한 업무협약 체결 후 기념촬영을 하고 있다   채널\n",
            "서울박천규 환경부 차관이 일 서울 여의도 국회에서 열린 소비자 안전확보를 위한 프탈레이트 사용 제한방안 모색 토론회에 참석해 환경부 관련 정책과 대책 등을 소개하고 있다  환경부 제공  저작권\n",
            "창원 일 경남도청 도정회의실에서 김경수 도지사가 월간전략회의를 주재하면서 활짝 웃고 있다경남도 제공  저작권\n",
            "양차오빈 화웨이  프로덕트 라인 사장이   오픈랩 개소식에서 기념사를 하고 있다 오픈랩은  기반 서비스를 준비 중인 한국 중소기업과 신생벤처기업스타트업들이  기반 서비스나 기술을 테스트할 수 있는 환경을 제공한다 또  기술 교육 기술 및 서비스 혁신과 전시 프로모션 등 다양한 서비스도 함께 제공한다는 방침이다 한국화웨이 제공  네덜란드 정부는  장비 도입에 통신업체들이 보다 주의를 기울여야 한다고 밝혔지만 미국 등지에서 기피 대상이 된 중국 화웨이를 규제하지는 않았다고 로이터통신이 일 보도했다 네덜란드 법무장관은 이날 의회에 보낸 서한에서  장비의 안보 위협을 조사하기 위해 설립된 특별팀이 이같은 결론을 내렸다고 답했다 네덜란드 정보기관인 는 올해 중국과 러시아에 의한 스파이 가능성을 수차례 경고해왔으나 관련 핵심 자문위는 지난주 네덜란드가 화웨이를 배제하지 않는 독일 영국의 사례를 따라야 한다고 권고했었다 특별팀은 그동안 네덜란드의 대 통신업체인  모바일 보다폰 지고를 대상으로 위험 평가를 해왔다 이 결과 네덜란드 통신업체들은 장비 보급업체에 대해 상당히 높은 기준을 갖게 됐다고 법무부는 덧붙였\n",
            "대구권영진 대구시장     대구  권영진 대구시장은 최근 일부 언론에서 통합신공항이 정상적으로 추진되면 가덕도 신공항을 대구시장이 반대하지 않겠다고 했다는 취지의 기사를 보도한 것과 관련해 전혀 사실 무근임을 주장했다 권 시장은 일 오전 예정에 없이 실을 찾아 대구시장과 경북도지사가 상호 교환근무를 할 당시 가 이철우 지사는 대구에서 통합신공항을 먼저 해주면 가덕도 신공항을 수용할 수 있다고 했다는 뉘앙스의 질의가 있었다고 소개했다 이어 그때 저는 오거돈 부산시장이 전국시도지사협의회에서 자신들은 민간투자로라도 가덕도 신공항을 추진해야 한다고 말해 이 지사가 그렇다면 막을 수가 있겠느냐고 얘기한 것이 와전된 것 아닌가 생각한다고 답했다고 밝혔다 그러면서 김해신공항 재검증은 동남권 신공항 백지화와 가덕도 신공항 추진의 음모가 있는 것이라며 저는 수차례 개 시도지사 합의에 의해 정해진 국책사업을 바꾸는 것은 안 된다고 얘기했었다고 강조했다 그는 그런데도 는 제가 하지 않은 애기를 써 부산 가덕도 신공항을 수용하는 것처럼 기사화했다며 부울경이 이를 이용하고 민주당 인사가 간담회를 하면서 대구시장과 경북지사가 가덕도 공항에 빌미를 줬다고 비난하고 주민소환이 필요하다고 했다고 지적했다 권 대구시장은 특히 가덕도 신공항은 대구경북이 받을 수도 없고 영남권 신공항이 될 수도 없는 것이라며 대구경북의 동의없이 국책사업 바꾸는 것은 절대 불가능하고 부울경이 이를 추진하면 제 발등을 찍는 행위가 될 것이라고 경고했다 권 시장은 또 재선 임기 이후 선 도전 또는 대선 출마가능성을 묻는 질문에 대구시장 되는 순간 제 운명은 제 것이 아니고 대구시민의 것이라며 다음 선택지도 대구시민에 있으며 재선을 마칠 무렵 시민들이 선의 소명을 주실지 대선에 나가라는 명령을 주실지 그 명령에 따를 것이라고 말했다 그는 이어 안동 깡촌에서 태어나 서울시 정무부시장과 국회의원 대구시장 재선까지 했다면 벼슬자리는 할 만큼 했다고 생각한다며 벼슬자리는 더 이상 의미가 없다 어디로 갈까보다 어떻게 할 것인가에 충실해야겠다고 스스로에게 다짐했다고 강조했다 \n",
            "대구 동남권 통합신공항 대구시민추진단이하 추진단은 일 오후 세종정부청사 국토교통부를 방문해 김해신공항의 총리실 재검토에 대한 규탄과 함께 즉각 중단할 것을 요구했다 추진단의 이번 국토부 방문은 김현미 국토교통부장관과 부산울산경남 광역자치단체장들이 지난 일 김해 신공항의 적정성을 총리실에서 논의하기로 합의한데 대해 절대 묵과할 수 없다는 대구경북의 반발 차원에서 이뤄졌다 추진단은 국토부 관계자에게 대구경북의 의견을 전혀 고려하지 않고 일방적으로 이뤄진 김해신공항 재검토 발표의 전면 중단을 요구하며 대구경북 시도민의 분노하는 마음을 전했다 이에 대해 국토부는 김해신공항을 차질없이 추진하겠다는 국토부 입장에 변함이 없다면서 총리실 논의는 갈등조정 차원에서 이뤄진 것이란 입장을 내놓았다고 추진단은 밝혔다 결국 국토부가 이런 입장이라면 부산울산경남의 희망대로 김해신공항 확장안을 백지화 한 다음 가덕도 신공항을 추진하려 한다는 대구경북의 우려는 상당부분 희석될 전망이다 권영진 대구시장도 이날 들과 만나 가덕도 신공항은 대구경북이 받을 수도 없고 영남권 신공항이 될 수도 없는 것이라며 대구경북의 동의 없이 국책사업김해신공항을 바꾸는 것은 절대 불가능하고 부울경이 이를 추진하면 제 발등을 찍는 행위가 될 것이라고 경고했다 권 시장은 앞서 지난달 일 윤종진 경북도 행정부지사와 함께 국무총리실을 방문해 김해신공항 재검증에 대해 강한 유감의 뜻을 전하고 재검증 문제가 가져올 파장에 대한 우려와 대구경북 요구사항을 담은 건의문을 전달했다 그러면서 김해신공항 건설을 정치적 수단으로 악용하는 일부 지역의 재검증 주장을 절대 수용할 수 없다며 만약 재검증 결과가 김해신공항 입지가 변경되거나 무산되는 것으로 결론이 난다면 결코 용납하지 않겠다고 밝혔다 \n",
            "서울   일본정부가 반도체와 유기발광다이오드 소재의 한국 수출규제를 발표한 가운데 일 오후 수출상황 점검회의가 열린 서울 종로구 한국무역보험공사 대회의실로 성윤모 산업통상자원부장관이 굳은 얼굴로 들어오고 있다   저작권\n",
            "아프리카가 브로드밴드 에 스포츠 전문 채널  채널을 일 론칭했다 채널 번호는 번이다 의 주요 콘텐츠는 스포츠다 대표적인 스포츠 콘텐츠는 지난 월 일 개막한  챔피언스 코리아와 지난 월 일부터 케이블채널 단독으로 제공되고 있는 오버워치 리그다 또 아프리카 스타크래프트 리그 글로벌 스타크래프트 리그 펍지 코리아 리그 등 국내에서 인기가 높은 스포츠 리그와 함께 인기 게임 들이 참여하는 캐주얼 스포츠 리그  멸망전 등 다양한 스포츠 콘텐츠를 선보이고 있다 아프리카 들이 참여하는 문화 예능 콘텐츠도 즐길 수 있다 대표적인 콘텐츠로는 인디 뮤지션을 소개하는 아뮤소아프리카 뮤지션을 소개합니다 아프리카 대표 댄스 오디션 프로그램으로 자리매김한 댄서프로젝트 아프리카 들을 소개하는 아무일아프리카에 무슨 일이 다양한 들이 함께 참여하는 퀴즈쇼 프로그램 퀴즈컵  등이 있다 아프리카는 앞으로도 더욱 많은 유저가 를 즐길 수 있도록 케이블  위성 등 다양한 플랫폼에 채널을 론칭할 계획이다 생활경\n",
            "일본 정부가 한국에 대한 반도체디스플레이 소재 수출을 제한하겠다고 공식 발표했다 일본 경제산업성은 일 웹사이트 통해 일부터 불화폴리이미드 레지스트 불화수소의 한국 수출과 제조 기술 이전에 대해 포괄적 수출 허가제도 대상에서 제외하고 개별 수출 허가 신청으로 전환한다고 밝혔다 레지스트와 불화수소는 반도체 제조 공정에 쓰이는 소재다 불화폴리이미드는 유기발광다이오드 액정표시장치 등 디스플레이에 쓰인다 불화폴리이미드와 레지스트는 세계 전체 생산량의  불화수소는 약 를 일본이 점유한다 경제산업성은 이들 소재의 한국 수출 시 기존 허가 신청 면제 등의 우대 조치를 했지만 이제 수출 때마다 건건이 심사하겠다는 것이다 경제산업성은 이번 조치에 대해 양국 간 신뢰관계가 현저히 훼손됐기 때문이라고 설명했다 또 경제산업성은 한국을 이른바 화이트 국가에서 제외하기 위한 의견 모집 절차를 시작한다고 덧붙였다 화이트 국가는 안전보장상 우호국으로 인정돼 첨단 재료 수출과 관련 절차가 간소화된다 일본 정부가 화이트 국가로 지정한 나라는 미국과 영국 등 개국이고 우리나라는 년 지정됐다 우대 대상에서 제외되면 수출 계약별로 일가량 걸리는 일본 정부 당국 승인절차를 거쳐야 한다 일본에서 이들 소재를 공급받는 삼성전자 하이닉스 삼성디스플레이 등의 기업들이 영향을 받을 전망이다 이번 조치는 일제 강제징용 피해자에 대한 한국대법원의 첫 배상 판결이 나온 지 개월여 만에 나온 것으로 본격적인 경제보복에 나선 것이다 지난달 일 오사카에서 열린 주요 개국 정상회의에서 일본 정부가 주창했던 자유롭고 공정하며 무차별적인 무역원칙과 정면 배치되는 것이어서 국제사회 비판이 고조될 가능성이 있다 교도통신 등 일본 언론도 이번 조치로 일본 수출 기업들도 영향을 받을 우려가 있다며 한일 양국 관계가 한층 악화할 것이라고 전망했다 이에 따라 국내 반도체디스플레이 업계에 악영향이 우려된다 수출 제한 품목의 일본 공급 물량이 절대적이고 주요 공정에 핵심 소재로 쓰인다는 점에서 생산 차질이 심화할 수 있다 우리 정부도 긴급 대응 방안 마련에 나선다 산업통상자원부는 오후에 차관 주재로 반도체 업계와 긴급 간담회를 갖고 대책을 모색한다 윤건일 전자부품  \n",
            "김 대표는 다양한 신작 개발을 추진하며 그동안 개척하지 못했던 해외 시장 공략에도 공을 들이고 있다 기존에 선데이토즈는 해외 사업 경험이 전무하다시피 했지만 일본을 비롯한 아시아권 시장 등을 학습하며 지난해 분기부터는 분기 매출의  이상을 해외 시장에서 기록할 수 있게 체질을 바꿨다 글로벌 시장 공략에는 선데이토즈의 자회사 선데이토즈플레이와 링스게임즈도 특화된 인력과 서비스를 보강하며 힘을 보태고 있다 이는 무한 경쟁인 글로벌 게임 시장에서 경쟁력을 제고하기 위한 김 대표의 주문이기도 하다 선데이토즈플레이는 차기작을 준비하고 있고 최근 인수한 카지노 게임 전문 개발사인 링스게임즈 역시 분기부터 본격적인 해외 공략에 나설 예정이다 김 대표는 하반기 국내외 시장에 종의 모바일게임을 출시하며 국내의  탄탄한 서비스와 해외 시장 개척을 기반으로 한 성장을 이어갈 예정이라고 말했다  \n",
            " 행복의  인프라 에코 사업 팀원이 기증 받은 노후 를 분해클렌징 후 조립하고 있다\n",
            "행주산성 야경  맛집과 볼거리가 즐비한 행주산성이 본격적인 무더위를 맞아 밤에도 문을 연다 경기 고양시는 시민들이 여름철 무더위를 식히고 힐링할 수 있도록 월 중 매주 토요일 마다 행주산성 야간개장을 실시한다고 일 밝혔다 달 간 진행되는 토요일 야간개장 관람시간은 오후 시부터 시까지며 입장 마감시간은 오후 시고 관람료는 무료다 시 관계자는 이번 야간개장을 통해 시민들이 시원한 강바람을 맞으며 행주산성의 저녁노을과 방화대교의 경관조명이 조화를 이룬 야경을 즐기면서 더위를 잊고 지쳐있는 몸과 마음을 힐링하는 시간을 갖기를 바란다고 말했다 한편 이번 야간개장은 장맛비와 태풍 등 기상 악화 시 시민들의 안전을 고려해 취소 또는 축소운영 할 수 있어 우천 시에는 사전에 행주산성에 전화로 문의하고 기타 자세한 사항은 행주산성 홈페이지를 참조하면 된다 정재훈  네이버 홈에서  뉴스\n",
            "지난 월 독도는 일본 땅 교과서 이후 여일만 재차 초치 나가미네 야스마사 주한 일본대사가 일 취재진을 피해 지하 층 주차장을 이용 엘리베이터를 타고 외교부 청사로 올라가고 있다 외교부는 일 일본이 한국 대법원의 강제징용 피해자 배상판결에 대한 불만으로 경제 분야 보복에 나선 것과 관련해 나가미네 야스마사 주한 일본대사를 초치해 항의했다 조세영 외교부 차관은 오후 시 분쯤 서울 종로구 외교부 청사로 나가미네 대사를 불렀다 조 차관은 나가미네 대사에게 일본의 경제보복 조치에 대해 항의하고 유감을 표명한 것으로 알려졌다 일본 경제산업성은 이날 한국으로의 수출관리 규정을 개정해 스마트폰 및 에 사용되는 반도체 등 제조과정에 필요한 개 품목의 수출 규제를 강화한다고 발표했다 일본은 이 조치에 대해 양국 간 신뢰 관계가 현저히 훼손됐기 때문이라고 설명해 강제징용 갈등에 따른 보복임을 분명히 했다 나가미네 대사가 외교부 차관을 만난 대목도 이번 조치가 단순한 통상 문제가 아니라는 방증이라는 해석이 나온다 외교부 내 통상조직은 차관이 관할하고 있다 앞서 외교부는 지난 월 일본 문부과학성이 독도가 일본 영토라는 주장이 담긴 초등학교 교과서 검정 결과를 발표한 데 항의하며 나가미네 대사를 외교청사로 초치한 바 있다     \n",
            "서울  이개호 농림축산식품부 장관과 김병원 농협중앙회장을 비롯한 내빈들이 일 오전 서울 중구 농협중앙회에서 열린 농협 창립 주년 기념식에서 기념 퍼포먼스를 하고 있다   저작권\n",
            "서울  이개호 농림축산식품부 장관이 일 오전 서울 중구 농협중앙회에서 열린 농협 창립 주년 기념식에서 축사를 하고 있다   저작권\n",
            "거점소독시설 확대 개 시군 곳 운영   경기도는 아프리카돼지열병 발생 예방을 위해 거점소독시설을 개 시군 개소로 확대 운영한다고 일 밝혔다 도에 따르면 거점소독시설은 기존 소독시설로 세척소독이 어려운 분뇨나 가축운반차량의 소독을 위해 축산차량의 바퀴 측면에 부착된 유기물을 완전히 제거하는 소독을 할 수 있는 시설이다 도는 지난 월 일 북한 자강도에서 이 발생했다는 세계동물보건기구의 보고에 따라 북한 접경지역 및 인접지역 등에 개소의 거점소독시설을 운영하다 차단방역을 강화하는 차원에서 최근 화성시에 개소를 추가 운영하기 시작했다 이에 따라 일 기준 경기도 내에는 김포와 연천 양주 포천 동두천 고양 안성 화성에 각 개소와 파주에 개소가 설치돼 총 개 시군 개소의 거점소독시설이 운영 중이다 도 관계자는 아프리카돼지열병 발생방지를 위해 돼지 관련 축산차량은 반드시 인근의 거점소독시설을 경유해야 한다며 축산농가 자체에서도 주변소독과 외부인 출입통제 등 적극적인 차단방역을 요청한다고 말했다 정재훈  네이버 홈에서  뉴스\n",
            "개월째 마이너스미중 무역분쟁 장기화에 타격 반도체 석유화학  급감상반기 수출도  감소 한국 수출  미중 무역분쟁이 장기화하고 반도체 수출 부진이 계속되면서 한국 수출이 개월 연속 하락했다 산업통상자원부는 지난 월 수출이 지난해 같은 달보다  줄어든 억천만달러로 집계됐다고 일 밝혔다 년 월  감소 이후 년개월만의 최대 감소 폭이다 수출이 개월 연속 감소한 것은 년 월부터 년 월까지 개월 연속 마이너스를 기록한 이후 최장 기간이다 미중 무역분쟁 장기화로 세계교역이 위축된 영향이 컸다 또 반도체석유화학정유산업의 글로벌 업황부진으로 수출단가가 급락한 탓도 컸다 반도체 단가는  하락하고 석유화학 단가도  떨어졌다 특히 중국의 성장둔화 지속에 따라 대중 수출은  감소하면서 년 월 이후 최대 감소 폭을 보였다 품목별로는 반도체 석유화학 석유제품이 감소세를 이어갔지만 선박자동차는 수출이 증가했다 바이오헬스이차전지전기차 등 신수출동력 품목도 호조세가 지속됐다 대표적 수출 품목인 반도체의 경우 지난 월 에 이어 로 수출 급락이 계속됐다  채널\n",
            "서울  일 오전 서울 여의도 글래드호텔에서 열린 한국해양교통안전공단 출범식에서 문성혁 해수부 장관이 축사를 하고 있다 해양교통안전을 위해 흩어진 기능을 하나로 묶어 체계적인 종합 관리를 위해 선박안전기술공단이 개편돼 탄생한 공단은 해양교통안전 전문방송 실시 해양교통환경 분석 저작권\n",
            "롯데멤버스대표 강승하는 전국 여개 전기차 공공급속충전기에서 엘포인트 결제 서비스를 시작한다고 일 밝혔다 이번 서비스는 최근 환경부와 체결한 업무협약에 따른 조치다 환경부 간편결제 등록회원은 엘포인트로 전기 충전 요금을 지불할 수 있다 전기차 충전소 홈페이지 결제카드관리 페이지에서 엘포인트 등록 후 이용 가능하다 롯데멤버스는 오는 일까지 전기차 공공급속충전기 결제 서비스 오픈을 기념해 포인트백 이벤트를 실시한다 전기차 공공급속충전기에서 엘포인트로 결제하면 사용 포인트 최대 포인트를 돌려준다 강승하 롯데멤버스 대표는 엘포인트 고객에게 보다 폭넓은 사용환경을 제공하게 된 것은 물론 전기차 이용 활성화와 대기환경 개선에 힘을 보탤 수 있게 됐다면서 앞으로 만명 롯데멤버스 회원과 함께 사회적으로 가치 있는 일에 적극 동참할 것이라고 말했다 윤희석 유통  \n",
            "일 오전 서울 광화문 스퀘어에서 열린 국내 최초  무선 서비스  슈퍼  출시행사에서 모델들이  초고화질의  슈퍼  콘텐츠를 체험하고 있다  \n",
            "  이통사  드론사업     유플러스가 일본 위 이동통신사 와 스마트 드론 사업 확대를 위한 업무협약을 체결했다고 일 밝혔다 양사는 완전 무인화된 드론 관제 시스템 출시 속도를 높이고 드론 시장 연계 및 국제표준 활동에도 한목소리를 낼 계획이다 구체적으로 드론 자동 제어를 위한 애플리케이션 프로그래밍 인터페이스 공동 사용 드론 시스템 교통관리 체계와 항공 교통관리 체계 간 인터페이스 공용화 추진 안전 비행을 위한 드론 주변기기 공동 개발 등에서 협력할 방침이다   산업 사회적 가치 확산 협약  텔레콤과 산업은행이 제조업 르네상스 촉진 및 혁신벤처 육성을 통한 사회적 가치 공동 확산 업무협약을 체결했다고 일 밝혔다 이번 협약을 통해 산업은행은 텔레콤의 사내 유망 기술 사업화 프로그램 아이템 선정에 참여하고 투자 및 금융 지원 여부를 함께 심사한다 텔레콤이 산업은행 투자 기업에 사업 파트너로 참여해 기술을 지원하는 방안도 단계적으로 논의해 나갈 계획이\n",
            "김정은 하노이 상처 리더십 만회 트럼프 대선 길목 정치외교 성과   서울북한 노동신문은 김정은 국무위원장이 지난달 일 판문점에서 도널드 트럼프 미국 대통령과 회동했다고 일 보도했다  트럼프 대통령이 지난 년가량 김 위원장과 정상회담을 하며 가장 자주 언급한 말이 북한이 미국과 대화하는 동안 핵미사일 도발을 하지 않는다는 거다 북한은 하노이 회담이 결렬되자 곧바로 단거리 미사일을 발사하며 긴장감을 고조시켰다 조한범 통일연구원 선임연구위원은 트럼프 대통령은 이번 회담으로 북한 핵미사일 모라토리엄유예을 최소 올 연말까지 연장시켰다고 말했다 트럼프 대통령은 또 시진핑 주석의 대북 영향력을 줄이는 효과도 얻었다 조 선임연구위원은 최근 시진핑 중국 국가주석 방북으로 생긴 북중 밀착을 이번 북미 회담으로 벌려놓은 건 덤으로 얻은 성과라고 말했다      트럼프 차기 노벨상까지 염두에 뒀을 수도  고유환 교수와 최강 부원장은 두 사람의 손익계산서를 떠나 트럼프 대통령이 얻은 게 많다는 의견을 내놨다 고유환 교수는 김 위원장이 먼저 친서를 보냈지만 다급한 마음을 읽고 만남을 제안한 트럼프의 정치적 수가 한 수 위라고 평가했다 직관적으로 지금 김 위원장을 당기면 나올 것이란 판단을 했고 판문점을 회동 장소로 잡은 것도 차기 노벨평화상을 염두에 둔 포석일 수도 있다면서다  최강 부원장은 김 위원장은 리더십 회복 외에 내용 면에서 얻은 게 별로 없어 보인다고 한계를 지적했다 그는 김 위원장은 본인 주도의 연말 시한 스케줄을 끌고 가다가 실무협상이 재개되며 공을 다시 받은 격이 됐다며 트럼프 대통령은 회담 후 서두르지 않겠다 포괄적인 좋은 합의를 해야 한다고 치고 나갔다 김 위원장은 공세적 입장에서 수세적 입장이 됐다고 진단했다  반면 김성한 교수는 트럼프는 분을 할애해 김 위원장의 말을 경청했다며 향후 재선에 골몰할 트럼프의 상황을 역이용해 스몰딜이라도 이끌어낼 기회를 잡은 것이라고 김 위원장이 얻어간 게 많다고 평가했다   \n",
            "한중일러 연결 동북아 전력사업망 슈퍼그리드 논의 가능성도 손정의 회장 소프트뱅크 결산 이렇습니다 문재인 대통령이 일 청와대에서 손정의일본 이름 손 마사요시 일본 소프트뱅크 그룹 회장을 접견한다고 일 밝혔다 이번 접견은 이달 방한하는 손 회장 측의 요청으로 이뤄졌다 손 회장은 한국계 일본인으로 일본 최대  투자기업인 소프트뱅크의 창업자다 손 회장이 이끄는 소프트뱅크비전펀드는 차량공유 기업 우버의 최대 투자자이고 동남아시아 최대 차량공유 기업인 그랩 영국 반도체 기업  등 전 세계 혁신기업에 투자하고 있다 문 대통령은 손 회장의 이 같은 투자 경험을 바탕으로 혁신성장과 차 산업혁명에 대한 의견을 교환할 것으로 보인다 문 대통령은 지난 월에도 잭 도시 트위터 최고경영자를 청와대에서 만나 혁신창업 등을 주제로 이야기를 나눴다 이번 접견에서는 우리나라의 전력망을 중국 러시아 일본과 연결하는 동북아 슈퍼그리드 사업과 관련한 논의가 이뤄질 가능성도 있다 동북아 슈퍼그리드는 지난 년 손 회장이 제창한 이후 꾸준히 논의가 이어져 왔다 문 대통령은 년 월 러시아에서 열린 동방경제포럼에서 슈퍼그리드 구축을 위한 협의를 시작하자고 제안하기도 했다 문 대통령은 국회의원 시절인 년 월 일본을 방문해 손 회장을 만났을 때도 이와 관련한 의견을 나눈 바 있다 \n",
            "반도체 디스플레이 업계 관계자들이 일 오후 정승일 산업통상자원부 차관 주재로 긴급대책회의를 하기 위해 함께 정부서울청사 회의실로 이동하고 있다  \n",
            "진천   충북 진천군 덕산면이 일 읍진천군 제공  저작권\n",
            "이용자 대상 엔플이의 하루  부트캠프 등 이벤트 정보보호 어려움 겪는 스타트업중소기업 대상 교육 진행 분당 판교 네이버 사옥      네이버는 월 정보보호의 달을 맞아 이용자와 스타트업중소기업 정보보호 담당자를 위한 다양한 활동을 진행한다고 일 밝혔다 네이버는 이용자들이 일상 속 개인정보보호 방법에 대해 알아보고 참여할 수 있도록 엔플이의 하루 캠페인을 오는 일까지 진행한다 이용자들은 네이버의 정보보호 마스코트 엔플이의 일상을 담은 만화를 통해 생활 속 정보보호 활동을 배우게 된다 네이버 개인정보보호 공식블로그와 페이스북 페이지를 통해 누구나 참여할 수 있으며 캠페인 종료 후 추첨을 통해 총 명에게 라인프렌즈  핸디 선풍기를 경품으로 증정한다 오는 일에는 대학생을 대상으로 네이버  부트캠프 행사를 개최한다 네이버는 년부터 이용자로부터 개인 사생활 보호 관련 개선점을 제보받고 서비스에 반영하는  제도를 운영해 왔다  부트캠프에서는 제도를 바탕으로 정보보호에 관심이 있는 대학생들의 보안 아이디어를 발굴하고 시상할 계획이다 최우수상 팀에게는 만원 우수상 팀에게는 만원 장려상 팀에게는 각각 만원을 상금으로 지급한다 네이버는 정보보호에 어려움을 겪는 스타트업과 중소기업의 정보보호 담당자를 위해 매년 교육과 업무 관련 설명회를 개최하고 있다 특히 올해는 지난 월부터 네이버의 정보보호 분야 노하우를 공유하는 네이버 프라이버시 아카데미를 격월로 진행하고 있다 오는 일 열릴 세번째 프라이버시 아카데미에서는 서비스 기획자가 알아야 할 개인정보 보호 의무를 주제로 이재림 네이버 개인정보보호 리더가 강연을 한다 네이버는 네이버 서비스의 이용자 정보를 함께 처리하는 수탁업체들을 대상으로도 매년 정보보호 교육을 제공하고 보호 현황을 점검하고 있다 오는 일에는 수탁 업체 여 곳의 개인정보보호 책임자 및 담당자를 스타트업팩토리로 초청해 최신 판례로 알아본 개인정보보호라는 주제로 교육을 진행할 예정이다 이진규 네이버 프라이버시시큐리티 리더는 내부 임직원을 대상으로 항상 개인정보 보호의 중요성을 강조하고 이용자와 현직자 등을 대상으로 한 다양한 활동을 매년 진행해 왔다며 앞으로도 사회 전반에 개인정보 보호의 중요성에 대한 인식이 확산될 수 있도록 다양한 활동을 펼칠 것이라고 말했다 \n",
            "서울  박천규 환경부 차관이 일 서울 강남구 인터컨티넨탈호텔에서 개최된 제차 환경부지속가능발전기업협의회 환경부 제공  저작권\n",
            "최악의 경우 규제 장기화로 생산라인 멈출수도 픽사베이 반도체 업계 한 관계자는 우선은 한 달 동안 유예 기간이 존재하는 만큼 최대한 재고를 확보하는데 집중한다는 계획이라면서도 최악의 경우에는 장기적인 수급 문제로 치명적인 위기를 맞을 수도 있어 여러 대체재를 발굴하는 등의 대안 모색에도 나설 방침이라고 말했다 전문가들은 일본 정부의 이번 수출규제 제한 조치에 대해 장기적인 마찰은 없을 것으로 전망했다 반도체디스플레이 핵심 소재에 대한 수출규제는 한국 기업 외에도 일본 미국 등 다른 나라 국가까지 피해를 입힐 수 있어 세계무역기구에서 다툴 분쟁의 소지가 크다는 게 이유다 김양팽 산업연구원 연구원은 우리나라 정부는 한일 관계가 악화됨에 따라 일본의 수출규제에 대비한 대책마련 활동을 해왔고 핵심 소재 수출규제에 대한 현실가능성이 높지 않다고 봤다며 이는 불산이 일본의 전략물자로 분류돼 에 제소될 수 있는 여지가 충분하기 때문이라고 설명했다 즉 불산은 일본 정부가 해외 수출에 있어 사전 승인을 거치도록 하는 전략물자인 만큼 전면적인 수출규제는 불공정행위에 해당한다는 것이다 송명섭 연구원 역시 핵심 소재에 대한 수출규제는 한국과 일본의 문제만이 아니라 미국과 일본의 세트업체들에게도 영향을 줄 수 있어 현실가능성이 낮아 보인다며 예컨대 일본의 스텔라고순도 반도체용 불산 소재 업체의 경우  한국에 소재를 공급하는 상황에서 수출규제 조치로 위기를 맞을 수 있다 결국 일본의 사기업도 위기를 겪을 수 있다는 측면에서 국내 기업들이 보유한 재고가 소진되기 전에는 협상이 이뤄질 수 있다고 판단한다고 전망했다 \n",
            "와 유플러스 등 제안    국제회의서 예비승인   지난달 일부터 일까지 스위스 제네바에서 열린 국제전기통신연합 전기통신표준화부문 스터디그룹\n",
            "신한생명 전보 본부장 직무대행 추진본부장 직무대행 조형엽 디지털본부장 직무대행 겸 금융개발팀장 김주홍 부서장 기획팀장 이영재 사업팀장 김도한 제휴사업팀장 김병호 제휴마케팅팀장 조동현 추진팀장 임현진 경영기획팀장 이성원 지점장 중계지점장 이문엽 강남지점장 김명환 중부지점장 이영재 인천지점장 이수형 수원지점장 박세근 광명지점장 이길상 안산지점장 조태현 춘천지점장 이진호 강릉지점장 양재훈 보령지점장 이태훈 대구지점장 윤상경 안동지점장 박새미로 리더스지점장 최용길 서울지점장 최진억 신일산지점장 김희윤 충주지점장 임해정 신대구지점장 노혜원 센터장 인사팀 직원행복센터장 송종민 김포센터장 곽희정 파트장 기획팀 상품기획파트장 김종태 마케팅팀 상품마케팅교육파트장 최영호 영업지원팀 육성파트장 최요한 제휴사업팀 운영파트장 이후경 계리팀 최적가정운영파트장 신경식  \n",
            "김지수 경남도의회 의장연합뉴\n",
            "신한캐피탈신한금융투자디캠프 참여 프리랜서와 비정규직을 위한 소셜 구인구직 플랫폼 어라운드어스가 억천만원의 시드 투자를 유치했다고 일 밝혔다 어라운드어스는 지난 달 일 신한캐피탈 신한금융투자 그리고 은행권청년창업재단디캠프과 시드 투자계약을 마무리했다 어라운드어스는 공개 온라인 프로필을 기반으로 미디어 엔터테인먼트 분야에 종사하는 프리랜서와 비정규직 그리고 진출 희망자들에게 최적화 된 구인구직 서비스다 구인구직 및 오디션 지원자 모집 그리고 사용자 간 친구맺기가 가능한 소셜 온라인 채용 및 온라인 오디션 플랫폼이다 지난 월초 한글 서비스를 출시해 지난달 사용자가 만천명을 돌파했다 김성진 어라운드어스 대표 년 월 설립된 어라운드어스는 오랜 준비 기간 끝에 최근 미디어 엔터 업계에서 좋은 반응을 이끌어내고 있다 지난 월  엔터테인먼트의 신인배우 오디션 단독 접수를 시작으로 화이브라더스 코리아 큐로홀딩스 엔터테인먼트 타조엔터테인먼트 등이 어라운드어스를 이용했다 지난 월에는 마케팅 노력의 일환으로 티캐스트와 유튜브 웹예능 권혁수사대 누구냐넌을 공동 기획 제작하고 출연자 모집을 하기도 했다 디캠프 입주사인 어라운드어스는 이달 중순 년간 엑셀러레이팅을 받은 디캠프를 졸업하고 위워크의 엑셀러레이팅 프로그램인 위워크 랩스에 합류한다 디캠프 김홍일 센터장은 어라운드어스는 작년 월 디캠프의 디데이에 출전했을 때에 비해 팀워크가 탄탄해지고 많은 변화와 성장을 이뤄낸 팀이라며 무엇보다 기존의 틀 밖에서 사고하고 서비스를 고도화해 나아가는 점과 기술력 서비스의 확장 가능성 측면에서 향후 파괴적 혁신을 이뤄낼 수 있을만한 국내 스타트업 중 하나라고 생각된다고 밝혔다 어라운드어스는 기존 전자문서 기반의 지원서 접수 방식의 비효율성으로 인해 허비되는 시간과 비용을 획기적으로 절감해 주는 기능들을 포함하고 있다 멀티미디어 기반의 보유재능 등록 프로젝트 및 고용소속 경력 등록 및 상호 인증 지원자 온라인 평가 등 다양한 기능을 융합해 신뢰 기반의 소셜 구인구직 활동이 가능한 플랫폼을 구현해냈다는 평이다 어라운드어스는 경력 인증과 인물 검색 순위등급 산출 방법에 대한 특허를 보유하고 있으며 신규 특허들을 계속 출원 중이다 기존에 없던 독창적인 서비스로 평가받는 어라운드어스는 금주 출시 예정인 공개투표 기능을 시작으로 개발 및 기획 중인 다양한 신규 기능들과 마케팅 캠페인들을 하반기에 출시할 예정이다 신한캐피탈 벤처투자부 이동환 부장은 어라운드어스는 현재까지 구현해낸 서비스도 독창적이고 기존 서비스들과 명확히 차별화 된 서비스이지만 앞으로의 성장 가능성이 더욱 기대되는 스타트업이라며 향후 국내 및 해외에서의 활약이 기대된다는 투자 이유를 밝혔다 김성진 어라운드어스 대표는 오랜기간 준비해온 만큼 탄탄한 서비스와 팀을 구축했다면서 지난 년간 어라운드어스의 성장을 지켜봐온 디캠프로부터 투자를 받았다는데 큰 의미가 있다고 밝혔다 이어 이뤄낸 것 보다 앞으로 해야할 일이 더욱 많다며 그간 인력과 자본 제약 그리고 투자유치 업무 등으로 미뤄온 사업들과 기능 개발들을 보다 빠르게 구현해 낼 예정이라고 덧붙였다 어라운드어스는 서비스 성장에 속도를 내기 위해 개발팀과 사업 마케팅 인력을 충원하는 중이다 \n",
            "원주시에 물공급홍수예방 목적 강원 원주시의 안정적 물 공급과 홍수 예방을 위한 원주천댐 건설이 일 기공식을 갖고 본격적으로 시작된다 원주시가 판부면 신촌리 일대에 억 원을 들여 추진하는 원주천댐은 높이  길이  저수용량 만  규모의 콘크리트 중력식 댐이다 댐 건설은 한국수자원공사에 위탁해 년 완공을 목표로 하고 있다 원주천댐은 홍수 조절 기능을 통해 집중호우 시 수해를 예방하고 갈수기에는 담수한 물을 원주천으로 보내 안정적인 물 공급이 가능해진다 이와 함께 원주시는 댐 주변을 친환경 관광단지로 조성해 시민과 관광객을 위한 공간으로 활용할 계획이다 신촌리 일대 만여 에 들어설 관광단지에는 국비와 지방비 등 억 원이 투입된다 산림 레포츠를 즐길 수 있는 루지와 숲 체험장 물놀이장 상상공작소 등이 들어설 예정이다 내년 설계용역 및 토지보상 년 인허가 과정을 거친 뒤 공사에 들어가 년 완공할 계획이다 댐 상류인 백운산 여 에는 치유센터와 명상원 놀이터 작은 도서관 등을 갖춘 대규모 치유 숲이 조성된다 또 원주천댐과 인접한 중앙선 폐선 부지에는  체험 터널과 관광 테마 레일버스 피크닉장을 만들 계획이다 원주시 관계자는 원주천댐은 댐 본연의 기능과 함께 주변에 조성되는 관광단지와 더불어 시민과 관광객이 많이 찾는 지역의 명소가 될 것으로 기대한다고 밝혔다 기공식은 일 오후 시 댐 사업 부지에서 열린다  \n",
            "서울박천규 환경부 차관이 일 서울 여의도 국회에서 열린 소비자 안전확보를 위한 프탈레이트 사용 제한방안 모색 토론회에 참석해 환경부 관련 정책과 대책 등을 소개하고 있다  환경부 제공  저작권\n",
            "행복  인프라 에코 사업팀원들이 파이팅을 외치고 있다 주 제공 행복이사장 유항제는 발달 장애인이 자기 주도적 미래 설계와 자립을 돕는 신성장 사업으로  인프라 에코 사업을 집중 육성한다 행복는 고용노동부가 인증하고 한국 장애인고용공단이 장애인 표준 사업장으로 지정한 사회적 기업이다 년 행복나눔재단주 텔레콤이 함께 설립한 재단법인이다 시스템 개발과 운영정보통신기술 솔루션 개발 사업을 영위하며 지난해 말 기준 억원 매출을 기록한다 전체 직원 명 중 인 명 장애인을 고용한다 리사이클링 사업 발굴로 지체장애인 중심이었던 장애인 고용의 범위를 발달장애인으로 확대한다 행복는 지난해 말 발달장애인과 함께 자사  사업 기반 지속 성장이 가능한 신규 사업으로  인프라 에코 사업을 선정했다  인프라 에코 사업은 기업으로부터 기증 받은 노후 노트북데스크톱 등  기기를 재사용활용이 가능하도록 리사이클링 과정을 거쳐 재판매하는 사업이다 하이닉스 텔레콤 이노베이션 주    인포섹 등 관계사에서 노후  기기를 기증한다 월  인프라 에코 사업팀 신설 후 발달장애인 명을 선발해 개월간 교육을 거쳐 월 직원으로 채용했다 최민우씨세 심창용씨세 김현진씨세는 업무에 투입된 지 개월 만에 노트북데스크톱 등에 대한 검수와 분류는 물론 부품 탈거 외장 클렌징 부품 분해조립 등 전문 업무를 해내 주위를 놀라게 했다 행복는 이들 인방 활약 속에서 올해 억원 인프라 에코 사업 매출을 기대한다 내년에는 발달장애인을 추가 채용할 계획이다 김준범 행복 대표는  인프라 에코 사업에서 작은 배려와 관심만 있다면 발달장애인이  전문가로 충분히 성장할 가능성을 봤다면서 앞으로도 양질 장애인 일자리 제공을 위해 새로운  사업 발굴을 강화하고 장애인 직원이 성취감을 느끼며 회사와 함께 성장하도록 노력하겠다고 말했다 김지선   \n",
            "옛 창원마산진해  비율로 인사에 어려움지역균형 인사는 고려 창원시청 전경 경남 창원시가 월 정기인사 때부터 년 가까이 적용해온 옛 창원마산진해 지역 안배 원칙을 완전히 없앤다 창원시는 지난달 말 공개한 월 정기인사 사전예고에서 급에서 급 승진 인사를 할 때 지역 안배 원칙을 폐지한다는 방침을 밝혔다 지역 안배란 급 이상 승진에서 옛 창원시마산시진해시 출신 공무원을  비율로 임명한다는 것이다 년 창원마산진해시가 합쳐 통합 창원시가 출범할 때 출신 지역에 따라 인사 불이익을 받지 않도록 하는 제도다 지난해까지 년간 명의 전임 시장이 인사를 했지만 원칙 큰 틀은 깨지 않았다 그러나 지난해 취임한 허성무 시장은 지역 안배에 묶이다 보니 인사 큰 틀을 짜는 데 어려움이 있고 통합 후 년 가까이 흘러 지역 안배 원칙을 완화한다는 방침을 밝혔다 허 시장 방침에 따라 창원시는 지난해 월 올해 월 정기인사 때 급급 승진은 순차적으로 지역 안배 원칙을 폐지했다 이번 월 인사에서는 급 승진 인사 때 지역 안배 원칙을 폐지한다 창원시는 그러나 지역균형 인사는 고려하고 여성소수 직렬을 배려하는 원칙은 그대로 지킨다고 강조했다 창원시는 이번 주 인사위원회를 여는 등 중순까지 월 정기인사를 마무리할 예정이다 \n",
            "서울   자유한국당 나경원 원내대표가 일 오전 서울 여의도 국회를 예방한 박영선 중소벤처기업부 장관을 만나 이야기를 나누고 있다   저작권\n",
            "기증받은 노후  기기 리사이클링한 후 재판매 행복 양질 장애인 일자리 창출 위해 노력 계획 서울행복의  인프라 에코 사업팀원들 모습  행복가 발달 장애인들의 미래 설계와 자립을 돕는 신성장 사업으로 인프라 에코 사업을 집중 육성한다고 일 밝혔다 행복는 년 행복나눔재단   텔레콤이 함께 설립한 재단법인으로 시스템 개발과 운영 솔루션 개발 사업을 맡고 있다고용노동부가 인증하고 한국 장애인고용공단이 장애인 표준 사업장으로 지정한 사회적 기업이다 직원 명 중 인 명의 장애인을 고용하고 있으며 리사이클링 사업 발굴을 통해 지체장애인 중심이었던 장애인 고용의 범위를 발달장애인으로 확대하고 있다 지난해 억원의 매출을 가록했다 행복는 지난해 말 발달장애인과  사업 기반의 지속 성장이 가능한 신규 사업으로  인프라 에코 사업을 선정했다  인프라 에코 사업은 기증 받은 노후 노트북데스크톱 등  기기를 재사용활용이 가능하도록 리사이클링 과정을 거쳐 재판매하는 사업이다 하이닉스텔레콤이노베이션  인포섹 등 관계사에서 노후  기기를 기증하고 있다 올 월  인프라 에코 사업팀 신설 후 발달장애인 명을 선발해 개월간 교육을 거쳐 월에 직원으로 채용했다 최민우씨 심창용씨 김현진씨는 업무에 투입된 지 개월 만에 노트북데스크톱 등에 대한 검수와 분류는 물론 부품 탈거 외장 클렌징 부품 분해조립 등의 전문 업무를 해냈다 이들은 경기도 포천에 위치한 사회적 기업 리맨이 제공한 전문 작업 공간에서 근무 중이다  인프라 에코 사업팀 현장 관리자 이옥선 매니저 지체장애는 인방의 출퇴근을 돕고 업무를 지원해 왔다 행복는 이들 인방의 활약 속에서 올해 억원의 인프라 에코 사업 매출을 기대하고 있다 내년에는 발달장애인들을 추가 채용할 계획이다 행복 김준범 대표는  인프라 에코 사업에서 작은 배려와 관심만 있다면 발달장애인들이  전문가로 충분히 성장할 수 있다는 가능성을 봤다며 앞으로 양질의 장애인 일자리 제공을 위해 새로운  사업 발굴을 강화하고 장애인 직원들이 일을 통해 성취감을 느끼며 회사와 함께 성장할 수 있도록 노력하겠다고 말했다 \n",
            "디스플레이가  라인란드로부터 대형  패널에 대해 아이 컴포트 디스플레이디스플레이 디스플레이대표 한상범 부회장는  라인란드로부터 대형 유기발광다이오드 패널에 대해 눈이 편안한 디스플레이인 아이 컴포트 디스플레이 인증을 획득했다고 일 밝혔다 이번 인증은 디스플레이 화면의 블루라이트 방출량 빛 반사도 화질 등 세가지 항목을 테스트한 결과로 이뤄졌다 디스플레이 대형 는 눈 피로도 증가나 수면 장애를 유발한다고 알려진 블루라이트 부분에서 인치 기준 방출량으로 기준치인 를 하회했다 현재 판매되는 동일 인치 최고사양의 액정표시장치  블루라이트 방출량이  정도임을 감안하면 약 절반에 해당하는 수치다  시청 시 눈부심을 유발하는 외부 조명의 빛 반사도는 로 기준치 를 넘지 않았다 이 역시 인  대비 약 절반 정도에 불과하다 화질은 넓은 색 영역과 하이다이내믹레인지 등 모든 분야에서 기준치를 충족했다 디스플레이는 이번 인증으로   가치가 한층 높아져 더 많은 소비자 선택을 받을 수 있을 것으로 기대했다 아이 컴포트 디스플레이 인증마크를   고객사와 유통 업체에서 활용할 수 있도록 할 방침이다 오창호 디스플레이 사업부장 부사장은 이번 인증 획득은 디스플레이의   패널이 시청자 눈 건강에 합리적 디스플레이임을 국제적으로 인정받았다는 의미라며 앞으로 소비자가 안심하고  를 선택할 것으로 기대한다고 말했다 디스플레이는 현재 파주 사업장에서   인치   패널 등 다양한 초고해상도  패널을 생산하고 있다 올 하반기에 월 만장유리원판 투입 기준 규모 세대 광저우  공장을 완공하면 현재 월 만장 규모 생산량을 월 만장까지 끌어올릴 수 있다 배옥진 디스플레이  \n",
            "인사청문회 도입정책 발굴 등 성과행정감사 무산은 회견하는 유병국 충남도의장 유병국 충남도의회 의장은 일 지난 년 동안 역대 어느 의회보다도 견제와 감시 역할을 충실히 해 왔다고 자평했다 유 의장은 이날 대 의회 개원 주년을 기념해 도의회 브리핑룸에서 회견에서 만 도민의 대변자로서 도정 발전을 위해 노력해왔다며 이같이 말했다 유 의장은 대 의회 들어 처음으로 공공기관장 인사청문회 제도를 도입했고 정책을 직접 발굴해 집행부에 제시하기도 했다며 예산 삭감액은 역대 어떤 의회보다도 많았다고 밝혔다 대 의회는 지난 년간 차례 임시회를 열어 개 안건을 심의의결했으며 개 조례를 제개정했다 지난해 행정사무감사를 통해 도민 생활과 밀접한 건의 문제를 지적해 재정 건전성 확보와 행정 낭비 제거에 기여했다고 설명했다 정책 지원 전문인력 확충 예산분석팀과 예산조사팀 신설 계룡세계군문화엑스포특별위원회 등 개 도정 현안에 대한 특위 구성 등을 성과로 내세웠다 아쉬운 점으로는 시군 반발에 부딪혀 행정사무감사가 무산된 점을 꼽았다 유 의장은 기초자치단체에 위임한 도의 사무는 원칙적으로 행정사무감사가 필요하다는 입장에 변함이 없다며 앞으로도 혁신도시법 개정 등 정책 실현을 위해 집행부와 함께 노력하겠다고 약속했다 \n",
            "사진라인 주식회사 라인 주식회사가 웹툰플랫폼 라인망가를 통해 전세계 최초로 미소녀 전사 세일러문 완전판 연재를 시작한다 일 라인망가에 따르면 타케우치 나오코 작가의 미소녀 전사 세일러문 완전판을 이날부터 전세계 개 언어로 제공한다 년부터 고단샤 잡지 나카 요시에서 연재를 한 이 작품은  애니메이션과 극장판 영화 등으로 제작돼 큰 인기를 끌었다 국내에서도 년대 달의 요정 세일러문으로 방영되는 등 탄탄한 마니아층을 보유한 작품이다 이번 연재분은 출판만화 권으로 구성된 분량으로 스마트폰 태블릿 등 라인망가 애플리케이션앱에서 감상할 수 있다 라인망가는 연재를 기념해 화까지의 분량을 한꺼번에 공개했다 한편 라인망가는 현재 여개 출판사와 파트너십을 통해 만점 이상의 작품을 제공하고 있다 지난 월일 기준 일본에서 만 다운로드를 돌파해 현지 웹툰 플랫폼 위를 기록했다  \n",
            "피코  올인원 단말 사용 콘텐츠 여편게임 종 실감미디어 위 사업자 오를것 일 서울 광화문 스퀘어에서 열린  슈퍼  출시행사에서 김훈배  뉴미디어사업단 상무가 실감 미디어 사업전략을 발표하고 있다  연합뉴스   슈퍼 출시 간담회 실감형 미디어가 차세대 미디어로 부상하면서 통신 인프라 기반 플랫폼 사업자의 역할이 확대될 전망이다 영상 미디어 세대가 방송사와 제작사가 주도하는 방송전파기반 콘텐츠 시대였다면 현재는 유료방송과 온라인동영상서비스가 중심이 된 세대 미디어 시장인 콘텐츠 유통 시대에 접어들었다 세대는 연동의 시대로  이동통신 사용자와 콘텐츠가 실시간으로 연결되는 콘텐츠 연동 플랫폼으로의 진화가 생활 곳곳에 펼쳐질 전망이다 가 영상 미디어 시장의 진화에 맞춰 국내 대표 실감미디어 플랫폼 사업자로 자리매김 한다 는 일 서울 종로구 광화문 간담회를 갖고  초고화질 개인형 실감미디어 서비스 슈퍼 을 출시했다 이와 함께 는   시대 실감형 미디어 사업 전략도 공개했다 김훈배  뉴미디어사업단장 상무는 글로벌 실감미디어 시장은 지난해 조억원에서 년 조억원으로 약 배 성장할 것으로 전망되지만 국내 실감미디어 시장은 지난해 억원을 기록했고 년에는 조억원 으로 약 배 성장할 것으로 보인다면서 글로벌 시장은 큰 폭의 성장 추세가 지속되지만 국내 시장은 한계를 보유하고 있는 만큼 는 국내 실감미디어 생태계를 조성하겠다고 강조했다 슈퍼은 가 지난해 선보였던 기가라이브의 단말 사양을 업그레이드 하고 콘텐츠 라인업을 강화한 서비스다 새롭게 출시한 슈퍼은 피코의  단말기를 사용했으며 기존 기가라이브 대비 고성능  올인원 단말을 사용해 고객들에 보다 현실감 높은  콘텐츠 경험을 제공한다 기존  단말의 화소가   였다면 는 화소 수가 로 늘어 생생함을 더했다 아울러 렌즈를 개선해 눈부심 현상을 줄였으며 안경 착용자를 위해 글라스 서포터를 추가한 점이 강점이라고 는 설명했다 는 슈퍼의 보급 확산을 위해  월정액 요금제인 슈퍼 패스월 원 부가세 포함를 내놨다  슈퍼 서비스를 이용하기 위해서는 단말이 필요한데 는 가격을  할인하고 슈퍼 패스 개월 이용권을 묶어 만원에 단말기를 판매한다 슈퍼 은 만여편의 실감형 콘텐츠를 제공하고 있으며  초고화질 콘텐츠 여편을 선보이고 스포츠 슈팅 공포 리듬액션 등 다양한 장르의 게임 종을 제공한다 여기에 더해 매월 종씩 신규 게임을 추가할 계획이다 아이맥스 영화관처럼 몰입감이 뛰어난 와이드맥스 상영관에서는 기존 편의 전용 콘텐츠에 매월 편의 최신영화를 업데이트한다 올레  모바일 앱을 탑재해 여개의 실시간 채널과 만여편의 도 함께 즐길 수 있다 아울러 는 국내 소비자들이 필요로 하는 콘텐츠 발굴과 유통을 위해 오픈형 실감미디어 생태계를 조성 확대하겠다는 목표다  이를 위해  자체  플랫폼 구축 온오프라인 사업자 대상의   플랫폼 오픈 전략적 제휴를 기반으로 국내에 특화된  콘텐츠 확보 국내외 신규  단말의 국내 유통 추진 등을 단계적으로 추진한다 김 상무는 는 슈퍼을 출시하며 에 이어 실감미디어 시장에서도 등 사업자가 되기 위한 도전을 시작했다며 가 영상 콘텐츠를 즐기는 트렌드를 변화시켰듯 는 다양한 파트너들과 함께 고객들에게 차원이 다른 실감미디어 서비스를 선보이겠다고 말했다 는 내년에  통신모듈이 탑재된 실감미디어 서비스 단말도 출시한다는 계획이다    기획   풀뿌리상권 살려내자 네이버 채널에서 를 구독해주세\n",
            "관방부 장관  규정 준수자유무역 침해 아냐  또 이번 규제 강화가 한국 대법원이 일본 기업에 대해 내린 강제징용 피해자 배상 판결과도 무관하다고 주장했다 이날 니시무라 관방부장관은 과거 한국과 관련된 수출 관리에서 부적절한 사안이 발생하였으며 이를 개선하기 위해 제도를 보다 엄격히 시행하는 것이라며 규제 조치는  규정에 따르고 있으며 자유무역에 역행하지 않는다고 밝혔다 그러나 니시무라 관방부장관은 물론 경제산업성은 현재까지 부적절한 사안에 대해 구체적인 설명을 내놓지 못하고 있다 \n",
            "코리아대표 이성열는 슈피겐코리아대표 김대영에 차세대 전사자원관리 솔루션  를 공급했다 슈피겐코리아는 모바일 기기 액세서리 전문기업이다   도입으로 비즈니스 프로세스를 혁신하고 데이터 기반 결정으로 효율성과 민첩성을 제고했다 해외 법인과 시스템 통합을 간소화했다 실시간 정보 제공으로 신속한 의사 결정도 가능해졌다  사파이어나우  행사장 전경   다양한 채널에서 주문과 물류를 통합 관리하는 시스템 체계와 실시간 재고를 관리하는 시스템도 구축했다 슈피겐코리아는 시장 변동에 능동적으로 대응하고 전사 통합 관리로 효율성을 높여 비즈니스 성장을 도모한다 모바일 기기 시장은 가장 빠르게 변화하고 항상 신제품이 출시된다  는 통합 자원 운용 계획과 실행 단계를 연결해 능동적 대응을 지원한다 슈피겐코리아는 실물 재고와 시스템 재고 일치 등과 같은 정보 일관성에 기반해 마감 시간을 단축했다 김주식 슈피겐코리아 최고정보책임자은  를 도입으로 비즈니스 프로세스 혁신을 이뤄 고객에게 보다 큰 만족을 주는 기업으로 한 단계 더 도약할 수 있는 계기가 됐다고 설명했다 이성열 코리아 대표는 로 슈피겐코리아 비즈니스 프로세스 효율성 강화와 실시간 정보 체계 구축을 지원한다며 는 국내 다양한 기업이 성공적으로 디지털 변혁을 달성하도록 지속 적극 지원할 것이라고 말했다  \n",
            "삼성 전영현 사장이 직원들과 함께 창립 주년 기념 케이크를 자르고 있다 미래 시장 선점을 위한 기술 전쟁이 치열하게 전개되는 상황에서 혁신적인 문화가 자리잡아야만 지속적인 성장을 할 수 있습니다 디스플레이에서 에너지소재 기업으로 변신을 거듭해온 우리의 혁신 를 바탕으로 더 큰 성장을 위한 혁신을 담대하게 준비합시다 전영현 삼성 사장은 일 기흥사업장에서 임직원 여명이 참석한 가운데 열린 창립 주년 기념식에서 기념사를 통해 이같이 강조했다 삼성는 이날 창립 주년을 맞았다 년 전자부품 산업 국산화 기치를 내걸고 출범한 이후 약 반백년 동안 삼성는 혁신의 역사를 썼다 당시 최첨단 산업인 브라운관으로 세계 시장을 제패하고 이후 플라즈마디스플레이패널 액정표시장치 유기발광다이오드 등 기술 혁신으로 디스플레이 산업 역사를 새로 썼다 이후 지난 년 새로 출범한 삼성디스플레이에 를 넘겨주고 년  사업을 정리하면서 년 제일모직 소재 부문을 통합해 배터리 및 소재 회사로 탈바꿈했다 년대부터는 말레이시아 헝가리 텐진 등으로 국제화에 앞장섰으며 선제적으로 시그마를 도입해 경영 혁신에도 앞장섰다 전 사장은 미래의 더 큰 성장을 준비하기 위한 혁신을 위해 창의적이고 유연한 사고를 할 수 있는 혁신 문화 정착 퍼스트 무버가 되기 위한 차별화된 초격차 기술 확보를 주요 실천 과제로 제시했다 그는 개인의 자율성을 보장하고 실패에도 서로 격려해주는 유연한 사고를 통해 두려움 없이 새로운 도전을 하고 즐겁게 일하는 문화를 바탕으로 실행력을 강화해 나가자며 연구 개발 제조 등 각 부문이 원팀이 돼 차별화된 기술을 확보해 시장을 선도하는 퍼스트 무버가 되자고 강조했다 이어 품질과 안전은 무엇과도 바꿀 수 없는 제의 가치라고 강조하며 세이프티 퍼스트 경영 방침도 명확히 했다 이날 창립기념식은 배터리 연구개발 기능 강화를 위해 신축된 동에서 진행됐다 삼성는 작년부터 천안 울산 기흥 등 전 사업장에 걸쳐 인프라 개선작업을 실시하고 있다 의 는 삼성의 대표 이미지인 에코와 주력사업인 에너지를 의미한다 정현정 배터리부품  \n",
            "서울   일본정부가 반도체와 유기발광다이오드 소재의 한국 수출규제를 발표한 가운데 일 오후 수출상황 점검회의가 열린 서울 종로구 한국무역보험공사 대회의실에서 한국반도체산업협회장을 대신해 참석한 전세원왼쪽 삼성전자 부사장이 김효석 대한석유협회 회장과 대화하고 있다   저작권\n",
            "월일일    월일일    참가   라이언 한정판 굿즈 판매글로벌 브랜드와 콜라보도 검토 서울  글로벌 대세 한류 캐릭터로 떠오른 카카오프렌즈가 일본 중국에 이어 미국 시장까지 활동 무대를 넓힌다 카카오는 캐릭터 브랜드 카카오프렌즈가 오는 일부터 이틀간 미국 뉴욕에서 열리는 케이콘  에 이어 다음 달 일부터 나흘간 에서 진행되는 케이콘  에 참여한다고 일 밝혔다 케이콘은 년부터 매년 개최되고 있는 세계 최대 규모의 컬쳐 페스티벌이다 팝 드라마 무비 등 문화콘텐츠와  패션 뷰티 등 첨단제조업에 이르기까지 한류의 모든 것을 아우르고 있다 올해 두 번째로 케이콘 행사에 초대된 카카오프렌즈는 지난해 케이콘   참여 당시 현지팬들의 폭발적인 인기를 받았다 카카오는 케이콘 참여를 기념해 케이콘  라이언 콜라보레이션 상품을 개발 및 제작하고 현장에서 한정판 굿즈로 판매한다 굿즈는 케이콘 레터링이 새겨진 블랙 후디를 매치해 귀여우면서도 힙하고 스웨그 넘치는 디자인이 특징이다 케이콘 전시장 내 카카오프렌즈 부스를 여름 바캉스 컨셉으로 제작해 글로벌 팬들에게 상쾌하고 시원한 브랜드 경험을 선사할 예정이다 부스 내에는 카카오프렌즈 캐릭터들과 함께 사진을 찍을 수 있는 포토존과 케이콘 한정판 굿즈와 다양한 캐릭터 제품을 구매할 수 있는 판매존도 함께 운영될 예정이다 온라인에서 손쉽게 참여할 수 있는  이벤트도 마련했다 카카오프렌즈  공식 인스타그램 계정을 팔로우하고 친구를 태깅한 사람과  해시태그를 입력한 사람 중 랜덤 추첨을 통해 서프라이즈 기프트를 증정한다 케이콘에 함께 가고 싶은 친구를 태깅한 사람 중 추첨을 통해 케이콘 콘서트 티켓을 현장에서 제공한다 카카오 관계자는 지난해에 이어 케이콘 와  행사에 카카오프렌즈가 연이어 참여하면서 한국 대표 캐릭터의 저력을 널리 알릴 수 있게 됐다며 글로벌 시장의 다양한 브랜드와 콜라보를 검토 중이며 글로벌 팬들과 접점을 계속 확대해 나갈 것이라고 말했다 \n",
            "서울  한인섭 한국형사정책연구원장이 일 오후 서울 동대문구 법무부 서울준법지원센터에서 열린 보호관찰제도 주년 기념행사에서 축사를 하고 있다   저작권\n",
            "일 오전 서울 광화문 스퀘어에서 열린 국내 최초  무선 서비스  슈퍼  출시행사에서 모델들이  초고화질의  슈퍼  콘텐츠를 체험하고 있다  \n",
            "서울   일본정부가 반도체와 유기발광다이오드 소재의 한국 수출규제를 발표한 가운데 일 오후 수출상황 점검회의가 열린 서울 종로구 한국무역보험공사 대회의실에서 한국반도체산업협회장을 대신해 참석한 전세원 삼성전자 부사장이 물을 마시고 있다   저작권\n",
            "사내 주요  프로젝트 주요 국책과제도 공동 수행 한화큐셀 한화큐셀은 성균관대학교 공과대학원과도 지난 월 일 큐셀 태양광 연구개발 과정 설립 협약식을 진행했다 성대는 올해 학기부터 이 과정을 개설할 예정이다 태양전지 연구실을 보유한 전기전자화학공학신소재공학 등 전공생을 대상으로 진행된다 태양광 연계 전력시스템 분야의 산학협력도 강화된다 한화큐셀은 지난 달 일 서울대학교 전기전자공학과 문승일 교수 연구실과 전력시스템 공동 연구를 진행하는 연구실을 개설하는 협약을 맺었다 이 곳에서는 에너지저장시스템 등 태양광 발전에 활용하는 전력시스템 관련 연구가 이뤄질 전망이다 한화큐셀은 개 협력을 통해 국내 태양광 기술의 연구 역량을 끌어올리는 한편 사내 주요  프로젝트와 주요 국책과제 공동 수행도 고려하고 있다 성적 우수자를 대상으로 하는 산학장학생 프로그램도 운영된다 산학장학생으로 선발된 학생에게 학비와 학업지원금 등의 목적으로 연간 천백만원을 지원할 방침이다 김희철 한화큐셀 사장은 제조업에서 기술경쟁력은 경쟁우위의 가장 중요한 요소라며 업계 내 선도적 지위를 강화하기 위해 태양광 분야에 강점을 가지고 있는 다양한 학교들과 협력을 확대하고 해외 유수 대학교 연구실과도 협력해 나갈 예정이라고 말했다 \n",
            " 삼성전자 최고경영자들이 최근 대내외 불확실성이 커지는 상황에서 임직원에게 위기 극복을 위한 격려와 역량 결집을 당부했다 분기 실적을 코앞에 둔 삼성전자가 임직원 메시지를 통해 조직 전반에 퍼질 위기의식을 사전에 다잡기 위함으로 풀이된다 일 업계에 따르면 삼성전자  명은 이날 사내망에 하반기 메시지를 공동 명의로 전체 임직원에게 전달했다  명은 김기남 디바이스솔루션 부문장 부회장과 김현석 소비자가전 부문장 사장 고동진  모바일 부문장 사장이다 김기남 디바이스솔루션 부문장 부회장 김현석 삼성전자 소비자가전 부문장인 사장 고동진 삼성전자  모바일 부문장 사장 이들은 지난해 임직원 노력으로 사상 최대 실적을 달성했으나 현재 각 부문이 어려운 상황이라면서 반도체와 디스플레이 사업 실적 감소 스마트폰 시장 경쟁 심화와 성장 정체 등으로 수익성이 떨어지고 있다고 진단했다 그러면서 우리는 지난 년 글로벌 금융위기 때에도 어려움을 극복했던 경험이 있다면서 임직원에게 가지 당부 사항을 주문했다 우선 기술과 제품 제조 등에서 기본에 충실해 업계 최고의 차별화한 사업 경쟁력을 확보해야 하며 미래 핵심 기술 연구와 투자를 가속화해 성장 모멘텀을 조기 확보해야 한다고 당부했다 지금까지의 성공에 자만하지 말고 시장과 고객 대응에 소홀함이 없는지 각자 위치에서 겸허한 자세로 점검해야 한다고 덧붙였다 이들은 특히 비 온 뒤에 땅이 굳는 것처럼 초일류 기업들은 위기를 도전정신과 혁신으로 극복한다면서 삼성의 위기극복 를 바탕으로 역량을 모아야 한다고 당부했다 삼성전자 경영진 이날 메시지는 최근 미중 무역전쟁 메모리 반도체 가격 하락 지속 등 대내외 불확실성으로 경영 상황이 악화되고 있음을 시사했다 일본 정부는 같은 날 한국으로 수출하는 반도체와 디스플레이 관련 주요 소재 신고 절차를 강화하는 등 까다로운 규제를 적용하기로 발표했다  \n",
            "사진 막내의 반란에 업계가 뒤숭숭하다 유플러스가 서울시내 세대 이동통신 이통사의 품질 경쟁에 소비자들은 무의미한 논쟁일 뿐이라고 혀를 찬다 온라인 커뮤니티를 중심으로 이통사들의 소모적인 싸움을 비난하는 글이 넘쳐난다  스마트폰을 구입한 뒤  우선모드를 사용 중이라는 글도 쏟아진다 최근  스마트폰을 구입한 직장인 변모씨는 이통사가  속도품질 논란을 벌이는 것은 의미가 없다며 차라리 커버리지 등 인프라를 확충하는데 집중하고 속도품질 우수성 판단은 시장에 맡기는 것이 현명해보인다고 꼬집었다  \n",
            "조세영 차관 일 오후 나가미네 일본 대사 불러 양국관계 부정적 영향 심각한 우려 항의 일 오후 외교부로 초치된 나가미네 주한 일본대사가 취재진을 피해 지하 주차장을 이용한 뒤 엘리베이터를 타고 들어가고 있다 연합뉴스 조세영 외교부 차관은 일 일본이 한국 대법원의 강제징용 피해자 배상판결에 대한 경제보복에 나선 것과 관련해 나가미네 야스마사 주한 일본대사를 불러 항의하고 관련 조치의 철회를 촉구했다 조 차관은 이날 오후 시분께 서울 도렴동 외교부 청사로 나가미네 대사를 불러 이번 조치가 연관 산업은 물론 양국 관계에도 부정적인 영향을 미칠 수 있다는데 심각한 우려와 유감의 뜻을 전달했다고 외교부가 밝혔다  조 차관은 아울러 이번 조치가 지난달 말 일본 오사카에서 열린 주요 개국 정상회의에서 채택한 선언문 취지에도 정면으로 배치된다고 지적하며 해당 조치의 철회를 촉구했다  정상회의 선언문에는 자유롭고 공정하며 비차별적이고 투명하고 예측 가능하며 안정적인 무역과 투자 환경을 구축하고 시장개방을 유지하기 위해 노력한다는 내용이 담겼다 일본 경제산업성은 이날 오전 한국으로의 수출관리 규정을 개정해 스마트폰등에 사용하는 반도체 등 제조과정에 필요한 개 품목의 수출 규제를 강화한다고 발표했으며 이번 조치가 양국 간 신뢰 관계가 현저히 훼손됐기 때문이라고 밝혀 강제징용 갈등에 따른 보복임을 분명히 했다  외교부로 초치돼 조세영 외교부 차관과 만나고 나온 나가미네 주한 일본대사가 탄 승용차가 일 오후 서울 도렴동 외교부 청사를 나서고 있다 연합뉴스 한국 정부는 일본의 이번 조치의 세부 내용 한국 경제에 미칠 영향 등을 보다 면밀히 분석하는 한편 해당 분야 우리 기업들과 협력하면서 대응방안을 마련해 나가겠다고 밝혔다\n",
            " 알렉사 연동 공청기 선적식 개최   저작권자  디지털데일리 무단전재재배포\n",
            "서울  일 오전 서울 광화문 스퀘어에서 열린 국내 최초  무선 서비스  슈퍼 출시 행사에서 모델들이  초고화질 콘텐츠를 체험하고 있다   저작권\n",
            "전자의 클로이 안내로봇 이 현대자동차의 브랜드 체험공간에 배치된다  전자는 현대자동차와 손잡고 지난달 일부터 경기도 고양시에 위치한 국내 최대 체험형 자동차 테마파크 현대 모터스튜디오 고양에서 클로이 안내로봇 시범서비스를 시작했다고 일 밝혔다  클로이 안내로봇은 현대모터스튜디오 고양에서 시설 위치 운영시간 등 전시장 안내 전시차량 안내 현재 진행 중인 프로모션 안내 코드를 통한 견적 안내 등의 서비스를 제공한다  고객이 클로이 안내로봇에 헤이 클로이 상설전시장이 어디야라고 질문하면 로봇은 상설전시장 이미지를 보여주며 안내를 원하시면 길안내 시작 버튼을 누르시거나 클로이 길안내 시작이라고 말씀해 주세요라고 대답한다  클로이 안내로봇은 한국어는 물론 영어 중국어 등도 지원한다 전시장을 방문한 외국인들은 언어를 선택할 수 있다 또 방문객이 로봇과 함께 기념사진을 촬영할 수 있는 재미도 더했다  전자는 클로이 안내로봇에 자체 개발한 로봇관제시스템인    를 처음 탑재했다 는 관리자가 로봇을 직접 관리할 수 있는 시스템으로 로봇 상태 확인 일정 관리 콘텐츠 업데이트 등이 가능하다  현대자동차는 클로이가 수집한 데이터를 활용해 차량 선호도 인기 있는 시설물과 프로모션 등을 분석해 향후 고객 맞춤형 서비스를 제공한다는 계획이다  양사는 한 달 동안 클로이 안내로봇 대로 시범서비스를 진행하고 월 중순부터 대로 늘려 본격적인 상용서비스를 시작할 예정이다     앞서 전자는 년 인천국제공항에 클로이 안내로봇을 도입해 새로운 경험과 편의성을 제공한 바 있다  전자 로봇사업센터장 노진서 전무는 이번 협업을 통해 더 많은 고객들이 일상에서 로봇을 만나 새로운 경험을 접하게 될 것이라며 로봇이 고객에게 주는 가치를 극대화하기 위한 방법을 지속적으로 발굴해 나가겠다고 강조했다\n",
            "도널드 트럼프 미국 대통령과 북한 김정은 국무위원장이 일 오후 판문점에서 군사분계선을 사이에 두고 악수하고 있다연합뉴스    반북 단체인 자유조선전 천리마민방위이 도널드 트럼프 미국 대통령과 북한 김정은 국무위원장이 판문점에서 회동한 것에 대해 공허한 제스처다라고 비판했다  자유조선은 지난달 일 홈페이지에 비무장지대에서의 행사에 대한 자유조선 정부의 성명을 내고 김정은 체제의 공허한 제스처는 세계를 기만하고 부도덕한 범죄 체제에 힘을 부여하는 역할만 한다고 밝혔다  이들은 자유조선 임시정부는 궁극적 평화를 추구하는 선의를 가진 파트너들 간의 대화를 신뢰한다며 그러나 평양 체제에선 수백만 명이굶어 죽고 수십만명이 수용소에 수감돼있으며 수백명의 외국인들이 납치되고 암살당한다 불행하게도 그들 김정은 정권은 선의로 행동한 적이 없다 그들은 오로지 대량살상무기를 계속 증식하는데 몰두하고 대량 학살을 자행했다고 주장했다         자유조선은 북한은 년부터 미국과 비핵화협상하는 과정에서도 대량살상 무기의 개발을 멈추지 않고 있다고 지적했다  이어 유감스럽게도 김 위원장의 이런 공허한 제스처는 세계를 기만하고 부도덕한 범죄 체제에 힘을 부여하는 역할만 한다며 억압된 국민과 진정한 평화를 위해 변화가 이뤄져야 한다고 주장했다  한편 트럼프 대통령과 김 위원장은 지난달 일 오후 시 분쯤 군사분계선에 마주 서서 반갑게 악수하며 인사를 나눴다 김 위원장의 권유로 트럼프 대통령은 북쪽으로 넘어가 판문각을 배경으로 기념사진을 촬영하기도 했다 이후 두 사람은자유의집에서 약 분간 단독회담을 했다   \n",
            "아보카도 상대로 낸 소송에서 킹닷컴 승소 이미지투데이 그러나 대법원은 원고 게임물은 과일 야채 콩 태양 등을 형상화한 기본 캐릭터를 중심으로 농장을 일체감 있게 표현한 게임이라는 점에서 기존에 존재하던 게임물과 구별되는 특징이 있다며 킹닷컴의 게임을 창작적 개성을 갖추고 있어 저작물 보호 대상이라고 판단했다 이어서 피고 게임물은 원고 게임물과 동일한 순서로 게임규칙 등을 단계적으로 도입 원고 게임물의 제작 의도와 시나리오에 따라 기술적으로 구현된 주요한 구성요소들의 선택과 배열 및 조합을 그대로 사용했다며 결국 피고 게임물은 원고 게임물에서 캐릭터만 달라진 느낌을 주고 있다며 포레스트매니아의 저작권 침해를 인정했다 대법원은 게임물 창작성을 판단할 때 게임물 구성요소들 각각의 창작성 뿐만 아니라 구성요소들이 제작 의도와 시나리오에 따라 기술적으로 구현되는 과정에서 선택배열되고 조합됨에 따라 전체적으로 어우러져 그 게임물 자체가 다른 게임물과 구별되는 창작적 개성을 가지고 저작물로서 보호를 받을 정도에 이르렀는지 여부를 고려해야 한다는 기준을 최초로 제시한 판결이라고 설명했다 아울러 향후 게임물에 관한 저작권 침해금지사건에서 주요한 판단기준으로 작용할 것이라며 게임업계의 게임물 개발 관행과 실무에도 많은 영향을 미칠 것으로 예상된다고 덧붙였다 \n",
            "브로드밴드 브로드밴드가 요금제 구조를 단순화하고 포인트 혜택을 강화한  의 새로운 요금제를 선보인다 브로드밴드는   요금제를 고객의 라이프스타일과  시청 패턴에 맞춰          등으로 개편한다고 일 밝혔다 새로운 요금제는 복잡한 상품구조를 단순화하는 한편   고객의 시청 데이터와 니즈를 분석해 주문형비디오 및 포인트 혜택을 강화했다 먼저 메인 상품인   은  에서 제공하는 개의 모든 실시간 채널 채널 개 포함 유료채널 제외을 시청할 수 있으며 월 기본료는 만원년 약정 초고속인터넷광랜 결합 시 부가세포함이다    시리즈는   에 월 원을 추가해 자신의 라이프스타일 및 취향에 따라 다양한 옵션을 선택할 수 있는 확장 상품이다    포인트는   에 매월 보고 싶은 를 구매할 수 있는 포인트 점을 추가로 제공하며    무비는   에 영화  월정액 상품을 추가로 제공한다   에 영화 전문 채널 캐치온 와 캐치온  월정액 상품을 무제한 즐길 수 있는    캐치온과 지상파 를 무제한 즐길 수 있는    지상파도 선보인다 한편 기존 실속 상품인   를   로 변경해 주요 스포츠 및 골프 채널을 포함 꼭 필요한 채널들만 엄선해 월 만원에 즐길 수 있다 김혁 브로드밴드 세그먼트트라이브장은  가 라이프스타일에 꼭 필요한 서비스로 자리매김하고자 고객의 시청 패턴 선호  등 다양한 빅데이터 분석을 기반으로 이번 요금제 개편을 진행했다며 앞으로도 고객의 편의와 만족도를 높이는 서비스를 제공하기 위해 노려할 것이라고 말했다  \n",
            "오윤희 특파원  \n",
            "반디 업계 피해 최소화 대응책 필요일각선  무용론도 산업부 정부의 이 같은 발표에도 국내 반도체디스플레이 업계의 우려는 깊다 자칫 중장기적인 수출규제로 이어질 경우 생산라인 가동에 치명적인 위협이 될 수 있다는 걱정 때문이다 이는 반도체와 디스플레이 식각공정에 사용되는 불산과 반도체 노광공정에 사용되는 감광액은 일본이 세계 최고의 기술경쟁력을 보유하고 있어 단기간 내에 대체재를 확보하기 어렵다는 게 그 이유다 반도체 업계 한 고위 관계자는 당장은 기존에 보유하고 있던 자원재고을 사용해 별다른 영향이 없겠지만 앞으로 시장상황에 따라 가동률이 달라질 수 있어 피해가 없다고 장담할 수도 없다며 일본 정부가 핵심 소재에 대한 수출규제를 현실화 할 경우 건당 심사 시 최대 일에 달하는 기간이 소요되는데 에 제소를 해도 일 안에 결론을 내릴 수 있는 문제가 아니기 때문에 우려가 될 수밖에 없다고 토로했다 전문가들은 정부가 좀 더 현실적인 대응방안을 모색해야한다고 입을 모으고 있다 일본이 국가 안보차원에서 수출규제에 나섰다는 입장을 고수할 경우 이는  제소에 해당하지 않아 우리 기업들의 피해를 막을 방법이 없다는 것이다 산업부 산하 한 국책연구기관 관계자는 일본이 국가 안보를 이유로 이번 수출규제에 나섰다는 입장을 고수하면 우리 정부도 딱히 이를 막을 방안이 없다며 산업부가 그간 대일 관계 악화 상황을 고려한 대응책 마련에 힘써왔지만 일본이 자국 기업이 피해를 볼 수 있는 수출규제 카드를 꺼낼 수 있다는 것은 생각하지 못한 것 같다고 설명했다 또 일본 경제산업성이 수출무역관리령을 개정해 총 개이던 각 국가 분류에 한국 제재를 위한 새 분류란을 신설한 것을 보면 아예 한국을 적국으로 보고 적극적 제재하겠다는 의지가 보인다며 정부가 빠른 시일 내에 악화된 한일 관계를 회복할 수 있는 방안을 찾아내야 할 필요성이 어느 때보다 높다고 판단한다고 덧붙였다 한편 일본 정부는 이날 반도체디스플레이스마트폰의 제조공정에 사용되는 핵심 소재불산 감광액 투명 폴리이미드에 대한 수출규제 계획일부터 시행 예정을 발표하고 외환 및 외국물자법 하위 시행령 수출무역관리령에서 우리나라를 신뢰 가능한 백색 국가에서 제외시켰다 나아가 일본 업체들의 감광액 불산 투명 폴리이미드 수출 또는 이를 생산하기 위한 설비나 기술 이전 시에는 각 건에 대해 개별 수출 심사일도 진행하기로 결정했다 \n"
          ],
          "name": "stdout"
        }
      ]
    },
    {
      "cell_type": "code",
      "metadata": {
        "id": "8s-DlvGJ39lv",
        "colab_type": "code",
        "colab": {}
      },
      "source": [
        "def input_fn_builder(features, seq_length, is_training, drop_remainder):\n",
        "  \"\"\"Creates an `input_fn` closure to be passed to TPUEstimator.\"\"\"\n",
        "\n",
        "  all_input_ids = []\n",
        "  all_input_mask = []\n",
        "  all_segment_ids = []\n",
        "  all_label_ids = []\n",
        "\n",
        "  for feature in features:\n",
        "    all_input_ids.append(feature.input_ids)\n",
        "    all_input_mask.append(feature.input_mask)\n",
        "    all_segment_ids.append(feature.segment_ids)\n",
        "    all_label_ids.append(feature.label_ids)\n",
        "\n",
        "  def input_fn(params):\n",
        "    \"\"\"The actual input function.\"\"\"\n",
        "    batch_size = params[\"batch_size\"]\n",
        "\n",
        "    num_examples = len(features)\n",
        "\n",
        "    # This is for demo purposes and does NOT scale to large data sets. We do\n",
        "    # not use Dataset.from_generator() because that uses tf.py_func which is\n",
        "    # not TPU compatible. The right way to load data is with TFRecordReader.\n",
        "    d = tf.data.Dataset.from_tensor_slices({\n",
        "        \"input_ids\":\n",
        "            tf.constant(\n",
        "                all_input_ids, shape=[num_examples, seq_length],\n",
        "                dtype=tf.int32),\n",
        "        \"input_mask\":\n",
        "            tf.constant(\n",
        "                all_input_mask,\n",
        "                shape=[num_examples, seq_length],\n",
        "                dtype=tf.int32),\n",
        "        \"segment_ids\":\n",
        "            tf.constant(\n",
        "                all_segment_ids,\n",
        "                shape=[num_examples, seq_length],\n",
        "                dtype=tf.int32),\n",
        "        \"label_ids\":\n",
        "            tf.constant(all_label_ids, shape=[num_examples, len(LABEL_COLUMNS)], dtype=tf.int32),\n",
        "    })\n",
        "\n",
        "    if is_training:\n",
        "      d = d.repeat()\n",
        "      d = d.shuffle(buffer_size=100)\n",
        "\n",
        "    d = d.batch(batch_size=batch_size, drop_remainder=drop_remainder)\n",
        "    return d\n",
        "\n",
        "  return input_fn"
      ],
      "execution_count": 0,
      "outputs": []
    },
    {
      "cell_type": "code",
      "metadata": {
        "id": "pi47PNwh39kn",
        "colab_type": "code",
        "colab": {
          "base_uri": "https://localhost:8080/",
          "height": 51
        },
        "outputId": "3217b7f4-420f-4176-9d2c-3f1cfdef3467"
      },
      "source": [
        "print('Beginning Predictions!')\n",
        "current_time = datetime.now()\n",
        "\n",
        "predict_input_fn = input_fn_builder(features=test_features, seq_length=MAX_SEQ_LENGTH, is_training=False, drop_remainder=False)\n",
        "predictions = estimator.predict(predict_input_fn)\n",
        "print(\"Prediction took time \", datetime.now() - current_time)"
      ],
      "execution_count": 42,
      "outputs": [
        {
          "output_type": "stream",
          "text": [
            "Beginning Predictions!\n",
            "Prediction took time  0:00:00.000402\n"
          ],
          "name": "stdout"
        }
      ]
    },
    {
      "cell_type": "code",
      "metadata": {
        "id": "YU7-k6H339gv",
        "colab_type": "code",
        "colab": {}
      },
      "source": [
        "def create_output(predictions):\n",
        "    probabilities = []\n",
        "    for (i, prediction) in enumerate(predictions):\n",
        "        preds = prediction[\"probabilities\"]\n",
        "        probabilities.append(preds)\n",
        "    dff = pd.DataFrame(probabilities)\n",
        "    dff.columns = LABEL_COLUMNS\n",
        "    \n",
        "    return dff"
      ],
      "execution_count": 0,
      "outputs": []
    },
    {
      "cell_type": "code",
      "metadata": {
        "id": "O3C_3P0F4GgX",
        "colab_type": "code",
        "colab": {
          "base_uri": "https://localhost:8080/",
          "height": 193
        },
        "outputId": "05e2210f-3b18-4ae8-f7bb-4926d13161f8"
      },
      "source": [
        "output_df = create_output(predictions)\n",
        "submission =  pd.concat([x_test, output_df], axis=1)\n",
        "# submission = merged_df.drop(['comment_text'], axis=1)\n",
        "submission.to_csv(\"sample_submission0.csv\", index=False)"
      ],
      "execution_count": 44,
      "outputs": [
        {
          "output_type": "stream",
          "text": [
            "INFO:tensorflow:Calling model_fn.\n",
            "INFO:tensorflow:num_labels:2;logits:Tensor(\"loss/BiasAdd:0\", shape=(?, 2), dtype=float32);labels:Tensor(\"loss/Cast:0\", shape=(?, 2), dtype=float32)\n",
            "INFO:tensorflow:**** Trainable Variables ****\n",
            "mode: infer probabilities: Tensor(\"loss/Sigmoid:0\", shape=(?, 2), dtype=float32)\n",
            "INFO:tensorflow:Done calling model_fn.\n",
            "INFO:tensorflow:Graph was finalized.\n",
            "INFO:tensorflow:Restoring parameters from /content/drive/My Drive/fininsight/21대 총선분석/Text Classification/Bert/working/output/model.ckpt-15\n",
            "INFO:tensorflow:Running local_init_op.\n",
            "INFO:tensorflow:Done running local_init_op.\n"
          ],
          "name": "stdout"
        }
      ]
    },
    {
      "cell_type": "code",
      "metadata": {
        "id": "DIod3RSw4IGw",
        "colab_type": "code",
        "colab": {
          "base_uri": "https://localhost:8080/",
          "height": 588
        },
        "outputId": "c6f7617a-813b-410b-d4f2-7ca3d274c8ad"
      },
      "source": [
        "submission"
      ],
      "execution_count": 45,
      "outputs": [
        {
          "output_type": "execute_result",
          "data": {
            "text/html": [
              "<div>\n",
              "<style scoped>\n",
              "    .dataframe tbody tr th:only-of-type {\n",
              "        vertical-align: middle;\n",
              "    }\n",
              "\n",
              "    .dataframe tbody tr th {\n",
              "        vertical-align: top;\n",
              "    }\n",
              "\n",
              "    .dataframe thead th {\n",
              "        text-align: right;\n",
              "    }\n",
              "</style>\n",
              "<table border=\"1\" class=\"dataframe\">\n",
              "  <thead>\n",
              "    <tr style=\"text-align: right;\">\n",
              "      <th></th>\n",
              "      <th>id</th>\n",
              "      <th>content</th>\n",
              "      <th>IT/과학</th>\n",
              "      <th>정치</th>\n",
              "      <th>IT/과학</th>\n",
              "      <th>정치</th>\n",
              "    </tr>\n",
              "  </thead>\n",
              "  <tbody>\n",
              "    <tr>\n",
              "      <th>0</th>\n",
              "      <td>697</td>\n",
              "      <td>기술평가 기관  라인란드 아이 컴포트 디스플레이 인증 테스트 통과 서울  디스플레이...</td>\n",
              "      <td>1</td>\n",
              "      <td>0</td>\n",
              "      <td>0.558181</td>\n",
              "      <td>0.413799</td>\n",
              "    </tr>\n",
              "    <tr>\n",
              "      <th>1</th>\n",
              "      <td>296</td>\n",
              "      <td>스위스 제네바에서 개최된 국제전기통신연합 국제회의 국내 양자암호통신 기술이 국제표...</td>\n",
              "      <td>1</td>\n",
              "      <td>0</td>\n",
              "      <td>0.557683</td>\n",
              "      <td>0.413658</td>\n",
              "    </tr>\n",
              "    <tr>\n",
              "      <th>2</th>\n",
              "      <td>227</td>\n",
              "      <td>서울   자유한국당 나경원 원내대표가 일 오전 서울 여의도 국회를 예방한 박영선 중...</td>\n",
              "      <td>0</td>\n",
              "      <td>1</td>\n",
              "      <td>0.555857</td>\n",
              "      <td>0.414154</td>\n",
              "    </tr>\n",
              "    <tr>\n",
              "      <th>3</th>\n",
              "      <td>336</td>\n",
              "      <td>넷마블대표 권영식은 신개념 모바일 위치 기반 그림퀴즈게임 쿵야 캐치마인드의 국내 정...</td>\n",
              "      <td>1</td>\n",
              "      <td>0</td>\n",
              "      <td>0.557132</td>\n",
              "      <td>0.413689</td>\n",
              "    </tr>\n",
              "    <tr>\n",
              "      <th>4</th>\n",
              "      <td>537</td>\n",
              "      <td>조현준 회장 기술에 기술 더해 기술융합 이룰 것 효성은 섬유 첨단소재 화학 등 그룹...</td>\n",
              "      <td>1</td>\n",
              "      <td>0</td>\n",
              "      <td>0.557341</td>\n",
              "      <td>0.413556</td>\n",
              "    </tr>\n",
              "    <tr>\n",
              "      <th>...</th>\n",
              "      <td>...</td>\n",
              "      <td>...</td>\n",
              "      <td>...</td>\n",
              "      <td>...</td>\n",
              "      <td>...</td>\n",
              "      <td>...</td>\n",
              "    </tr>\n",
              "    <tr>\n",
              "      <th>262</th>\n",
              "      <td>51</td>\n",
              "      <td>도널드 트럼프 미국 대통령과 북한 김정은 국무위원장이 일 오후 판문점에서 군사분계선...</td>\n",
              "      <td>0</td>\n",
              "      <td>1</td>\n",
              "      <td>0.557349</td>\n",
              "      <td>0.413745</td>\n",
              "    </tr>\n",
              "    <tr>\n",
              "      <th>263</th>\n",
              "      <td>334</td>\n",
              "      <td>아보카도 상대로 낸 소송에서 킹닷컴 승소 이미지투데이 그러나 대법원은 원고 게임물은...</td>\n",
              "      <td>1</td>\n",
              "      <td>0</td>\n",
              "      <td>0.557302</td>\n",
              "      <td>0.413743</td>\n",
              "    </tr>\n",
              "    <tr>\n",
              "      <th>264</th>\n",
              "      <td>741</td>\n",
              "      <td>브로드밴드 브로드밴드가 요금제 구조를 단순화하고 포인트 혜택을 강화한  의 새로운 ...</td>\n",
              "      <td>1</td>\n",
              "      <td>0</td>\n",
              "      <td>0.557369</td>\n",
              "      <td>0.413450</td>\n",
              "    </tr>\n",
              "    <tr>\n",
              "      <th>265</th>\n",
              "      <td>264</td>\n",
              "      <td>오윤희 특파원</td>\n",
              "      <td>0</td>\n",
              "      <td>1</td>\n",
              "      <td>0.552313</td>\n",
              "      <td>0.416746</td>\n",
              "    </tr>\n",
              "    <tr>\n",
              "      <th>266</th>\n",
              "      <td>361</td>\n",
              "      <td>반디 업계 피해 최소화 대응책 필요일각선  무용론도 산업부 정부의 이 같은 발표에도...</td>\n",
              "      <td>1</td>\n",
              "      <td>0</td>\n",
              "      <td>0.557190</td>\n",
              "      <td>0.413721</td>\n",
              "    </tr>\n",
              "  </tbody>\n",
              "</table>\n",
              "<p>267 rows × 6 columns</p>\n",
              "</div>"
            ],
            "text/plain": [
              "      id                                            content  ...     IT/과학        정치\n",
              "0    697  기술평가 기관  라인란드 아이 컴포트 디스플레이 인증 테스트 통과 서울  디스플레이...  ...  0.558181  0.413799\n",
              "1    296   스위스 제네바에서 개최된 국제전기통신연합 국제회의 국내 양자암호통신 기술이 국제표...  ...  0.557683  0.413658\n",
              "2    227  서울   자유한국당 나경원 원내대표가 일 오전 서울 여의도 국회를 예방한 박영선 중...  ...  0.555857  0.414154\n",
              "3    336  넷마블대표 권영식은 신개념 모바일 위치 기반 그림퀴즈게임 쿵야 캐치마인드의 국내 정...  ...  0.557132  0.413689\n",
              "4    537  조현준 회장 기술에 기술 더해 기술융합 이룰 것 효성은 섬유 첨단소재 화학 등 그룹...  ...  0.557341  0.413556\n",
              "..   ...                                                ...  ...       ...       ...\n",
              "262   51  도널드 트럼프 미국 대통령과 북한 김정은 국무위원장이 일 오후 판문점에서 군사분계선...  ...  0.557349  0.413745\n",
              "263  334  아보카도 상대로 낸 소송에서 킹닷컴 승소 이미지투데이 그러나 대법원은 원고 게임물은...  ...  0.557302  0.413743\n",
              "264  741  브로드밴드 브로드밴드가 요금제 구조를 단순화하고 포인트 혜택을 강화한  의 새로운 ...  ...  0.557369  0.413450\n",
              "265  264                                          오윤희 특파원    ...  0.552313  0.416746\n",
              "266  361  반디 업계 피해 최소화 대응책 필요일각선  무용론도 산업부 정부의 이 같은 발표에도...  ...  0.557190  0.413721\n",
              "\n",
              "[267 rows x 6 columns]"
            ]
          },
          "metadata": {
            "tags": []
          },
          "execution_count": 45
        }
      ]
    },
    {
      "cell_type": "code",
      "metadata": {
        "id": "em2_Rm5t0GZl",
        "colab_type": "code",
        "colab": {}
      },
      "source": [
        ""
      ],
      "execution_count": 0,
      "outputs": []
    }
  ]
}