{
 "cells": [
  {
   "cell_type": "markdown",
   "metadata": {
    "colab_type": "text",
    "id": "view-in-github"
   },
   "source": [
    "<a href=\"https://colab.research.google.com/github/fininsight/page-election/blob/master/mhlee/%EC%9D%B4%EB%AF%BC%ED%98%B8_%EB%89%B4%EC%8A%A4%EB%B8%94%EB%A1%9C%EA%B7%B8_%EB%B6%84%EC%84%9D.ipynb\" target=\"_parent\"><img src=\"https://colab.research.google.com/assets/colab-badge.svg\" alt=\"Open In Colab\"/></a>"
   ]
  },
  {
   "cell_type": "markdown",
   "metadata": {},
   "source": [
    "# 기본 변수"
   ]
  },
  {
   "cell_type": "code",
   "execution_count": 136,
   "metadata": {},
   "outputs": [],
   "source": [
    "files = [\"./data/21대총선_news.json\"]\n",
    "re_char = \"[^ \\u3131-\\u3163\\uac00-\\ud7a3a-zA-Z0-9.,'/%]+\""
   ]
  },
  {
   "cell_type": "markdown",
   "metadata": {},
   "source": [
    "# 분석 대상파일 읽기"
   ]
  },
  {
   "cell_type": "code",
   "execution_count": 137,
   "metadata": {},
   "outputs": [
    {
     "data": {
      "text/plain": [
       "(1731, 4)"
      ]
     },
     "execution_count": 137,
     "metadata": {},
     "output_type": "execute_result"
    }
   ],
   "source": [
    "import pandas as pd\n",
    "\n",
    "df = pd.DataFrame()\n",
    "for file in files : #파일명 목록에 있는 파일들 읽어서 결합\n",
    "    df = df.append(pd.read_json(file)[['url','date','title','content']], sort=False)\n",
    "#df[\"date\"]= pd.to_datetime(df[\"date\"]) \n",
    "df.shape"
   ]
  },
  {
   "cell_type": "markdown",
   "metadata": {},
   "source": [
    "## 일자별 빈도수 계산"
   ]
  },
  {
   "cell_type": "code",
   "execution_count": 74,
   "metadata": {},
   "outputs": [
    {
     "ename": "AttributeError",
     "evalue": "Can only use .dt accessor with datetimelike values",
     "output_type": "error",
     "traceback": [
      "\u001b[0;31m---------------------------------------------------------------------------\u001b[0m",
      "\u001b[0;31mAttributeError\u001b[0m                            Traceback (most recent call last)",
      "\u001b[0;32m<ipython-input-74-c10afddd616b>\u001b[0m in \u001b[0;36m<module>\u001b[0;34m\u001b[0m\n\u001b[1;32m      1\u001b[0m \u001b[0;32mimport\u001b[0m \u001b[0mmatplotlib\u001b[0m \u001b[0;32mas\u001b[0m \u001b[0mmpl\u001b[0m\u001b[0;34m\u001b[0m\u001b[0;34m\u001b[0m\u001b[0m\n\u001b[0;32m----> 2\u001b[0;31m \u001b[0mdf_count\u001b[0m \u001b[0;34m=\u001b[0m \u001b[0mdf\u001b[0m\u001b[0;34m.\u001b[0m\u001b[0mgroupby\u001b[0m\u001b[0;34m(\u001b[0m\u001b[0;34m[\u001b[0m\u001b[0mdf\u001b[0m\u001b[0;34m[\u001b[0m\u001b[0;34m'date'\u001b[0m\u001b[0;34m]\u001b[0m\u001b[0;34m.\u001b[0m\u001b[0mdt\u001b[0m\u001b[0;34m.\u001b[0m\u001b[0mto_period\u001b[0m\u001b[0;34m(\u001b[0m\u001b[0;34m'd'\u001b[0m\u001b[0;34m)\u001b[0m\u001b[0;34m]\u001b[0m\u001b[0;34m)\u001b[0m\u001b[0;34m[\u001b[0m\u001b[0;34m'date'\u001b[0m\u001b[0;34m]\u001b[0m\u001b[0;34m.\u001b[0m\u001b[0magg\u001b[0m\u001b[0;34m(\u001b[0m\u001b[0;34m[\u001b[0m\u001b[0;34m'count'\u001b[0m\u001b[0;34m]\u001b[0m\u001b[0;34m)\u001b[0m\u001b[0;34m\u001b[0m\u001b[0;34m\u001b[0m\u001b[0m\n\u001b[0m\u001b[1;32m      3\u001b[0m \u001b[0mdf_count\u001b[0m\u001b[0;34m.\u001b[0m\u001b[0munstack\u001b[0m\u001b[0;34m(\u001b[0m\u001b[0;34m)\u001b[0m\u001b[0;34m.\u001b[0m\u001b[0mplot\u001b[0m\u001b[0;34m.\u001b[0m\u001b[0mline\u001b[0m\u001b[0;34m(\u001b[0m\u001b[0;34m)\u001b[0m\u001b[0;34m\u001b[0m\u001b[0;34m\u001b[0m\u001b[0m\n",
      "\u001b[0;32m~/opt/anaconda3/lib/python3.7/site-packages/pandas/core/generic.py\u001b[0m in \u001b[0;36m__getattr__\u001b[0;34m(self, name)\u001b[0m\n\u001b[1;32m   5173\u001b[0m             \u001b[0;32mor\u001b[0m \u001b[0mname\u001b[0m \u001b[0;32min\u001b[0m \u001b[0mself\u001b[0m\u001b[0;34m.\u001b[0m\u001b[0m_accessors\u001b[0m\u001b[0;34m\u001b[0m\u001b[0;34m\u001b[0m\u001b[0m\n\u001b[1;32m   5174\u001b[0m         ):\n\u001b[0;32m-> 5175\u001b[0;31m             \u001b[0;32mreturn\u001b[0m \u001b[0mobject\u001b[0m\u001b[0;34m.\u001b[0m\u001b[0m__getattribute__\u001b[0m\u001b[0;34m(\u001b[0m\u001b[0mself\u001b[0m\u001b[0;34m,\u001b[0m \u001b[0mname\u001b[0m\u001b[0;34m)\u001b[0m\u001b[0;34m\u001b[0m\u001b[0;34m\u001b[0m\u001b[0m\n\u001b[0m\u001b[1;32m   5176\u001b[0m         \u001b[0;32melse\u001b[0m\u001b[0;34m:\u001b[0m\u001b[0;34m\u001b[0m\u001b[0;34m\u001b[0m\u001b[0m\n\u001b[1;32m   5177\u001b[0m             \u001b[0;32mif\u001b[0m \u001b[0mself\u001b[0m\u001b[0;34m.\u001b[0m\u001b[0m_info_axis\u001b[0m\u001b[0;34m.\u001b[0m\u001b[0m_can_hold_identifiers_and_holds_name\u001b[0m\u001b[0;34m(\u001b[0m\u001b[0mname\u001b[0m\u001b[0;34m)\u001b[0m\u001b[0;34m:\u001b[0m\u001b[0;34m\u001b[0m\u001b[0;34m\u001b[0m\u001b[0m\n",
      "\u001b[0;32m~/opt/anaconda3/lib/python3.7/site-packages/pandas/core/accessor.py\u001b[0m in \u001b[0;36m__get__\u001b[0;34m(self, obj, cls)\u001b[0m\n\u001b[1;32m    173\u001b[0m             \u001b[0;31m# we're accessing the attribute of the class, i.e., Dataset.geo\u001b[0m\u001b[0;34m\u001b[0m\u001b[0;34m\u001b[0m\u001b[0;34m\u001b[0m\u001b[0m\n\u001b[1;32m    174\u001b[0m             \u001b[0;32mreturn\u001b[0m \u001b[0mself\u001b[0m\u001b[0;34m.\u001b[0m\u001b[0m_accessor\u001b[0m\u001b[0;34m\u001b[0m\u001b[0;34m\u001b[0m\u001b[0m\n\u001b[0;32m--> 175\u001b[0;31m         \u001b[0maccessor_obj\u001b[0m \u001b[0;34m=\u001b[0m \u001b[0mself\u001b[0m\u001b[0;34m.\u001b[0m\u001b[0m_accessor\u001b[0m\u001b[0;34m(\u001b[0m\u001b[0mobj\u001b[0m\u001b[0;34m)\u001b[0m\u001b[0;34m\u001b[0m\u001b[0;34m\u001b[0m\u001b[0m\n\u001b[0m\u001b[1;32m    176\u001b[0m         \u001b[0;31m# Replace the property with the accessor object. Inspired by:\u001b[0m\u001b[0;34m\u001b[0m\u001b[0;34m\u001b[0m\u001b[0;34m\u001b[0m\u001b[0m\n\u001b[1;32m    177\u001b[0m         \u001b[0;31m# http://www.pydanny.com/cached-property.html\u001b[0m\u001b[0;34m\u001b[0m\u001b[0;34m\u001b[0m\u001b[0;34m\u001b[0m\u001b[0m\n",
      "\u001b[0;32m~/opt/anaconda3/lib/python3.7/site-packages/pandas/core/indexes/accessors.py\u001b[0m in \u001b[0;36m__new__\u001b[0;34m(cls, data)\u001b[0m\n\u001b[1;32m    341\u001b[0m             \u001b[0;32mpass\u001b[0m  \u001b[0;31m# we raise an attribute error anyway\u001b[0m\u001b[0;34m\u001b[0m\u001b[0;34m\u001b[0m\u001b[0m\n\u001b[1;32m    342\u001b[0m \u001b[0;34m\u001b[0m\u001b[0m\n\u001b[0;32m--> 343\u001b[0;31m         \u001b[0;32mraise\u001b[0m \u001b[0mAttributeError\u001b[0m\u001b[0;34m(\u001b[0m\u001b[0;34m\"Can only use .dt accessor with datetimelike \"\u001b[0m \u001b[0;34m\"values\"\u001b[0m\u001b[0;34m)\u001b[0m\u001b[0;34m\u001b[0m\u001b[0;34m\u001b[0m\u001b[0m\n\u001b[0m",
      "\u001b[0;31mAttributeError\u001b[0m: Can only use .dt accessor with datetimelike values"
     ]
    }
   ],
   "source": [
    "import matplotlib as mpl\n",
    "df_count = df.groupby([df['date'].dt.to_period('d')])['date'].agg(['count'])\n",
    "df_count.unstack().plot.line()"
   ]
  },
  {
   "cell_type": "code",
   "execution_count": 161,
   "metadata": {},
   "outputs": [
    {
     "name": "stdout",
     "output_type": "stream",
     "text": [
      "1000\n"
     ]
    }
   ],
   "source": [
    "import re\n",
    "from konlpy.tag import Mecab\n",
    "mecab = Mecab()\n",
    "cleasing_re = re.compile(re_char)\n",
    "news_list = [news for news in df[\"content\"].tolist() if len(news) > 100]\n",
    "    \n",
    "tokenized_doc = []\n",
    "cnt = 0\n",
    "\n",
    "for news in news_list :\n",
    "    NP = \"\"\n",
    "    doc = []\n",
    "    text = cleasing_re.sub('', news).replace(\" \",\"\")\n",
    "    #tokenized_doc.append([ w for w in mecab.nouns(text) if len(w)>1 ])\n",
    "    \n",
    "    #print(cleasing_re.sub('', row))\n",
    "    #print(mecab.pos(text))\n",
    "    #print(tokenized_doc)\n",
    "    #break\n",
    "    for pos in mecab.pos(text) :\n",
    "        if (pos[1][0] == \"N\") :\n",
    "            NP += pos[0] + \" \"\n",
    "        elif pos[1][0] != \"N\" :\n",
    "            if len(NP) > 2  :\n",
    "                doc.append(NP.strip())\n",
    "            NP = \"\"\n",
    "\n",
    "            if (pos[1][0] == \"V\") & (len(pos[0]) > 1) :\n",
    "                doc.append(pos[0])\n",
    "                \n",
    "                \n",
    "    tokenized_doc.append(doc)\n",
    "    cnt += 1\n",
    "    \n",
    "    if cnt % 1000 == 0 :\n",
    "        print(cnt)"
   ]
  },
  {
   "cell_type": "code",
   "execution_count": 162,
   "metadata": {},
   "outputs": [
    {
     "name": "stdout",
     "output_type": "stream",
     "text": [
      "'더불어민주당이해찬대표가1일오전여의도당사에서열린더불어민주당신년인사회에서새해인사말을하고있다./연합뉴스googletag.cmd.pushfunctiongoogletag.display'divgptad15589479793640'자유한국당김병준비상대책위원장과박관용상임고문,의원,당직자들이1일오전서울영등포구당사에서열린자유한국당신년인사회에서떡케이크를자르고있다./연합뉴스더불어민주당,자유한국당등여야는1일21대총선과차기대선승리를결의하며기해년첫날을시작했다.민주당은1일1일집권3년차결의를다지며1년여앞으로다가온21대총선의압도적승리,나아가2022년대선에서의정권재창출의지도과감하게내보였다.평화와경제를전면에내세워국정운영의주도권을다잡고문재인정부의개혁드라이브에힘을더하겠다는각오다.민주당은여당으로서2년째맞는새해첫날오전여의도당사에서신년인사회를겸한단배식을개최했다.단배식에는이해찬대표와홍영표원내대표,박주민박광온설훈김해영이수진최고위원,김원기정세균전국회의장등당지도부와주요인사들이대거참석했고박원순서울시장도지난해에이어자리했다.참석자들은행사장한가운데마련된2019평화와경제새로운100년이라고적힌대형시루떡과떡국을나눠먹으며화합을약속했다.이해찬대표는인사말에서지난해에는남북간70년분단체제가평화공존체제로전환되는역사적획을그었다고평가했다.특히내년총선압승과2022년정권재창출로이나라평화와민주주의를지키는마지막보루의역할을다하자고강조했다.이대표는이어경제라는게금방좋아질수는없지만,꾸준히노력하면튼튼한기반을통해잘끌어나갈수있다며민생경제를활성화하는데당은최선을다하겠다고덧붙였다.홍영표원내대표는앞으로도많은시련과도전이기다리고있다며맞바람을향해돛을펼친다는역풍장범이라는말이있다.이해찬대표를중심으로더욱단결하는한해가되도록하자고말했다.googletag.cmd.pushfunctiongoogletag.display'divgptad15670434594650'선진규전국노인위원장은전당원이하나로뭉쳐어떤폭풍도헤쳐나가는자세가중요하다며이힘으로문재인대통령의국정수행을뒷받침하자고했다.20대국회전반기국회의장을지낸정세균의원은집권여당의높은품격과책임의식으로국민을잘섬기는한해가되도록하자고했고,박원순서울시장은당지도부와함께여러민생의어려움을돌파하겠다고했다.자유한국당도이날영등포당사에서신년인사회를열고오는2020년총선승리및정권교체를위한발판마련을다짐했다.지난2017년대선패배와지난해지방선거참패의아픔을딛고올한해국민에게희망을주는정당으로발돋움하겠다는각오다.신년인사회에는김병준비상대책위원장,나경원원내대표,정용기정책위의장등당지도부를비롯해심재철국회부의장과박관용당상임고문,오세훈전서울시장등이참석했다.행사장에는2019다시뛰는자유한국당이라고적힌시루떡이놓였다.김병준위원장은인사말에서정부비판뿐만아니라국민께비전과희망을드릴정치를하고건강한모습을보여드리겠다면서우리를통해대한민국의희망과미래를보게되지않을까싶다고밝혔다.나경원원내대표는새해새벽국회운영위원회가끝난후어깨가무거웠다며자유민주주의,경제,안보를지키면총선승리와정권교체를이룰수있을것이라고말했다.국회의장을지낸박관용상임고문은잘못된권력과싸우는야당다운야당,정당다운정당을만들도록결의해야한다며여러분들이일어나잘못된정부와싸우고투쟁해야국민의지지를받고내년총선과차기대선에서이길수있다고강조했다.그러면서야당에대한국민의기대를배반하면안된다며한국당은대한민국의번영을만든김영삼전대통령등이일궈낸야당의후신이자자유대한민국의후예라고덧붙였다.박상임고문은우리가왜이런당사에서기해년을맞이해야하나며여의도에서영등포로당사를옮겨야할정도로쪼그라든당세를언급하기도했다./강신우기자seensedaily.comlt저작권자서울경제,무단전재및재배포금지gtXC'\n",
      "['더불', '민주당 이해찬 대표', '일 오전 여의도 당사', '열린', '더불', '민주당 신년인사회', '새해 인사말', '연합뉴스', '자유한국당 김병준 비상대책 위원장', '박관용 상임고문', '의원', '당직자', '일 오전 서울 영등포구 당사', '열린', '자유한국당 신년인사회', '떡 케이크', '자르', '연합뉴스', '더불', '민주당', '자유한국당 등 여야', '대 총선', '기대선', '승리', '결의', '기해', '년 첫날', '시작', '민주당', '일 집권', '년 차 결의', '다지', '다가온', '대 총선', '압도', '승리', '나아가', '년 대선', '정권', '창출', '지도', '내보였', '평화', '경제', '전면', '내세워', '국정운영', '주도', '문재인 정부', '개혁 드라이브', '각오', '민주당', '여당', '새해 첫날 오전 여의도 당사', '신년인사회', '겸한', '단배식', '개최', '단배식', '이해찬 대표', '홍영표 원내대표', '박주민 박광온 설훈 김해영 이수진 최고위원', '김원기 정세균', '국회', '장등', '지도부', '주요 인사', '참석', '박원순 서울시장', '지난해', '자리', '참석자', '행사장', '가운데 마련', '평화', '경제', '새로운', '적힌', '대형 시루떡', '떡국', '나눠', '화합', '약속', '이해찬 대표', '인사말', '지난해', '남북 간', '년 분단 체제', '평화 공존 체제', '전환', '역사 적획', '평가', '내년 총선 압승', '년 정권', '창출', '나라 평화', '민주주의', '지키', '마지막 보루', '역할', '강조', '대표', '경제', '라는', '노력', '기반', '통해', '나갈', '민생 경제', '활성', '데당', '최선', '덧붙였', '홍영표 원내대표', '시련', '도전', '기다리', '맞바람', '향해', '펼친다는', '역풍 장범', '이해찬 대표', '중심', '단결', '선진규 전국 노인 위원장', '당원', '하나', '뭉쳐', '폭풍', '헤쳐', '나가', '자세', '중요', '문재', '대통령', '국정 수행', '뒷받침', '대 국회 전반기 국회 의장', '지낸', '정세균 의원', '집권 여당', '품격', '책임 의식', '국민', '섬기', '박원순 서울시장', '당 지도부', '민생', '어려움', '돌파', '자유한국당', '이날 영등포 당사', '신년인사회', '년 총선 승리', '정권교체', '위한', '발판 마련', '지난', '년 대선 패배', '지난해 지방 선거 참패', '아픔', '해 국민', '희망', '정당', '발돋움', '각오', '신년인사회', '김병준 비상대책 위원장', '나경원 원내대표', '정용기 정책위의장 등', '지도부', '심재철 국회 부의장', '박관용 당 상임고문', '오 세 훈전 서울 시장 등', '참석', '행사장', '자유한국당', '적힌', '시루떡', '놓였', '김병준 위원장', '인사말', '정부 비판', '아니', '국민', '비전', '희망', '드릴', '정치', '건강', '모습', '보여', '드리', '우리', '통해', '대한민국', '희망', '미래', '밝혔', '나경원 원내대표', '새해 새벽 국회 운영 위원회', '끝난', '후 어깨', '무거웠', '자유민주주의', '경제', '안보', '지키', '총선 승리', '정권교체', '이룰', '국회 의장', '지낸', '박관용 상임고문', '권력', '싸우', '야당', '야당', '정당', '만들', '결의', '한다며', '여러분', '일어나', '정부', '싸우', '투쟁', '국민', '지지', '내년 총선', '차기 대선', '이길', '강조', '그러', '야당', '대한', '국민', '기대', '배반', '된다며', '한국당', '대한민국', '번영', '만든', '김영삼 전대통령 등', '일궈낸', '야당', '후신', '자유 대한민국', '후예', '라고', '덧붙였', '박 상임고문', '우리', '당사', '해년', '하나', '여의도', '영등포', '당사', '옮겨야', '정도', '당세', '언급', '강신우 기자', '저작', '서울 경제', '무단 전재', '배포 금지']\n"
     ]
    }
   ],
   "source": [
    "print(cleasing_re.sub('', news_list[1]).replace(\" \",\"\"))\n",
    "print(tokenized_doc[1])"
   ]
  },
  {
   "cell_type": "code",
   "execution_count": 163,
   "metadata": {
    "colab": {
     "base_uri": "https://localhost:8080/",
     "height": 54
    },
    "colab_type": "code",
    "id": "1mgPn8QCpfoK",
    "outputId": "04149344-1eb8-420a-e529-fc9d43e0f933"
   },
   "outputs": [
    {
     "name": "stdout",
     "output_type": "stream",
     "text": [
      "[(1, 2), (40, 1), (44, 2), (46, 1), (47, 1), (48, 3), (60, 1), (68, 1), (71, 3), (100, 1), (109, 2), (114, 4), (119, 1), (121, 1), (134, 1), (158, 1), (164, 1), (172, 2), (186, 1), (194, 2), (202, 1), (214, 1), (215, 2), (216, 1), (217, 1), (218, 1), (219, 1), (220, 2), (221, 1), (222, 4), (223, 4), (224, 1), (225, 1), (226, 1), (227, 1), (228, 1), (229, 1), (230, 1), (231, 1), (232, 1), (233, 1), (234, 1), (235, 1), (236, 1), (237, 1), (238, 1), (239, 1), (240, 1), (241, 1), (242, 2), (243, 1), (244, 1), (245, 1), (246, 1), (247, 1), (248, 1), (249, 1), (250, 1), (251, 1), (252, 1), (253, 1), (254, 1), (255, 1), (256, 1), (257, 1), (258, 1), (259, 1), (260, 1), (261, 1), (262, 2), (263, 1), (264, 2), (265, 1), (266, 1), (267, 1), (268, 1), (269, 1), (270, 2), (271, 1), (272, 2), (273, 1), (274, 1), (275, 1), (276, 1), (277, 1), (278, 1), (279, 1), (280, 1), (281, 1), (282, 1), (283, 1), (284, 1), (285, 1), (286, 1), (287, 1), (288, 1), (289, 1), (290, 1), (291, 1), (292, 1), (293, 1), (294, 1), (295, 1), (296, 1), (297, 1), (298, 1), (299, 1), (300, 2), (301, 2), (302, 1), (303, 1), (304, 1), (305, 1), (306, 1), (307, 1), (308, 1), (309, 1), (310, 1), (311, 1), (312, 1), (313, 1), (314, 1), (315, 1), (316, 1), (317, 1), (318, 1), (319, 1), (320, 3), (321, 1), (322, 2), (323, 1), (324, 1), (325, 1), (326, 1), (327, 1), (328, 1), (329, 1), (330, 1), (331, 1), (332, 1), (333, 1), (334, 2), (335, 2), (336, 1), (337, 1), (338, 1), (339, 2), (340, 1), (341, 1), (342, 1), (343, 1), (344, 3), (345, 2), (346, 1), (347, 1), (348, 1), (349, 1), (350, 1), (351, 1), (352, 1), (353, 1), (354, 1), (355, 1), (356, 2), (357, 1), (358, 1), (359, 1), (360, 1), (361, 1), (362, 2), (363, 1), (364, 1), (365, 1), (366, 2), (367, 2), (368, 1), (369, 1), (370, 1), (371, 1), (372, 1), (373, 1), (374, 1), (375, 1), (376, 1), (377, 1), (378, 2), (379, 1), (380, 2), (381, 1), (382, 2), (383, 1), (384, 1), (385, 2), (386, 1), (387, 2), (388, 1), (389, 1), (390, 1), (391, 1), (392, 1), (393, 2), (394, 1), (395, 1), (396, 1), (397, 2), (398, 1), (399, 1), (400, 1), (401, 2), (402, 1), (403, 1), (404, 2), (405, 1), (406, 1), (407, 1), (408, 1), (409, 1), (410, 3)]\n"
     ]
    }
   ],
   "source": [
    "import gensim\n",
    "from gensim import corpora\n",
    "from gensim import models\n",
    "dictionary = corpora.Dictionary(tokenized_doc)\n",
    "corpus = [dictionary.doc2bow(text) for text in tokenized_doc]\n",
    "print(corpus[1]) # 수행된 결과에서 두번째 뉴스 출력. 첫번째 문서의 인덱스는 0\n",
    "\n",
    "from gensim.models import TfidfModel\n",
    "\n",
    "tfidf_model = TfidfModel(corpus)\n",
    "corpus_tfidf = tfidf_model[corpus]\n",
    "\n",
    "import gensim\n",
    "NUM_TOPICS = 10 #20개의 토픽, k=20\n",
    "ldamodel = gensim.models.ldamodel.LdaModel(corpus_tfidf, num_topics = NUM_TOPICS, id2word=dictionary, passes=15)\n",
    "#ldamodel = models.LdaMulticore(corpus, id2word=dictionary, num_topics=NUM_TOPICS, workers=8)"
   ]
  },
  {
   "cell_type": "code",
   "execution_count": 164,
   "metadata": {
    "colab": {
     "base_uri": "https://localhost:8080/",
     "height": 187
    },
    "colab_type": "code",
    "id": "V8u6YRKft8Qd",
    "outputId": "32067f7d-d00a-4ccb-fc9c-23e9c2dd056f"
   },
   "outputs": [
    {
     "name": "stdout",
     "output_type": "stream",
     "text": [
      "(0, '0.000*\"임 실장\" + 0.000*\"단지\" + 0.000*\"정후\" + 0.000*\"유 장관\" + 0.000*\"디지털 포렌식\" + 0.000*\"사이버 선거 범죄\" + 0.000*\"윤 실장\" + 0.000*\"허위사실 공표 등 중대 선거 범죄\" + 0.000*\"일 서울 종로구 서울시 선거관리위원회 사이버 공정 선거 지원 단실\" + 0.000*\"사이버 선거 범죄 예방\" + 0.000*\"선거 관련 게시물 등\" + 0.000*\"데이터 분석 등 전문 요원\" + 0.000*\"응할\" + 0.000*\"정기\" + 0.000*\"남씨\" + 0.000*\"엄정대\" + 0.000*\"집중 모니터링\" + 0.000*\"이전 의원\" + 0.000*\"윤종필 의원\" + 0.000*\"단속 활동\"')\n",
      "\n",
      "\n",
      "(1, '0.000*\"김전 대변인\" + 0.000*\"겸전 청와대 대변인\" + 0.000*\"예비후보자\" + 0.000*\"함수 관계\" + 0.000*\"노동 회의소\" + 0.000*\"박 실장\" + 0.000*\"우전 대사\" + 0.000*\"특별 당비\" + 0.000*\"하승수\" + 0.000*\"경총\" + 0.000*\"등록 금심\" + 0.000*\"특수 공무집행 방해\" + 0.000*\"매각\" + 0.000*\"아시아 경제 임춘한 기자\" + 0.000*\"이종훈\" + 0.000*\"전과\" + 0.000*\"김은빈 기자\" + 0.000*\"노사 관계\" + 0.000*\"출판기념회\" + 0.000*\"나 의원\"')\n",
      "\n",
      "\n",
      "(2, '0.000*\"김현미 국토부 장관\" + 0.000*\"유은혜 교육부 장관 왼쪽\" + 0.000*\"구로\" + 0.000*\"민주당 출신 현직 장관\" + 0.000*\"김 차장\" + 0.000*\"출판기념회\" + 0.000*\"남선 알미늄\" + 0.000*\"박전 대장\" + 0.000*\"년 위원회\" + 0.000*\"대 선거 범죄\" + 0.000*\"오신환 의원\" + 0.000*\"유구 청장\" + 0.000*\"김 비서관\" + 0.000*\"숙의\" + 0.000*\"조수석\" + 0.000*\"구민\" + 0.000*\"민주당 구로\" + 0.000*\"정보 경찰\" + 0.000*\"풍 패 지향\" + 0.000*\"세계 재외 공관\"')\n",
      "\n",
      "\n",
      "(3, '0.000*\"홍전 대표\" + 0.000*\"한전 수석\" + 0.000*\"자유한국당 대표\" + 0.000*\"최전 의원\" + 0.000*\"윤 후보\" + 0.000*\"인회\" + 0.000*\"사면 청원\" + 0.000*\"조직 위원장\" + 0.000*\"설훈\" + 0.000*\"윤전 대변인\" + 0.000*\"임전 최고위원\" + 0.000*\"고전 대변인\" + 0.000*\"김전 대변인\" + 0.000*\"총영사관\" + 0.000*\"강수석\" + 0.000*\"한인 단체장\" + 0.000*\"백성\" + 0.000*\"비례 자유 한국 당창 준위\" + 0.000*\"유권자 등록\" + 0.000*\"청와대 대변인\"')\n",
      "\n",
      "\n",
      "(4, '0.000*\"심대 표\" + 0.000*\"홍 의원\" + 0.000*\"강의원\" + 0.000*\"조수석\" + 0.000*\"일 서울 종로구 선거관리위원회\" + 0.000*\"대 국회의원선거 예비후보자 등록 접수\" + 0.000*\"청소년\" + 0.000*\"대 총선 공약 발표\" + 0.000*\"검찰 개혁 마무리 수사\" + 0.000*\"패트 충돌 약식 기소\" + 0.000*\"재판서 정당행위 주장 법원\" + 0.000*\"명 재판 회부 속보 유치원\" + 0.000*\"표결 패트 정국 끝\" + 0.000*\"법 국회 본회\" + 0.000*\"통과 속보 형사 소송법 검찰청 법통\" + 0.000*\"김 원내대표\" + 0.000*\"윤전 실장\" + 0.000*\"이슈 패스트트랙 정국 패스트트랙 재판 총선 이후\" + 0.000*\"전북\" + 0.000*\"벌금\"')\n",
      "\n",
      "\n",
      "(5, '0.001*\"한국당\" + 0.001*\"바른\" + 0.001*\"국민\" + 0.001*\"입니다\" + 0.001*\"민주당\" + 0.001*\"의원\" + 0.001*\"정치\" + 0.001*\"출마\" + 0.001*\"한다\" + 0.001*\"미래\" + 0.001*\"생각\" + 0.001*\"국회\" + 0.001*\"연동\" + 0.001*\"대표\" + 0.001*\"우리\" + 0.001*\"대한\" + 0.001*\"정당\" + 0.001*\"사람\" + 0.001*\"아니\" + 0.001*\"자유한국당\"')\n",
      "\n",
      "\n",
      "(6, '0.000*\"성구 청장\" + 0.000*\"소 위원장\" + 0.000*\"외투 표소\" + 0.000*\"민주당 중앙당 당사\" + 0.000*\"최혜 영강동 대학교 교수\" + 0.000*\"홍보 물품\" + 0.000*\"일 서울 종로구 서울시 선거관리위원회\" + 0.000*\"투표 참여 캠페인\" + 0.000*\"최장\" + 0.000*\"호 영입인재\" + 0.000*\"양전 비서관\" + 0.000*\"일 서울 여의도\" + 0.000*\"모름 무응답\" + 0.000*\"표본 오 차\" + 0.000*\"세 이상 남녀\" + 0.000*\"인유\" + 0.000*\"중앙선거여론조사 심의 위원회 홈페이지\" + 0.000*\"무선\" + 0.000*\"임식\" + 0.000*\"공관\"')\n",
      "\n",
      "\n",
      "(7, '0.000*\"재외 선거\" + 0.000*\"일 오전 서울 종로구 서울시 선거관리위원회\" + 0.000*\"사이버 공정 선거\" + 0.000*\"허위사실 공표 등 선거 범죄\" + 0.000*\"등 사이버 선거 범죄 예방\" + 0.000*\"선거 관련 게시물\" + 0.000*\"원단\" + 0.000*\"오승현 기자\" + 0.000*\"재외 선거인\" + 0.000*\"단속 활동\" + 0.000*\"집중 모니터링\" + 0.000*\"엄정대\" + 0.000*\"총영사관\" + 0.000*\"비방\" + 0.000*\"유부 총리\" + 0.000*\"응하\" + 0.000*\"인터넷\" + 0.000*\"자민련\" + 0.000*\"선관위\" + 0.000*\"등록 신청\"')\n",
      "\n",
      "\n",
      "(8, '0.000*\"선거 비용\" + 0.000*\"장진영\" + 0.000*\"공 씨\" + 0.000*\"고대 변인\" + 0.000*\"허씨\" + 0.000*\"딥 페이크\" + 0.000*\"황 씨\" + 0.000*\"김 대법원장\" + 0.000*\"총영사관\" + 0.000*\"기부 행위\" + 0.000*\"유종필\" + 0.000*\"워싱턴\" + 0.000*\"전산 시스템 점검\" + 0.000*\"관악\" + 0.000*\"유권자 확인\" + 0.000*\"석무 소속\" + 0.000*\"현역 의원 중\" + 0.000*\"윤 의원\" + 0.000*\"박상혁 기자\" + 0.000*\"아카데미\"')\n",
      "\n",
      "\n",
      "(9, '0.000*\"김전 의원\" + 0.000*\"홍전 회장\" + 0.000*\"ㄱ 씨\" + 0.000*\"윤호중\" + 0.000*\"허은아\" + 0.000*\"자치경찰\" + 0.000*\"수염\" + 0.000*\"황현희\" + 0.000*\"이정미 대표\" + 0.000*\"박전 대장\" + 0.000*\"장안\" + 0.000*\"농지\" + 0.000*\"커피\" + 0.000*\"마산\" + 0.000*\"윤 부시장\" + 0.000*\"신유진\" + 0.000*\"대학 설립\" + 0.000*\"교회\" + 0.000*\"교육 문제\" + 0.000*\"차 투표\"')\n",
      "\n",
      "\n"
     ]
    }
   ],
   "source": [
    "topics = ldamodel.print_topics(num_words=20)\n",
    "for topic in topics:\n",
    "    print(topic)\n",
    "    print(\"\\n\")"
   ]
  },
  {
   "cell_type": "code",
   "execution_count": 165,
   "metadata": {},
   "outputs": [
    {
     "name": "stdout",
     "output_type": "stream",
     "text": [
      "864\n",
      "['‘재외동포 투표참여운동 워싱턴본부’ 발대식이 지난 17일 애난데일 중화원에서 열렸다. 내년 4월 실시되는 21대 총선을 앞두고 재외선거 투표율 증진, 재외국민 권익 신장에 뜻을 같이하는 한인단체들이 함께 했다. 워싱턴 본부장에는 이기창(사람사는세상-워싱턴 전 대표, 뒷줄 오른쪽 두번째), 부본부장에는 홍미정(사사세 대표)씨가 선임됐다. 이 본부장은 “재외동포 투표참여운동은 시민단체들의 자발적 참여로 시작됐다”며 “특정정당이나 특정 정치인을 지지하는 선거운동이 아닌 재외국민유권자들의 투표 참여율을 높이기 위한 유권자 등록운동”이라고 밝혔다. 이날 발대식은 사사세, 더불어민주당 워싱턴 대의원협의회, 민주동우회에서 후원했다. &lt;유제원기자&gt; ']\n",
      "[(0, 0.5333748), (5, 0.44784763)]\n",
      "['워싱턴'] 0.2\n",
      "\n",
      "\n",
      "\n"
     ]
    }
   ],
   "source": [
    "from gensim.summarization import keywords\n",
    "from gensim.summarization.summarizer import summarize\n",
    "import re\n",
    "cleasing_re = re.compile(re_char)\n",
    "\n",
    "for i in range(len(corpus)) :\n",
    "    \n",
    "    def getKey(item):\n",
    "        return item[1]\n",
    "\n",
    "    topic = sorted(ldamodel[corpus[i]], key=getKey, reverse=True)[0]\n",
    "    #print(topic)\n",
    "    if (topic[0] == 0) : #& (topic[1] > 0.6) :\n",
    "        try :\n",
    "            print(i)\n",
    "            print(news_list[i])\n",
    "            print(ldamodel[corpus[i]])\n",
    "            print(keywords(' '.join(tokenized_doc[i])).split('\\n'), 0.2)\n",
    "            print(summarize(hangul.sub('', news_list[i]), 0.1))\n",
    "            print(\"\\n\")\n",
    "        except :\n",
    "            pass\n",
    "\n"
   ]
  },
  {
   "cell_type": "code",
   "execution_count": 155,
   "metadata": {},
   "outputs": [
    {
     "data": {
      "text/plain": [
       "'[]'"
      ]
     },
     "execution_count": 155,
     "metadata": {},
     "output_type": "execute_result"
    }
   ],
   "source": [
    "news_list[22]"
   ]
  },
  {
   "cell_type": "code",
   "execution_count": 112,
   "metadata": {},
   "outputs": [
    {
     "name": "stdout",
     "output_type": "stream",
     "text": [
      "[(0, 0.06707124), (1, 0.14864512), (2, 0.020175269), (13, 0.07625538), (17, 0.68364424)]\n",
      "['민주당', '빚어진', '정규직', '홍준표', '운전자 황교안', '대통령'] 0.2\n",
      "손석희  대표이사 사장이 직원들에게 걱정시켜 미안하다라며 앞으로 흔들림 없이 헤쳐나가겠다라고 전했다.\n",
      "나도 황당하고 당혹스러운 게 사실이라면서 이같이 말했다.\n",
      "충청인들은 내일이 국회의원 선거일이라면 어느 당을 찍겠느냐라는 물음에 민주당 전국 자유한국당 전국 바른미래당 전국 정의당 전국 민주평화당 전국 무당층 전국 로 집계됐다.\n",
      "한국갤럽은 이를현재 정당 지지도와 총선 투표 의향 정당을 비교하면 더불어민주당   자유한국당  정의당  바른미래당  민주평화당  등 주요 정당들 모두 변화 폭이  이내로 미미했다.고 말해 정당 지지도 투표의항에 비례함을 보여줬다.\n",
      "갤럽은 현재 지지하는 정당이 없는 무당 층은 총선 투표 의향 정당으로 더불어민주당  자유한국당  바른미래당  정의당  민주평화당 를 선택해 진보 정당과 중도보수 정당 합산 비율이 각각  로 큰 차이 없었다.라고 분석했다.\n",
      "\n",
      "\n",
      "[(0, 0.015287751), (6, 0.019299349), (9, 0.014183505), (13, 0.5565552), (17, 0.38948822)]\n",
      "['보인다', '최고위원', '위원장'] 0.2\n",
      "정치권에서는 바른정당 계열 인사들의 연이은 탈당으로 당내 입지가 좁아지는 유 의원의 마지막 퇴로를 보수대통합으로 꼽고 있지만 한국당과의 통합을 꺼려하는 손학규 대표 등 국민의당 계열 의원들의 반대로 이마저도 여의치 않아 보인다.\n",
      "\n",
      "\n",
      "[(0, 0.10050921), (2, 0.08540287), (13, 0.41907308), (17, 0.38635746)]\n",
      "['정무수석', '정의용', '대통령'] 0.2\n",
      "임종석 비서실장을 비롯해 한병도 정무수석 윤영찬 국민소통수석 등이 거론되고 있는 가운데 임 실장의 후임에는 년 대선 때 조직본부장을 맡은 문 대통령의 최측근 인사인 노영민 주한 중국대사가 유력하다.\n",
      "\n",
      "\n",
      "[(0, 0.11749214), (6, 0.033346683), (9, 0.103862874), (13, 0.24489355), (17, 0.4940457)]\n",
      "['대통령', '관심사', '민주평화당'] 0.2\n",
      "이에 따라 올 한해 여야는 대 총선에 주도권을 갖기 위해서 치열한 격전을 차를 것으로 보입니다.\n",
      "\n",
      "\n",
      "[(9, 0.02908983), (13, 0.37421137), (17, 0.59421575)]\n",
      "['유승민', '손금주', '국민의당', '전대통령', '이합집산'] 0.2\n",
      "대 국회서도 도진 고질병  새누리 비박 탈당 바른정당 창당 불구  이름바꾼 친정 한국당에 복귀 이어져  국민의당바른정당 합당 승부수 역풍  호남 의원들 반발뒤 민주평화당 창당  이용호손금주 민주당 입당 선언 불구  당 중진 최재성 공개 반대 급제동 걸려  년 대 총선 앞두고 정국 요동칠 듯 선거철만 되면 도지는 병이 있다.\n",
      "국민의당을 탈당해 무소속으로 있던 이용호손금주 의원이 지난달 일 국회 정론관에서 기자회견을 갖고 더불어민주당 입당을 선언했다.\n",
      "앞서 바른미래당 이학재 의원은 지난달 일 탈당해 한국당에 컴백했다.\n",
      "이 의원은 년 월 정치적 이념과 노선이 맞지 않는다며 더불어민주당을 탈당해 국민의당으로 이적했다.\n",
      "\n",
      "\n",
      "[(0, 0.06266221), (2, 0.017976115), (13, 0.19719532), (17, 0.7199067)]\n",
      "['대통령', '자유한국당', '비서실장', '청와대 비서관', '바라보'] 0.2\n",
      "\n",
      "\n",
      "\n",
      "[(1, 0.04304576), (2, 0.06617008), (13, 0.7593309), (17, 0.11893882)]\n",
      "['민주당', '변호사', '김재휴', '박완규', '청와대', '강의원'] 0.2\n",
      "일 광주전남지역 정가에 따르면 무소속 손금주나주화순 의원이 더불어민주당 입당 절차를 밟고 있고 민주평화당 김경진광주 북구 갑 의원도 민주당 입당에 관심을 갖고 있는 것으로 알려져 향후 행보가 주목된다.\n",
      "아울러 공석인 전남지역 여수갑과 여수을 광양곡성구례 지역구 곳의 지역위원장 후보 공모가 이날부터 시작됨에 따라 내년 총선에 나설 입지자들의 물밑 경쟁이 본격적으로 시작됐다.\n",
      "\n",
      "\n",
      "[(2, 0.10404376), (13, 0.5453293), (17, 0.3389819)]\n",
      "['김의원', '부지사', '김태흠', '해양수산', '자치분권'] 0.2\n",
      "민주당 나소열 부지사이시우 전 보령시장엄승용 전 정책국장 거론 한국당 김태흠 현 의원 선 출마 유력...보수 표심 안방 사수 시동 김기웅 장발협회장  정당 러브콜 후문...\n",
      "충남 서천보령 선거구의 경우 더불어민주당은 나소열 현 충남도 문화체육부지사 외에도 이시우 전 보령시장 엄승용 전 문화재청 정책국장이 출마에 뜻을 두거나 자천타천으로 하마평에 오르내리고 있다.\n",
      "\n",
      "\n",
      "[(0, 0.07982621), (1, 0.12804888), (2, 0.105275825), (13, 0.5468529), (15, 0.08163476)]\n",
      "['예산안'] 0.2\n",
      "\n",
      "\n",
      "\n",
      "[(0, 0.42729485), (1, 0.011143716), (2, 0.06807652), (13, 0.15591088), (17, 0.33560723)]\n",
      "['통계청', '과태료', '비서관', '대통령', '김부겸 김영춘 도종환', '청와대', '비서실장', '관계자'] 0.2\n",
      "문 대통령은 통계청이 새로 가계동향을 조사하면서 응답을 거부할 경우 최대 만 원의 과태료를 부과하기로 했다는 언론 보도와 관련해 시대에 뒤떨어진 행정조치라며 채택해서는 안 된다라고말했다.\n",
      "통계청 관계자는 과태료를 부과하는 네거티브 방식보다는 인센티브를 제공하는 방식으로 조사를 보완하는 방안을 발표할 예정이라고 말했다.\n",
      "문 대통령은 통계청이 새로 가계동향을 조사하면서 응답을 거부할 경우 최대 만원의 과태료를 부과하기로 했다는 언론 보도와 관련해 시대에 뒤떨어진 행정조치라며 채택해서는 안 된다고 일 말했다.\n",
      "통계청은 지난 일 현장조사의 수행을 심각하게 저해하는 경우에 한해 합리적인 기준에 따라 과태료를 부과하는 방안을 검토해 나갈 계획이라고 밝혔다.\n",
      "\n",
      "\n"
     ]
    }
   ],
   "source": [
    "from gensim.summarization import keywords\n",
    "from gensim.summarization.summarizer import summarize\n",
    "import re\n",
    "cleasing_re = re.compile(re_char)\n",
    "\n",
    "\n",
    "\n",
    "for i in range(10) :\n",
    "    #print(hangul.sub('', news_list[i]))\n",
    "    #print(tokenized_doc[i])\n",
    "    print(ldamodel[corpus[i]])\n",
    "    print(keywords(' '.join(tokenized_doc[i])).split('\\n'), 0.2)\n",
    "    print(summarize(hangul.sub('', news_list[i]), 0.1))\n",
    "    print(\"\\n\")\n"
   ]
  },
  {
   "cell_type": "code",
   "execution_count": 113,
   "metadata": {
    "colab": {
     "base_uri": "https://localhost:8080/",
     "height": 358
    },
    "colab_type": "code",
    "id": "ypqS1yzasw3C",
    "outputId": "44fdb5e7-8ea6-409c-b27a-7cbdade1fabc"
   },
   "outputs": [
    {
     "ename": "KeyboardInterrupt",
     "evalue": "",
     "output_type": "error",
     "traceback": [
      "\u001b[0;31m---------------------------------------------------------------------------\u001b[0m",
      "\u001b[0;31mKeyboardInterrupt\u001b[0m                         Traceback (most recent call last)",
      "\u001b[0;32m<ipython-input-113-063ee2783176>\u001b[0m in \u001b[0;36m<module>\u001b[0;34m\u001b[0m\n\u001b[1;32m      1\u001b[0m \u001b[0;32mimport\u001b[0m \u001b[0mpyLDAvis\u001b[0m\u001b[0;34m.\u001b[0m\u001b[0mgensim\u001b[0m\u001b[0;34m\u001b[0m\u001b[0;34m\u001b[0m\u001b[0m\n\u001b[1;32m      2\u001b[0m \u001b[0mpyLDAvis\u001b[0m\u001b[0;34m.\u001b[0m\u001b[0menable_notebook\u001b[0m\u001b[0;34m(\u001b[0m\u001b[0;34m)\u001b[0m\u001b[0;34m\u001b[0m\u001b[0;34m\u001b[0m\u001b[0m\n\u001b[0;32m----> 3\u001b[0;31m \u001b[0mvis\u001b[0m \u001b[0;34m=\u001b[0m \u001b[0mpyLDAvis\u001b[0m\u001b[0;34m.\u001b[0m\u001b[0mgensim\u001b[0m\u001b[0;34m.\u001b[0m\u001b[0mprepare\u001b[0m\u001b[0;34m(\u001b[0m\u001b[0mldamodel\u001b[0m\u001b[0;34m,\u001b[0m \u001b[0mcorpus\u001b[0m\u001b[0;34m,\u001b[0m \u001b[0mdictionary\u001b[0m\u001b[0;34m)\u001b[0m\u001b[0;34m\u001b[0m\u001b[0;34m\u001b[0m\u001b[0m\n\u001b[0m\u001b[1;32m      4\u001b[0m \u001b[0mpyLDAvis\u001b[0m\u001b[0;34m.\u001b[0m\u001b[0mdisplay\u001b[0m\u001b[0;34m(\u001b[0m\u001b[0mvis\u001b[0m\u001b[0;34m)\u001b[0m\u001b[0;34m\u001b[0m\u001b[0;34m\u001b[0m\u001b[0m\n",
      "\u001b[0;32m~/opt/anaconda3/lib/python3.7/site-packages/pyLDAvis/gensim.py\u001b[0m in \u001b[0;36mprepare\u001b[0;34m(topic_model, corpus, dictionary, doc_topic_dist, **kwargs)\u001b[0m\n\u001b[1;32m    117\u001b[0m     \"\"\"\n\u001b[1;32m    118\u001b[0m     \u001b[0mopts\u001b[0m \u001b[0;34m=\u001b[0m \u001b[0mfp\u001b[0m\u001b[0;34m.\u001b[0m\u001b[0mmerge\u001b[0m\u001b[0;34m(\u001b[0m\u001b[0m_extract_data\u001b[0m\u001b[0;34m(\u001b[0m\u001b[0mtopic_model\u001b[0m\u001b[0;34m,\u001b[0m \u001b[0mcorpus\u001b[0m\u001b[0;34m,\u001b[0m \u001b[0mdictionary\u001b[0m\u001b[0;34m,\u001b[0m \u001b[0mdoc_topic_dist\u001b[0m\u001b[0;34m)\u001b[0m\u001b[0;34m,\u001b[0m \u001b[0mkwargs\u001b[0m\u001b[0;34m)\u001b[0m\u001b[0;34m\u001b[0m\u001b[0;34m\u001b[0m\u001b[0m\n\u001b[0;32m--> 119\u001b[0;31m     \u001b[0;32mreturn\u001b[0m \u001b[0mvis_prepare\u001b[0m\u001b[0;34m(\u001b[0m\u001b[0;34m**\u001b[0m\u001b[0mopts\u001b[0m\u001b[0;34m)\u001b[0m\u001b[0;34m\u001b[0m\u001b[0;34m\u001b[0m\u001b[0m\n\u001b[0m",
      "\u001b[0;32m~/opt/anaconda3/lib/python3.7/site-packages/pyLDAvis/_prepare.py\u001b[0m in \u001b[0;36mprepare\u001b[0;34m(topic_term_dists, doc_topic_dists, doc_lengths, vocab, term_frequency, R, lambda_step, mds, n_jobs, plot_opts, sort_topics)\u001b[0m\n\u001b[1;32m    396\u001b[0m    \u001b[0mterm_frequency\u001b[0m \u001b[0;34m=\u001b[0m \u001b[0mnp\u001b[0m\u001b[0;34m.\u001b[0m\u001b[0msum\u001b[0m\u001b[0;34m(\u001b[0m\u001b[0mterm_topic_freq\u001b[0m\u001b[0;34m,\u001b[0m \u001b[0maxis\u001b[0m\u001b[0;34m=\u001b[0m\u001b[0;36m0\u001b[0m\u001b[0;34m)\u001b[0m\u001b[0;34m\u001b[0m\u001b[0;34m\u001b[0m\u001b[0m\n\u001b[1;32m    397\u001b[0m \u001b[0;34m\u001b[0m\u001b[0m\n\u001b[0;32m--> 398\u001b[0;31m    \u001b[0mtopic_info\u001b[0m         \u001b[0;34m=\u001b[0m \u001b[0m_topic_info\u001b[0m\u001b[0;34m(\u001b[0m\u001b[0mtopic_term_dists\u001b[0m\u001b[0;34m,\u001b[0m \u001b[0mtopic_proportion\u001b[0m\u001b[0;34m,\u001b[0m \u001b[0mterm_frequency\u001b[0m\u001b[0;34m,\u001b[0m \u001b[0mterm_topic_freq\u001b[0m\u001b[0;34m,\u001b[0m \u001b[0mvocab\u001b[0m\u001b[0;34m,\u001b[0m \u001b[0mlambda_step\u001b[0m\u001b[0;34m,\u001b[0m \u001b[0mR\u001b[0m\u001b[0;34m,\u001b[0m \u001b[0mn_jobs\u001b[0m\u001b[0;34m)\u001b[0m\u001b[0;34m\u001b[0m\u001b[0;34m\u001b[0m\u001b[0m\n\u001b[0m\u001b[1;32m    399\u001b[0m    \u001b[0mtoken_table\u001b[0m        \u001b[0;34m=\u001b[0m \u001b[0m_token_table\u001b[0m\u001b[0;34m(\u001b[0m\u001b[0mtopic_info\u001b[0m\u001b[0;34m,\u001b[0m \u001b[0mterm_topic_freq\u001b[0m\u001b[0;34m,\u001b[0m \u001b[0mvocab\u001b[0m\u001b[0;34m,\u001b[0m \u001b[0mterm_frequency\u001b[0m\u001b[0;34m)\u001b[0m\u001b[0;34m\u001b[0m\u001b[0;34m\u001b[0m\u001b[0m\n\u001b[1;32m    400\u001b[0m    \u001b[0mtopic_coordinates\u001b[0m \u001b[0;34m=\u001b[0m \u001b[0m_topic_coordinates\u001b[0m\u001b[0;34m(\u001b[0m\u001b[0mmds\u001b[0m\u001b[0;34m,\u001b[0m \u001b[0mtopic_term_dists\u001b[0m\u001b[0;34m,\u001b[0m \u001b[0mtopic_proportion\u001b[0m\u001b[0;34m)\u001b[0m\u001b[0;34m\u001b[0m\u001b[0;34m\u001b[0m\u001b[0m\n",
      "\u001b[0;32m~/opt/anaconda3/lib/python3.7/site-packages/pyLDAvis/_prepare.py\u001b[0m in \u001b[0;36m_topic_info\u001b[0;34m(topic_term_dists, topic_proportion, term_frequency, term_topic_freq, vocab, lambda_step, R, n_jobs)\u001b[0m\n\u001b[1;32m    253\u001b[0m \u001b[0;34m\u001b[0m\u001b[0m\n\u001b[1;32m    254\u001b[0m    top_terms = pd.concat(Parallel(n_jobs=n_jobs)(delayed(_find_relevance_chunks)(log_ttd, log_lift, R, ls) \\\n\u001b[0;32m--> 255\u001b[0;31m                                                  for ls in _job_chunks(lambda_seq, n_jobs)))\n\u001b[0m\u001b[1;32m    256\u001b[0m    \u001b[0mtopic_dfs\u001b[0m \u001b[0;34m=\u001b[0m \u001b[0mmap\u001b[0m\u001b[0;34m(\u001b[0m\u001b[0mtopic_top_term_df\u001b[0m\u001b[0;34m,\u001b[0m \u001b[0menumerate\u001b[0m\u001b[0;34m(\u001b[0m\u001b[0mtop_terms\u001b[0m\u001b[0;34m.\u001b[0m\u001b[0mT\u001b[0m\u001b[0;34m.\u001b[0m\u001b[0miterrows\u001b[0m\u001b[0;34m(\u001b[0m\u001b[0;34m)\u001b[0m\u001b[0;34m,\u001b[0m \u001b[0;36m1\u001b[0m\u001b[0;34m)\u001b[0m\u001b[0;34m)\u001b[0m\u001b[0;34m\u001b[0m\u001b[0;34m\u001b[0m\u001b[0m\n\u001b[1;32m    257\u001b[0m    \u001b[0;32mreturn\u001b[0m \u001b[0mpd\u001b[0m\u001b[0;34m.\u001b[0m\u001b[0mconcat\u001b[0m\u001b[0;34m(\u001b[0m\u001b[0;34m[\u001b[0m\u001b[0mdefault_term_info\u001b[0m\u001b[0;34m]\u001b[0m \u001b[0;34m+\u001b[0m \u001b[0mlist\u001b[0m\u001b[0;34m(\u001b[0m\u001b[0mtopic_dfs\u001b[0m\u001b[0;34m)\u001b[0m\u001b[0;34m)\u001b[0m\u001b[0;34m\u001b[0m\u001b[0;34m\u001b[0m\u001b[0m\n",
      "\u001b[0;32m~/opt/anaconda3/lib/python3.7/site-packages/joblib/parallel.py\u001b[0m in \u001b[0;36m__call__\u001b[0;34m(self, iterable)\u001b[0m\n\u001b[1;32m    932\u001b[0m \u001b[0;34m\u001b[0m\u001b[0m\n\u001b[1;32m    933\u001b[0m             \u001b[0;32mwith\u001b[0m \u001b[0mself\u001b[0m\u001b[0;34m.\u001b[0m\u001b[0m_backend\u001b[0m\u001b[0;34m.\u001b[0m\u001b[0mretrieval_context\u001b[0m\u001b[0;34m(\u001b[0m\u001b[0;34m)\u001b[0m\u001b[0;34m:\u001b[0m\u001b[0;34m\u001b[0m\u001b[0;34m\u001b[0m\u001b[0m\n\u001b[0;32m--> 934\u001b[0;31m                 \u001b[0mself\u001b[0m\u001b[0;34m.\u001b[0m\u001b[0mretrieve\u001b[0m\u001b[0;34m(\u001b[0m\u001b[0;34m)\u001b[0m\u001b[0;34m\u001b[0m\u001b[0;34m\u001b[0m\u001b[0m\n\u001b[0m\u001b[1;32m    935\u001b[0m             \u001b[0;31m# Make sure that we get a last message telling us we are done\u001b[0m\u001b[0;34m\u001b[0m\u001b[0;34m\u001b[0m\u001b[0;34m\u001b[0m\u001b[0m\n\u001b[1;32m    936\u001b[0m             \u001b[0melapsed_time\u001b[0m \u001b[0;34m=\u001b[0m \u001b[0mtime\u001b[0m\u001b[0;34m.\u001b[0m\u001b[0mtime\u001b[0m\u001b[0;34m(\u001b[0m\u001b[0;34m)\u001b[0m \u001b[0;34m-\u001b[0m \u001b[0mself\u001b[0m\u001b[0;34m.\u001b[0m\u001b[0m_start_time\u001b[0m\u001b[0;34m\u001b[0m\u001b[0;34m\u001b[0m\u001b[0m\n",
      "\u001b[0;32m~/opt/anaconda3/lib/python3.7/site-packages/joblib/parallel.py\u001b[0m in \u001b[0;36mretrieve\u001b[0;34m(self)\u001b[0m\n\u001b[1;32m    831\u001b[0m             \u001b[0;32mtry\u001b[0m\u001b[0;34m:\u001b[0m\u001b[0;34m\u001b[0m\u001b[0;34m\u001b[0m\u001b[0m\n\u001b[1;32m    832\u001b[0m                 \u001b[0;32mif\u001b[0m \u001b[0mgetattr\u001b[0m\u001b[0;34m(\u001b[0m\u001b[0mself\u001b[0m\u001b[0;34m.\u001b[0m\u001b[0m_backend\u001b[0m\u001b[0;34m,\u001b[0m \u001b[0;34m'supports_timeout'\u001b[0m\u001b[0;34m,\u001b[0m \u001b[0;32mFalse\u001b[0m\u001b[0;34m)\u001b[0m\u001b[0;34m:\u001b[0m\u001b[0;34m\u001b[0m\u001b[0;34m\u001b[0m\u001b[0m\n\u001b[0;32m--> 833\u001b[0;31m                     \u001b[0mself\u001b[0m\u001b[0;34m.\u001b[0m\u001b[0m_output\u001b[0m\u001b[0;34m.\u001b[0m\u001b[0mextend\u001b[0m\u001b[0;34m(\u001b[0m\u001b[0mjob\u001b[0m\u001b[0;34m.\u001b[0m\u001b[0mget\u001b[0m\u001b[0;34m(\u001b[0m\u001b[0mtimeout\u001b[0m\u001b[0;34m=\u001b[0m\u001b[0mself\u001b[0m\u001b[0;34m.\u001b[0m\u001b[0mtimeout\u001b[0m\u001b[0;34m)\u001b[0m\u001b[0;34m)\u001b[0m\u001b[0;34m\u001b[0m\u001b[0;34m\u001b[0m\u001b[0m\n\u001b[0m\u001b[1;32m    834\u001b[0m                 \u001b[0;32melse\u001b[0m\u001b[0;34m:\u001b[0m\u001b[0;34m\u001b[0m\u001b[0;34m\u001b[0m\u001b[0m\n\u001b[1;32m    835\u001b[0m                     \u001b[0mself\u001b[0m\u001b[0;34m.\u001b[0m\u001b[0m_output\u001b[0m\u001b[0;34m.\u001b[0m\u001b[0mextend\u001b[0m\u001b[0;34m(\u001b[0m\u001b[0mjob\u001b[0m\u001b[0;34m.\u001b[0m\u001b[0mget\u001b[0m\u001b[0;34m(\u001b[0m\u001b[0;34m)\u001b[0m\u001b[0;34m)\u001b[0m\u001b[0;34m\u001b[0m\u001b[0;34m\u001b[0m\u001b[0m\n",
      "\u001b[0;32m~/opt/anaconda3/lib/python3.7/site-packages/joblib/_parallel_backends.py\u001b[0m in \u001b[0;36mwrap_future_result\u001b[0;34m(future, timeout)\u001b[0m\n\u001b[1;32m    519\u001b[0m         AsyncResults.get from multiprocessing.\"\"\"\n\u001b[1;32m    520\u001b[0m         \u001b[0;32mtry\u001b[0m\u001b[0;34m:\u001b[0m\u001b[0;34m\u001b[0m\u001b[0;34m\u001b[0m\u001b[0m\n\u001b[0;32m--> 521\u001b[0;31m             \u001b[0;32mreturn\u001b[0m \u001b[0mfuture\u001b[0m\u001b[0;34m.\u001b[0m\u001b[0mresult\u001b[0m\u001b[0;34m(\u001b[0m\u001b[0mtimeout\u001b[0m\u001b[0;34m=\u001b[0m\u001b[0mtimeout\u001b[0m\u001b[0;34m)\u001b[0m\u001b[0;34m\u001b[0m\u001b[0;34m\u001b[0m\u001b[0m\n\u001b[0m\u001b[1;32m    522\u001b[0m         \u001b[0;32mexcept\u001b[0m \u001b[0mLokyTimeoutError\u001b[0m\u001b[0;34m:\u001b[0m\u001b[0;34m\u001b[0m\u001b[0;34m\u001b[0m\u001b[0m\n\u001b[1;32m    523\u001b[0m             \u001b[0;32mraise\u001b[0m \u001b[0mTimeoutError\u001b[0m\u001b[0;34m(\u001b[0m\u001b[0;34m)\u001b[0m\u001b[0;34m\u001b[0m\u001b[0;34m\u001b[0m\u001b[0m\n",
      "\u001b[0;32m~/opt/anaconda3/lib/python3.7/concurrent/futures/_base.py\u001b[0m in \u001b[0;36mresult\u001b[0;34m(self, timeout)\u001b[0m\n\u001b[1;32m    428\u001b[0m                 \u001b[0;32mreturn\u001b[0m \u001b[0mself\u001b[0m\u001b[0;34m.\u001b[0m\u001b[0m__get_result\u001b[0m\u001b[0;34m(\u001b[0m\u001b[0;34m)\u001b[0m\u001b[0;34m\u001b[0m\u001b[0;34m\u001b[0m\u001b[0m\n\u001b[1;32m    429\u001b[0m \u001b[0;34m\u001b[0m\u001b[0m\n\u001b[0;32m--> 430\u001b[0;31m             \u001b[0mself\u001b[0m\u001b[0;34m.\u001b[0m\u001b[0m_condition\u001b[0m\u001b[0;34m.\u001b[0m\u001b[0mwait\u001b[0m\u001b[0;34m(\u001b[0m\u001b[0mtimeout\u001b[0m\u001b[0;34m)\u001b[0m\u001b[0;34m\u001b[0m\u001b[0;34m\u001b[0m\u001b[0m\n\u001b[0m\u001b[1;32m    431\u001b[0m \u001b[0;34m\u001b[0m\u001b[0m\n\u001b[1;32m    432\u001b[0m             \u001b[0;32mif\u001b[0m \u001b[0mself\u001b[0m\u001b[0;34m.\u001b[0m\u001b[0m_state\u001b[0m \u001b[0;32min\u001b[0m \u001b[0;34m[\u001b[0m\u001b[0mCANCELLED\u001b[0m\u001b[0;34m,\u001b[0m \u001b[0mCANCELLED_AND_NOTIFIED\u001b[0m\u001b[0;34m]\u001b[0m\u001b[0;34m:\u001b[0m\u001b[0;34m\u001b[0m\u001b[0;34m\u001b[0m\u001b[0m\n",
      "\u001b[0;32m~/opt/anaconda3/lib/python3.7/threading.py\u001b[0m in \u001b[0;36mwait\u001b[0;34m(self, timeout)\u001b[0m\n\u001b[1;32m    294\u001b[0m         \u001b[0;32mtry\u001b[0m\u001b[0;34m:\u001b[0m    \u001b[0;31m# restore state no matter what (e.g., KeyboardInterrupt)\u001b[0m\u001b[0;34m\u001b[0m\u001b[0;34m\u001b[0m\u001b[0m\n\u001b[1;32m    295\u001b[0m             \u001b[0;32mif\u001b[0m \u001b[0mtimeout\u001b[0m \u001b[0;32mis\u001b[0m \u001b[0;32mNone\u001b[0m\u001b[0;34m:\u001b[0m\u001b[0;34m\u001b[0m\u001b[0;34m\u001b[0m\u001b[0m\n\u001b[0;32m--> 296\u001b[0;31m                 \u001b[0mwaiter\u001b[0m\u001b[0;34m.\u001b[0m\u001b[0macquire\u001b[0m\u001b[0;34m(\u001b[0m\u001b[0;34m)\u001b[0m\u001b[0;34m\u001b[0m\u001b[0;34m\u001b[0m\u001b[0m\n\u001b[0m\u001b[1;32m    297\u001b[0m                 \u001b[0mgotit\u001b[0m \u001b[0;34m=\u001b[0m \u001b[0;32mTrue\u001b[0m\u001b[0;34m\u001b[0m\u001b[0;34m\u001b[0m\u001b[0m\n\u001b[1;32m    298\u001b[0m             \u001b[0;32melse\u001b[0m\u001b[0;34m:\u001b[0m\u001b[0;34m\u001b[0m\u001b[0;34m\u001b[0m\u001b[0m\n",
      "\u001b[0;31mKeyboardInterrupt\u001b[0m: "
     ]
    }
   ],
   "source": [
    "import pyLDAvis.gensim\n",
    "pyLDAvis.enable_notebook()\n",
    "vis = pyLDAvis.gensim.prepare(ldamodel, corpus, dictionary)\n",
    "pyLDAvis.display(vis)"
   ]
  },
  {
   "cell_type": "code",
   "execution_count": null,
   "metadata": {
    "colab": {},
    "colab_type": "code",
    "id": "cbl2SN4ns2Rx"
   },
   "outputs": [],
   "source": []
  }
 ],
 "metadata": {
  "accelerator": "TPU",
  "colab": {
   "authorship_tag": "ABX9TyPpiHfthtE9B/f7AdwNuBhu",
   "collapsed_sections": [],
   "include_colab_link": true,
   "mount_file_id": "1L_q4LaSgVUUgHi_HiRlCjdvV-0m3iRSj",
   "name": "이민호_뉴스블로그 분석.ipynb",
   "provenance": []
  },
  "kernelspec": {
   "display_name": "Python 3",
   "language": "python",
   "name": "python3"
  },
  "language_info": {
   "codemirror_mode": {
    "name": "ipython",
    "version": 3
   },
   "file_extension": ".py",
   "mimetype": "text/x-python",
   "name": "python",
   "nbconvert_exporter": "python",
   "pygments_lexer": "ipython3",
   "version": "3.7.4"
  }
 },
 "nbformat": 4,
 "nbformat_minor": 4
}
