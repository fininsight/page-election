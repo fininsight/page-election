{
 "cells": [
  {
   "cell_type": "code",
   "execution_count": 3,
   "metadata": {},
   "outputs": [
    {
     "name": "stdout",
     "output_type": "stream",
     "text": [
      "Requirement already satisfied: tap-woocommerce in /Users/leeminho/opt/anaconda3/lib/python3.7/site-packages (0.1.2)\n",
      "Requirement already satisfied: backoff==1.3.2 in /Users/leeminho/opt/anaconda3/lib/python3.7/site-packages (from tap-woocommerce) (1.3.2)\n",
      "Requirement already satisfied: singer-python==5.0.15 in /Users/leeminho/opt/anaconda3/lib/python3.7/site-packages (from tap-woocommerce) (5.0.15)\n",
      "Requirement already satisfied: attrs==18.1.0 in /Users/leeminho/opt/anaconda3/lib/python3.7/site-packages (from tap-woocommerce) (18.1.0)\n",
      "Requirement already satisfied: python-dateutil==2.7.3 in /Users/leeminho/opt/anaconda3/lib/python3.7/site-packages (from tap-woocommerce) (2.7.3)\n",
      "Requirement already satisfied: requests==2.20.0 in /Users/leeminho/opt/anaconda3/lib/python3.7/site-packages (from tap-woocommerce) (2.20.0)\n",
      "Requirement already satisfied: pytz==2018.4 in /Users/leeminho/opt/anaconda3/lib/python3.7/site-packages (from singer-python==5.0.15->tap-woocommerce) (2018.4)\n",
      "Requirement already satisfied: simplejson==3.11.1 in /Users/leeminho/opt/anaconda3/lib/python3.7/site-packages (from singer-python==5.0.15->tap-woocommerce) (3.11.1)\n",
      "Requirement already satisfied: jsonschema==2.6.0 in /Users/leeminho/opt/anaconda3/lib/python3.7/site-packages (from singer-python==5.0.15->tap-woocommerce) (2.6.0)\n",
      "Requirement already satisfied: six>=1.5 in /Users/leeminho/opt/anaconda3/lib/python3.7/site-packages (from python-dateutil==2.7.3->tap-woocommerce) (1.12.0)\n",
      "Requirement already satisfied: chardet<3.1.0,>=3.0.2 in /Users/leeminho/opt/anaconda3/lib/python3.7/site-packages (from requests==2.20.0->tap-woocommerce) (3.0.4)\n",
      "Requirement already satisfied: idna<2.8,>=2.5 in /Users/leeminho/opt/anaconda3/lib/python3.7/site-packages (from requests==2.20.0->tap-woocommerce) (2.7)\n",
      "Requirement already satisfied: certifi>=2017.4.17 in /Users/leeminho/opt/anaconda3/lib/python3.7/site-packages (from requests==2.20.0->tap-woocommerce) (2019.9.11)\n",
      "Requirement already satisfied: urllib3<1.25,>=1.21.1 in /Users/leeminho/opt/anaconda3/lib/python3.7/site-packages (from requests==2.20.0->tap-woocommerce) (1.24.2)\n"
     ]
    }
   ],
   "source": [
    "!pip3 install tap-woocommerce\n"
   ]
  },
  {
   "cell_type": "code",
   "execution_count": 4,
   "metadata": {},
   "outputs": [
    {
     "name": "stdout",
     "output_type": "stream",
     "text": [
      "\u001b[31mERROR: Could not find a version that satisfies the requirement target-google-bigquery (from versions: none)\u001b[0m\n",
      "\u001b[31mERROR: No matching distribution found for target-google-bigquery\u001b[0m\n"
     ]
    }
   ],
   "source": [
    "!pip3 install target-google-bigquery"
   ]
  },
  {
   "cell_type": "code",
   "execution_count": 5,
   "metadata": {},
   "outputs": [
    {
     "name": "stdout",
     "output_type": "stream",
     "text": [
      "Collecting target-bigquery\n",
      "  Downloading target_bigquery-1.4.0-py3-none-any.whl (5.5 kB)\n",
      "Collecting tap-fixerio\n",
      "  Downloading tap-fixerio-0.1.3.tar.gz (3.5 kB)\n",
      "Collecting google-api-python-client>=1.6.2\n",
      "  Downloading google_api_python_client-1.8.0-py3-none-any.whl (57 kB)\n",
      "\u001b[K     |████████████████████████████████| 57 kB 760 kB/s eta 0:00:01\n",
      "\u001b[?25hRequirement already satisfied: jsonschema==2.6.0 in /Users/leeminho/opt/anaconda3/lib/python3.7/site-packages (from target-bigquery) (2.6.0)\n",
      "Collecting oauth2client\n",
      "  Downloading oauth2client-4.1.3-py2.py3-none-any.whl (98 kB)\n",
      "\u001b[K     |████████████████████████████████| 98 kB 1.4 MB/s eta 0:00:01\n",
      "\u001b[?25hRequirement already satisfied: singer-python>=1.5.0 in /Users/leeminho/opt/anaconda3/lib/python3.7/site-packages (from target-bigquery) (5.0.15)\n",
      "Collecting google-cloud-bigquery>=1.9.0\n",
      "  Downloading google_cloud_bigquery-1.24.0-py2.py3-none-any.whl (165 kB)\n",
      "\u001b[K     |████████████████████████████████| 165 kB 746 kB/s eta 0:00:01\n",
      "\u001b[?25hCollecting google-cloud>=0.34.0\n",
      "  Downloading google_cloud-0.34.0-py2.py3-none-any.whl (1.8 kB)\n",
      "Requirement already satisfied: backoff==1.3.2 in /Users/leeminho/opt/anaconda3/lib/python3.7/site-packages (from tap-fixerio) (1.3.2)\n",
      "Requirement already satisfied: requests==2.20.0 in /Users/leeminho/opt/anaconda3/lib/python3.7/site-packages (from tap-fixerio) (2.20.0)\n",
      "Collecting google-auth-httplib2>=0.0.3\n",
      "  Downloading google_auth_httplib2-0.0.3-py2.py3-none-any.whl (6.3 kB)\n",
      "Collecting httplib2<1dev,>=0.9.2\n",
      "  Downloading httplib2-0.17.0-py3-none-any.whl (95 kB)\n",
      "\u001b[K     |████████████████████████████████| 95 kB 87 kB/s eta 0:00:011\n",
      "\u001b[?25hCollecting uritemplate<4dev,>=3.0.0\n",
      "  Downloading uritemplate-3.0.1-py2.py3-none-any.whl (15 kB)\n",
      "Collecting google-api-core<2dev,>=1.13.0\n",
      "  Downloading google_api_core-1.16.0-py2.py3-none-any.whl (70 kB)\n",
      "\u001b[K     |████████████████████████████████| 70 kB 85 kB/s eta 0:00:011\n",
      "\u001b[?25hCollecting google-auth>=1.4.1\n",
      "  Downloading google_auth-1.11.3-py2.py3-none-any.whl (76 kB)\n",
      "\u001b[K     |████████████████████████████████| 76 kB 106 kB/s ta 0:00:011\n",
      "\u001b[?25hRequirement already satisfied: six<2dev,>=1.6.1 in /Users/leeminho/opt/anaconda3/lib/python3.7/site-packages (from google-api-python-client>=1.6.2->target-bigquery) (1.12.0)\n",
      "Collecting rsa>=3.1.4\n",
      "  Downloading rsa-4.0-py2.py3-none-any.whl (38 kB)\n",
      "Requirement already satisfied: pyasn1>=0.1.7 in /Users/leeminho/opt/anaconda3/lib/python3.7/site-packages (from oauth2client->target-bigquery) (0.4.8)\n",
      "Requirement already satisfied: pyasn1-modules>=0.0.5 in /Users/leeminho/opt/anaconda3/lib/python3.7/site-packages (from oauth2client->target-bigquery) (0.2.7)\n",
      "Requirement already satisfied: simplejson==3.11.1 in /Users/leeminho/opt/anaconda3/lib/python3.7/site-packages (from singer-python>=1.5.0->target-bigquery) (3.11.1)\n",
      "Requirement already satisfied: python-dateutil>=2.6.0 in /Users/leeminho/opt/anaconda3/lib/python3.7/site-packages (from singer-python>=1.5.0->target-bigquery) (2.7.3)\n",
      "Requirement already satisfied: pytz==2018.4 in /Users/leeminho/opt/anaconda3/lib/python3.7/site-packages (from singer-python>=1.5.0->target-bigquery) (2018.4)\n",
      "Collecting google-cloud-core<2.0dev,>=1.1.0\n",
      "  Downloading google_cloud_core-1.3.0-py2.py3-none-any.whl (26 kB)\n",
      "Collecting google-resumable-media<0.6dev,>=0.5.0\n",
      "  Downloading google_resumable_media-0.5.0-py2.py3-none-any.whl (38 kB)\n",
      "Collecting protobuf>=3.6.0\n",
      "  Downloading protobuf-3.11.3-cp37-cp37m-macosx_10_9_x86_64.whl (1.3 MB)\n",
      "\u001b[K     |████████████████████████████████| 1.3 MB 2.3 MB/s eta 0:00:01\n",
      "\u001b[?25hRequirement already satisfied: idna<2.8,>=2.5 in /Users/leeminho/opt/anaconda3/lib/python3.7/site-packages (from requests==2.20.0->tap-fixerio) (2.7)\n",
      "Requirement already satisfied: certifi>=2017.4.17 in /Users/leeminho/opt/anaconda3/lib/python3.7/site-packages (from requests==2.20.0->tap-fixerio) (2019.9.11)\n",
      "Requirement already satisfied: urllib3<1.25,>=1.21.1 in /Users/leeminho/opt/anaconda3/lib/python3.7/site-packages (from requests==2.20.0->tap-fixerio) (1.24.2)\n",
      "Requirement already satisfied: chardet<3.1.0,>=3.0.2 in /Users/leeminho/opt/anaconda3/lib/python3.7/site-packages (from requests==2.20.0->tap-fixerio) (3.0.4)\n",
      "Requirement already satisfied: setuptools>=34.0.0 in /Users/leeminho/opt/anaconda3/lib/python3.7/site-packages (from google-api-core<2dev,>=1.13.0->google-api-python-client>=1.6.2->target-bigquery) (41.4.0)\n",
      "Collecting googleapis-common-protos<2.0dev,>=1.6.0\n",
      "  Downloading googleapis-common-protos-1.51.0.tar.gz (35 kB)\n",
      "Collecting cachetools<5.0,>=2.0.0\n",
      "  Downloading cachetools-4.0.0-py3-none-any.whl (10 kB)\n",
      "Building wheels for collected packages: tap-fixerio, googleapis-common-protos\n",
      "  Building wheel for tap-fixerio (setup.py) ... \u001b[?25ldone\n",
      "\u001b[?25h  Created wheel for tap-fixerio: filename=tap_fixerio-0.1.3-py3-none-any.whl size=2864 sha256=fc88205e8c7e74bf0d2b548d565e0131adf0b0336301db09accf207374b9eb7d\n",
      "  Stored in directory: /Users/leeminho/Library/Caches/pip/wheels/d3/5e/bd/c38c67bebff169883ec9691fae4c83b859afa0f4eb0e8a92cf\n",
      "  Building wheel for googleapis-common-protos (setup.py) ... \u001b[?25ldone\n",
      "\u001b[?25h  Created wheel for googleapis-common-protos: filename=googleapis_common_protos-1.51.0-py3-none-any.whl size=77593 sha256=254d0bf41573e60003d9aceed4d00d6c91d0e68f2bc62e239e712c590b58ddad\n",
      "  Stored in directory: /Users/leeminho/Library/Caches/pip/wheels/4c/a1/71/5e427276ceeff277fd76878d1b19fbf4587a2845015d86864b\n",
      "Successfully built tap-fixerio googleapis-common-protos\n",
      "\u001b[31mERROR: google-cloud-bigquery 1.24.0 has requirement six<2.0.0dev,>=1.13.0, but you'll have six 1.12.0 which is incompatible.\u001b[0m\n",
      "Installing collected packages: httplib2, cachetools, rsa, google-auth, google-auth-httplib2, uritemplate, protobuf, googleapis-common-protos, google-api-core, google-api-python-client, oauth2client, google-cloud-core, google-resumable-media, google-cloud-bigquery, google-cloud, target-bigquery, tap-fixerio\n",
      "Successfully installed cachetools-4.0.0 google-api-core-1.16.0 google-api-python-client-1.8.0 google-auth-1.11.3 google-auth-httplib2-0.0.3 google-cloud-0.34.0 google-cloud-bigquery-1.24.0 google-cloud-core-1.3.0 google-resumable-media-0.5.0 googleapis-common-protos-1.51.0 httplib2-0.17.0 oauth2client-4.1.3 protobuf-3.11.3 rsa-4.0 tap-fixerio-0.1.3 target-bigquery-1.4.0 uritemplate-3.0.1\n",
      "Note: you may need to restart the kernel to use updated packages.\n"
     ]
    }
   ],
   "source": [
    "pip install target-bigquery tap-fixerio"
   ]
  },
  {
   "cell_type": "code",
   "execution_count": null,
   "metadata": {},
   "outputs": [],
   "source": []
  }
 ],
 "metadata": {
  "kernelspec": {
   "display_name": "Python 3",
   "language": "python",
   "name": "python3"
  },
  "language_info": {
   "codemirror_mode": {
    "name": "ipython",
    "version": 3
   },
   "file_extension": ".py",
   "mimetype": "text/x-python",
   "name": "python",
   "nbconvert_exporter": "python",
   "pygments_lexer": "ipython3",
   "version": "3.7.4"
  }
 },
 "nbformat": 4,
 "nbformat_minor": 4
}
