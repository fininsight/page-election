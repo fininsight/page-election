{
 "cells": [
  {
   "cell_type": "markdown",
   "metadata": {},
   "source": [
    "# Hugging Face BPE Tokenizer\n",
    "https://github.com/huggingface/tokenizers/tree/master/bindings/python"
   ]
  },
  {
   "cell_type": "markdown",
   "metadata": {},
   "source": [
    "## 학습용 파일 읽기"
   ]
  },
  {
   "cell_type": "markdown",
   "metadata": {},
   "source": [
    "---"
   ]
  },
  {
   "cell_type": "markdown",
   "metadata": {},
   "source": [
    "## 1. Word Piece Model (WPM)"
   ]
  },
  {
   "cell_type": "markdown",
   "metadata": {},
   "source": [
    "### 1) WPM 학습"
   ]
  },
  {
   "cell_type": "code",
   "execution_count": 12,
   "metadata": {},
   "outputs": [],
   "source": [
    "modelpath = \"../../model/\"\n",
    "filepath = \"../../data/\"\n",
    "category = \"정치\""
   ]
  },
  {
   "cell_type": "code",
   "execution_count": 13,
   "metadata": {},
   "outputs": [],
   "source": [
    "import os\n",
    "import pandas as pd\n",
    "from pathlib import Path\n",
    "import unicodedata\n",
    "\n",
    "def combine_files(filefolder, category, min_len = 100) :\n",
    "    pattern = \"*_{}_*.json\".format(category)\n",
    "    df_li = []\n",
    "    for path in Path(filefolder).rglob(\"*.json\"):\n",
    "        if unicodedata.normalize('NFC',str(path)).find(category) > 0 :\n",
    "            try : \n",
    "                tmp_df = pd.read_json(open(path, \"r\", encoding=\"utf8\"))\n",
    "                tmp_df = tmp_df[tmp_df['content'].apply(len) > min_len] #지정 길이 이상의 데이터만 조회\n",
    "                tmp_df = tmp_df[tmp_df['category1'].apply(len) < 20]\n",
    "                tmp_df = tmp_df[tmp_df['category2'].apply(len) < 20]\n",
    "                if (tmp_df.shape[0] > 0) :\n",
    "                    df_li.append(tmp_df) \n",
    "            except Exception as e:\n",
    "                print(\"Error file : {}\".format(path))\n",
    "                print(\"Error message : {}\".format(str(e)))\n",
    "            #print(path)\n",
    "            \n",
    "    df = pd.concat(df_li, sort=False)\n",
    "    print(\"{} rows returned\".format(df.shape[0]))\n",
    "    return df\n",
    "    \n",
    "#df = combine_files(\"../../data/2019\", \"정치\")\n",
    "#df['content'].to_csv(file, index=False)"
   ]
  },
  {
   "cell_type": "code",
   "execution_count": 6,
   "metadata": {},
   "outputs": [],
   "source": [
    "from tokenizers import BertWordPieceTokenizer\n",
    "\n",
    "def train_bertWPM(filepath, category, modelpath) :\n",
    "    tokenizer = BertWordPieceTokenizer()\n",
    "    tokenizer.train(['{}{}.csv'.format(filepath, category)])\n",
    "    tokenizer.save(modelpath, category)\n",
    "    \n",
    "#t = train_bertWPM(filepath, category, modelpath)\n",
    "#t.save(modelpath, category)"
   ]
  },
  {
   "cell_type": "code",
   "execution_count": 14,
   "metadata": {},
   "outputs": [],
   "source": [
    "modelpath = \"../../model/\"\n",
    "filepath = \"../../data/\"\n",
    "category = \"정치\"\n",
    "\n",
    "def train(category, modelpath, filepath) : \n",
    "    df = combine_files(\"../../data/2019\", category)\n",
    "    df.to_csv(\"{}{}.csv\".format(filepath, category), index=False)\n",
    "    df['content'].to_csv(\"{}{}_content.csv\".format(filepath, category), index=False)\n",
    "    #train_bertWPM(filepath, category, modelpath)\n",
    "    \n",
    " "
   ]
  },
  {
   "cell_type": "code",
   "execution_count": 15,
   "metadata": {},
   "outputs": [
    {
     "name": "stdout",
     "output_type": "stream",
     "text": [
      "Error file : ../../data/2019/03/24/20190324_경제_글로벌경제 2.json\n",
      "Error message : Expected object or value\n",
      "Error file : ../../data/2019/05/13/20190513_경제_금융 2.json\n",
      "Error message : Unexpected character found when decoding array value (2)\n",
      "Error file : ../../data/2019/05/13/20190513_경제_글로벌경제 2.json\n",
      "Error message : Unexpected character found when decoding array value (2)\n",
      "1611528 rows returned\n"
     ]
    }
   ],
   "source": [
    "train('경제', modelpath, filepath)   "
   ]
  },
  {
   "cell_type": "code",
   "execution_count": 16,
   "metadata": {},
   "outputs": [
    {
     "name": "stdout",
     "output_type": "stream",
     "text": [
      "Error file : ../../data/2019/01/03/20190103_사회_인권복지 3.json\n",
      "Error message : Expected object or value\n",
      "Error file : ../../data/2019/01/04/20190104_사회_인권복지 2.json\n",
      "Error message : Expected object or value\n",
      "Error file : ../../data/2019/01/05/20190105_사회_인권복지 2.json\n",
      "Error message : Expected object or value\n",
      "Error file : ../../data/2019/01/02/20190102_사회_인권복지 3.json\n",
      "Error message : Expected object or value\n",
      "Error file : ../../data/2019/01/11/20190111_사회_인권복지 2.json\n",
      "Error message : Expected object or value\n",
      "Error file : ../../data/2019/01/16/20190116_사회_인권복지 2.json\n",
      "Error message : Expected object or value\n",
      "Error file : ../../data/2019/01/10/20190110_사회_인권복지 2.json\n",
      "Error message : Expected object or value\n",
      "Error file : ../../data/2019/01/07/20190107_사회_인권복지 2.json\n",
      "Error message : Expected object or value\n",
      "Error file : ../../data/2019/01/09/20190109_사회_인권복지 2.json\n",
      "Error message : Expected object or value\n",
      "Error file : ../../data/2019/01/08/20190108_사회_인권복지 2.json\n",
      "Error message : Expected object or value\n",
      "Error file : ../../data/2019/01/01/20190101_사회_인권복지 3.json\n",
      "Error message : Expected object or value\n",
      "Error file : ../../data/2019/01/06/20190106_사회_인권복지 2.json\n",
      "Error message : Expected object or value\n",
      "Error file : ../../data/2019/01/15/20190115_사회_인권복지 2.json\n",
      "Error message : Expected object or value\n",
      "Error file : ../../data/2019/01/12/20190112_사회_인권복지 2.json\n",
      "Error message : Expected object or value\n",
      "Error file : ../../data/2019/01/13/20190113_사회_인권복지 2.json\n",
      "Error message : Expected object or value\n",
      "Error file : ../../data/2019/01/14/20190114_사회_인권복지 2.json\n",
      "Error message : Expected object or value\n",
      "2717764 rows returned\n"
     ]
    }
   ],
   "source": [
    "train('사회', modelpath, filepath)    "
   ]
  },
  {
   "cell_type": "code",
   "execution_count": 17,
   "metadata": {},
   "outputs": [
    {
     "name": "stdout",
     "output_type": "stream",
     "text": [
      "262363 rows returned\n"
     ]
    }
   ],
   "source": [
    "train('IT과학', modelpath, filepath)    "
   ]
  },
  {
   "cell_type": "code",
   "execution_count": 18,
   "metadata": {},
   "outputs": [
    {
     "name": "stdout",
     "output_type": "stream",
     "text": [
      "Error file : ../../data/2019/03/24/20190324_생활문화_종교 2.json\n",
      "Error message : Expected object or value\n",
      "Error file : ../../data/2019/03/24/20190324_생활문화_음식맛집 2.json\n",
      "Error message : Expected object or value\n",
      "Error file : ../../data/2019/03/24/20190324_생활문화_패션뷰티 2.json\n",
      "Error message : Expected object or value\n",
      "Error file : ../../data/2019/03/24/20190324_생활문화_날씨 2.json\n",
      "Error message : Expected object or value\n",
      "Error file : ../../data/2019/03/24/20190324_생활문화_책 2.json\n",
      "Error message : Expected object or value\n",
      "Error file : ../../data/2019/03/24/20190324_생활문화_도로교통 2.json\n",
      "Error message : Expected object or value\n",
      "Error file : ../../data/2019/03/24/20190324_생활문화_자동차시승기 2.json\n",
      "Error message : Expected object or value\n",
      "Error file : ../../data/2019/03/24/20190324_생활문화_여행레저 2.json\n",
      "Error message : Expected object or value\n",
      "Error file : ../../data/2019/03/24/20190324_생활문화_건강정보 2.json\n",
      "Error message : Expected object or value\n",
      "Error file : ../../data/2019/03/24/20190324_생활문화_생활문화일반 2.json\n",
      "Error message : Expected object or value\n",
      "Error file : ../../data/2019/03/24/20190324_생활문화_공연전시 2.json\n",
      "Error message : Expected object or value\n",
      "Error file : ../../data/2019/03/23/20190323_생활문화_책 2.json\n",
      "Error message : Expected object or value\n",
      "Error file : ../../data/2019/03/23/20190323_생활문화_건강정보 2.json\n",
      "Error message : Expected object or value\n",
      "449130 rows returned\n"
     ]
    }
   ],
   "source": [
    "train('생활문화', modelpath, filepath)    "
   ]
  },
  {
   "cell_type": "code",
   "execution_count": 19,
   "metadata": {},
   "outputs": [
    {
     "name": "stdout",
     "output_type": "stream",
     "text": [
      "1202730 rows returned\n"
     ]
    }
   ],
   "source": [
    "train('정치', modelpath, filepath)  "
   ]
  },
  {
   "cell_type": "code",
   "execution_count": 39,
   "metadata": {},
   "outputs": [],
   "source": [
    "from tokenizers import BertWordPieceTokenizer\n",
    "\n",
    "def load_bertWPM(modelpath, modelname)\n",
    "    # Load a BPE Model\n",
    "    vocab = \"{}/{}-vocab.txt\".format(modelpath, modelname)\n",
    "    return = BertWordPieceTokenizer(vocab)"
   ]
  },
  {
   "cell_type": "code",
   "execution_count": 29,
   "metadata": {},
   "outputs": [
    {
     "ename": "Exception",
     "evalue": "Install MeCab in order to use it: http://konlpy.org/en/latest/install/",
     "output_type": "error",
     "traceback": [
      "\u001b[0;31m---------------------------------------------------------------------------\u001b[0m",
      "\u001b[0;31mNameError\u001b[0m                                 Traceback (most recent call last)",
      "\u001b[0;32m~/.local/lib/python3.6/site-packages/konlpy/tag/_mecab.py\u001b[0m in \u001b[0;36m__init__\u001b[0;34m(self, dicpath)\u001b[0m\n\u001b[1;32m    107\u001b[0m         \u001b[0;32mtry\u001b[0m\u001b[0;34m:\u001b[0m\u001b[0;34m\u001b[0m\u001b[0;34m\u001b[0m\u001b[0m\n\u001b[0;32m--> 108\u001b[0;31m             \u001b[0mself\u001b[0m\u001b[0;34m.\u001b[0m\u001b[0mtagger\u001b[0m \u001b[0;34m=\u001b[0m \u001b[0mTagger\u001b[0m\u001b[0;34m(\u001b[0m\u001b[0;34m'-d %s'\u001b[0m \u001b[0;34m%\u001b[0m \u001b[0mdicpath\u001b[0m\u001b[0;34m)\u001b[0m\u001b[0;34m\u001b[0m\u001b[0;34m\u001b[0m\u001b[0m\n\u001b[0m\u001b[1;32m    109\u001b[0m             \u001b[0mself\u001b[0m\u001b[0;34m.\u001b[0m\u001b[0mtagset\u001b[0m \u001b[0;34m=\u001b[0m \u001b[0mutils\u001b[0m\u001b[0;34m.\u001b[0m\u001b[0mread_json\u001b[0m\u001b[0;34m(\u001b[0m\u001b[0;34m'%s/data/tagset/mecab.json'\u001b[0m \u001b[0;34m%\u001b[0m \u001b[0mutils\u001b[0m\u001b[0;34m.\u001b[0m\u001b[0minstallpath\u001b[0m\u001b[0;34m)\u001b[0m\u001b[0;34m\u001b[0m\u001b[0;34m\u001b[0m\u001b[0m\n",
      "\u001b[0;31mNameError\u001b[0m: name 'Tagger' is not defined",
      "\nDuring handling of the above exception, another exception occurred:\n",
      "\u001b[0;31mException\u001b[0m                                 Traceback (most recent call last)",
      "\u001b[0;32m<ipython-input-29-33f388f9565d>\u001b[0m in \u001b[0;36m<module>\u001b[0;34m()\u001b[0m\n\u001b[1;32m     58\u001b[0m             \u001b[0;32mreturn\u001b[0m \u001b[0mdic\u001b[0m\u001b[0;34m.\u001b[0m\u001b[0mappend\u001b[0m\u001b[0;34m(\u001b[0m\u001b[0;34m(\u001b[0m\u001b[0mword\u001b[0m\u001b[0;34m,\u001b[0m \u001b[0mpos\u001b[0m\u001b[0;34m,\u001b[0m \u001b[0mtokens\u001b[0m\u001b[0;34m)\u001b[0m\u001b[0;34m)\u001b[0m\u001b[0;34m\u001b[0m\u001b[0;34m\u001b[0m\u001b[0m\n\u001b[1;32m     59\u001b[0m \u001b[0;34m\u001b[0m\u001b[0m\n\u001b[0;32m---> 60\u001b[0;31m \u001b[0mdic\u001b[0m \u001b[0;34m=\u001b[0m \u001b[0mcreate_dict\u001b[0m\u001b[0;34m(\u001b[0m\u001b[0mmodelpath\u001b[0m\u001b[0;34m,\u001b[0m \u001b[0mcategory\u001b[0m\u001b[0;34m)\u001b[0m\u001b[0;34m\u001b[0m\u001b[0;34m\u001b[0m\u001b[0m\n\u001b[0m",
      "\u001b[0;32m<ipython-input-29-33f388f9565d>\u001b[0m in \u001b[0;36mcreate_dict\u001b[0;34m(modelpath, modelname)\u001b[0m\n\u001b[1;32m     13\u001b[0m \u001b[0;34m\u001b[0m\u001b[0m\n\u001b[1;32m     14\u001b[0m \u001b[0;34m\u001b[0m\u001b[0m\n\u001b[0;32m---> 15\u001b[0;31m     \u001b[0mmecab\u001b[0m \u001b[0;34m=\u001b[0m \u001b[0mMecab\u001b[0m\u001b[0;34m(\u001b[0m\u001b[0;34m)\u001b[0m\u001b[0;34m\u001b[0m\u001b[0;34m\u001b[0m\u001b[0m\n\u001b[0m\u001b[1;32m     16\u001b[0m     \u001b[0mdct\u001b[0m \u001b[0;34m=\u001b[0m \u001b[0mdefaultdict\u001b[0m\u001b[0;34m(\u001b[0m\u001b[0;34m)\u001b[0m\u001b[0;34m\u001b[0m\u001b[0;34m\u001b[0m\u001b[0m\n\u001b[1;32m     17\u001b[0m     \u001b[0mdic\u001b[0m \u001b[0;34m=\u001b[0m \u001b[0;34m[\u001b[0m\u001b[0;34m]\u001b[0m\u001b[0;34m\u001b[0m\u001b[0;34m\u001b[0m\u001b[0m\n",
      "\u001b[0;32m~/.local/lib/python3.6/site-packages/konlpy/tag/_mecab.py\u001b[0m in \u001b[0;36m__init__\u001b[0;34m(self, dicpath)\u001b[0m\n\u001b[1;32m    111\u001b[0m             \u001b[0;32mraise\u001b[0m \u001b[0mException\u001b[0m\u001b[0;34m(\u001b[0m\u001b[0;34m'The MeCab dictionary does not exist at \"%s\". Is the dictionary correctly installed?\\nYou can also try entering the dictionary path when initializing the Mecab class: \"Mecab(\\'/some/dic/path\\')\"'\u001b[0m \u001b[0;34m%\u001b[0m \u001b[0mdicpath\u001b[0m\u001b[0;34m)\u001b[0m\u001b[0;34m\u001b[0m\u001b[0;34m\u001b[0m\u001b[0m\n\u001b[1;32m    112\u001b[0m         \u001b[0;32mexcept\u001b[0m \u001b[0mNameError\u001b[0m\u001b[0;34m:\u001b[0m\u001b[0;34m\u001b[0m\u001b[0;34m\u001b[0m\u001b[0m\n\u001b[0;32m--> 113\u001b[0;31m             \u001b[0;32mraise\u001b[0m \u001b[0mException\u001b[0m\u001b[0;34m(\u001b[0m\u001b[0;34m'Install MeCab in order to use it: http://konlpy.org/en/latest/install/'\u001b[0m\u001b[0;34m)\u001b[0m\u001b[0;34m\u001b[0m\u001b[0;34m\u001b[0m\u001b[0m\n\u001b[0m\u001b[1;32m    114\u001b[0m \u001b[0;34m\u001b[0m\u001b[0m\n\u001b[1;32m    115\u001b[0m     \u001b[0;32mdef\u001b[0m \u001b[0m__setstate__\u001b[0m\u001b[0;34m(\u001b[0m\u001b[0mself\u001b[0m\u001b[0;34m,\u001b[0m \u001b[0mstate\u001b[0m\u001b[0;34m)\u001b[0m\u001b[0;34m:\u001b[0m\u001b[0;34m\u001b[0m\u001b[0;34m\u001b[0m\u001b[0m\n",
      "\u001b[0;31mException\u001b[0m: Install MeCab in order to use it: http://konlpy.org/en/latest/install/"
     ]
    }
   ],
   "source": [
    "from konlpy.tag import Mecab\n",
    "from collections import defaultdict\n",
    "import pandas as pd\n",
    "import unicodedata\n",
    "\n",
    "def create_dict(modelpath, modelname) :\n",
    "    def combine_tokens(tokens, pos = \"NNP\") :\n",
    "        return ''.join([t[0] for t in tokens]), pos\n",
    "    \n",
    "    file = open(\"{}{}-vocab.txt\".format(modelpath, modelname), 'r') \n",
    "    vocabs = file.read().split('\\n')\n",
    "    vocabs = [unicodedata.normalize('NFC',vocab) for vocab in vocabs if  (\"#\" not in vocab)]\n",
    "\n",
    "\n",
    "    mecab = Mecab()\n",
    "    dct = defaultdict()\n",
    "    dic = []\n",
    "\n",
    "    for vocab in vocabs :    \n",
    "        word = \"\"\n",
    "        pos = \"\"\n",
    "\n",
    "        tokens = mecab.pos(vocab.replace(\"##\",\"\"))\n",
    "\n",
    "        if len(tokens) == 1 :\n",
    "            continue\n",
    "        elif  len(tokens) >1 : \n",
    "            pos_list = [t[1][0] for t in tokens]\n",
    "            word = pos = \"\"\n",
    "\n",
    "            if \"의\" in vocab[-1] :\n",
    "                if vocab[-2:] in [\"들의\", \"과의\", \"와의\"] :\n",
    "                    tokens = mecab.pos(vocab[:-2])\n",
    "                    vocab = vocab[:-2]\n",
    "                elif vocab[-2:] == \"주주의\" :\n",
    "                    tokens = mecab.pos(vocab[:-1])\n",
    "                    vocab = vocab[:-1]\n",
    "                elif vocab[-2:] == \"회의\" :\n",
    "                    word, pos = combine_tokens(tokens)         \n",
    "                else :\n",
    "                    tokens = mecab.pos(vocab[:-1])\n",
    "                    if (len(tokens) == 1) | ('SY' in [t[1] for t in tokens]) :\n",
    "                        continue\n",
    "            elif list(set(pos_list)) == [\"N\"] : \n",
    "                pass         \n",
    "            elif 'SY' in [t[1] for t in tokens] :\n",
    "                continue\n",
    "            elif (tokens[-1][1] in [\"NNG\", \"NNP\"]) :\n",
    "                pos = tokens[-1][1]\n",
    "            elif ('N' in pos_list ) & (len(pos_list) > 3) :\n",
    "                continue\n",
    "            elif 'N' not in pos_list :\n",
    "                continue    \n",
    "            else :            \n",
    "                continue \n",
    "\n",
    "            word, pos = combine_tokens(tokens) \n",
    "            return dic.append((word, pos, tokens))\n",
    "              \n",
    "dic = create_dict(modelpath, category)                "
   ]
  },
  {
   "cell_type": "code",
   "execution_count": 107,
   "metadata": {},
   "outputs": [
    {
     "name": "stdout",
     "output_type": "stream",
     "text": [
      "2196\n",
      "('재배포', 'NNP', [('재', 'XPN'), ('배포', 'NNG')])\n",
      "('정치일반', 'NNP', [('정치', 'NNG'), ('일반', 'NNG')])\n",
      "('무단전재', 'NNP', [('무단', 'NNG'), ('전재', 'NNG')])\n",
      "('더불어민주당', 'NNP', [('더불', 'VV'), ('어', 'EC'), ('민주당', 'NNP')])\n",
      "('공감언론', 'NNP', [('공감', 'NNG'), ('언론', 'NNG')])\n",
      "('바른미래', 'NNP', [('바른', 'VA+ETM'), ('미래', 'NNG')])\n",
      "('국회의', 'NNP', [('국', 'NNG'), ('회의', 'NNG')])\n",
      "('뉴시스통신사', 'NNP', [('뉴시스', 'NNP'), ('통신사', 'NNG')])\n",
      "('기자회견', 'NNP', [('기자', 'NNG'), ('회견', 'NNG')])\n",
      "('비례대표', 'NNP', [('비례', 'NNG'), ('대표', 'NNG')])\n"
     ]
    },
    {
     "data": {
      "text/plain": [
       "True"
      ]
     },
     "execution_count": 107,
     "metadata": {},
     "output_type": "execute_result"
    }
   ],
   "source": [
    "print(len(dic))\n",
    "for t in dic[:10] :\n",
    "    print(t)\n",
    "\n",
    "'대북특별대표' in [w[0] for w in dic]"
   ]
  },
  {
   "cell_type": "code",
   "execution_count": null,
   "metadata": {},
   "outputs": [],
   "source": [
    "def tokenize(category, text) :\n",
    "    tokenized_text = []\n",
    "    return tokenized_text"
   ]
  },
  {
   "cell_type": "markdown",
   "metadata": {},
   "source": [
    "### 2) WPM 활용 토큰화"
   ]
  },
  {
   "cell_type": "code",
   "execution_count": 15,
   "metadata": {},
   "outputs": [],
   "source": [
    "# Multiprocessing 으로 변경\n",
    "import re\n",
    "import numpy as np\n",
    "\n",
    "def tokenizeBySplit(contents) :\n",
    "    hangul = re.compile('[^ \\u3131-\\u3163\\uac00-\\ud7a3]+')\n",
    "\n",
    "    tokenized_text = []\n",
    "    cnt = 1\n",
    "\n",
    "    for content in contents :\n",
    "        try :\n",
    "            if content == np.nan :\n",
    "                continue \n",
    "                \n",
    "            text = hangul.sub('', content)\n",
    "            tokenized_text = tokenized_text + [w for w in tokenizer.encode(text).tokens if len(w) > 1]\n",
    "\n",
    "            cnt += 1\n",
    "            if cnt % 1000 == 0 : \n",
    "                print(\"{} / {}\".format(cnt, len(contents)))\n",
    "        except Exception as e:\n",
    "            continue\n",
    "            #print(str(e))\n",
    "            #print(content)\n",
    "            \n",
    "    return tokenized_text\n",
    "\n",
    "import multiprocessing\n",
    "\n",
    "def tokenize(contents) :\n",
    "    chunk_size = int(len(contents)/multiprocessing.cpu_count())-3\n",
    "    li_split = [contents[i:i + chunk_size] for i in range(0, len(contents), chunk_size)]\n",
    "    pool = multiprocessing.Pool(processes=multiprocessing.cpu_count())\n",
    "    ret = pool.map(tokenizeBySplit, li_split)\n",
    "    \n",
    "    tokenized_text = []\n",
    "    for text in ret :\n",
    "        #print(text)\n",
    "        tokenized_text = tokenized_text + [token.replace(\"##\",\"\").replace(\"▁\",\"\") for token in text if (token not in ('[CLS]','[SEP]','[UNK]')) & (len(token.replace(\"##\",\"\"))>1)]\n",
    "    \n",
    "    return tokenized_text\n",
    "\n",
    "tokenized_text = tokenize(contents[:100])"
   ]
  },
  {
   "cell_type": "code",
   "execution_count": 16,
   "metadata": {},
   "outputs": [
    {
     "data": {
      "text/plain": [
       "'동영상'"
      ]
     },
     "execution_count": 16,
     "metadata": {},
     "output_type": "execute_result"
    }
   ],
   "source": [
    "tokenized_text[0]"
   ]
  },
  {
   "cell_type": "markdown",
   "metadata": {},
   "source": [
    "### 3) 토큰 분포 확인"
   ]
  },
  {
   "cell_type": "code",
   "execution_count": 21,
   "metadata": {},
   "outputs": [
    {
     "data": {
      "image/png": "[encoded data removed]",
      "text/plain": [
       "<Figure size 432x288 with 1 Axes>"
      ]
     },
     "metadata": {
      "needs_background": "light"
     },
     "output_type": "display_data"
    }
   ],
   "source": [
    "import nltk\n",
    "from nltk import FreqDist\n",
    "import matplotlib.pyplot as plt\n",
    "from matplotlib import rc\n",
    "import seaborn as sns\n",
    "%matplotlib inline\n",
    "\n",
    "def calFreqDist(tokenized_text) :\n",
    "    fdist=FreqDist(tokenized_text)\n",
    "    rc('font', family='AppleGothic')\n",
    "    fdist.plot(50)\n",
    "    return fdist\n",
    "\n",
    "fdist = calFreqDist(tokenized_text)"
   ]
  },
  {
   "cell_type": "code",
   "execution_count": 22,
   "metadata": {},
   "outputs": [
    {
     "data": {
      "text/plain": [
       "38580"
      ]
     },
     "execution_count": 22,
     "metadata": {},
     "output_type": "execute_result"
    }
   ],
   "source": [
    "len(tokenized_text)"
   ]
  },
  {
   "cell_type": "code",
   "execution_count": 24,
   "metadata": {},
   "outputs": [
    {
     "data": {
      "text/html": [
       "<div>\n",
       "<style scoped>\n",
       "    .dataframe tbody tr th:only-of-type {\n",
       "        vertical-align: middle;\n",
       "    }\n",
       "\n",
       "    .dataframe tbody tr th {\n",
       "        vertical-align: top;\n",
       "    }\n",
       "\n",
       "    .dataframe thead th {\n",
       "        text-align: right;\n",
       "    }\n",
       "</style>\n",
       "<table border=\"1\" class=\"dataframe\">\n",
       "  <thead>\n",
       "    <tr style=\"text-align: right;\">\n",
       "      <th></th>\n",
       "      <th>Mecab</th>\n",
       "      <th>PoS</th>\n",
       "      <th>WPM</th>\n",
       "      <th>Freq</th>\n",
       "    </tr>\n",
       "  </thead>\n",
       "  <tbody>\n",
       "  </tbody>\n",
       "</table>\n",
       "</div>"
      ],
      "text/plain": [
       "Empty DataFrame\n",
       "Columns: [Mecab, PoS, WPM, Freq]\n",
       "Index: []"
      ]
     },
     "execution_count": 24,
     "metadata": {},
     "output_type": "execute_result"
    }
   ],
   "source": [
    "from konlpy.tag import Mecab\n",
    "import pandas as pd\n",
    "\n",
    "def genVoab(fdist, name) :\n",
    "    mecab = Mecab()\n",
    "    vocab = []\n",
    "\n",
    "    for w in fdist.most_common(10000) :\n",
    "        pos = mecab.pos(w[0])\n",
    "        if (pos[0][1][0] == \"N\") & (len(pos[0][0]) > 1) & (len(pos)>1) & (w[1]>100):\n",
    "            m = str(pos)\n",
    "            b = \"\".join([p[0] for p in pos])\n",
    "            p = \",\".join([p[1] for p in pos])\n",
    "            f = w[1]\n",
    "            #print(str(pos) + \" \" + str(w[1]) + \" \" + str(b))\n",
    "            vocab.append((m,p,b,f))\n",
    "\n",
    "    return pd.DataFrame(vocab, columns=['Mecab', 'PoS', name, 'Freq'])\n",
    "\n",
    "df = genVoab(fdist, \"WPM\")\n",
    "df.to_csv(\"./dict_wpm.csv\")\n",
    "df.head(50)        "
   ]
  },
  {
   "cell_type": "markdown",
   "metadata": {},
   "source": [
    "---"
   ]
  },
  {
   "cell_type": "markdown",
   "metadata": {},
   "source": [
    "## Sentence Piece Model (SPM)"
   ]
  },
  {
   "cell_type": "code",
   "execution_count": 9,
   "metadata": {},
   "outputs": [
    {
     "data": {
      "text/plain": [
       "['./model/spm/bpe_20200319-vocab.json', './model/spm/bpe_20200319-merges.txt']"
      ]
     },
     "execution_count": 9,
     "metadata": {},
     "output_type": "execute_result"
    }
   ],
   "source": [
    "from tokenizers import SentencePieceBPETokenizer\n",
    "tokenizer = SentencePieceBPETokenizer()\n",
    "tokenizer.train(files)\n",
    "tokenizer.save(\"./model/spm/\", modelname)"
   ]
  },
  {
   "cell_type": "code",
   "execution_count": 17,
   "metadata": {},
   "outputs": [],
   "source": [
    "from tokenizers import SentencePieceBPETokenizer\n",
    "\n",
    "# Load a BPE Model\n",
    "vocab = \"./model/spm/{}-vocab.json\".format(modelname)\n",
    "merges = \"./model/spm/{}-merges.txt\".format(modelname)\n",
    "tokenizer = SentencePieceBPETokenizer(vocab, merges)"
   ]
  },
  {
   "cell_type": "code",
   "execution_count": 18,
   "metadata": {},
   "outputs": [],
   "source": [
    "tokenized_text = tokenize(contents[:100])"
   ]
  },
  {
   "cell_type": "code",
   "execution_count": 25,
   "metadata": {},
   "outputs": [
    {
     "data": {
      "image/png": "[encoded data removed]",
      "text/plain": [
       "<Figure size 432x288 with 1 Axes>"
      ]
     },
     "metadata": {
      "needs_background": "light"
     },
     "output_type": "display_data"
    }
   ],
   "source": [
    "fdist = calFreqDist(tokenized_text)"
   ]
  },
  {
   "cell_type": "code",
   "execution_count": 26,
   "metadata": {},
   "outputs": [
    {
     "data": {
      "text/html": [
       "<div>\n",
       "<style scoped>\n",
       "    .dataframe tbody tr th:only-of-type {\n",
       "        vertical-align: middle;\n",
       "    }\n",
       "\n",
       "    .dataframe tbody tr th {\n",
       "        vertical-align: top;\n",
       "    }\n",
       "\n",
       "    .dataframe thead th {\n",
       "        text-align: right;\n",
       "    }\n",
       "</style>\n",
       "<table border=\"1\" class=\"dataframe\">\n",
       "  <thead>\n",
       "    <tr style=\"text-align: right;\">\n",
       "      <th></th>\n",
       "      <th>Mecab</th>\n",
       "      <th>PoS</th>\n",
       "      <th>SPM</th>\n",
       "      <th>Freq</th>\n",
       "    </tr>\n",
       "  </thead>\n",
       "  <tbody>\n",
       "  </tbody>\n",
       "</table>\n",
       "</div>"
      ],
      "text/plain": [
       "Empty DataFrame\n",
       "Columns: [Mecab, PoS, SPM, Freq]\n",
       "Index: []"
      ]
     },
     "execution_count": 26,
     "metadata": {},
     "output_type": "execute_result"
    }
   ],
   "source": [
    "df = genVoab(fdist, \"SPM\")\n",
    "df.to_csv(\"./dict_spm.csv\")\n",
    "df.head(50)        "
   ]
  },
  {
   "cell_type": "markdown",
   "metadata": {},
   "source": [
    "---"
   ]
  },
  {
   "cell_type": "code",
   "execution_count": 1,
   "metadata": {},
   "outputs": [
    {
     "data": {
      "text/plain": [
       "[('자유한국당', 'NNP'),\n",
       " ('한국당', 'NNP'),\n",
       " ('예비', 'NNG'),\n",
       " ('후보', 'NNG'),\n",
       " ('때문', 'NNB'),\n",
       " ('에', 'JKB'),\n",
       " ('가능', 'NNG'),\n",
       " ('성', 'XSN'),\n",
       " ('국민', 'NNG'),\n",
       " ('들', 'XSN'),\n",
       " ('미래통합당', 'NNP'),\n",
       " ('필리버스터', 'NNP'),\n",
       " ('험지출마', 'NNP')]"
      ]
     },
     "execution_count": 1,
     "metadata": {},
     "output_type": "execute_result"
    }
   ],
   "source": [
    "from konlpy.tag import Mecab\n",
    "mecab = Mecab()\n",
    "mecab.pos('자유한국당한국당예비후보때문에가능성국민들미래통합당필리버스터험지출마') # 사전등록후 Mecab"
   ]
  },
  {
   "cell_type": "code",
   "execution_count": 27,
   "metadata": {},
   "outputs": [
    {
     "data": {
      "text/plain": [
       "['▁자유한국당',\n",
       " '한국당',\n",
       " '예비후보',\n",
       " '때',\n",
       " '문에',\n",
       " '가능',\n",
       " '성',\n",
       " '국민',\n",
       " '들',\n",
       " '미래통합당',\n",
       " '필리버스터',\n",
       " '험지',\n",
       " '출마']"
      ]
     },
     "execution_count": 27,
     "metadata": {},
     "output_type": "execute_result"
    }
   ],
   "source": [
    "tokenizer.encode('자유한국당한국당예비후보때문에가능성국민들미래통합당필리버스터험지출마').tokens"
   ]
  },
  {
   "cell_type": "code",
   "execution_count": null,
   "metadata": {},
   "outputs": [],
   "source": []
  }
 ],
 "metadata": {
  "kernelspec": {
   "display_name": "Python 3",
   "language": "python",
   "name": "python3"
  },
  "language_info": {
   "codemirror_mode": {
    "name": "ipython",
    "version": 3
   },
   "file_extension": ".py",
   "mimetype": "text/x-python",
   "name": "python",
   "nbconvert_exporter": "python",
   "pygments_lexer": "ipython3",
   "version": "3.6.10"
  }
 },
 "nbformat": 4,
 "nbformat_minor": 4
}
