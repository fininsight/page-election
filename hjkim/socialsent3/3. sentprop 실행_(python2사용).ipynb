{
 "cells": [
  {
   "cell_type": "code",
   "execution_count": 1,
   "metadata": {},
   "outputs": [
    {
     "ename": "ModuleNotFoundError",
     "evalue": "No module named 'cPickle'",
     "output_type": "error",
     "traceback": [
      "\u001b[0;31m---------------------------------------------------------------------------\u001b[0m",
      "\u001b[0;31mModuleNotFoundError\u001b[0m                       Traceback (most recent call last)",
      "\u001b[0;32m<ipython-input-1-6c96921ac96e>\u001b[0m in \u001b[0;36m<module>\u001b[0;34m()\u001b[0m\n\u001b[1;32m      6\u001b[0m \u001b[0;32mimport\u001b[0m \u001b[0mrandom\u001b[0m\u001b[0;34m\u001b[0m\u001b[0;34m\u001b[0m\u001b[0m\n\u001b[1;32m      7\u001b[0m \u001b[0;32mfrom\u001b[0m \u001b[0msocialsent\u001b[0m \u001b[0;32mimport\u001b[0m \u001b[0mseeds\u001b[0m\u001b[0;34m\u001b[0m\u001b[0;34m\u001b[0m\u001b[0m\n\u001b[0;32m----> 8\u001b[0;31m \u001b[0;32mfrom\u001b[0m \u001b[0msocialsent\u001b[0m \u001b[0;32mimport\u001b[0m \u001b[0mlexicons\u001b[0m\u001b[0;34m\u001b[0m\u001b[0;34m\u001b[0m\u001b[0m\n\u001b[0m\u001b[1;32m      9\u001b[0m \u001b[0;32mfrom\u001b[0m \u001b[0msocialsent\u001b[0m\u001b[0;34m.\u001b[0m\u001b[0mpolarity_induction_methods\u001b[0m \u001b[0;32mimport\u001b[0m \u001b[0mrandom_walk\u001b[0m\u001b[0;34m,\u001b[0m\u001b[0mbootstrap\u001b[0m\u001b[0;34m\u001b[0m\u001b[0;34m\u001b[0m\u001b[0m\n\u001b[1;32m     10\u001b[0m \u001b[0;31m# from socialsent.evaluate_methods import binary_metrics\u001b[0m\u001b[0;34m\u001b[0m\u001b[0;34m\u001b[0m\u001b[0;34m\u001b[0m\u001b[0m\n",
      "\u001b[0;32m~/page-election/hjkim/socialsent/socialsent/lexicons.py\u001b[0m in \u001b[0;36m<module>\u001b[0;34m()\u001b[0m\n\u001b[1;32m      1\u001b[0m \u001b[0;32mimport\u001b[0m \u001b[0mconstants\u001b[0m\u001b[0;34m\u001b[0m\u001b[0;34m\u001b[0m\u001b[0m\n\u001b[0;32m----> 2\u001b[0;31m \u001b[0;32mfrom\u001b[0m \u001b[0msocialsent\u001b[0m \u001b[0;32mimport\u001b[0m \u001b[0mutil\u001b[0m\u001b[0;34m\u001b[0m\u001b[0;34m\u001b[0m\u001b[0m\n\u001b[0m\u001b[1;32m      3\u001b[0m \u001b[0;32mimport\u001b[0m \u001b[0mcollections\u001b[0m\u001b[0;34m\u001b[0m\u001b[0;34m\u001b[0m\u001b[0m\n\u001b[1;32m      4\u001b[0m \u001b[0;32mimport\u001b[0m \u001b[0mnumpy\u001b[0m \u001b[0;32mas\u001b[0m \u001b[0mnp\u001b[0m\u001b[0;34m\u001b[0m\u001b[0;34m\u001b[0m\u001b[0m\n\u001b[1;32m      5\u001b[0m \u001b[0;32mimport\u001b[0m \u001b[0mitertools\u001b[0m\u001b[0;34m\u001b[0m\u001b[0;34m\u001b[0m\u001b[0m\n",
      "\u001b[0;32m~/page-election/hjkim/socialsent/socialsent/util.py\u001b[0m in \u001b[0;36m<module>\u001b[0;34m()\u001b[0m\n\u001b[1;32m      1\u001b[0m \u001b[0;32mimport\u001b[0m \u001b[0mjson\u001b[0m\u001b[0;34m\u001b[0m\u001b[0;34m\u001b[0m\u001b[0m\n\u001b[1;32m      2\u001b[0m \u001b[0;32mimport\u001b[0m \u001b[0msubprocess\u001b[0m\u001b[0;34m\u001b[0m\u001b[0;34m\u001b[0m\u001b[0m\n\u001b[0;32m----> 3\u001b[0;31m \u001b[0;32mimport\u001b[0m \u001b[0mcPickle\u001b[0m\u001b[0;34m\u001b[0m\u001b[0;34m\u001b[0m\u001b[0m\n\u001b[0m\u001b[1;32m      4\u001b[0m \u001b[0;32mimport\u001b[0m \u001b[0mos\u001b[0m\u001b[0;34m\u001b[0m\u001b[0;34m\u001b[0m\u001b[0m\n\u001b[1;32m      5\u001b[0m \u001b[0;32mimport\u001b[0m \u001b[0mshutil\u001b[0m\u001b[0;34m\u001b[0m\u001b[0;34m\u001b[0m\u001b[0m\n",
      "\u001b[0;31mModuleNotFoundError\u001b[0m: No module named 'cPickle'"
     ]
    }
   ],
   "source": [
    "## 내용수정 ### #############\n",
    "# -*- coding: utf-8 -*- \n",
    "import timeit\n",
    "import time\n",
    "import pandas as pd\n",
    "import random\n",
    "from socialsent import seeds\n",
    "from socialsent import lexicons\n",
    "from socialsent.polarity_induction_methods import random_walk,bootstrap\n",
    "# from socialsent.evaluate_methods import binary_metrics\n",
    "from socialsent.representations.representation_factory import create_representation"
   ]
  },
  {
   "cell_type": "markdown",
   "metadata": {},
   "source": []
  },
  {
   "cell_type": "code",
   "execution_count": null,
   "metadata": {},
   "outputs": [],
   "source": [
    "if __name__ == \"__main__\":\n",
    "    \n",
    "    start = time.strftime('%c', time.localtime(time.time()))\n",
    "    start_1 = timeit.default_timer()\n",
    "    print('START TIME :',start)\n",
    "    \n",
    "    print('## 전체 seed 사전 ##')\n",
    "    lexicon = lexicons.load_lexicon(\"inquirer\", remove_neutral=True)\n",
    "    pos_seeds, neg_seeds = seeds.politices_seeds()\n",
    "    print('## positive seed ##')\n",
    "    print(repr(pos_seeds).decode('string-escape'))\n",
    "    print('## negative seed ##')\n",
    "    print(repr(neg_seeds).decode('string-escape'))\n",
    "    \n",
    "    print (\"## 한글 임베딩 start..\")\n",
    "#     embeddings = create_representation(\"GIGA\", \"data/example_embeddings/glovetest2.txt\",\n",
    "#         set(lexicon.keys()).union(pos_seeds).union(neg_seeds), 100)\n",
    "    embeddings = create_representation(\"SVD\", \"data/example_embeddings/\",\n",
    "        set(lexicon.keys()).union(pos_seeds).union(neg_seeds))\n",
    "    print (\"## 한글 임베딩 finish..\")\n",
    "    \n",
    "#     print (\"## 사전에 없는 평가용 단어 구하기 start..\")\n",
    "#     eval_words = [word for word in embeddings.iw\n",
    "#         if not word in pos_seeds \n",
    "#         and not word in neg_seeds]\n",
    "#     print (\"## 사전에 없는 평가용 단어 구하기 finish..\")\n",
    "    \n",
    "    print (\"## 한글 극성 점수 구하기 start..\")\n",
    "    polarities = bootstrap(embeddings, pos_seeds, neg_seeds, num_boots=10, score_method=random_walk,\n",
    "        boot_size=10, return_all=False, n_procs=1)\n",
    "    print('polarities count : ',len(polarities))\n",
    "    print (\"## 한글 극성 점수 구하기 finish..\")\n",
    "    \n",
    "\n",
    "    end = time.strftime('%c', time.localtime(time.time()))\n",
    "    end_1 = timeit.default_timer()\n",
    "    print('END TIME :',end)\n",
    "    print((end_1 - start_1)/3600)\n",
    "\n",
    "    keys =[]\n",
    "    values=[]\n",
    "    for key, value in polarities.items():\n",
    "        keys.append(key)\n",
    "        values.append(value)\n",
    "        \n",
    "    # 극성 사전생성\n",
    "    df = pd.DataFrame({'word':keys,\n",
    "                       'pola_score':values})\n",
    "  \n",
    "    df.to_csv('./data/politices100000_pola_dic_mincount50.csv',index = False)"
   ]
  },
  {
   "cell_type": "markdown",
   "metadata": {},
   "source": [
    "-------------------------------------------"
   ]
  },
  {
   "cell_type": "code",
   "execution_count": 3,
   "metadata": {},
   "outputs": [
    {
     "data": {
      "text/plain": [
       "62513"
      ]
     },
     "execution_count": 3,
     "metadata": {},
     "output_type": "execute_result"
    }
   ],
   "source": [
    "len(df)"
   ]
  },
  {
   "cell_type": "code",
   "execution_count": null,
   "metadata": {},
   "outputs": [],
   "source": []
  }
 ],
 "metadata": {
  "kernelspec": {
   "display_name": "Python 3",
   "language": "python",
   "name": "python3"
  },
  "language_info": {
   "codemirror_mode": {
    "name": "ipython",
    "version": 3
   },
   "file_extension": ".py",
   "mimetype": "text/x-python",
   "name": "python",
   "nbconvert_exporter": "python",
   "pygments_lexer": "ipython3",
   "version": "3.6.10"
  }
 },
 "nbformat": 4,
 "nbformat_minor": 2
}
