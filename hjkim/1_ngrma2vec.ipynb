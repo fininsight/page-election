{
 "cells": [
  {
   "cell_type": "markdown",
   "metadata": {},
   "source": [
    "# 정치 데이터 - krayon 모듈 사용하여 정제 후 토큰화 "
   ]
  },
  {
   "cell_type": "markdown",
   "metadata": {},
   "source": [
    "## 정치 카테고리만 뽑아내기 변경 1111"
   ]
  },
  {
   "cell_type": "code",
   "execution_count": 1,
   "metadata": {},
   "outputs": [
    {
     "data": {
      "text/plain": [
       "1235080"
      ]
     },
     "execution_count": 1,
     "metadata": {},
     "output_type": "execute_result"
    }
   ],
   "source": [
    "import pandas as pd\n",
    "df = pd.read_csv('./ngram2vec/data/ready_for_train_dataset_1235080_20170601_20190331.csv')\n",
    "len(df)"
   ]
  },
  {
   "cell_type": "code",
   "execution_count": 2,
   "metadata": {},
   "outputs": [
    {
     "data": {
      "text/html": [
       "<div>\n",
       "<style scoped>\n",
       "    .dataframe tbody tr th:only-of-type {\n",
       "        vertical-align: middle;\n",
       "    }\n",
       "\n",
       "    .dataframe tbody tr th {\n",
       "        vertical-align: top;\n",
       "    }\n",
       "\n",
       "    .dataframe thead th {\n",
       "        text-align: right;\n",
       "    }\n",
       "</style>\n",
       "<table border=\"1\" class=\"dataframe\">\n",
       "  <thead>\n",
       "    <tr style=\"text-align: right;\">\n",
       "      <th></th>\n",
       "      <th>Unnamed: 0</th>\n",
       "      <th>Category</th>\n",
       "      <th>Content</th>\n",
       "    </tr>\n",
       "  </thead>\n",
       "  <tbody>\n",
       "    <tr>\n",
       "      <th>0</th>\n",
       "      <td>0</td>\n",
       "      <td>4</td>\n",
       "      <td>군 복무 중인 장병들이 제대하고 가장 먼저 하고 싶은 일의 1위로  여행 을 꼽았다...</td>\n",
       "    </tr>\n",
       "    <tr>\n",
       "      <th>1</th>\n",
       "      <td>1</td>\n",
       "      <td>1</td>\n",
       "      <td>최근 발병률이 증가하고 있는 허리디스크는 척추뼈와 뼈 사이에 있는 디스크 추간판 가...</td>\n",
       "    </tr>\n",
       "    <tr>\n",
       "      <th>2</th>\n",
       "      <td>2</td>\n",
       "      <td>3</td>\n",
       "      <td>루이 비통이 '비행하라, 항해하라, 여행하라' 서울 전시 프리뷰를 7일 동대문디자인...</td>\n",
       "    </tr>\n",
       "    <tr>\n",
       "      <th>3</th>\n",
       "      <td>3</td>\n",
       "      <td>3</td>\n",
       "      <td>사진 프리픽크리스마스는 종교를 떠나 남녀노소가 기다리는 날이기도 하다. 크리스마스가...</td>\n",
       "    </tr>\n",
       "    <tr>\n",
       "      <th>4</th>\n",
       "      <td>4</td>\n",
       "      <td>0</td>\n",
       "      <td>아이폰X. 자료사진아이폰 성능저하 문제가 제기된 가운데 아이폰X의 얼굴인식 잠금 기...</td>\n",
       "    </tr>\n",
       "  </tbody>\n",
       "</table>\n",
       "</div>"
      ],
      "text/plain": [
       "   Unnamed: 0  Category                                            Content\n",
       "0           0         4  군 복무 중인 장병들이 제대하고 가장 먼저 하고 싶은 일의 1위로  여행 을 꼽았다...\n",
       "1           1         1  최근 발병률이 증가하고 있는 허리디스크는 척추뼈와 뼈 사이에 있는 디스크 추간판 가...\n",
       "2           2         3  루이 비통이 '비행하라, 항해하라, 여행하라' 서울 전시 프리뷰를 7일 동대문디자인...\n",
       "3           3         3  사진 프리픽크리스마스는 종교를 떠나 남녀노소가 기다리는 날이기도 하다. 크리스마스가...\n",
       "4           4         0  아이폰X. 자료사진아이폰 성능저하 문제가 제기된 가운데 아이폰X의 얼굴인식 잠금 기..."
      ]
     },
     "execution_count": 2,
     "metadata": {},
     "output_type": "execute_result"
    }
   ],
   "source": [
    "df.head()"
   ]
  },
  {
   "cell_type": "code",
   "execution_count": 3,
   "metadata": {},
   "outputs": [
    {
     "data": {
      "text/plain": [
       "180697"
      ]
     },
     "execution_count": 3,
     "metadata": {},
     "output_type": "execute_result"
    }
   ],
   "source": [
    "df_politic = df[df['Category']==4]\n",
    "df_politic = df_politic.reset_index(drop = True)\n",
    "len(df_politic)"
   ]
  },
  {
   "cell_type": "code",
   "execution_count": null,
   "metadata": {},
   "outputs": [],
   "source": [
    "df_politic.to_csv('./ngrma2vec/data/politic_sample.csv',index = False)"
   ]
  },
  {
   "cell_type": "markdown",
   "metadata": {},
   "source": [
    "## 토큰화"
   ]
  },
  {
   "cell_type": "code",
   "execution_count": 4,
   "metadata": {},
   "outputs": [],
   "source": [
    "import os"
   ]
  },
  {
   "cell_type": "code",
   "execution_count": 5,
   "metadata": {},
   "outputs": [
    {
     "data": {
      "text/plain": [
       "'/home/jinny/page-election/krayon/analyzer/sentment'"
      ]
     },
     "execution_count": 5,
     "metadata": {},
     "output_type": "execute_result"
    }
   ],
   "source": [
    "# os.getcwd()"
   ]
  },
  {
   "cell_type": "code",
   "execution_count": 7,
   "metadata": {},
   "outputs": [
    {
     "data": {
      "text/plain": [
       "'/home/jinny/page-election/krayon/analyzer'"
      ]
     },
     "execution_count": 7,
     "metadata": {},
     "output_type": "execute_result"
    }
   ],
   "source": [
    "# os.chdir('..')\n",
    "# os.getcwd()"
   ]
  },
  {
   "cell_type": "code",
   "execution_count": 8,
   "metadata": {},
   "outputs": [
    {
     "data": {
      "text/plain": [
       "'/home/jinny/page-election/krayon'"
      ]
     },
     "execution_count": 8,
     "metadata": {},
     "output_type": "execute_result"
    }
   ],
   "source": [
    "# os.chdir('..')\n",
    "# os.getcwd()"
   ]
  },
  {
   "cell_type": "code",
   "execution_count": 10,
   "metadata": {},
   "outputs": [],
   "source": [
    "from konlpy.tag import Mecab\n",
    "import preprocessor.preprocessor as preprocessor\n",
    "mecab = Mecab()\n",
    "prep = preprocessor.Preprocessor(mecab)\n",
    "corpus = prep.naver_news_cleaning(df_politic, 'Content', options=[\"remove_duplicate\", \"only_text\"])"
   ]
  },
  {
   "cell_type": "code",
   "execution_count": 10,
   "metadata": {},
   "outputs": [],
   "source": [
    "df_politic['tokens']= corpus['Content']\n",
    "df_politic = df_politic.dropna()\n",
    "df_politic = df_politic.reset_index(drop = True)"
   ]
  },
  {
   "cell_type": "code",
   "execution_count": null,
   "metadata": {},
   "outputs": [],
   "source": [
    "df_politic.to_csv('./ngram2vec/data/politic_sample.csv',index = False)"
   ]
  },
  {
   "cell_type": "markdown",
   "metadata": {},
   "source": [
    "## 형태소 분석 완료된 파일 불러와서 랜덤으로 10만건 추출 "
   ]
  },
  {
   "cell_type": "code",
   "execution_count": 1,
   "metadata": {},
   "outputs": [
    {
     "data": {
      "text/plain": [
       "172176"
      ]
     },
     "execution_count": 1,
     "metadata": {},
     "output_type": "execute_result"
    }
   ],
   "source": [
    "import pandas as pd\n",
    "df_politic = pd.read_csv('./ngram2vec/data/politic_sample.csv')\n",
    "len(df_politic)"
   ]
  },
  {
   "cell_type": "code",
   "execution_count": 15,
   "metadata": {},
   "outputs": [
    {
     "data": {
      "text/html": [
       "<div>\n",
       "<style scoped>\n",
       "    .dataframe tbody tr th:only-of-type {\n",
       "        vertical-align: middle;\n",
       "    }\n",
       "\n",
       "    .dataframe tbody tr th {\n",
       "        vertical-align: top;\n",
       "    }\n",
       "\n",
       "    .dataframe thead th {\n",
       "        text-align: right;\n",
       "    }\n",
       "</style>\n",
       "<table border=\"1\" class=\"dataframe\">\n",
       "  <thead>\n",
       "    <tr style=\"text-align: right;\">\n",
       "      <th></th>\n",
       "      <th>Unnamed: 0</th>\n",
       "      <th>Category</th>\n",
       "      <th>Content</th>\n",
       "      <th>tokens</th>\n",
       "    </tr>\n",
       "  </thead>\n",
       "  <tbody>\n",
       "    <tr>\n",
       "      <th>0</th>\n",
       "      <td>0</td>\n",
       "      <td>4</td>\n",
       "      <td>군 복무 중인 장병들이 제대하고 가장 먼저 하고 싶은 일의 1위로  여행 을 꼽았다...</td>\n",
       "      <td>[복무, 장병, 제대, 여행, 연합뉴스, 국방부, 산하, 국방, 보원, 지난달, 현...</td>\n",
       "    </tr>\n",
       "    <tr>\n",
       "      <th>1</th>\n",
       "      <td>11</td>\n",
       "      <td>4</td>\n",
       "      <td>유승민 바른미래당 의원 22일 국립대전현충원에서 열린 제4회 서해수호의 날 기념식에...</td>\n",
       "      <td>[유승민, 미래, 의원, 국립, 대전, 현충원, 서해, 수호, 기념식, 국민, 유승...</td>\n",
       "    </tr>\n",
       "    <tr>\n",
       "      <th>2</th>\n",
       "      <td>12</td>\n",
       "      <td>4</td>\n",
       "      <td>문재인 대통령이 15일 청와대에서 수석 보좌관회의를 주재했다. 회의 시작 전 조국 ...</td>\n",
       "      <td>[문재인, 대통령, 청와대, 수석, 보좌관, 회의, 주재, 회의, 시작, 조국, 민...</td>\n",
       "    </tr>\n",
       "    <tr>\n",
       "      <th>3</th>\n",
       "      <td>18</td>\n",
       "      <td>4</td>\n",
       "      <td>7일 서울 여의도 국회도서관에서 열린 국회도서관 발전을 위한 대학생 SNS 서포터즈...</td>\n",
       "      <td>[서울, 여의도, 국회, 도서관, 국회, 도서관, 발전, 대학생, 서포터, 발대식,...</td>\n",
       "    </tr>\n",
       "    <tr>\n",
       "      <th>4</th>\n",
       "      <td>25</td>\n",
       "      <td>4</td>\n",
       "      <td>들과 만나  한국의 따뜻한 환대에 감사한다 며  신나고 훌륭했다 고 말했다. 그는 ...</td>\n",
       "      <td>[한국, 환대, 감사, 북한, 고위급, 대표단, 전날, 문재, 대통령, 대화, 용의...</td>\n",
       "    </tr>\n",
       "  </tbody>\n",
       "</table>\n",
       "</div>"
      ],
      "text/plain": [
       "   Unnamed: 0  Category                                            Content  \\\n",
       "0           0         4  군 복무 중인 장병들이 제대하고 가장 먼저 하고 싶은 일의 1위로  여행 을 꼽았다...   \n",
       "1          11         4  유승민 바른미래당 의원 22일 국립대전현충원에서 열린 제4회 서해수호의 날 기념식에...   \n",
       "2          12         4  문재인 대통령이 15일 청와대에서 수석 보좌관회의를 주재했다. 회의 시작 전 조국 ...   \n",
       "3          18         4  7일 서울 여의도 국회도서관에서 열린 국회도서관 발전을 위한 대학생 SNS 서포터즈...   \n",
       "4          25         4  들과 만나  한국의 따뜻한 환대에 감사한다 며  신나고 훌륭했다 고 말했다. 그는 ...   \n",
       "\n",
       "                                              tokens  \n",
       "0  [복무, 장병, 제대, 여행, 연합뉴스, 국방부, 산하, 국방, 보원, 지난달, 현...  \n",
       "1  [유승민, 미래, 의원, 국립, 대전, 현충원, 서해, 수호, 기념식, 국민, 유승...  \n",
       "2  [문재인, 대통령, 청와대, 수석, 보좌관, 회의, 주재, 회의, 시작, 조국, 민...  \n",
       "3  [서울, 여의도, 국회, 도서관, 국회, 도서관, 발전, 대학생, 서포터, 발대식,...  \n",
       "4  [한국, 환대, 감사, 북한, 고위급, 대표단, 전날, 문재, 대통령, 대화, 용의...  "
      ]
     },
     "execution_count": 15,
     "metadata": {},
     "output_type": "execute_result"
    }
   ],
   "source": [
    "df_politic.head()"
   ]
  },
  {
   "cell_type": "code",
   "execution_count": 3,
   "metadata": {
    "scrolled": true
   },
   "outputs": [
    {
     "name": "stdout",
     "output_type": "stream",
     "text": [
      "0\n"
     ]
    },
    {
     "name": "stderr",
     "output_type": "stream",
     "text": [
      "/home/ubuntu/anaconda3/lib/python3.6/site-packages/ipykernel_launcher.py:5: SettingWithCopyWarning: \n",
      "A value is trying to be set on a copy of a slice from a DataFrame\n",
      "\n",
      "See the caveats in the documentation: https://pandas.pydata.org/pandas-docs/stable/user_guide/indexing.html#returning-a-view-versus-a-copy\n",
      "  \"\"\"\n"
     ]
    },
    {
     "name": "stdout",
     "output_type": "stream",
     "text": [
      "1000\n",
      "2000\n",
      "3000\n",
      "4000\n",
      "5000\n",
      "6000\n",
      "7000\n",
      "8000\n",
      "9000\n",
      "10000\n",
      "11000\n",
      "12000\n",
      "13000\n",
      "14000\n",
      "15000\n",
      "16000\n",
      "17000\n",
      "18000\n",
      "19000\n",
      "20000\n",
      "21000\n",
      "22000\n",
      "23000\n",
      "24000\n",
      "25000\n",
      "26000\n",
      "27000\n",
      "28000\n",
      "29000\n",
      "30000\n",
      "31000\n",
      "32000\n",
      "33000\n",
      "34000\n",
      "35000\n",
      "36000\n",
      "37000\n",
      "38000\n",
      "39000\n",
      "40000\n",
      "41000\n",
      "42000\n",
      "43000\n",
      "44000\n",
      "45000\n",
      "46000\n",
      "47000\n",
      "48000\n",
      "49000\n",
      "50000\n",
      "51000\n",
      "52000\n",
      "53000\n",
      "54000\n",
      "55000\n",
      "56000\n",
      "57000\n",
      "58000\n",
      "59000\n",
      "60000\n",
      "61000\n",
      "62000\n",
      "63000\n",
      "64000\n",
      "65000\n",
      "66000\n",
      "67000\n",
      "68000\n",
      "69000\n",
      "70000\n",
      "71000\n",
      "72000\n",
      "73000\n",
      "74000\n",
      "75000\n",
      "76000\n",
      "77000\n",
      "78000\n",
      "79000\n",
      "80000\n",
      "81000\n",
      "82000\n",
      "83000\n",
      "84000\n",
      "85000\n",
      "86000\n",
      "87000\n",
      "88000\n",
      "89000\n",
      "90000\n",
      "91000\n",
      "92000\n",
      "93000\n",
      "94000\n",
      "95000\n",
      "96000\n",
      "97000\n",
      "98000\n",
      "99000\n",
      "100000\n",
      "101000\n",
      "102000\n",
      "103000\n",
      "104000\n",
      "105000\n",
      "106000\n",
      "107000\n",
      "108000\n",
      "109000\n",
      "110000\n",
      "111000\n",
      "112000\n",
      "113000\n",
      "114000\n",
      "115000\n",
      "116000\n",
      "117000\n",
      "118000\n",
      "119000\n",
      "120000\n",
      "121000\n",
      "122000\n",
      "123000\n",
      "124000\n",
      "125000\n",
      "126000\n",
      "127000\n",
      "128000\n",
      "129000\n",
      "130000\n",
      "131000\n",
      "132000\n",
      "133000\n",
      "134000\n",
      "135000\n",
      "136000\n",
      "137000\n",
      "138000\n",
      "139000\n",
      "140000\n",
      "141000\n",
      "142000\n",
      "143000\n",
      "144000\n",
      "145000\n",
      "146000\n",
      "147000\n",
      "148000\n",
      "149000\n",
      "150000\n",
      "151000\n",
      "152000\n",
      "153000\n",
      "154000\n",
      "155000\n",
      "156000\n",
      "157000\n",
      "158000\n",
      "159000\n",
      "160000\n",
      "161000\n",
      "162000\n",
      "163000\n",
      "164000\n",
      "165000\n",
      "166000\n",
      "167000\n",
      "168000\n",
      "169000\n",
      "170000\n",
      "171000\n",
      "172000\n"
     ]
    }
   ],
   "source": [
    "df_politic['word']=''\n",
    "for i in range(len(df_politic)):\n",
    "    if i%1000==0:\n",
    "        print(i)\n",
    "    df_politic['word'][i] = df_politic['tokens'][i].replace(\"'\",\"\").replace(\"[\",\"\").replace(\"]\",\"\").replace(\",\",\" \")"
   ]
  },
  {
   "cell_type": "code",
   "execution_count": 4,
   "metadata": {},
   "outputs": [],
   "source": [
    "tmp=[]\n",
    "for i in range(len(df_politic)):\n",
    "    tmp.append(df_politic['word'][i])"
   ]
  },
  {
   "cell_type": "code",
   "execution_count": 4,
   "metadata": {},
   "outputs": [],
   "source": [
    "import random\n",
    "random_df = pd.DataFrame.sample(df_politic,n=100000)\n",
    "random_df = random_df.reset_index(drop = True)\n",
    "tmp=[]\n",
    "for i in range(len(random_df)):\n",
    "    tmp.append(random_df['word'][i])"
   ]
  },
  {
   "cell_type": "markdown",
   "metadata": {},
   "source": [
    "저장"
   ]
  },
  {
   "cell_type": "code",
   "execution_count": 5,
   "metadata": {},
   "outputs": [],
   "source": [
    "with open('./ngram2vec/politic_news_100000_mincount50','w',encoding = 'utf-8') as f:\n",
    "    for i in tmp:\n",
    "        f.write('{}\\n'.format(i))"
   ]
  },
  {
   "cell_type": "markdown",
   "metadata": {},
   "source": [
    "#### ngram_example.sh 실행 \n",
    "변경내용 <br/>\n",
    "corpus=politic_news_mincount50 <br/>\n",
    "min_count = 50 <br/>\n",
    "ngram = 5 <br/>\n",
    "(중심단어 - 주변단어) = (5 - 5)"
   ]
  },
  {
   "cell_type": "markdown",
   "metadata": {},
   "source": [
    "-------------------------------------------------------------------------"
   ]
  },
  {
   "cell_type": "code",
   "execution_count": null,
   "metadata": {},
   "outputs": [],
   "source": []
  }
 ],
 "metadata": {
  "kernelspec": {
   "display_name": "Python 3",
   "language": "python",
   "name": "python3"
  },
  "language_info": {
   "codemirror_mode": {
    "name": "ipython",
    "version": 3
   },
   "file_extension": ".py",
   "mimetype": "text/x-python",
   "name": "python",
   "nbconvert_exporter": "python",
   "pygments_lexer": "ipython3",
   "version": "3.6.10"
  }
 },
 "nbformat": 4,
 "nbformat_minor": 2
}