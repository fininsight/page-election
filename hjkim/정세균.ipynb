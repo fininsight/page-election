{
 "cells": [
  {
   "cell_type": "markdown",
   "metadata": {},
   "source": [
    "# 데이터 수집"
   ]
  },
  {
   "cell_type": "markdown",
   "metadata": {},
   "source": [
    "# 기사 내용 전처리"
   ]
  },
  {
   "cell_type": "code",
   "execution_count": 1,
   "metadata": {},
   "outputs": [],
   "source": [
    "import pandas as pd\n",
    "df = pd.read_json('./data/정세균.json')"
   ]
  },
  {
   "cell_type": "code",
   "execution_count": 3,
   "metadata": {},
   "outputs": [
    {
     "data": {
      "text/plain": [
       "2242"
      ]
     },
     "execution_count": 3,
     "metadata": {},
     "output_type": "execute_result"
    }
   ],
   "source": [
    "len(df)"
   ]
  },
  {
   "cell_type": "code",
   "execution_count": 5,
   "metadata": {},
   "outputs": [],
   "source": [
    "# 현재 신문사 종류 43개, 신문사 갯수가 추가되면 전처리 추가 \n",
    "#'조선일보|뉴시스|아시아경제|이데일리|뉴스1|SBS|오마이뉴스|중앙일보|매일경제|문화일보|세계일보|머니투데이|서울경제|데일리안|KBS|MBN|YTN|프레시안|디지털타임스|국민일보(과거)|국민일보|헤럴드경제|한국일보|아이뉴스24|노컷뉴스|연합뉴스TV|서울일보|동아일보|한국경제|미디어오늘(과거)|미디어오늘|조세일보|파이낸셜뉴스|경향신문|채널A|머니S|TVCHOSUN|한겨례|전자신문|SBSCNBC|한국경제TV|조선비즈|ZDNetKorea'\n",
    "\n",
    "import re\n",
    "def pre_process(text):\n",
    "    # 이메일 등장하면, 그 뒷문장 모두 삭제 \n",
    "    text = re.sub(\"[a-zA-Z0-9]+\\@[a-zA-Z0-9]+\\.[a-z]{1,3}.[a-z]{1,3}.+\",'',text).strip()\n",
    "    text = re.sub('\\(.+?연합뉴스\\)','',text).strip() # (서울=연합뉴스)\n",
    "    text = re.sub('\\(.+?연합인포맥스\\)','',text).strip()\n",
    "    text = re.sub('\\(.+?이데일리\\)','',text).strip()\n",
    "    text = re.sub('\\(.+?조선일보\\)','',text).strip()\n",
    "    text = re.sub('\\(.+?뉴시스\\)','',text).strip()\n",
    "    text = re.sub('\\(.+?뉴스1\\)','',text).strip()\n",
    "    text = re.sub('\\(.+?SBS\\)','',text).strip()\n",
    "    text = re.sub('\\(.+?오마이뉴스\\)','',text).strip()\n",
    "    text = re.sub('\\(.+?중앙일보\\)','',text).strip()\n",
    "    text = re.sub('\\(.+?매일경제\\)','',text).strip()\n",
    "    text = re.sub('\\(.+?문화일보\\)','',text).strip()\n",
    "    text = re.sub('\\(.+?세계일보\\)','',text).strip()\n",
    "    text = re.sub('\\(.+?머니투데이\\)','',text).strip()\n",
    "    text = re.sub('\\(.+?서울경제\\)','',text).strip()\n",
    "    text = re.sub('\\(.+?데일리안\\)','',text).strip()\n",
    "    text = re.sub('\\(.+?KBS\\)','',text).strip()\n",
    "    text = re.sub('\\(.+?MBN\\)','',text).strip()\n",
    "    text = re.sub('\\(.+?YTN\\)','',text).strip()\n",
    "    text = re.sub('\\(.+?프레시안\\)','',text).strip()\n",
    "    text = re.sub('\\(.+?디지털타임즈\\)','',text).strip()\n",
    "    text = re.sub('\\(.+?국민일보(과거)\\)','',text).strip()\n",
    "    text = re.sub('\\(.+?국민일보\\)','',text).strip()\n",
    "    text = re.sub('\\(.+?헤드럴경제\\)','',text).strip()\n",
    "    text = re.sub('\\(.+?한국일보\\)','',text).strip()\n",
    "    text = re.sub('\\(.+?아이뉴스24\\)','',text).strip()\n",
    "    text = re.sub('\\(.+?노컷뉴스\\)','',text).strip()\n",
    "    text = re.sub('\\(.+?연합뉴스TV\\)','',text).strip()\n",
    "    text = re.sub('\\(.+?서울일보\\)','',text).strip()\n",
    "    text = re.sub('\\(.+?동아일보\\)','',text).strip()\n",
    "    text = re.sub('\\(.+?한국경제\\)','',text).strip()\n",
    "    text = re.sub('\\(.+?미디어오늘(과거)\\)','',text).strip()\n",
    "    text = re.sub('\\(.+?미디어오늘\\)','',text).strip()\n",
    "    text = re.sub('\\(.+?조세일보\\)','',text).strip()\n",
    "    text = re.sub('\\(.+?파이낸셜뉴스\\)','',text).strip()\n",
    "    text = re.sub('\\(.+?경향신문\\)','',text).strip()\n",
    "    text = re.sub('\\(.+?채널A\\)','',text).strip()\n",
    "    text = re.sub('\\(.+?머니S\\)','',text).strip()\n",
    "    text = re.sub('\\(.+?TVCHOSUN\\)','',text).strip()\n",
    "    text = re.sub('\\(.+?한겨례\\)','',text).strip()\n",
    "    text = re.sub('\\(.+?전자신문\\)','',text).strip()\n",
    "    text = re.sub('\\(.+?SBSCNBC\\)','',text).strip()\n",
    "    text = re.sub('\\(.+?한국경제TV\\)','',text).strip()\n",
    "    text = re.sub('\\(.+?조선비즈\\)','',text).strip()\n",
    "    text = re.sub('\\(.+?ZDNetKorea\\)','',text).strip()\n",
    "    text = re.sub('\\[.+?\\]','',text).strip()\n",
    "    text = re.sub('\\(사진.+?\\)','',text).strip()\n",
    "    # 신문사 이름 삭제 \n",
    "    text = re.sub('조선일보|뉴시스|아시아경제|이데일리|뉴스1|SBS|오마이뉴스|중앙일보|매일경제|문화일보|세계일보|머니투데이|서울경제|데일리안|KBS|MBN|YTN|프레시안|디지털타임스|국민일보(과거)|국민일보|헤럴드경제|한국일보|아이뉴스24|노컷뉴스|연합뉴스TV|서울일보|동아일보|한국경제|미디어오늘(과거)|미디어오늘|조세일보|파이낸셜뉴스|경향신문|채널A|머니S|TVCHOSUN|한겨례|전자신문|SBSCNBC|한국경제TV|조선비즈|ZDNetKorea','',text).strip()\n",
    "    # 000 기자, 000  가자, 000기자 삭제\n",
    "    text = re.sub('[ㄱ-힑]+ 기자|[ㄱ-힑]+  기자|[ㄱ-힑]+기자','',text).strip()    \n",
    "    # 특수기호 삭제\n",
    "    text = re.sub('[^a-zA-Z0-9ㄱ-힗.,”“\"% ]','',text).strip()\n",
    "    text = re.sub('[0-9]{1,4}.[0-9]{1,2}.[0-9]{1,2}.','',text).strip()\n",
    "    return text\n",
    "df['content'] = df['content'].map(lambda x : pre_process(x))\n",
    "df = df.dropna()\n",
    "df.to_csv('./data/정세균_전처리.csv',index = False)"
   ]
  },
  {
   "cell_type": "code",
   "execution_count": 6,
   "metadata": {},
   "outputs": [
    {
     "data": {
      "text/plain": [
       "2242"
      ]
     },
     "execution_count": 6,
     "metadata": {},
     "output_type": "execute_result"
    }
   ],
   "source": [
    "len(df)"
   ]
  },
  {
   "cell_type": "markdown",
   "metadata": {},
   "source": [
    "# 토큰화 엔그램 \n",
    "- mecab 사용 : https://konlpy-ko.readthedocs.io/ko/v0.4.3/api/konlpy.tag/"
   ]
  },
  {
   "cell_type": "code",
   "execution_count": 86,
   "metadata": {},
   "outputs": [],
   "source": [
    "import pandas as pd\n",
    "import numpy as np\n",
    "df = pd.read_csv('./data/정세균_전처리.csv')\n",
    "df = df.replace(np.nan, '', regex=True)"
   ]
  },
  {
   "cell_type": "code",
   "execution_count": 87,
   "metadata": {},
   "outputs": [
    {
     "data": {
      "text/plain": [
       "2242"
      ]
     },
     "execution_count": 87,
     "metadata": {},
     "output_type": "execute_result"
    }
   ],
   "source": [
    "len(df)"
   ]
  },
  {
   "cell_type": "code",
   "execution_count": 88,
   "metadata": {},
   "outputs": [],
   "source": [
    "def getStopwords() :\n",
    "    f = open('./data/stopwords.txt', 'r',-1,'utf-8')\n",
    "    stop_word = []\n",
    "\n",
    "    while True:\n",
    "        line = f.readline()\n",
    "        stop_word.append(line.strip())\n",
    "        if not line: break\n",
    "\n",
    "    return stop_word \n",
    "stop_word = getStopwords()"
   ]
  },
  {
   "cell_type": "code",
   "execution_count": 89,
   "metadata": {},
   "outputs": [],
   "source": [
    "def getStoppos() :\n",
    "    f = open('./data/stoppos.txt', 'r',-1,'utf-8')\n",
    "    stop_word = []\n",
    "\n",
    "    while True:\n",
    "        line = f.readline()\n",
    "        stop_word.append(line.strip())\n",
    "        if not line: break\n",
    "\n",
    "    return stop_word \n",
    "stop_pos = getStoppos()"
   ]
  },
  {
   "cell_type": "code",
   "execution_count": 90,
   "metadata": {},
   "outputs": [
    {
     "name": "stdout",
     "output_type": "stream",
     "text": [
      "0\n",
      "100\n",
      "200\n",
      "300\n",
      "400\n",
      "500\n",
      "600\n",
      "700\n",
      "800\n",
      "900\n",
      "1000\n",
      "1100\n",
      "1200\n",
      "1300\n",
      "1400\n",
      "1500\n",
      "1600\n",
      "1700\n",
      "1800\n",
      "1900\n",
      "2000\n",
      "2100\n",
      "2200\n"
     ]
    }
   ],
   "source": [
    "from konlpy.tag import Mecab\n",
    "def makenouns(text):\n",
    "    mecab = Mecab()\n",
    "    text_info = mecab.pos(text)\n",
    "    nouns = []\n",
    "    noun_tags = ['NNG', 'NNP', 'NNB', 'NR', 'NP']\n",
    "    prev_noun = ''\n",
    "    for word, tag in text_info:\n",
    "        #print(word, tag)\n",
    "        if tag in noun_tags:\n",
    "            prev_noun += (word + ' ')\n",
    "\n",
    "        elif prev_noun:\n",
    "            nouns.append(prev_noun)\n",
    "            prev_noun = ''\n",
    "    return nouns\n",
    "df['nouns']=''\n",
    "for i in range(len(df)):\n",
    "    if i%100==0:\n",
    "        print(i)\n",
    "    \n",
    "    df['nouns'][i] = makenouns(df['content'][i])\n"
   ]
  },
  {
   "cell_type": "markdown",
   "metadata": {},
   "source": [
    "# 불용어 처리 + 한글자 제거 \n",
    "- 명사만 뽑았기때문에 불용어는 별로 없을 듯 ,"
   ]
  },
  {
   "cell_type": "code",
   "execution_count": 91,
   "metadata": {
    "scrolled": true
   },
   "outputs": [
    {
     "name": "stdout",
     "output_type": "stream",
     "text": [
      "0\n",
      "100\n",
      "200\n",
      "300\n",
      "400\n",
      "500\n",
      "600\n",
      "700\n",
      "800\n",
      "900\n",
      "1000\n",
      "1100\n",
      "1200\n",
      "1300\n",
      "1400\n",
      "1500\n",
      "1600\n",
      "1700\n",
      "1800\n",
      "1900\n",
      "2000\n",
      "2100\n",
      "2200\n"
     ]
    }
   ],
   "source": [
    "for j in range(len(df)):\n",
    "    if j%100==0:\n",
    "        print(j)\n",
    "    tmp_list=[]\n",
    "    for i in range(len(df['nouns'][j])):\n",
    "        if len(df['nouns'][j][i])>1:\n",
    "            WD = df['nouns'][j][i]\n",
    "            if WD not in stop_word:\n",
    "                tmp_list.append(df['nouns'][j][i])\n",
    "    df['nouns'][j] = tmp_list"
   ]
  },
  {
   "cell_type": "code",
   "execution_count": 92,
   "metadata": {},
   "outputs": [],
   "source": [
    "df.to_csv('./data/정세균_nouns2.csv',index = False)"
   ]
  },
  {
   "cell_type": "code",
   "execution_count": 93,
   "metadata": {},
   "outputs": [],
   "source": [
    "import pandas as pd\n",
    "df = pd.read_csv('./data/정세균_nouns2.csv')"
   ]
  },
  {
   "cell_type": "code",
   "execution_count": 94,
   "metadata": {},
   "outputs": [],
   "source": [
    "import gensim\n",
    "from gensim import corpora\n",
    "from gensim.models import LdaModel\n",
    "from gensim.models import TfidfModel\n",
    "from gensim.models.coherencemodel import CoherenceModel\n",
    "import pyLDAvis.gensim\n",
    "import matplotlib.pyplot as plt\n",
    "%matplotlib inline "
   ]
  },
  {
   "cell_type": "code",
   "execution_count": 95,
   "metadata": {},
   "outputs": [],
   "source": [
    "# 전체 토큰을 리스트로 news_doc_ls에 저장 \n",
    "news_doc_ls = df['nouns'].to_list()\n",
    "# news_doc_ls를 ','로 split\n",
    "news_doc = [doc.split(',') for doc in news_doc_ls]\n",
    "# dictionary 생성\n",
    "dictionary = corpora.Dictionary(news_doc)\n",
    "# corpus 생성 \n",
    "corpus = [dictionary.doc2bow(text) for text in news_doc]\n",
    "# TF-IDF로 corpus 변경 \n",
    "tfidf_model = TfidfModel(corpus)\n",
    "corpus = tfidf_model[corpus]"
   ]
  },
  {
   "cell_type": "code",
   "execution_count": 96,
   "metadata": {},
   "outputs": [],
   "source": [
    "# 최적의 토픽 갯수 정하기\n",
    "def decisionTopicNum(start, stop, size):\n",
    "\n",
    "    model_list = []\n",
    "    coherence_values = []\n",
    "    topic_n_list = []\n",
    "    perplexity_values = []\n",
    "\n",
    "    # 멀티 프로세싱 코드 추가하기 \n",
    "    for num_topics in range(start, stop, size):\n",
    "        model = LdaModel(corpus, num_topics=num_topics, id2word = dictionary) # 이부분 \n",
    "        model_list.append(model)\n",
    "\n",
    "        coherencemodel = CoherenceModel(model=model, texts=news_doc, dictionary=dictionary, coherence='c_v')\n",
    "        coherence_values.append(coherencemodel.get_coherence())\n",
    "        topic_n_list.append(num_topics)\n",
    "        perplexity_values.append(model.log_perplexity(corpus))\n",
    "        print(num_topics)\n",
    "\n",
    "    return model_list, coherence_values, perplexity_values\n",
    "\n",
    "# 최적의 토픽 갯수를 정하기 위한 그래프 그리기\n",
    "def decisionPlotTopicNum(start, stop, size):\n",
    "\n",
    "    model_list, coherence_values, perplexity_values = decisionTopicNum(start, stop, size)\n",
    "    x = range(start, stop, size)\n",
    "    fig, ax1 = plt.subplots()\n",
    "    color = 'tab:blue'\n",
    "    ax1.set_xlabel(\"Number of Topics\")\n",
    "    ax1.set_ylabel(\"Coherence score\", color=color)\n",
    "    ax1.plot(x, coherence_values, color=color)\n",
    "    ax1.tick_params(axis='y', labelcolor=color)\n",
    "    ax2 = ax1.twinx()  # ax1과 ax2는 x축을 공유함\n",
    "\n",
    "    color = 'tab:red'\n",
    "    ax2.set_ylabel('Perplexity score', color=color)  \n",
    "    ax2.plot(x, perplexity_values, color=color)\n",
    "    ax2.tick_params(axis='y', labelcolor=color)\n",
    "\n",
    "    fig.tight_layout() \n",
    "    plt.show()"
   ]
  },
  {
   "cell_type": "code",
   "execution_count": 60,
   "metadata": {},
   "outputs": [
    {
     "name": "stdout",
     "output_type": "stream",
     "text": [
      "5\n",
      "10\n",
      "15\n",
      "20\n",
      "25\n",
      "30\n",
      "35\n",
      "40\n",
      "45\n",
      "50\n"
     ]
    },
    {
     "data": {
      "image/png": "[encoded data removed]",
      "text/plain": [
       "<Figure size 432x288 with 2 Axes>"
      ]
     },
     "metadata": {
      "needs_background": "light"
     },
     "output_type": "display_data"
    }
   ],
   "source": [
    "decisionPlotTopicNum(5,51,5) "
   ]
  },
  {
   "cell_type": "code",
   "execution_count": 97,
   "metadata": {},
   "outputs": [],
   "source": [
    "def ldaTFIDF(num_topics):\n",
    "    ldamodel = gensim.models.ldamodel.LdaModel(corpus, num_topics = num_topics, id2word = dictionary, passes=5)\n",
    "    topics = ldamodel.print_topics(num_words=10)\n",
    "    \n",
    "    for topic in topics:\n",
    "        print(topic)\n",
    "    topic_prob = ldamodel[corpus]\n",
    "    \n",
    "    return ldamodel,topic_prob,topic"
   ]
  },
  {
   "cell_type": "code",
   "execution_count": 98,
   "metadata": {
    "scrolled": false
   },
   "outputs": [
    {
     "name": "stdout",
     "output_type": "stream",
     "text": [
      "(0, '0.001*\" \\'유 의원 \\'\" + 0.001*\" \\'오세훈 법 \\'\" + 0.000*\"[\\'오늘 \\'\" + 0.000*\" \\'선대위 \\'\" + 0.000*\" \\'김 후보 \\'\" + 0.000*\" \\'지역 주민 등 \\'\" + 0.000*\" \\'시 \\'\" + 0.000*\" \\'강북 \\'\" + 0.000*\" \\'경복궁역 \\'\" + 0.000*\" \\'누리 당과 \\'\"')\n",
      "(1, '0.004*\" \\'후보 \\'\" + 0.003*\" \\'것 \\'\" + 0.002*\" \\'국민 \\'\" + 0.002*\" \\'종로 \\'\" + 0.002*\" \\'김 대표 \\'\" + 0.002*\" \\'누리 \\'\" + 0.002*\" \\'총선 \\'\" + 0.002*\" \\'오세훈 \\'\" + 0.002*\" \\'당 \\'\" + 0.002*\" \\'민주 \\'\"')\n",
      "(2, '0.001*\" \\'야권 단일 \\'\" + 0.000*\" \\'조국 \\'\" + 0.000*\" \\'띠 \\'\" + 0.000*\" \\'불리 \\'\" + 0.000*\" \\'부담 \\'\" + 0.000*\" \\'노 패권주의 \\'\" + 0.000*\" \\'안철수 국민 \\'\" + 0.000*\" \\'김현정 \\'\" + 0.000*\" \\'희생양 \\'\" + 0.000*\" \\'야권 연대 \\'\"')\n",
      "(3, '0.001*\" \\'녹색당 \\'\" + 0.000*\" \\'광우병 \\'\" + 0.000*\" \\'작성자 영원 속 \\']\" + 0.000*\"[\\'정세균 의원 \\'\" + 0.000*\" \\'선거 운동원 \\'\" + 0.000*\" \\'하승수 위원장 \\'\" + 0.000*\" \\'쇠고기 \\'\" + 0.000*\" \\'서울시 의원 \\'\" + 0.000*\" \\'소 \\'\" + 0.000*\" \\'당 창당 발기인 \\'\"')\n",
      "(4, '0.001*\" \\'사주 \\'\" + 0.000*\" \\'옥바라지 골목 \\'\" + 0.000*\" \\'집회 \\'\" + 0.000*\" \\'정세균 의원 국민 \\'\" + 0.000*\" \\'조합 측 \\'\" + 0.000*\" \\'구역 \\'\" + 0.000*\" \\'교수 \\'\" + 0.000*\" \\'특징 \\'\" + 0.000*\" \\'촬영 편집 \\'\" + 0.000*\" \\'티브로드 뉴스 강혜진 \\'\"')\n",
      "(5, '0.000*\" \\'상금 \\'\" + 0.000*\" \\'해직 교수 \\'\" + 0.000*\" \\'총장 \\'\" + 0.000*\" \\'내부자 \\'\" + 0.000*\" \\'인맥 \\'\" + 0.000*\" \\'수원 \\'\" + 0.000*\" \\'이인수 총장 \\'\" + 0.000*\" \\'사학 비리 끝판 왕 수 원대 \\'\" + 0.000*\" \\'교비 횡령 등 \\'\" + 0.000*\" \\'공판 \\'\"')\n",
      "(6, '0.000*\" \\'민 \\'\" + 0.000*\" \\'하나님 \\'\" + 0.000*\" \\'민 국회의원 \\'\" + 0.000*\" \\'정의당 \\'\" + 0.000*\" \\'남성 \\'\" + 0.000*\" \\'유 후보 \\'\" + 0.000*\" \\'새전 국회의원 \\'\" + 0.000*\" \\'표 \\'\" + 0.000*\" \\'당 \\'\" + 0.000*\" \\'나라 \\'\"')\n",
      "(7, '0.000*\" \\'후원회 장 \\'\" + 0.000*\" \\'후원 회장 \\'\" + 0.000*\" \\'풍선 \\'\" + 0.000*\" \\'김장 \\'\" + 0.000*\" \\'밥값 \\'\" + 0.000*\" \\'상명 \\'\" + 0.000*\" \\'어린이 \\'\" + 0.000*\" \\'회 창립 \\'\" + 0.000*\" \\'최민희 후보 \\'\" + 0.000*\" \\'어르신 \\'\"')\n",
      "(8, '0.002*\" \\'면 \\'\" + 0.001*\" \\'동아 \\'\" + 0.001*\" \\'리 트윗 \\'\" + 0.001*\" \\'트윗 \\'\" + 0.001*\" \\'종로 구민 \\'\" + 0.001*\" \\'아가 \\'\" + 0.001*\" \\'경자 홍문 당 홍경자 홍 경자 홍 트리플 \\'\" + 0.001*\" \\'면 톱 \\'\" + 0.001*\" \\'박용진 후보 \\'\" + 0.001*\" \\'비례 \\'\"')\n",
      "(9, '0.000*\" \\'상하 \\'\" + 0.000*\" \\'총영사 \\'\" + 0.000*\" \\'상하이 \\'\" + 0.000*\" \\'구상찬 \\'\" + 0.000*\"[\\'종로구 국회의원 정세균 \\'\" + 0.000*\" \\'종로 살림 \\'\" + 0.000*\" \\'녹색당 \\'\" + 0.000*\" \\'정치 큰일 \\']\" + 0.000*\" \\'연수 \\'\" + 0.000*\" \\'후보 \\'\"')\n",
      "(10, '0.001*\" \\'한미 \\'\" + 0.001*\" \\'정세균 후보 \\'\" + 0.001*\" \\'논문 \\'\" + 0.000*\" \\'인사 \\']\" + 0.000*\" \\'여 \\'\" + 0.000*\" \\'최선 \\']\" + 0.000*\" \\'미 \\'\" + 0.000*\" \\'정동영 후보 \\'\" + 0.000*\" \\'선거 유세 \\'\" + 0.000*\" \\'학단협 \\'\"')\n",
      "(11, '0.001*\" \\'창신동 \\'\" + 0.000*\" \\'청운 문학 도서관 \\'\" + 0.000*\" \\'예술가 \\'\" + 0.000*\" \\'특화 지원 센터 \\'\" + 0.000*\" \\'소공 \\'\" + 0.000*\"[\\'종로 \\'\" + 0.000*\" \\'옷 \\'\" + 0.000*\" \\'창신동 골목 \\'\" + 0.000*\" \\'전공 \\'\" + 0.000*\" \\'고급 빌라 \\'\"')\n",
      "(12, '0.002*\" \\'오 후보 \\'\" + 0.000*\" \\'김 씨 \\'\" + 0.000*\" \\'등록 \\']\" + 0.000*\" \\'국회의원 정세균 \\'\" + 0.000*\" \\'김부겸 후보 \\'\" + 0.000*\" \\'지역민 \\'\" + 0.000*\" \\'구민 \\'\" + 0.000*\" \\'박 시장 \\'\" + 0.000*\" \\'기반 \\'\" + 0.000*\" \\'김대중 \\'\"')\n",
      "(13, '0.000*\" \\'균 블리 \\'\" + 0.000*\" \\'인 스타 그램 \\'\" + 0.000*\" \\'공시 \\'\" + 0.000*\" \\'동영상 불로초 아이 \\'\" + 0.000*\" \\'종로 사랑 \\'\" + 0.000*\" \\'자 배정 유상 증자 \\'\" + 0.000*\" \\'급등 \\'\" + 0.000*\" \\'호소 \\']\" + 0.000*\" \\'기호 \\'\" + 0.000*\" \\'영남 \\'\"')\n",
      "(14, '0.001*\" \\'천안 \\'\" + 0.000*\" \\'우라늄 \\'\" + 0.000*\" \\'수정구 \\'\" + 0.000*\" \\'김태년 후보 \\'\" + 0.000*\" \\'매장 \\'\" + 0.000*\" \\'민주당 김태년 후보 \\'\" + 0.000*\" \\'야권 연대 노력 \\'\" + 0.000*\" \\'성남 \\'\" + 0.000*\" \\'북한 소행 \\'\" + 0.000*\" \\'시간 수정구 \\'\"')\n",
      "(15, '0.003*\" \\'오세훈 후보 \\'\" + 0.002*\" \\'누리 당 오세훈 후보 \\'\" + 0.002*\" \\'정세균 후보 \\'\" + 0.001*\" \\'우세 \\'\" + 0.001*\" \\'정의당 \\'\" + 0.001*\" \\'복지 \\'\" + 0.001*\" \\'여론 조사 결과 \\'\" + 0.001*\" \\'전북 \\'\" + 0.001*\" \\'지급 \\'\" + 0.001*\" \\'공약 이행 \\'\"')\n",
      "(16, '0.000*\" \\'발언 \\']\" + 0.000*\" \\'선 이상 중진 의원 연석회의 \\'\" + 0.000*\"[\\'뉴스 토피아 \\'\" + 0.000*\" \\'가계 부채 특위 \\'\" + 0.000*\" \\'부실 부채 탕감 퍼포먼스 \\'\" + 0.000*\" \\'서울 여의도 국회 \\'\" + 0.000*\" \\'정치 민주 연합 당명 논란 \\'\" + 0.000*\" \\'정치 실패 인정 정가 안철수 반대 진작 \\'\" + 0.000*\" \\'발언 \\'\" + 0.000*\" \\'것 \\'\"')\n",
      "(17, '0.000*\" \\'례 \\'\" + 0.000*\" \\'수천 \\'\" + 0.000*\" \\'모씨 \\'\" + 0.000*\" \\'개정 \\'\" + 0.000*\" \\'급증 \\'\" + 0.000*\" \\'시민 단체 \\'\" + 0.000*\" \\'인식 \\'\" + 0.000*\" \\'운동 본부 \\'\" + 0.000*\" \\'찬성 \\'\" + 0.000*\" \\'발의 \\'\"')\n",
      "(18, '0.000*\" \\'심상정 정의당 대표 \\'\" + 0.000*\" \\'안철수 국민 \\'\" + 0.000*\" \\'전순옥 의원 \\'\" + 0.000*\" \\'김종인 위원장 \\'\" + 0.000*\" \\'국회 의장 \\'\" + 0.000*\" \\'김종인 \\'\" + 0.000*\" \\'김무성 \\'\" + 0.000*\" \\'표 \\'\" + 0.000*\" \\'선택 \\'\" + 0.000*\" \\'누리 \\'\"')\n",
      "(19, '0.001*\" \\'소공 \\'\" + 0.001*\" \\'성균관 \\'\" + 0.000*\" \\'전순옥 의원 \\'\" + 0.000*\" \\'최고 지지율 \\'\" + 0.000*\" \\'상공 \\'\" + 0.000*\" \\'정당 지지 \\'\" + 0.000*\" \\'하락 \\'\" + 0.000*\" \\'호소 \\']\" + 0.000*\" \\'수도권 \\'\" + 0.000*\" \\'도시 \\'\"')\n"
     ]
    }
   ],
   "source": [
    "ldamodel,topic_prob,topic = ldaTFIDF(20)"
   ]
  },
  {
   "cell_type": "code",
   "execution_count": 99,
   "metadata": {},
   "outputs": [
    {
     "data": {
      "text/html": [
       "<div>\n",
       "<style scoped>\n",
       "    .dataframe tbody tr th:only-of-type {\n",
       "        vertical-align: middle;\n",
       "    }\n",
       "\n",
       "    .dataframe tbody tr th {\n",
       "        vertical-align: top;\n",
       "    }\n",
       "\n",
       "    .dataframe thead th {\n",
       "        text-align: right;\n",
       "    }\n",
       "</style>\n",
       "<table border=\"1\" class=\"dataframe\">\n",
       "  <thead>\n",
       "    <tr style=\"text-align: right;\">\n",
       "      <th></th>\n",
       "      <th>url</th>\n",
       "      <th>author</th>\n",
       "      <th>date</th>\n",
       "      <th>title</th>\n",
       "      <th>content</th>\n",
       "      <th>nouns</th>\n",
       "      <th>topic</th>\n",
       "    </tr>\n",
       "  </thead>\n",
       "  <tbody>\n",
       "    <tr>\n",
       "      <th>0</th>\n",
       "      <td>https://blog.naver.com/PostView.nhn?blogId=ywk...</td>\n",
       "      <td>ywkimd</td>\n",
       "      <td>2015-02-02 10:32:00</td>\n",
       "      <td>미리 본 김용판 회고록 정치는 삼류 수준</td>\n",
       "      <td>국정원 여직원 댓글 사건 수사를 은폐축소한 혐의로 기소돼 29일 대법원에서 무죄가 ...</td>\n",
       "      <td>['국정원 ', '원 댓글 사건 수사 ', '은폐 축소 ', '혐의 ', '기소 '...</td>\n",
       "      <td>1</td>\n",
       "    </tr>\n",
       "    <tr>\n",
       "      <th>1</th>\n",
       "      <td>https://blog.naver.com/PostView.nhn?blogId=jjj...</td>\n",
       "      <td>jjjoojjji</td>\n",
       "      <td>2015-01-03 03:54:00</td>\n",
       "      <td>민주묘지 박지원 당대표 후보, 국립 5·18민주묘지 참배d2</td>\n",
       "      <td>국립518민주묘지에서 새정치민주연합 당 대표에 출마한 박지원, 박주선, 주승용 최고...</td>\n",
       "      <td>['국립 ', '민주 묘지 ', '정치 민주 연합 당 대표 ', '출마 ', '박지...</td>\n",
       "      <td>1</td>\n",
       "    </tr>\n",
       "    <tr>\n",
       "      <th>2</th>\n",
       "      <td>https://blog.naver.com/PostView.nhn?blogId=ver...</td>\n",
       "      <td>vera010101</td>\n",
       "      <td>2015-01-03 08:48:00</td>\n",
       "      <td>YTN / 새정치 전당대회 비노 VS. 친노 계파전쟁</td>\n",
       "      <td>피할 수 없다고 결론 내렸습니다. 당을 살리기 위해 몸을 던질 것을 결심했습니다. ...</td>\n",
       "      <td>['수 ', '결론 ', '당 ', '몸 ', '것 ', '결심 ', '문재인 ',...</td>\n",
       "      <td>1</td>\n",
       "    </tr>\n",
       "    <tr>\n",
       "      <th>3</th>\n",
       "      <td>https://blog.naver.com/PostView.nhn?blogId=cho...</td>\n",
       "      <td>chonchu</td>\n",
       "      <td>2015-01-05 11:04:00</td>\n",
       "      <td>박 대통령 국정수행 지지도, 회복세 44.8%</td>\n",
       "      <td>박 대통령 국정수행 지지도, 회복세 44.8% 박근혜 대통령 국정수행 평가가 긍정 ...</td>\n",
       "      <td>['박 대통령 국정 수행 지지 ', '회복세 ', '박근혜 대통령 국정 수행 평가 ...</td>\n",
       "      <td>1</td>\n",
       "    </tr>\n",
       "    <tr>\n",
       "      <th>4</th>\n",
       "      <td>https://blog.naver.com/PostView.nhn?blogId=jwp...</td>\n",
       "      <td>jwp615</td>\n",
       "      <td>2015-01-05 11:12:00</td>\n",
       "      <td>박지원 당대표 후보, 전북도당 신년인사회 발언요지</td>\n",
       "      <td>전북도당 신년인사회 발언요지2015. 1. 5. 月   전북이 소외되지 않도록 협력...</td>\n",
       "      <td>['전북 도당 신년 ', '사회 발언 요지 ', '月 전북 ', '소외 ', '협력...</td>\n",
       "      <td>1</td>\n",
       "    </tr>\n",
       "    <tr>\n",
       "      <th>...</th>\n",
       "      <td>...</td>\n",
       "      <td>...</td>\n",
       "      <td>...</td>\n",
       "      <td>...</td>\n",
       "      <td>...</td>\n",
       "      <td>...</td>\n",
       "      <td>...</td>\n",
       "    </tr>\n",
       "    <tr>\n",
       "      <th>2237</th>\n",
       "      <td>https://blog.naver.com/PostView.nhn?blogId=tse...</td>\n",
       "      <td>tseoul</td>\n",
       "      <td>2016-04-12 21:07:00</td>\n",
       "      <td>종로 막판유세...민심의 향방은?_티브로드서울</td>\n",
       "      <td>초박빙 그리고 혼전이라는 단어가 붙은종로에서는 후보들이 선거운동 마지막까지 유세차량...</td>\n",
       "      <td>['박빙 ', '혼전 ', '단어 ', '종로 ', '후보 ', '선거 운동 마지막...</td>\n",
       "      <td>1</td>\n",
       "    </tr>\n",
       "    <tr>\n",
       "      <th>2238</th>\n",
       "      <td>https://blog.naver.com/PostView.nhn?blogId=whi...</td>\n",
       "      <td>white710601</td>\n",
       "      <td>2016-04-12 21:25:00</td>\n",
       "      <td>시험대 오른 정치 거물들… 누가 살아 돌아올까</td>\n",
       "      <td>413 총선에서 공천파동을 겪은 새누리당은 영남권을 중심으로 한 탈당파 무소속 바람...</td>\n",
       "      <td>['총선 ', '공천 파동 ', '누리 당 ', '영남 ', '중심 ', '당파 '...</td>\n",
       "      <td>1</td>\n",
       "    </tr>\n",
       "    <tr>\n",
       "      <th>2239</th>\n",
       "      <td>https://blog.naver.com/PostView.nhn?blogId=hae...</td>\n",
       "      <td>haeun_cho</td>\n",
       "      <td>2016-04-12 22:15:00</td>\n",
       "      <td>내일 투표! 주님 기쁘시게 합시다!</td>\n",
       "      <td>한국교회와 나라의 위기가 닥치기 전에 미리 막아야합니다 내일 소중한 한표 하나님께서...</td>\n",
       "      <td>['한국 교회 ', '나라 ', '위기 ', '전 ', '표 하나님 ', '보시기 ...</td>\n",
       "      <td>1</td>\n",
       "    </tr>\n",
       "    <tr>\n",
       "      <th>2240</th>\n",
       "      <td>https://blog.naver.com/PostView.nhn?blogId=glo...</td>\n",
       "      <td>glorylake</td>\n",
       "      <td>2016-04-12 22:28:00</td>\n",
       "      <td>오세훈 vs 정세균, 황춘자 vs 진영 최종정리</td>\n",
       "      <td>오세훈 vs 정세균   오세훈을 안 뽑으면 대한민국의 미래를 포기하는 것  대선후보...</td>\n",
       "      <td>['오세훈 ', '정세균 오세훈 ', '대한민국 ', '미래 ', '포기 ', '것...</td>\n",
       "      <td>1</td>\n",
       "    </tr>\n",
       "    <tr>\n",
       "      <th>2241</th>\n",
       "      <td>https://blog.naver.com/PostView.nhn?blogId=pho...</td>\n",
       "      <td>photo0350</td>\n",
       "      <td>2016-04-12 22:32:00</td>\n",
       "      <td>정치지형 뒤흔들 전국 13곳 ‘핫 스팟’…4'13</td>\n",
       "      <td>제20대 국회의원선거 선거일 4.13 정치지형 뒤흔들 전국 13곳 핫 스팟총선이면서...</td>\n",
       "      <td>['국회의원 선거 선거일 ', '정치 지형 ', '전국 ', '곳 핫 스팟 총선 '...</td>\n",
       "      <td>1</td>\n",
       "    </tr>\n",
       "  </tbody>\n",
       "</table>\n",
       "<p>2242 rows × 7 columns</p>\n",
       "</div>"
      ],
      "text/plain": [
       "                                                    url       author  \\\n",
       "0     https://blog.naver.com/PostView.nhn?blogId=ywk...       ywkimd   \n",
       "1     https://blog.naver.com/PostView.nhn?blogId=jjj...    jjjoojjji   \n",
       "2     https://blog.naver.com/PostView.nhn?blogId=ver...   vera010101   \n",
       "3     https://blog.naver.com/PostView.nhn?blogId=cho...      chonchu   \n",
       "4     https://blog.naver.com/PostView.nhn?blogId=jwp...       jwp615   \n",
       "...                                                 ...          ...   \n",
       "2237  https://blog.naver.com/PostView.nhn?blogId=tse...       tseoul   \n",
       "2238  https://blog.naver.com/PostView.nhn?blogId=whi...  white710601   \n",
       "2239  https://blog.naver.com/PostView.nhn?blogId=hae...    haeun_cho   \n",
       "2240  https://blog.naver.com/PostView.nhn?blogId=glo...    glorylake   \n",
       "2241  https://blog.naver.com/PostView.nhn?blogId=pho...    photo0350   \n",
       "\n",
       "                     date                              title  \\\n",
       "0     2015-02-02 10:32:00             미리 본 김용판 회고록 정치는 삼류 수준   \n",
       "1     2015-01-03 03:54:00  민주묘지 박지원 당대표 후보, 국립 5·18민주묘지 참배d2   \n",
       "2     2015-01-03 08:48:00      YTN / 새정치 전당대회 비노 VS. 친노 계파전쟁   \n",
       "3     2015-01-05 11:04:00          박 대통령 국정수행 지지도, 회복세 44.8%   \n",
       "4     2015-01-05 11:12:00        박지원 당대표 후보, 전북도당 신년인사회 발언요지   \n",
       "...                   ...                                ...   \n",
       "2237  2016-04-12 21:07:00          종로 막판유세...민심의 향방은?_티브로드서울   \n",
       "2238  2016-04-12 21:25:00          시험대 오른 정치 거물들… 누가 살아 돌아올까   \n",
       "2239  2016-04-12 22:15:00                내일 투표! 주님 기쁘시게 합시다!   \n",
       "2240  2016-04-12 22:28:00         오세훈 vs 정세균, 황춘자 vs 진영 최종정리   \n",
       "2241  2016-04-12 22:32:00        정치지형 뒤흔들 전국 13곳 ‘핫 스팟’…4'13   \n",
       "\n",
       "                                                content  \\\n",
       "0     국정원 여직원 댓글 사건 수사를 은폐축소한 혐의로 기소돼 29일 대법원에서 무죄가 ...   \n",
       "1     국립518민주묘지에서 새정치민주연합 당 대표에 출마한 박지원, 박주선, 주승용 최고...   \n",
       "2     피할 수 없다고 결론 내렸습니다. 당을 살리기 위해 몸을 던질 것을 결심했습니다. ...   \n",
       "3     박 대통령 국정수행 지지도, 회복세 44.8% 박근혜 대통령 국정수행 평가가 긍정 ...   \n",
       "4     전북도당 신년인사회 발언요지2015. 1. 5. 月   전북이 소외되지 않도록 협력...   \n",
       "...                                                 ...   \n",
       "2237  초박빙 그리고 혼전이라는 단어가 붙은종로에서는 후보들이 선거운동 마지막까지 유세차량...   \n",
       "2238  413 총선에서 공천파동을 겪은 새누리당은 영남권을 중심으로 한 탈당파 무소속 바람...   \n",
       "2239  한국교회와 나라의 위기가 닥치기 전에 미리 막아야합니다 내일 소중한 한표 하나님께서...   \n",
       "2240  오세훈 vs 정세균   오세훈을 안 뽑으면 대한민국의 미래를 포기하는 것  대선후보...   \n",
       "2241  제20대 국회의원선거 선거일 4.13 정치지형 뒤흔들 전국 13곳 핫 스팟총선이면서...   \n",
       "\n",
       "                                                  nouns  topic  \n",
       "0     ['국정원 ', '원 댓글 사건 수사 ', '은폐 축소 ', '혐의 ', '기소 '...      1  \n",
       "1     ['국립 ', '민주 묘지 ', '정치 민주 연합 당 대표 ', '출마 ', '박지...      1  \n",
       "2     ['수 ', '결론 ', '당 ', '몸 ', '것 ', '결심 ', '문재인 ',...      1  \n",
       "3     ['박 대통령 국정 수행 지지 ', '회복세 ', '박근혜 대통령 국정 수행 평가 ...      1  \n",
       "4     ['전북 도당 신년 ', '사회 발언 요지 ', '月 전북 ', '소외 ', '협력...      1  \n",
       "...                                                 ...    ...  \n",
       "2237  ['박빙 ', '혼전 ', '단어 ', '종로 ', '후보 ', '선거 운동 마지막...      1  \n",
       "2238  ['총선 ', '공천 파동 ', '누리 당 ', '영남 ', '중심 ', '당파 '...      1  \n",
       "2239  ['한국 교회 ', '나라 ', '위기 ', '전 ', '표 하나님 ', '보시기 ...      1  \n",
       "2240  ['오세훈 ', '정세균 오세훈 ', '대한민국 ', '미래 ', '포기 ', '것...      1  \n",
       "2241  ['국회의원 선거 선거일 ', '정치 지형 ', '전국 ', '곳 핫 스팟 총선 '...      1  \n",
       "\n",
       "[2242 rows x 7 columns]"
      ]
     },
     "execution_count": 99,
     "metadata": {},
     "output_type": "execute_result"
    }
   ],
   "source": [
    "# 기사별 토픽 붙이기\n",
    "def TopicList(): \n",
    "    topic_prob_list = []\n",
    "    for i in topic_prob:\n",
    "        tmp = i\n",
    "        tmp.sort(key=lambda x: x[1], reverse = True)\n",
    "        topic_prob_list.append(tmp[0][0])  # 토픽 0번~9번\n",
    "\n",
    "    df['topic'] = topic_prob_list\n",
    "    return df\n",
    "\n",
    "TopicList()"
   ]
  },
  {
   "cell_type": "code",
   "execution_count": null,
   "metadata": {},
   "outputs": [],
   "source": [
    "import pyLDAvis.gensim as gensimvis\n",
    "prepared_data = gensimvis.prepare(ldamodel, corpus, dictionary)\n",
    "pyLDAvis.display(prepared_data)\n"
   ]
  },
  {
   "cell_type": "code",
   "execution_count": null,
   "metadata": {},
   "outputs": [],
   "source": [
    "topic_count = pd.DataFrame(df['topic'].value_counts().reset_index(name = 'count'))\\\n",
    "              .sort_values(by='index').rename(columns={'index':'topic'}).reset_index(drop=True)"
   ]
  },
  {
   "cell_type": "code",
   "execution_count": null,
   "metadata": {},
   "outputs": [],
   "source": [
    "topic_count"
   ]
  },
  {
   "cell_type": "code",
   "execution_count": null,
   "metadata": {},
   "outputs": [],
   "source": [
    "def plotTopic(topic_count):\n",
    "    x1 = topic_count['topic']\n",
    "    y1 = topic_count['count']\n",
    "    plt.xlabel(\"Topic number\")\n",
    "    plt.ylabel(\"Count\")\n",
    "    topic_graph = plt.bar(x1,y1,color='red')\n",
    "    return topic_graph\n",
    "plotTopic(topic_count)"
   ]
  },
  {
   "cell_type": "code",
   "execution_count": null,
   "metadata": {
    "scrolled": true
   },
   "outputs": [],
   "source": [
    "df.head(1)"
   ]
  },
  {
   "cell_type": "code",
   "execution_count": null,
   "metadata": {},
   "outputs": [],
   "source": [
    "df.to_csv('./data/정세균_토픽모델링2.csv',index = False)"
   ]
  },
  {
   "cell_type": "code",
   "execution_count": null,
   "metadata": {},
   "outputs": [],
   "source": [
    "import pandas as pd\n",
    "df = pd.read_csv('./data/정세균_토픽모델링2.csv')\n",
    "df.head()"
   ]
  },
  {
   "cell_type": "code",
   "execution_count": null,
   "metadata": {},
   "outputs": [],
   "source": [
    "from wordcloud import WordCloud\n",
    "import matplotlib.pyplot as plt \n",
    "import pandas as pd \n",
    "import math \n",
    "import os   \n",
    "def makeTopicmodeling(df,count):\n",
    "    count = count\n",
    "    for m in range(0,count):\n",
    "        try:\n",
    "            news_topic = df[df['topic']==m]\n",
    "            news_topic = news_topic.reset_index(drop = True)\n",
    "\n",
    "            if len(news_topic)>10:\n",
    "                tmp_list = []\n",
    "                for i in range(len(news_topic)):\n",
    "                    tmp = news_topic['nouns'][i]\n",
    "                    tmp_list.append(tmp)\n",
    "\n",
    "                tmp2_list = []\n",
    "                for j in range(len(tmp_list)):\n",
    "                    tmp2 = tmp_list[j].split(',')\n",
    "                    tmp2_list.append(tmp2)\n",
    "\n",
    "                answer = sum(tmp2_list,[])\n",
    "\n",
    "                tmp3_list=[]\n",
    "                for n in range(len(answer)):\n",
    "                    tmp3 = answer[n]\n",
    "                    tmp3_list.append(tmp3)\n",
    "\n",
    "\n",
    "                tmp_df = pd.DataFrame(tmp3_list)[0].value_counts()\n",
    "                TMP_df = pd.DataFrame(tmp_df)\n",
    "            #     TMP_df = TMP_df.reset_index()\n",
    "            #     # 최소 빈도수 변경 가능\n",
    "            #     TMP_df = TMP_df[TMP_df[0]>=5]\n",
    "            #     TMP_df = TMP_df.set_index('index')\n",
    "                TMP = TMP_df.to_dict()\n",
    "\n",
    "                #wordCloud생성\n",
    "                #한글꺠지는 문제 해결하기위해 font_path 지정\n",
    "                wc = WordCloud(font_path='c:/Windows/Fonts/malgun.ttf', background_color='white', \n",
    "                               width=800, height=600).generate_from_frequencies(TMP[0]) # colormap = matplotlib.cm.Reds\n",
    "                plt.figure(figsize=(10, 8))\n",
    "                plt.axis('off')\n",
    "                plt.title('< Topic '+str(m)+' >', fontsize = 15, position =(0.5,1.0+0.05))\n",
    "                plt.imshow(wc, interpolation = 'bilinear')\n",
    "                wordcloud_plt = plt.show()\n",
    "            else:\n",
    "                pass\n",
    "            \n",
    "        except Exception as ex:\n",
    "            print(ex)\n",
    "            \n",
    "    return wordcloud_plt   "
   ]
  },
  {
   "cell_type": "code",
   "execution_count": null,
   "metadata": {
    "scrolled": false
   },
   "outputs": [],
   "source": [
    "makeTopicmodeling(df,20)"
   ]
  },
  {
   "cell_type": "code",
   "execution_count": null,
   "metadata": {},
   "outputs": [],
   "source": [
    "df.head(1)"
   ]
  },
  {
   "cell_type": "code",
   "execution_count": 81,
   "metadata": {},
   "outputs": [],
   "source": [
    "a = ['a','b']\n",
    "b = ['ㄱ','ㄴ']\n",
    "A = zip(a,b)"
   ]
  },
  {
   "cell_type": "code",
   "execution_count": 82,
   "metadata": {},
   "outputs": [
    {
     "name": "stdout",
     "output_type": "stream",
     "text": [
      "<zip object at 0x000001F9073A0108>\n"
     ]
    }
   ],
   "source": [
    "print(A)"
   ]
  },
  {
   "cell_type": "code",
   "execution_count": 83,
   "metadata": {},
   "outputs": [
    {
     "name": "stdout",
     "output_type": "stream",
     "text": [
      "('a', 'ㄱ')\n",
      "('b', 'ㄴ')\n"
     ]
    }
   ],
   "source": [
    "for k in zip(a, b):\n",
    "    print(k)"
   ]
  },
  {
   "cell_type": "code",
   "execution_count": 84,
   "metadata": {},
   "outputs": [
    {
     "data": {
      "text/html": [
       "<div>\n",
       "<style scoped>\n",
       "    .dataframe tbody tr th:only-of-type {\n",
       "        vertical-align: middle;\n",
       "    }\n",
       "\n",
       "    .dataframe tbody tr th {\n",
       "        vertical-align: top;\n",
       "    }\n",
       "\n",
       "    .dataframe thead th {\n",
       "        text-align: right;\n",
       "    }\n",
       "</style>\n",
       "<table border=\"1\" class=\"dataframe\">\n",
       "  <thead>\n",
       "    <tr style=\"text-align: right;\">\n",
       "      <th></th>\n",
       "      <th>url</th>\n",
       "      <th>author</th>\n",
       "      <th>date</th>\n",
       "      <th>title</th>\n",
       "      <th>content</th>\n",
       "      <th>nouns</th>\n",
       "      <th>topic</th>\n",
       "    </tr>\n",
       "  </thead>\n",
       "  <tbody>\n",
       "    <tr>\n",
       "      <th>0</th>\n",
       "      <td>https://blog.naver.com/PostView.nhn?blogId=ywk...</td>\n",
       "      <td>ywkimd</td>\n",
       "      <td>2015-02-02 10:32:00</td>\n",
       "      <td>미리 본 김용판 회고록 정치는 삼류 수준</td>\n",
       "      <td>국정원 여직원 댓글 사건 수사를 은폐축소한 혐의로 기소돼 29일 대법원에서 무죄가 ...</td>\n",
       "      <td>['국정원', '원댓글사건수사', '은폐축소', '혐의', '기소', '대법원', ...</td>\n",
       "      <td>15</td>\n",
       "    </tr>\n",
       "  </tbody>\n",
       "</table>\n",
       "</div>"
      ],
      "text/plain": [
       "                                                 url  author  \\\n",
       "0  https://blog.naver.com/PostView.nhn?blogId=ywk...  ywkimd   \n",
       "\n",
       "                  date                   title  \\\n",
       "0  2015-02-02 10:32:00  미리 본 김용판 회고록 정치는 삼류 수준   \n",
       "\n",
       "                                             content  \\\n",
       "0  국정원 여직원 댓글 사건 수사를 은폐축소한 혐의로 기소돼 29일 대법원에서 무죄가 ...   \n",
       "\n",
       "                                               nouns  topic  \n",
       "0  ['국정원', '원댓글사건수사', '은폐축소', '혐의', '기소', '대법원', ...     15  "
      ]
     },
     "execution_count": 84,
     "metadata": {},
     "output_type": "execute_result"
    }
   ],
   "source": [
    "df.head(1)"
   ]
  },
  {
   "cell_type": "code",
   "execution_count": 85,
   "metadata": {},
   "outputs": [
    {
     "data": {
      "text/plain": [
       "\"['국정원', '원댓글사건수사', '은폐축소', '혐의', '기소', '대법원', '무죄', '확정', '김용판', '전서울경찰청장', '동안수사재판과정', '소회', '회고록', '출간', '예정', '청문회선서', '거부', '제목', '회고록', '용지', '분량', '국정원', '원댓글사건', '실체', '재판과정', '청장', '경찰생활', '본지', '단독', '입수', '회고록', '청장', '검찰', '집단', '도덕불감증', '국회', '삼류', '비판', '사건당시수서경찰서수사과장', '댓글사건수사은폐축소', '폭로', '정치민주연합권은희의원', '비판', '상당부분할애', '권의원', '경찰', '민주당정세균의원', '트위터', '김용판', '엄벌', '상식', '나라', '권은희과장', '정의감', '공무원', '보호', '존경', '정상', '나라', '집필', '책무', '정치', '행동', '진실', '이야기', '거짓', '사명감', '김용판', '서울경찰청장', '회고록', '국정원댓글사건', '일부언론', '단체', '기관', '사람', '선입견', '진실', '거짓', '위증', '난무', '사건', '규정', '경찰관', '욕망', '폭로', '정치', '인터넷', '언론', '보수진영', '진보진영', '좌익진영등', '총출동', '논란', '상대', '공격', '국가', '혼란', '대법원', '무죄선고', '애당초야권', '무리', '고발', '검찰', '냉정', '판단', '재판', '처음', '증인', '출석', '경찰관', '실체', '진실', '모순', '폭로', '증언', '사건', '왜곡', '청장', '회고록제목', '댓글사건국회국정조사', '국회사상처음', '증인선서', '거부', '이유', '설명', '국회', '불신때문', '국민', '기관', '국회', '존중', '당시국회', '야권', '불신', '진실', '이유', '위증죄', '고발', '재판', '야당', '평소검찰', '정치검찰', '공격', '당시채동욱총장체제', '검찰', '기소', '태도', '적극', '옹호', '이중', '야당', '마녀사냥식행태', '확신', '국정조사증인선서', '거부', '수서경찰서수사과장', '정치', '진출', '정치민주연합권은희의원', '언론', '마음', '회고록', '피고인신분', '재판', '일부언론', '희생양', '관련자', '이야기', '주장', '거짓말', '일부언론', '처음', '입맛', '사실', '확정', '거기', '기사', '청장', '회고록', '정치인', '실명實名', '언급', '권은희의원', '표현', '회고록출판때', '표기', '예정', '정치민주연합박지원의원', '정치인', '소셜네트워크서비스', '책임', '비판', '박지원의원', '트위터', '국정원선거개입의혹경찰인맥서울경찰청장대구', '영남대졸', '달성군경찰서장', '박후보집권시경찰청장설', '내용', '청장', '기초', '사실', '때적극', '해명', '방어', '박지원당시원내대표', '후사실', '행위', '공인', '자행', '비판', '청장', '박근혜대통령', '지역구', '달성군경찰서장', '달서경찰서장', '김용판', '서울경찰청장', '대법원', '무죄', '확정', '직후', '소회', '기소', '검찰', '집단', '도덕불감증', '검찰', '책무', '관점', '권력권한', '관점', '독선', '형태', '이유', '정치', '삼류수준', '평가절하', '기업총수', '대한민국경제', '이류', '행정', '삼류', '정치', '사류', '파문', '대한민국정치', '점수', '삼류이상', '시민단체', '권력', '생각', '문제', '본래', '목적', '상실', '정치', '혼란', '권력', '정부', '독립', '시민단체', '권력', '추구', '행태', '모순', '노무현정부때', '발생', '천성산터널도롱뇽사건', '이명박정부때광우병파동', '시민단체해악', '대표사례', '청장', '편견', '허위진술', '권은희의원', '정면', '비판', '검찰', '야권', '폭로', '재판', '처음', '사람', '허위증언', '증폭', '국민', '증인', '허위진술', '허위진술', '진실', '도움', '국정원여직원댓글사건초기수서경찰서', '상황', '파악', '칭찬', '격려전화', '외압', '둔갑', '청장', '무죄', '선고', '항소심', '권의원', '증언', '일부', '청장', '위증', '사람', '일반', '주장', '설득력', '가미', '진술', '구체', '전형', '사례', '일치', '우연']\""
      ]
     },
     "execution_count": 85,
     "metadata": {},
     "output_type": "execute_result"
    }
   ],
   "source": [
    "df['nouns'][0]"
   ]
  },
  {
   "cell_type": "code",
   "execution_count": null,
   "metadata": {},
   "outputs": [],
   "source": []
  }
 ],
 "metadata": {
  "kernelspec": {
   "display_name": "Python 3",
   "language": "python",
   "name": "python3"
  },
  "language_info": {
   "codemirror_mode": {
    "name": "ipython",
    "version": 3
   },
   "file_extension": ".py",
   "mimetype": "text/x-python",
   "name": "python",
   "nbconvert_exporter": "python",
   "pygments_lexer": "ipython3",
   "version": "3.7.6"
  }
 },
 "nbformat": 4,
 "nbformat_minor": 4
}
